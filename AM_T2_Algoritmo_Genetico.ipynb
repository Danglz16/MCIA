{
 "cells": [
  {
   "cell_type": "code",
   "execution_count": 1,
   "metadata": {
    "executionInfo": {
     "elapsed": 42,
     "status": "ok",
     "timestamp": 1755871891102,
     "user": {
      "displayName": "DANIEL EDUARDO GONZALEZ ALVARADO",
      "userId": "16497401104730667325"
     },
     "user_tz": 360
    },
    "id": "JC9Hhk2E5Lhn"
   },
   "outputs": [],
   "source": [
    "import numpy as np\n",
    "import pandas as pd\n",
    "import random\n",
    "import matplotlib.pyplot as plt"
   ]
  },
  {
   "cell_type": "code",
   "execution_count": 2,
   "metadata": {
    "colab": {
     "base_uri": "https://localhost:8080/"
    },
    "executionInfo": {
     "elapsed": 12,
     "status": "ok",
     "timestamp": 1755871061850,
     "user": {
      "displayName": "DANIEL EDUARDO GONZALEZ ALVARADO",
      "userId": "16497401104730667325"
     },
     "user_tz": 360
    },
    "id": "hiNPgzSG5PIR",
    "outputId": "2abc03d0-f36e-4608-dfed-f102812c01c8"
   },
   "outputs": [
    {
     "name": "stdout",
     "output_type": "stream",
     "text": [
      "[-1.         -0.96825397 -0.93650794 -0.9047619  -0.87301587 -0.84126984\n",
      " -0.80952381 -0.77777778 -0.74603175 -0.71428571 -0.68253968 -0.65079365\n",
      " -0.61904762 -0.58730159 -0.55555556 -0.52380952 -0.49206349 -0.46031746\n",
      " -0.42857143 -0.3968254  -0.36507937 -0.33333333 -0.3015873  -0.26984127\n",
      " -0.23809524 -0.20634921 -0.17460317 -0.14285714 -0.11111111 -0.07936508\n",
      " -0.04761905 -0.01587302  0.01587302  0.04761905  0.07936508  0.11111111\n",
      "  0.14285714  0.17460317  0.20634921  0.23809524  0.26984127  0.3015873\n",
      "  0.33333333  0.36507937  0.3968254   0.42857143  0.46031746  0.49206349\n",
      "  0.52380952  0.55555556  0.58730159  0.61904762  0.65079365  0.68253968\n",
      "  0.71428571  0.74603175  0.77777778  0.80952381  0.84126984  0.87301587\n",
      "  0.9047619   0.93650794  0.96825397  1.        ]\n",
      "[1.00000000e+00 9.37515747e-01 8.77047115e-01 8.18594104e-01\n",
      " 7.62156715e-01 7.07734946e-01 6.55328798e-01 6.04938272e-01\n",
      " 5.56563366e-01 5.10204082e-01 4.65860418e-01 4.23532376e-01\n",
      " 3.83219955e-01 3.44923154e-01 3.08641975e-01 2.74376417e-01\n",
      " 2.42126480e-01 2.11892164e-01 1.83673469e-01 1.57470396e-01\n",
      " 1.33282943e-01 1.11111111e-01 9.09549005e-02 7.28143109e-02\n",
      " 5.66893424e-02 4.25799950e-02 3.04862686e-02 2.04081633e-02\n",
      " 1.23456790e-02 6.29881582e-03 2.26757370e-03 2.51952633e-04\n",
      " 2.51952633e-04 2.26757370e-03 6.29881582e-03 1.23456790e-02\n",
      " 2.04081633e-02 3.04862686e-02 4.25799950e-02 5.66893424e-02\n",
      " 7.28143109e-02 9.09549005e-02 1.11111111e-01 1.33282943e-01\n",
      " 1.57470396e-01 1.83673469e-01 2.11892164e-01 2.42126480e-01\n",
      " 2.74376417e-01 3.08641975e-01 3.44923154e-01 3.83219955e-01\n",
      " 4.23532376e-01 4.65860418e-01 5.10204082e-01 5.56563366e-01\n",
      " 6.04938272e-01 6.55328798e-01 7.07734946e-01 7.62156715e-01\n",
      " 8.18594104e-01 8.77047115e-01 9.37515747e-01 1.00000000e+00]\n"
     ]
    }
   ],
   "source": [
    "# Dominio de -1 a 1 en 64 datos debibo a los 6 genes\n",
    "# 000 000, 000 001, ... , 111 111\n",
    "x = np.linspace(-1, 1, 64)\n",
    "y = x**2\n",
    "\n",
    "print(x)\n",
    "print(y)"
   ]
  },
  {
   "cell_type": "code",
   "execution_count": 3,
   "metadata": {
    "colab": {
     "base_uri": "https://localhost:8080/",
     "height": 435
    },
    "executionInfo": {
     "elapsed": 119,
     "status": "ok",
     "timestamp": 1755871064652,
     "user": {
      "displayName": "DANIEL EDUARDO GONZALEZ ALVARADO",
      "userId": "16497401104730667325"
     },
     "user_tz": 360
    },
    "id": "rD_MdORD9h5u",
    "outputId": "9acdb8a0-e599-4e44-90ca-5a032f5e8054"
   },
   "outputs": [
    {
     "data": {
      "image/png": "[encoded data removed]",
      "text/plain": [
       "<Figure size 640x480 with 1 Axes>"
      ]
     },
     "metadata": {},
     "output_type": "display_data"
    }
   ],
   "source": [
    "plt.plot(x, y)\n",
    "plt.axis([-1, 1, 0, 1])\n",
    "plt.grid(True)\n",
    "plt.show()"
   ]
  },
  {
   "cell_type": "markdown",
   "metadata": {
    "id": "zYnkCsEz8pco"
   },
   "source": [
    "No es necesario tener toda la poblacion generada, habra casos donde no se pueda generar todos y solo necesitamos 10 individuos para empezar la cruza, el objetivo es justamente con una poblacion pequeña alcanzar lo optimo."
   ]
  },
  {
   "cell_type": "markdown",
   "metadata": {},
   "source": [
    "# Generar Poblacion"
   ]
  },
  {
   "cell_type": "code",
   "execution_count": 5,
   "metadata": {
    "colab": {
     "base_uri": "https://localhost:8080/"
    },
    "executionInfo": {
     "elapsed": 14,
     "status": "ok",
     "timestamp": 1755871928389,
     "user": {
      "displayName": "DANIEL EDUARDO GONZALEZ ALVARADO",
      "userId": "16497401104730667325"
     },
     "user_tz": 360
    },
    "id": "uCH1N6jbHoFp",
    "outputId": "37c107ee-8ed2-46a7-f8ef-20076e4857e0"
   },
   "outputs": [
    {
     "name": "stdout",
     "output_type": "stream",
     "text": [
      "101111 -> 0.4920634920634921\n",
      "000111 -> -0.7777777777777778\n",
      "010000 -> -0.4920634920634921\n",
      "000010 -> -0.9365079365079365\n",
      "110000 -> 0.5238095238095237\n",
      "011001 -> -0.2063492063492064\n",
      "011010 -> -0.17460317460317465\n",
      "111010 -> 0.8412698412698412\n",
      "001001 -> -0.7142857142857143\n",
      "111110 -> 0.9682539682539681\n"
     ]
    }
   ],
   "source": [
    "step = 64\n",
    "valores = np.linspace(-1, 1, step)  # 64 valores entre -1 y 1\n",
    "\n",
    "def generar_individuo():\n",
    "    # Índice entre 0 y 63\n",
    "    idx = random.randint(0, step-1)\n",
    "    # Decimal a Binario\n",
    "    binario = format(idx, '06b')\n",
    "    valor = valores[idx]\n",
    "    return binario, valor\n",
    "\n",
    "# Generar padres\n",
    "padres = []\n",
    "val = []\n",
    "for _ in range(10):\n",
    "    b, v = generar_individuo()\n",
    "    padres.append(b)\n",
    "    val.append(v)\n",
    "    print(f\"{b} -> {v}\")\n"
   ]
  },
  {
   "cell_type": "markdown",
   "metadata": {},
   "source": [
    "Creamos nuestra poblacion inicial junto con su aptitud"
   ]
  },
  {
   "cell_type": "code",
   "execution_count": 10,
   "metadata": {},
   "outputs": [],
   "source": [
    "df = pd.DataFrame({\n",
    "    'Bin': padres,\n",
    "    'Valor': val\n",
    "})\n",
    "df['fitness'] = df['Valor']**2"
   ]
  },
  {
   "cell_type": "code",
   "execution_count": 8,
   "metadata": {},
   "outputs": [
    {
     "data": {
      "text/html": [
       "<div>\n",
       "<style scoped>\n",
       "    .dataframe tbody tr th:only-of-type {\n",
       "        vertical-align: middle;\n",
       "    }\n",
       "\n",
       "    .dataframe tbody tr th {\n",
       "        vertical-align: top;\n",
       "    }\n",
       "\n",
       "    .dataframe thead th {\n",
       "        text-align: right;\n",
       "    }\n",
       "</style>\n",
       "<table border=\"1\" class=\"dataframe\">\n",
       "  <thead>\n",
       "    <tr style=\"text-align: right;\">\n",
       "      <th></th>\n",
       "      <th>Bin</th>\n",
       "      <th>Valor</th>\n",
       "      <th>fitness</th>\n",
       "    </tr>\n",
       "  </thead>\n",
       "  <tbody>\n",
       "    <tr>\n",
       "      <th>0</th>\n",
       "      <td>101111</td>\n",
       "      <td>0.492063</td>\n",
       "      <td>0.242126</td>\n",
       "    </tr>\n",
       "    <tr>\n",
       "      <th>1</th>\n",
       "      <td>000111</td>\n",
       "      <td>-0.777778</td>\n",
       "      <td>0.604938</td>\n",
       "    </tr>\n",
       "    <tr>\n",
       "      <th>2</th>\n",
       "      <td>010000</td>\n",
       "      <td>-0.492063</td>\n",
       "      <td>0.242126</td>\n",
       "    </tr>\n",
       "    <tr>\n",
       "      <th>3</th>\n",
       "      <td>000010</td>\n",
       "      <td>-0.936508</td>\n",
       "      <td>0.877047</td>\n",
       "    </tr>\n",
       "    <tr>\n",
       "      <th>4</th>\n",
       "      <td>110000</td>\n",
       "      <td>0.523810</td>\n",
       "      <td>0.274376</td>\n",
       "    </tr>\n",
       "    <tr>\n",
       "      <th>5</th>\n",
       "      <td>011001</td>\n",
       "      <td>-0.206349</td>\n",
       "      <td>0.042580</td>\n",
       "    </tr>\n",
       "    <tr>\n",
       "      <th>6</th>\n",
       "      <td>011010</td>\n",
       "      <td>-0.174603</td>\n",
       "      <td>0.030486</td>\n",
       "    </tr>\n",
       "    <tr>\n",
       "      <th>7</th>\n",
       "      <td>111010</td>\n",
       "      <td>0.841270</td>\n",
       "      <td>0.707735</td>\n",
       "    </tr>\n",
       "    <tr>\n",
       "      <th>8</th>\n",
       "      <td>001001</td>\n",
       "      <td>-0.714286</td>\n",
       "      <td>0.510204</td>\n",
       "    </tr>\n",
       "    <tr>\n",
       "      <th>9</th>\n",
       "      <td>111110</td>\n",
       "      <td>0.968254</td>\n",
       "      <td>0.937516</td>\n",
       "    </tr>\n",
       "  </tbody>\n",
       "</table>\n",
       "</div>"
      ],
      "text/plain": [
       "      Bin     Valor   fitness\n",
       "0  101111  0.492063  0.242126\n",
       "1  000111 -0.777778  0.604938\n",
       "2  010000 -0.492063  0.242126\n",
       "3  000010 -0.936508  0.877047\n",
       "4  110000  0.523810  0.274376\n",
       "5  011001 -0.206349  0.042580\n",
       "6  011010 -0.174603  0.030486\n",
       "7  111010  0.841270  0.707735\n",
       "8  001001 -0.714286  0.510204\n",
       "9  111110  0.968254  0.937516"
      ]
     },
     "metadata": {},
     "output_type": "display_data"
    }
   ],
   "source": [
    "display(df)"
   ]
  },
  {
   "cell_type": "markdown",
   "metadata": {},
   "source": [
    "# Seleccion"
   ]
  },
  {
   "cell_type": "markdown",
   "metadata": {},
   "source": [
    "Con nuestros 10 padres creados procedemos a la cruza  \n",
    "Para esto haremos 5 parejas y cada una tendra 2 hijos\n"
   ]
  },
  {
   "cell_type": "code",
   "execution_count": null,
   "metadata": {},
   "outputs": [],
   "source": []
  },
  {
   "cell_type": "code",
   "execution_count": 9,
   "metadata": {
    "id": "MRpANU28Crv7"
   },
   "outputs": [],
   "source": [
    "# Para la cruza se toman 10 padres para hacer 5 parejas\n",
    "# de esas 5 parejas cada una tendra 2 hijos\n",
    "# se toman los 10 padres + 10 hijos, se ordenan segun aptitud\n",
    "# pasan los 10 mas aptos"
   ]
  }
 ],
 "metadata": {
  "colab": {
   "authorship_tag": "ABX9TyNMcIDsMX6NCfac0VhLZM9O",
   "provenance": []
  },
  "kernelspec": {
   "display_name": "Python 3",
   "name": "python3"
  },
  "language_info": {
   "codemirror_mode": {
    "name": "ipython",
    "version": 3
   },
   "file_extension": ".py",
   "mimetype": "text/x-python",
   "name": "python",
   "nbconvert_exporter": "python",
   "pygments_lexer": "ipython3",
   "version": "3.12.7"
  }
 },
 "nbformat": 4,
 "nbformat_minor": 0
}
