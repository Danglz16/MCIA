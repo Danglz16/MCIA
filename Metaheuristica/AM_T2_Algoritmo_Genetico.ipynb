{
 "cells": [
  {
   "cell_type": "code",
   "execution_count": 1,
   "metadata": {
    "executionInfo": {
     "elapsed": 42,
     "status": "ok",
     "timestamp": 1755871891102,
     "user": {
      "displayName": "DANIEL EDUARDO GONZALEZ ALVARADO",
      "userId": "16497401104730667325"
     },
     "user_tz": 360
    },
    "id": "JC9Hhk2E5Lhn"
   },
   "outputs": [],
   "source": [
    "import numpy as np\n",
    "import pandas as pd\n",
    "import random\n",
    "import matplotlib.pyplot as plt"
   ]
  },
  {
   "cell_type": "code",
   "execution_count": 69,
   "metadata": {
    "colab": {
     "base_uri": "https://localhost:8080/"
    },
    "executionInfo": {
     "elapsed": 12,
     "status": "ok",
     "timestamp": 1755871061850,
     "user": {
      "displayName": "DANIEL EDUARDO GONZALEZ ALVARADO",
      "userId": "16497401104730667325"
     },
     "user_tz": 360
    },
    "id": "hiNPgzSG5PIR",
    "outputId": "2abc03d0-f36e-4608-dfed-f102812c01c8"
   },
   "outputs": [
    {
     "name": "stdout",
     "output_type": "stream",
     "text": [
      "[-1.         -0.96825397 -0.93650794 -0.9047619  -0.87301587 -0.84126984\n",
      " -0.80952381 -0.77777778 -0.74603175 -0.71428571 -0.68253968 -0.65079365\n",
      " -0.61904762 -0.58730159 -0.55555556 -0.52380952 -0.49206349 -0.46031746\n",
      " -0.42857143 -0.3968254  -0.36507937 -0.33333333 -0.3015873  -0.26984127\n",
      " -0.23809524 -0.20634921 -0.17460317 -0.14285714 -0.11111111 -0.07936508\n",
      " -0.04761905 -0.01587302  0.01587302  0.04761905  0.07936508  0.11111111\n",
      "  0.14285714  0.17460317  0.20634921  0.23809524  0.26984127  0.3015873\n",
      "  0.33333333  0.36507937  0.3968254   0.42857143  0.46031746  0.49206349\n",
      "  0.52380952  0.55555556  0.58730159  0.61904762  0.65079365  0.68253968\n",
      "  0.71428571  0.74603175  0.77777778  0.80952381  0.84126984  0.87301587\n",
      "  0.9047619   0.93650794  0.96825397  1.        ]\n",
      "[1.00000000e+00 9.37515747e-01 8.77047115e-01 8.18594104e-01\n",
      " 7.62156715e-01 7.07734946e-01 6.55328798e-01 6.04938272e-01\n",
      " 5.56563366e-01 5.10204082e-01 4.65860418e-01 4.23532376e-01\n",
      " 3.83219955e-01 3.44923154e-01 3.08641975e-01 2.74376417e-01\n",
      " 2.42126480e-01 2.11892164e-01 1.83673469e-01 1.57470396e-01\n",
      " 1.33282943e-01 1.11111111e-01 9.09549005e-02 7.28143109e-02\n",
      " 5.66893424e-02 4.25799950e-02 3.04862686e-02 2.04081633e-02\n",
      " 1.23456790e-02 6.29881582e-03 2.26757370e-03 2.51952633e-04\n",
      " 2.51952633e-04 2.26757370e-03 6.29881582e-03 1.23456790e-02\n",
      " 2.04081633e-02 3.04862686e-02 4.25799950e-02 5.66893424e-02\n",
      " 7.28143109e-02 9.09549005e-02 1.11111111e-01 1.33282943e-01\n",
      " 1.57470396e-01 1.83673469e-01 2.11892164e-01 2.42126480e-01\n",
      " 2.74376417e-01 3.08641975e-01 3.44923154e-01 3.83219955e-01\n",
      " 4.23532376e-01 4.65860418e-01 5.10204082e-01 5.56563366e-01\n",
      " 6.04938272e-01 6.55328798e-01 7.07734946e-01 7.62156715e-01\n",
      " 8.18594104e-01 8.77047115e-01 9.37515747e-01 1.00000000e+00]\n"
     ]
    }
   ],
   "source": [
    "# Dominio de -1 a 1 en 64 datos debibo a los 6 genes\n",
    "# 000 000, 000 001, ... , 111 111\n",
    "x = np.linspace(-1, 1, 64)\n",
    "y = x**2\n",
    "\n",
    "print(x)\n",
    "print(y)"
   ]
  },
  {
   "cell_type": "code",
   "execution_count": 3,
   "metadata": {
    "colab": {
     "base_uri": "https://localhost:8080/",
     "height": 435
    },
    "executionInfo": {
     "elapsed": 119,
     "status": "ok",
     "timestamp": 1755871064652,
     "user": {
      "displayName": "DANIEL EDUARDO GONZALEZ ALVARADO",
      "userId": "16497401104730667325"
     },
     "user_tz": 360
    },
    "id": "rD_MdORD9h5u",
    "outputId": "9acdb8a0-e599-4e44-90ca-5a032f5e8054"
   },
   "outputs": [
    {
     "data": {
      "image/png": "[encoded data removed]",
      "text/plain": [
       "<Figure size 640x480 with 1 Axes>"
      ]
     },
     "metadata": {},
     "output_type": "display_data"
    }
   ],
   "source": [
    "plt.plot(x, y)\n",
    "plt.axis([-1, 1, 0, 1])\n",
    "plt.grid(True)\n",
    "plt.show()"
   ]
  },
  {
   "cell_type": "markdown",
   "metadata": {
    "id": "zYnkCsEz8pco"
   },
   "source": [
    "No es necesario tener toda la poblacion generada, habra casos donde no se pueda generar todos y solo necesitamos 10 individuos para empezar la cruza, el objetivo es justamente con una poblacion pequeña alcanzar lo optimo."
   ]
  },
  {
   "cell_type": "markdown",
   "metadata": {},
   "source": [
    "# Generar Poblacion"
   ]
  },
  {
   "cell_type": "code",
   "execution_count": 225,
   "metadata": {
    "colab": {
     "base_uri": "https://localhost:8080/"
    },
    "executionInfo": {
     "elapsed": 14,
     "status": "ok",
     "timestamp": 1755871928389,
     "user": {
      "displayName": "DANIEL EDUARDO GONZALEZ ALVARADO",
      "userId": "16497401104730667325"
     },
     "user_tz": 360
    },
    "id": "uCH1N6jbHoFp",
    "outputId": "37c107ee-8ed2-46a7-f8ef-20076e4857e0"
   },
   "outputs": [
    {
     "name": "stdout",
     "output_type": "stream",
     "text": [
      "011111 -> -0.015873015873015928\n",
      "110010 -> 0.5873015873015872\n",
      "110110 -> 0.7142857142857142\n",
      "100110 -> 0.20634920634920628\n",
      "001100 -> -0.6190476190476191\n",
      "001010 -> -0.6825396825396826\n",
      "111000 -> 0.7777777777777777\n",
      "000110 -> -0.8095238095238095\n",
      "011011 -> -0.1428571428571429\n",
      "000011 -> -0.9047619047619048\n"
     ]
    }
   ],
   "source": [
    "step = 64\n",
    "valores = np.linspace(-1, 1, step)  # 64 valores entre -1 y 1\n",
    "\n",
    "def bin2val(binario, valores):\n",
    "    idx = int(binario, 2)\n",
    "    return valores[idx]\n",
    "\n",
    "def generar_individuo():\n",
    "    # Índice entre 0 y 63\n",
    "    idx = random.randint(0, step-1)\n",
    "    # Decimal a Binario\n",
    "    binario = format(idx, '06b')\n",
    "    valor = bin2val(binario, valores)\n",
    "    return binario, valor\n",
    "\n",
    "# Generar padres\n",
    "padres = []\n",
    "val = []\n",
    "for _ in range(10):\n",
    "    b, v = generar_individuo()\n",
    "    padres.append(b)\n",
    "    val.append(v)\n",
    "    print(f\"{b} -> {v}\")\n"
   ]
  },
  {
   "cell_type": "markdown",
   "metadata": {},
   "source": [
    "Creamos nuestra poblacion inicial junto con su aptitud"
   ]
  },
  {
   "cell_type": "code",
   "execution_count": 226,
   "metadata": {},
   "outputs": [],
   "source": [
    "df = pd.DataFrame({\n",
    "    'Bin': padres,\n",
    "    'Valor': val\n",
    "})\n",
    "df['fitness'] = df['Valor']**2"
   ]
  },
  {
   "cell_type": "code",
   "execution_count": 227,
   "metadata": {},
   "outputs": [
    {
     "data": {
      "text/html": [
       "<div>\n",
       "<style scoped>\n",
       "    .dataframe tbody tr th:only-of-type {\n",
       "        vertical-align: middle;\n",
       "    }\n",
       "\n",
       "    .dataframe tbody tr th {\n",
       "        vertical-align: top;\n",
       "    }\n",
       "\n",
       "    .dataframe thead th {\n",
       "        text-align: right;\n",
       "    }\n",
       "</style>\n",
       "<table border=\"1\" class=\"dataframe\">\n",
       "  <thead>\n",
       "    <tr style=\"text-align: right;\">\n",
       "      <th></th>\n",
       "      <th>Bin</th>\n",
       "      <th>Valor</th>\n",
       "      <th>fitness</th>\n",
       "    </tr>\n",
       "  </thead>\n",
       "  <tbody>\n",
       "    <tr>\n",
       "      <th>0</th>\n",
       "      <td>011111</td>\n",
       "      <td>-0.015873</td>\n",
       "      <td>0.000252</td>\n",
       "    </tr>\n",
       "    <tr>\n",
       "      <th>1</th>\n",
       "      <td>110010</td>\n",
       "      <td>0.587302</td>\n",
       "      <td>0.344923</td>\n",
       "    </tr>\n",
       "    <tr>\n",
       "      <th>2</th>\n",
       "      <td>110110</td>\n",
       "      <td>0.714286</td>\n",
       "      <td>0.510204</td>\n",
       "    </tr>\n",
       "    <tr>\n",
       "      <th>3</th>\n",
       "      <td>100110</td>\n",
       "      <td>0.206349</td>\n",
       "      <td>0.042580</td>\n",
       "    </tr>\n",
       "    <tr>\n",
       "      <th>4</th>\n",
       "      <td>001100</td>\n",
       "      <td>-0.619048</td>\n",
       "      <td>0.383220</td>\n",
       "    </tr>\n",
       "    <tr>\n",
       "      <th>5</th>\n",
       "      <td>001010</td>\n",
       "      <td>-0.682540</td>\n",
       "      <td>0.465860</td>\n",
       "    </tr>\n",
       "    <tr>\n",
       "      <th>6</th>\n",
       "      <td>111000</td>\n",
       "      <td>0.777778</td>\n",
       "      <td>0.604938</td>\n",
       "    </tr>\n",
       "    <tr>\n",
       "      <th>7</th>\n",
       "      <td>000110</td>\n",
       "      <td>-0.809524</td>\n",
       "      <td>0.655329</td>\n",
       "    </tr>\n",
       "    <tr>\n",
       "      <th>8</th>\n",
       "      <td>011011</td>\n",
       "      <td>-0.142857</td>\n",
       "      <td>0.020408</td>\n",
       "    </tr>\n",
       "    <tr>\n",
       "      <th>9</th>\n",
       "      <td>000011</td>\n",
       "      <td>-0.904762</td>\n",
       "      <td>0.818594</td>\n",
       "    </tr>\n",
       "  </tbody>\n",
       "</table>\n",
       "</div>"
      ],
      "text/plain": [
       "      Bin     Valor   fitness\n",
       "0  011111 -0.015873  0.000252\n",
       "1  110010  0.587302  0.344923\n",
       "2  110110  0.714286  0.510204\n",
       "3  100110  0.206349  0.042580\n",
       "4  001100 -0.619048  0.383220\n",
       "5  001010 -0.682540  0.465860\n",
       "6  111000  0.777778  0.604938\n",
       "7  000110 -0.809524  0.655329\n",
       "8  011011 -0.142857  0.020408\n",
       "9  000011 -0.904762  0.818594"
      ]
     },
     "metadata": {},
     "output_type": "display_data"
    }
   ],
   "source": [
    "display(df)"
   ]
  },
  {
   "cell_type": "markdown",
   "metadata": {},
   "source": [
    "Ordenar segun su aptitud"
   ]
  },
  {
   "cell_type": "code",
   "execution_count": 228,
   "metadata": {},
   "outputs": [
    {
     "data": {
      "text/html": [
       "<div>\n",
       "<style scoped>\n",
       "    .dataframe tbody tr th:only-of-type {\n",
       "        vertical-align: middle;\n",
       "    }\n",
       "\n",
       "    .dataframe tbody tr th {\n",
       "        vertical-align: top;\n",
       "    }\n",
       "\n",
       "    .dataframe thead th {\n",
       "        text-align: right;\n",
       "    }\n",
       "</style>\n",
       "<table border=\"1\" class=\"dataframe\">\n",
       "  <thead>\n",
       "    <tr style=\"text-align: right;\">\n",
       "      <th></th>\n",
       "      <th>Bin</th>\n",
       "      <th>Valor</th>\n",
       "      <th>fitness</th>\n",
       "    </tr>\n",
       "  </thead>\n",
       "  <tbody>\n",
       "    <tr>\n",
       "      <th>0</th>\n",
       "      <td>000011</td>\n",
       "      <td>-0.904762</td>\n",
       "      <td>0.818594</td>\n",
       "    </tr>\n",
       "    <tr>\n",
       "      <th>1</th>\n",
       "      <td>000110</td>\n",
       "      <td>-0.809524</td>\n",
       "      <td>0.655329</td>\n",
       "    </tr>\n",
       "    <tr>\n",
       "      <th>2</th>\n",
       "      <td>111000</td>\n",
       "      <td>0.777778</td>\n",
       "      <td>0.604938</td>\n",
       "    </tr>\n",
       "    <tr>\n",
       "      <th>3</th>\n",
       "      <td>110110</td>\n",
       "      <td>0.714286</td>\n",
       "      <td>0.510204</td>\n",
       "    </tr>\n",
       "    <tr>\n",
       "      <th>4</th>\n",
       "      <td>001010</td>\n",
       "      <td>-0.682540</td>\n",
       "      <td>0.465860</td>\n",
       "    </tr>\n",
       "    <tr>\n",
       "      <th>5</th>\n",
       "      <td>001100</td>\n",
       "      <td>-0.619048</td>\n",
       "      <td>0.383220</td>\n",
       "    </tr>\n",
       "    <tr>\n",
       "      <th>6</th>\n",
       "      <td>110010</td>\n",
       "      <td>0.587302</td>\n",
       "      <td>0.344923</td>\n",
       "    </tr>\n",
       "    <tr>\n",
       "      <th>7</th>\n",
       "      <td>100110</td>\n",
       "      <td>0.206349</td>\n",
       "      <td>0.042580</td>\n",
       "    </tr>\n",
       "    <tr>\n",
       "      <th>8</th>\n",
       "      <td>011011</td>\n",
       "      <td>-0.142857</td>\n",
       "      <td>0.020408</td>\n",
       "    </tr>\n",
       "    <tr>\n",
       "      <th>9</th>\n",
       "      <td>011111</td>\n",
       "      <td>-0.015873</td>\n",
       "      <td>0.000252</td>\n",
       "    </tr>\n",
       "  </tbody>\n",
       "</table>\n",
       "</div>"
      ],
      "text/plain": [
       "      Bin     Valor   fitness\n",
       "0  000011 -0.904762  0.818594\n",
       "1  000110 -0.809524  0.655329\n",
       "2  111000  0.777778  0.604938\n",
       "3  110110  0.714286  0.510204\n",
       "4  001010 -0.682540  0.465860\n",
       "5  001100 -0.619048  0.383220\n",
       "6  110010  0.587302  0.344923\n",
       "7  100110  0.206349  0.042580\n",
       "8  011011 -0.142857  0.020408\n",
       "9  011111 -0.015873  0.000252"
      ]
     },
     "metadata": {},
     "output_type": "display_data"
    }
   ],
   "source": [
    "df.sort_values(by='fitness', ascending=False, inplace=True)\n",
    "df.reset_index(drop=True, inplace=True)\n",
    "#df.to_csv('poblacion_inicial.csv', index=False) # Guardar para replicar despues\n",
    "display(df)"
   ]
  },
  {
   "cell_type": "markdown",
   "metadata": {},
   "source": [
    "Llevaremos un registro de las generaciones para lo cual tomaremos dos valores representativos de cada generacion, siendo estos el mejor valor de aptitud asi como el promedio de la generacion.  \n",
    "Partiendo de los padres inicales esta sera nuestra Generacion 0."
   ]
  },
  {
   "cell_type": "code",
   "execution_count": 229,
   "metadata": {},
   "outputs": [],
   "source": [
    "df_hist = pd.DataFrame(columns=[\"Bin\",\"Valor\",\"fitness\", \"Avg_Fitness\"])\n",
    "\n",
    "def add_hist (df, df_hist):\n",
    "    nuevo_registro = df.iloc[[0]].copy()\n",
    "    nuevo_registro[\"Avg_Fitness\"] = df[\"fitness\"].mean()\n",
    "    df_hist = pd.concat([df_hist, nuevo_registro], ignore_index=True)\n",
    "    return df_hist"
   ]
  },
  {
   "cell_type": "code",
   "execution_count": 230,
   "metadata": {},
   "outputs": [
    {
     "name": "stdout",
     "output_type": "stream",
     "text": [
      "      Bin     Valor   fitness  Avg_Fitness\n",
      "0  000011 -0.904762  0.818594     0.384631\n"
     ]
    },
    {
     "name": "stderr",
     "output_type": "stream",
     "text": [
      "C:\\Users\\death\\AppData\\Local\\Temp\\ipykernel_23528\\3672471164.py:6: FutureWarning: The behavior of DataFrame concatenation with empty or all-NA entries is deprecated. In a future version, this will no longer exclude empty or all-NA columns when determining the result dtypes. To retain the old behavior, exclude the relevant entries before the concat operation.\n",
      "  df_hist = pd.concat([df_hist, nuevo_registro], ignore_index=True)\n"
     ]
    }
   ],
   "source": [
    "df_hist = add_hist(df, df_hist)\n",
    "print(df_hist)"
   ]
  },
  {
   "cell_type": "markdown",
   "metadata": {},
   "source": [
    "# Seleccion"
   ]
  },
  {
   "cell_type": "markdown",
   "metadata": {},
   "source": [
    "Con nuestros 10 padres creados procedemos a la cruza  \n",
    "Para esto haremos 5 parejas y cada una tendra 2 hijos\n"
   ]
  },
  {
   "cell_type": "markdown",
   "metadata": {},
   "source": [
    "## Metodos de selección"
   ]
  },
  {
   "cell_type": "markdown",
   "metadata": {},
   "source": [
    "Separaremos los padres en dos grupos segun su aptitud y usaremos dos metodos de selección, Rank y Torneo"
   ]
  },
  {
   "cell_type": "markdown",
   "metadata": {},
   "source": [
    "Como proponemos 5 parejas y debido a sus aptitudes haremos 2 parejas con rank (Las que tienen mejor aptitud) y 3 por torneo(Con peor aptitud esperando que mejoren)"
   ]
  },
  {
   "cell_type": "code",
   "execution_count": 231,
   "metadata": {},
   "outputs": [],
   "source": [
    "# Rank\n",
    "df1 = df.iloc[:4]\n",
    "\n",
    "# torneo\n",
    "df2 = df.iloc[4:10]"
   ]
  },
  {
   "cell_type": "code",
   "execution_count": 232,
   "metadata": {},
   "outputs": [
    {
     "data": {
      "text/html": [
       "<div>\n",
       "<style scoped>\n",
       "    .dataframe tbody tr th:only-of-type {\n",
       "        vertical-align: middle;\n",
       "    }\n",
       "\n",
       "    .dataframe tbody tr th {\n",
       "        vertical-align: top;\n",
       "    }\n",
       "\n",
       "    .dataframe thead th {\n",
       "        text-align: right;\n",
       "    }\n",
       "</style>\n",
       "<table border=\"1\" class=\"dataframe\">\n",
       "  <thead>\n",
       "    <tr style=\"text-align: right;\">\n",
       "      <th></th>\n",
       "      <th>Bin</th>\n",
       "      <th>Valor</th>\n",
       "      <th>fitness</th>\n",
       "    </tr>\n",
       "  </thead>\n",
       "  <tbody>\n",
       "    <tr>\n",
       "      <th>0</th>\n",
       "      <td>000011</td>\n",
       "      <td>-0.904762</td>\n",
       "      <td>0.818594</td>\n",
       "    </tr>\n",
       "    <tr>\n",
       "      <th>1</th>\n",
       "      <td>000110</td>\n",
       "      <td>-0.809524</td>\n",
       "      <td>0.655329</td>\n",
       "    </tr>\n",
       "    <tr>\n",
       "      <th>2</th>\n",
       "      <td>111000</td>\n",
       "      <td>0.777778</td>\n",
       "      <td>0.604938</td>\n",
       "    </tr>\n",
       "    <tr>\n",
       "      <th>3</th>\n",
       "      <td>110110</td>\n",
       "      <td>0.714286</td>\n",
       "      <td>0.510204</td>\n",
       "    </tr>\n",
       "  </tbody>\n",
       "</table>\n",
       "</div>"
      ],
      "text/plain": [
       "      Bin     Valor   fitness\n",
       "0  000011 -0.904762  0.818594\n",
       "1  000110 -0.809524  0.655329\n",
       "2  111000  0.777778  0.604938\n",
       "3  110110  0.714286  0.510204"
      ]
     },
     "metadata": {},
     "output_type": "display_data"
    },
    {
     "data": {
      "text/html": [
       "<div>\n",
       "<style scoped>\n",
       "    .dataframe tbody tr th:only-of-type {\n",
       "        vertical-align: middle;\n",
       "    }\n",
       "\n",
       "    .dataframe tbody tr th {\n",
       "        vertical-align: top;\n",
       "    }\n",
       "\n",
       "    .dataframe thead th {\n",
       "        text-align: right;\n",
       "    }\n",
       "</style>\n",
       "<table border=\"1\" class=\"dataframe\">\n",
       "  <thead>\n",
       "    <tr style=\"text-align: right;\">\n",
       "      <th></th>\n",
       "      <th>Bin</th>\n",
       "      <th>Valor</th>\n",
       "      <th>fitness</th>\n",
       "    </tr>\n",
       "  </thead>\n",
       "  <tbody>\n",
       "    <tr>\n",
       "      <th>4</th>\n",
       "      <td>001010</td>\n",
       "      <td>-0.682540</td>\n",
       "      <td>0.465860</td>\n",
       "    </tr>\n",
       "    <tr>\n",
       "      <th>5</th>\n",
       "      <td>001100</td>\n",
       "      <td>-0.619048</td>\n",
       "      <td>0.383220</td>\n",
       "    </tr>\n",
       "    <tr>\n",
       "      <th>6</th>\n",
       "      <td>110010</td>\n",
       "      <td>0.587302</td>\n",
       "      <td>0.344923</td>\n",
       "    </tr>\n",
       "    <tr>\n",
       "      <th>7</th>\n",
       "      <td>100110</td>\n",
       "      <td>0.206349</td>\n",
       "      <td>0.042580</td>\n",
       "    </tr>\n",
       "    <tr>\n",
       "      <th>8</th>\n",
       "      <td>011011</td>\n",
       "      <td>-0.142857</td>\n",
       "      <td>0.020408</td>\n",
       "    </tr>\n",
       "    <tr>\n",
       "      <th>9</th>\n",
       "      <td>011111</td>\n",
       "      <td>-0.015873</td>\n",
       "      <td>0.000252</td>\n",
       "    </tr>\n",
       "  </tbody>\n",
       "</table>\n",
       "</div>"
      ],
      "text/plain": [
       "      Bin     Valor   fitness\n",
       "4  001010 -0.682540  0.465860\n",
       "5  001100 -0.619048  0.383220\n",
       "6  110010  0.587302  0.344923\n",
       "7  100110  0.206349  0.042580\n",
       "8  011011 -0.142857  0.020408\n",
       "9  011111 -0.015873  0.000252"
      ]
     },
     "metadata": {},
     "output_type": "display_data"
    }
   ],
   "source": [
    "display(df1)\n",
    "display(df2)"
   ]
  },
  {
   "cell_type": "markdown",
   "metadata": {},
   "source": [
    "### Rank\n",
    "Formaremos parejas segun su rango de aptitud tomando asi:  \n",
    "(1 - 2), (3 - 4), (5 - 6)"
   ]
  },
  {
   "cell_type": "code",
   "execution_count": 233,
   "metadata": {},
   "outputs": [
    {
     "data": {
      "text/html": [
       "<div>\n",
       "<style scoped>\n",
       "    .dataframe tbody tr th:only-of-type {\n",
       "        vertical-align: middle;\n",
       "    }\n",
       "\n",
       "    .dataframe tbody tr th {\n",
       "        vertical-align: top;\n",
       "    }\n",
       "\n",
       "    .dataframe thead th {\n",
       "        text-align: right;\n",
       "    }\n",
       "</style>\n",
       "<table border=\"1\" class=\"dataframe\">\n",
       "  <thead>\n",
       "    <tr style=\"text-align: right;\">\n",
       "      <th></th>\n",
       "      <th>Bin</th>\n",
       "      <th>Valor</th>\n",
       "      <th>fitness</th>\n",
       "    </tr>\n",
       "  </thead>\n",
       "  <tbody>\n",
       "    <tr>\n",
       "      <th>0</th>\n",
       "      <td>000011</td>\n",
       "      <td>-0.904762</td>\n",
       "      <td>0.818594</td>\n",
       "    </tr>\n",
       "    <tr>\n",
       "      <th>1</th>\n",
       "      <td>000110</td>\n",
       "      <td>-0.809524</td>\n",
       "      <td>0.655329</td>\n",
       "    </tr>\n",
       "    <tr>\n",
       "      <th>2</th>\n",
       "      <td>111000</td>\n",
       "      <td>0.777778</td>\n",
       "      <td>0.604938</td>\n",
       "    </tr>\n",
       "    <tr>\n",
       "      <th>3</th>\n",
       "      <td>110110</td>\n",
       "      <td>0.714286</td>\n",
       "      <td>0.510204</td>\n",
       "    </tr>\n",
       "  </tbody>\n",
       "</table>\n",
       "</div>"
      ],
      "text/plain": [
       "      Bin     Valor   fitness\n",
       "0  000011 -0.904762  0.818594\n",
       "1  000110 -0.809524  0.655329\n",
       "2  111000  0.777778  0.604938\n",
       "3  110110  0.714286  0.510204"
      ]
     },
     "metadata": {},
     "output_type": "display_data"
    }
   ],
   "source": [
    "df_rs = df1.reset_index(drop=True) # Reiniciar índice para hacer nuestra cruza\n",
    "display(df_rs)"
   ]
  },
  {
   "cell_type": "code",
   "execution_count": 234,
   "metadata": {},
   "outputs": [],
   "source": [
    "def parejas_rank(df):\n",
    "    df_rs = df.reset_index(drop=True)\n",
    "    parejas = []\n",
    "    for i in range(0, len(df_rs)-1, 2):\n",
    "        if i+1 < len(df_rs):\n",
    "            pareja = (df_rs.iloc[i], df_rs.iloc[i+1])\n",
    "            parejas.append(pareja)\n",
    "    return parejas\n",
    "\n",
    "def cruza_corte(parejas, corte_n):\n",
    "    hijos = []\n",
    "    for p1, p2 in parejas:\n",
    "        bin1 = p1['Bin']\n",
    "        bin2 = p2['Bin']\n",
    "        hijo1_bin = bin1[:corte_n] + bin2[corte_n:]\n",
    "        hijo2_bin = bin2[:corte_n] + bin1[corte_n:]\n",
    "        hijos.append(hijo1_bin)\n",
    "        hijos.append(hijo2_bin)\n",
    "    return hijos\n"
   ]
  },
  {
   "cell_type": "code",
   "execution_count": 235,
   "metadata": {},
   "outputs": [
    {
     "name": "stdout",
     "output_type": "stream",
     "text": [
      "Pareja 1:\n",
      "Padre 1 Bin: 000011\n",
      "Padre 2 Bin: 000110\n",
      "---\n",
      "Pareja 2:\n",
      "Padre 1 Bin: 111000\n",
      "Padre 2 Bin: 110110\n",
      "---\n",
      "Hijo 1 Bin: 000110\n",
      "Hijo 2 Bin: 000011\n",
      "Hijo 3 Bin: 111110\n",
      "Hijo 4 Bin: 110000\n"
     ]
    }
   ],
   "source": [
    "parejas = parejas_rank(df1)\n",
    "hijos_binarios = cruza_corte(parejas, 3)\n",
    "\n",
    "for idx, (p1, p2) in enumerate(parejas):\n",
    "    print(f\"Pareja {idx+1}:\")\n",
    "    print(\"Padre 1 Bin:\", p1['Bin'])\n",
    "    print(\"Padre 2 Bin:\", p2['Bin'])\n",
    "    print(\"---\")\n",
    "\n",
    "for idx, hijo_bin in enumerate(hijos_binarios):\n",
    "    print(f\"Hijo {idx+1} Bin:\", hijo_bin)"
   ]
  },
  {
   "cell_type": "code",
   "execution_count": 236,
   "metadata": {},
   "outputs": [],
   "source": [
    "gen1 = pd.DataFrame(hijos_binarios, columns=['Bin'])\n",
    "gen1['Valor'] = gen1['Bin'].apply(lambda b: bin2val(b, valores))\n",
    "gen1['fitness'] = gen1['Valor']**2\n",
    "\n",
    "gen1_r = pd.concat([df_rs, gen1], ignore_index=True)"
   ]
  },
  {
   "cell_type": "code",
   "execution_count": 237,
   "metadata": {},
   "outputs": [
    {
     "data": {
      "text/html": [
       "<div>\n",
       "<style scoped>\n",
       "    .dataframe tbody tr th:only-of-type {\n",
       "        vertical-align: middle;\n",
       "    }\n",
       "\n",
       "    .dataframe tbody tr th {\n",
       "        vertical-align: top;\n",
       "    }\n",
       "\n",
       "    .dataframe thead th {\n",
       "        text-align: right;\n",
       "    }\n",
       "</style>\n",
       "<table border=\"1\" class=\"dataframe\">\n",
       "  <thead>\n",
       "    <tr style=\"text-align: right;\">\n",
       "      <th></th>\n",
       "      <th>Bin</th>\n",
       "      <th>Valor</th>\n",
       "      <th>fitness</th>\n",
       "    </tr>\n",
       "  </thead>\n",
       "  <tbody>\n",
       "    <tr>\n",
       "      <th>6</th>\n",
       "      <td>111110</td>\n",
       "      <td>0.968254</td>\n",
       "      <td>0.937516</td>\n",
       "    </tr>\n",
       "    <tr>\n",
       "      <th>0</th>\n",
       "      <td>000011</td>\n",
       "      <td>-0.904762</td>\n",
       "      <td>0.818594</td>\n",
       "    </tr>\n",
       "    <tr>\n",
       "      <th>5</th>\n",
       "      <td>000011</td>\n",
       "      <td>-0.904762</td>\n",
       "      <td>0.818594</td>\n",
       "    </tr>\n",
       "    <tr>\n",
       "      <th>1</th>\n",
       "      <td>000110</td>\n",
       "      <td>-0.809524</td>\n",
       "      <td>0.655329</td>\n",
       "    </tr>\n",
       "    <tr>\n",
       "      <th>4</th>\n",
       "      <td>000110</td>\n",
       "      <td>-0.809524</td>\n",
       "      <td>0.655329</td>\n",
       "    </tr>\n",
       "    <tr>\n",
       "      <th>2</th>\n",
       "      <td>111000</td>\n",
       "      <td>0.777778</td>\n",
       "      <td>0.604938</td>\n",
       "    </tr>\n",
       "    <tr>\n",
       "      <th>3</th>\n",
       "      <td>110110</td>\n",
       "      <td>0.714286</td>\n",
       "      <td>0.510204</td>\n",
       "    </tr>\n",
       "    <tr>\n",
       "      <th>7</th>\n",
       "      <td>110000</td>\n",
       "      <td>0.523810</td>\n",
       "      <td>0.274376</td>\n",
       "    </tr>\n",
       "  </tbody>\n",
       "</table>\n",
       "</div>"
      ],
      "text/plain": [
       "      Bin     Valor   fitness\n",
       "6  111110  0.968254  0.937516\n",
       "0  000011 -0.904762  0.818594\n",
       "5  000011 -0.904762  0.818594\n",
       "1  000110 -0.809524  0.655329\n",
       "4  000110 -0.809524  0.655329\n",
       "2  111000  0.777778  0.604938\n",
       "3  110110  0.714286  0.510204\n",
       "7  110000  0.523810  0.274376"
      ]
     },
     "metadata": {},
     "output_type": "display_data"
    }
   ],
   "source": [
    "gen1_r.sort_values(by='fitness', ascending=False, inplace=True)\n",
    "display(gen1_r)"
   ]
  },
  {
   "cell_type": "markdown",
   "metadata": {},
   "source": [
    "### Torneo\n",
    "\n",
    "En una lista de n elementos formaremos parejas la siguiente manera:  \n",
    "(1 - n), (2 - n-1), (3 - n-2) y asi sucesivamente"
   ]
  },
  {
   "cell_type": "code",
   "execution_count": 238,
   "metadata": {},
   "outputs": [
    {
     "data": {
      "text/html": [
       "<div>\n",
       "<style scoped>\n",
       "    .dataframe tbody tr th:only-of-type {\n",
       "        vertical-align: middle;\n",
       "    }\n",
       "\n",
       "    .dataframe tbody tr th {\n",
       "        vertical-align: top;\n",
       "    }\n",
       "\n",
       "    .dataframe thead th {\n",
       "        text-align: right;\n",
       "    }\n",
       "</style>\n",
       "<table border=\"1\" class=\"dataframe\">\n",
       "  <thead>\n",
       "    <tr style=\"text-align: right;\">\n",
       "      <th></th>\n",
       "      <th>Bin</th>\n",
       "      <th>Valor</th>\n",
       "      <th>fitness</th>\n",
       "    </tr>\n",
       "  </thead>\n",
       "  <tbody>\n",
       "    <tr>\n",
       "      <th>0</th>\n",
       "      <td>001010</td>\n",
       "      <td>-0.682540</td>\n",
       "      <td>0.465860</td>\n",
       "    </tr>\n",
       "    <tr>\n",
       "      <th>1</th>\n",
       "      <td>001100</td>\n",
       "      <td>-0.619048</td>\n",
       "      <td>0.383220</td>\n",
       "    </tr>\n",
       "    <tr>\n",
       "      <th>2</th>\n",
       "      <td>110010</td>\n",
       "      <td>0.587302</td>\n",
       "      <td>0.344923</td>\n",
       "    </tr>\n",
       "    <tr>\n",
       "      <th>3</th>\n",
       "      <td>100110</td>\n",
       "      <td>0.206349</td>\n",
       "      <td>0.042580</td>\n",
       "    </tr>\n",
       "    <tr>\n",
       "      <th>4</th>\n",
       "      <td>011011</td>\n",
       "      <td>-0.142857</td>\n",
       "      <td>0.020408</td>\n",
       "    </tr>\n",
       "    <tr>\n",
       "      <th>5</th>\n",
       "      <td>011111</td>\n",
       "      <td>-0.015873</td>\n",
       "      <td>0.000252</td>\n",
       "    </tr>\n",
       "  </tbody>\n",
       "</table>\n",
       "</div>"
      ],
      "text/plain": [
       "      Bin     Valor   fitness\n",
       "0  001010 -0.682540  0.465860\n",
       "1  001100 -0.619048  0.383220\n",
       "2  110010  0.587302  0.344923\n",
       "3  100110  0.206349  0.042580\n",
       "4  011011 -0.142857  0.020408\n",
       "5  011111 -0.015873  0.000252"
      ]
     },
     "metadata": {},
     "output_type": "display_data"
    }
   ],
   "source": [
    "df_ts = df2.reset_index(drop=True)\n",
    "display(df_ts)"
   ]
  },
  {
   "cell_type": "code",
   "execution_count": 239,
   "metadata": {},
   "outputs": [
    {
     "name": "stdout",
     "output_type": "stream",
     "text": [
      "Pareja 1:\n",
      "Padre 1 Bin: 001010\n",
      "Padre 2 Bin: 011111\n",
      "---\n",
      "Pareja 2:\n",
      "Padre 1 Bin: 001100\n",
      "Padre 2 Bin: 011011\n",
      "---\n",
      "Pareja 3:\n",
      "Padre 1 Bin: 110010\n",
      "Padre 2 Bin: 100110\n",
      "---\n",
      "Hijo 1 Bin: 001111\n",
      "Hijo 2 Bin: 011010\n",
      "Hijo 3 Bin: 001011\n",
      "Hijo 4 Bin: 011100\n",
      "Hijo 5 Bin: 110110\n",
      "Hijo 6 Bin: 100010\n"
     ]
    }
   ],
   "source": [
    "def parejas_tournament(df):\n",
    "    df_rs = df.reset_index(drop=True)\n",
    "    parejas = []\n",
    "    n = len(df_rs)\n",
    "    for i in range(n // 2):\n",
    "        pareja = (df_rs.iloc[i], df_rs.iloc[n - 1 - i])\n",
    "        parejas.append(pareja)\n",
    "    return parejas\n",
    "\n",
    "parejas = parejas_tournament(df2)\n",
    "hijos_binarios = cruza_corte(parejas, 3)\n",
    "for idx, (p1, p2) in enumerate(parejas):\n",
    "    print(f\"Pareja {idx+1}:\")\n",
    "    print(\"Padre 1 Bin:\", p1['Bin'])\n",
    "    print(\"Padre 2 Bin:\", p2['Bin'])\n",
    "    print(\"---\")\n",
    "\n",
    "for idx, hijo_bin in enumerate(hijos_binarios):\n",
    "    print(f\"Hijo {idx+1} Bin:\", hijo_bin)"
   ]
  },
  {
   "cell_type": "code",
   "execution_count": 240,
   "metadata": {},
   "outputs": [
    {
     "data": {
      "text/html": [
       "<div>\n",
       "<style scoped>\n",
       "    .dataframe tbody tr th:only-of-type {\n",
       "        vertical-align: middle;\n",
       "    }\n",
       "\n",
       "    .dataframe tbody tr th {\n",
       "        vertical-align: top;\n",
       "    }\n",
       "\n",
       "    .dataframe thead th {\n",
       "        text-align: right;\n",
       "    }\n",
       "</style>\n",
       "<table border=\"1\" class=\"dataframe\">\n",
       "  <thead>\n",
       "    <tr style=\"text-align: right;\">\n",
       "      <th></th>\n",
       "      <th>Bin</th>\n",
       "      <th>Valor</th>\n",
       "      <th>fitness</th>\n",
       "    </tr>\n",
       "  </thead>\n",
       "  <tbody>\n",
       "    <tr>\n",
       "      <th>0</th>\n",
       "      <td>001010</td>\n",
       "      <td>-0.682540</td>\n",
       "      <td>0.465860</td>\n",
       "    </tr>\n",
       "    <tr>\n",
       "      <th>1</th>\n",
       "      <td>001100</td>\n",
       "      <td>-0.619048</td>\n",
       "      <td>0.383220</td>\n",
       "    </tr>\n",
       "    <tr>\n",
       "      <th>2</th>\n",
       "      <td>110010</td>\n",
       "      <td>0.587302</td>\n",
       "      <td>0.344923</td>\n",
       "    </tr>\n",
       "    <tr>\n",
       "      <th>3</th>\n",
       "      <td>100110</td>\n",
       "      <td>0.206349</td>\n",
       "      <td>0.042580</td>\n",
       "    </tr>\n",
       "    <tr>\n",
       "      <th>4</th>\n",
       "      <td>011011</td>\n",
       "      <td>-0.142857</td>\n",
       "      <td>0.020408</td>\n",
       "    </tr>\n",
       "    <tr>\n",
       "      <th>5</th>\n",
       "      <td>011111</td>\n",
       "      <td>-0.015873</td>\n",
       "      <td>0.000252</td>\n",
       "    </tr>\n",
       "    <tr>\n",
       "      <th>6</th>\n",
       "      <td>001111</td>\n",
       "      <td>-0.523810</td>\n",
       "      <td>0.274376</td>\n",
       "    </tr>\n",
       "    <tr>\n",
       "      <th>7</th>\n",
       "      <td>011010</td>\n",
       "      <td>-0.174603</td>\n",
       "      <td>0.030486</td>\n",
       "    </tr>\n",
       "    <tr>\n",
       "      <th>8</th>\n",
       "      <td>001011</td>\n",
       "      <td>-0.650794</td>\n",
       "      <td>0.423532</td>\n",
       "    </tr>\n",
       "    <tr>\n",
       "      <th>9</th>\n",
       "      <td>011100</td>\n",
       "      <td>-0.111111</td>\n",
       "      <td>0.012346</td>\n",
       "    </tr>\n",
       "    <tr>\n",
       "      <th>10</th>\n",
       "      <td>110110</td>\n",
       "      <td>0.714286</td>\n",
       "      <td>0.510204</td>\n",
       "    </tr>\n",
       "    <tr>\n",
       "      <th>11</th>\n",
       "      <td>100010</td>\n",
       "      <td>0.079365</td>\n",
       "      <td>0.006299</td>\n",
       "    </tr>\n",
       "  </tbody>\n",
       "</table>\n",
       "</div>"
      ],
      "text/plain": [
       "       Bin     Valor   fitness\n",
       "0   001010 -0.682540  0.465860\n",
       "1   001100 -0.619048  0.383220\n",
       "2   110010  0.587302  0.344923\n",
       "3   100110  0.206349  0.042580\n",
       "4   011011 -0.142857  0.020408\n",
       "5   011111 -0.015873  0.000252\n",
       "6   001111 -0.523810  0.274376\n",
       "7   011010 -0.174603  0.030486\n",
       "8   001011 -0.650794  0.423532\n",
       "9   011100 -0.111111  0.012346\n",
       "10  110110  0.714286  0.510204\n",
       "11  100010  0.079365  0.006299"
      ]
     },
     "metadata": {},
     "output_type": "display_data"
    }
   ],
   "source": [
    "gen1_t = pd.DataFrame(hijos_binarios, columns=['Bin'])\n",
    "gen1_t['Valor'] = gen1_t['Bin'].apply(lambda b: bin2val(b, valores))\n",
    "gen1_t['fitness'] = gen1_t['Valor']**2\n",
    "\n",
    "gen1_t = pd.concat([df_ts, gen1_t], ignore_index=True)\n",
    "display(gen1_t)"
   ]
  },
  {
   "cell_type": "markdown",
   "metadata": {},
   "source": [
    "Una vez que hemos hecho nuestras dos cruzas uniremos toda nuestra poblacion y obtenemos nuestros datos de control"
   ]
  },
  {
   "cell_type": "code",
   "execution_count": 241,
   "metadata": {},
   "outputs": [
    {
     "data": {
      "text/html": [
       "<div>\n",
       "<style scoped>\n",
       "    .dataframe tbody tr th:only-of-type {\n",
       "        vertical-align: middle;\n",
       "    }\n",
       "\n",
       "    .dataframe tbody tr th {\n",
       "        vertical-align: top;\n",
       "    }\n",
       "\n",
       "    .dataframe thead th {\n",
       "        text-align: right;\n",
       "    }\n",
       "</style>\n",
       "<table border=\"1\" class=\"dataframe\">\n",
       "  <thead>\n",
       "    <tr style=\"text-align: right;\">\n",
       "      <th></th>\n",
       "      <th>Bin</th>\n",
       "      <th>Valor</th>\n",
       "      <th>fitness</th>\n",
       "    </tr>\n",
       "  </thead>\n",
       "  <tbody>\n",
       "    <tr>\n",
       "      <th>0</th>\n",
       "      <td>111110</td>\n",
       "      <td>0.968254</td>\n",
       "      <td>0.937516</td>\n",
       "    </tr>\n",
       "    <tr>\n",
       "      <th>1</th>\n",
       "      <td>000011</td>\n",
       "      <td>-0.904762</td>\n",
       "      <td>0.818594</td>\n",
       "    </tr>\n",
       "    <tr>\n",
       "      <th>2</th>\n",
       "      <td>000011</td>\n",
       "      <td>-0.904762</td>\n",
       "      <td>0.818594</td>\n",
       "    </tr>\n",
       "    <tr>\n",
       "      <th>3</th>\n",
       "      <td>000110</td>\n",
       "      <td>-0.809524</td>\n",
       "      <td>0.655329</td>\n",
       "    </tr>\n",
       "    <tr>\n",
       "      <th>4</th>\n",
       "      <td>000110</td>\n",
       "      <td>-0.809524</td>\n",
       "      <td>0.655329</td>\n",
       "    </tr>\n",
       "    <tr>\n",
       "      <th>5</th>\n",
       "      <td>111000</td>\n",
       "      <td>0.777778</td>\n",
       "      <td>0.604938</td>\n",
       "    </tr>\n",
       "    <tr>\n",
       "      <th>6</th>\n",
       "      <td>110110</td>\n",
       "      <td>0.714286</td>\n",
       "      <td>0.510204</td>\n",
       "    </tr>\n",
       "    <tr>\n",
       "      <th>7</th>\n",
       "      <td>110110</td>\n",
       "      <td>0.714286</td>\n",
       "      <td>0.510204</td>\n",
       "    </tr>\n",
       "    <tr>\n",
       "      <th>8</th>\n",
       "      <td>001010</td>\n",
       "      <td>-0.682540</td>\n",
       "      <td>0.465860</td>\n",
       "    </tr>\n",
       "    <tr>\n",
       "      <th>9</th>\n",
       "      <td>001011</td>\n",
       "      <td>-0.650794</td>\n",
       "      <td>0.423532</td>\n",
       "    </tr>\n",
       "    <tr>\n",
       "      <th>10</th>\n",
       "      <td>001100</td>\n",
       "      <td>-0.619048</td>\n",
       "      <td>0.383220</td>\n",
       "    </tr>\n",
       "    <tr>\n",
       "      <th>11</th>\n",
       "      <td>110010</td>\n",
       "      <td>0.587302</td>\n",
       "      <td>0.344923</td>\n",
       "    </tr>\n",
       "    <tr>\n",
       "      <th>12</th>\n",
       "      <td>001111</td>\n",
       "      <td>-0.523810</td>\n",
       "      <td>0.274376</td>\n",
       "    </tr>\n",
       "    <tr>\n",
       "      <th>13</th>\n",
       "      <td>110000</td>\n",
       "      <td>0.523810</td>\n",
       "      <td>0.274376</td>\n",
       "    </tr>\n",
       "    <tr>\n",
       "      <th>14</th>\n",
       "      <td>100110</td>\n",
       "      <td>0.206349</td>\n",
       "      <td>0.042580</td>\n",
       "    </tr>\n",
       "    <tr>\n",
       "      <th>15</th>\n",
       "      <td>011010</td>\n",
       "      <td>-0.174603</td>\n",
       "      <td>0.030486</td>\n",
       "    </tr>\n",
       "    <tr>\n",
       "      <th>16</th>\n",
       "      <td>011011</td>\n",
       "      <td>-0.142857</td>\n",
       "      <td>0.020408</td>\n",
       "    </tr>\n",
       "    <tr>\n",
       "      <th>17</th>\n",
       "      <td>011100</td>\n",
       "      <td>-0.111111</td>\n",
       "      <td>0.012346</td>\n",
       "    </tr>\n",
       "    <tr>\n",
       "      <th>18</th>\n",
       "      <td>100010</td>\n",
       "      <td>0.079365</td>\n",
       "      <td>0.006299</td>\n",
       "    </tr>\n",
       "    <tr>\n",
       "      <th>19</th>\n",
       "      <td>011111</td>\n",
       "      <td>-0.015873</td>\n",
       "      <td>0.000252</td>\n",
       "    </tr>\n",
       "  </tbody>\n",
       "</table>\n",
       "</div>"
      ],
      "text/plain": [
       "       Bin     Valor   fitness\n",
       "0   111110  0.968254  0.937516\n",
       "1   000011 -0.904762  0.818594\n",
       "2   000011 -0.904762  0.818594\n",
       "3   000110 -0.809524  0.655329\n",
       "4   000110 -0.809524  0.655329\n",
       "5   111000  0.777778  0.604938\n",
       "6   110110  0.714286  0.510204\n",
       "7   110110  0.714286  0.510204\n",
       "8   001010 -0.682540  0.465860\n",
       "9   001011 -0.650794  0.423532\n",
       "10  001100 -0.619048  0.383220\n",
       "11  110010  0.587302  0.344923\n",
       "12  001111 -0.523810  0.274376\n",
       "13  110000  0.523810  0.274376\n",
       "14  100110  0.206349  0.042580\n",
       "15  011010 -0.174603  0.030486\n",
       "16  011011 -0.142857  0.020408\n",
       "17  011100 -0.111111  0.012346\n",
       "18  100010  0.079365  0.006299\n",
       "19  011111 -0.015873  0.000252"
      ]
     },
     "metadata": {},
     "output_type": "display_data"
    }
   ],
   "source": [
    "gen1 = pd.concat([gen1_r, gen1_t], ignore_index=True)\n",
    "gen1.sort_values(by='fitness', ascending=False, inplace=True)\n",
    "gen1.reset_index(drop=True, inplace=True)\n",
    "display(gen1)"
   ]
  },
  {
   "cell_type": "markdown",
   "metadata": {},
   "source": [
    "De estos tomaremos solo los 10 más aptos que pasaran a la siguiente generacion."
   ]
  },
  {
   "cell_type": "code",
   "execution_count": 242,
   "metadata": {},
   "outputs": [
    {
     "name": "stdout",
     "output_type": "stream",
     "text": [
      "      Bin     Valor   fitness\n",
      "0  111110  0.968254  0.937516\n",
      "1  000011 -0.904762  0.818594\n",
      "2  000011 -0.904762  0.818594\n",
      "3  000110 -0.809524  0.655329\n",
      "4  000110 -0.809524  0.655329\n",
      "5  111000  0.777778  0.604938\n",
      "6  110110  0.714286  0.510204\n",
      "7  110110  0.714286  0.510204\n",
      "8  001010 -0.682540  0.465860\n",
      "9  001011 -0.650794  0.423532\n"
     ]
    }
   ],
   "source": [
    "gen1 = gen1.iloc[:10]\n",
    "print(gen1)"
   ]
  },
  {
   "cell_type": "code",
   "execution_count": 243,
   "metadata": {},
   "outputs": [],
   "source": [
    "df_hist = add_hist(gen1, df_hist)"
   ]
  },
  {
   "cell_type": "markdown",
   "metadata": {},
   "source": [
    "Esto marca el final de nuestra primera generacion ya que se hizo la cruza y nos quedamos con los 10 mayormente aptos, con lo hecho anteriormente ahora solo queda repetir el proceso hasta completar el criterio de paro."
   ]
  },
  {
   "cell_type": "markdown",
   "metadata": {},
   "source": [
    "# Ciclo"
   ]
  },
  {
   "cell_type": "markdown",
   "metadata": {},
   "source": [
    "En este caso nuestro criterio de paro sera por numero de generaciones, es decir manualmente asignaremos cuantas generaciones queremos que corran antes de detenernos"
   ]
  },
  {
   "cell_type": "code",
   "execution_count": 244,
   "metadata": {
    "id": "MRpANU28Crv7"
   },
   "outputs": [],
   "source": [
    "for i in range(5): # Repetir el proceso de selección, cruza y reemplazo\n",
    "    # Rank\n",
    "    df1 = gen1.iloc[:4]\n",
    "    # torneo\n",
    "    df2 = gen1.iloc[4:10]\n",
    "\n",
    "\n",
    "    # Cruza por rank\n",
    "    parejas = parejas_rank(df1)\n",
    "    hijos_binarios = cruza_corte(parejas, 3)\n",
    "    gen1_r = pd.DataFrame(hijos_binarios, columns=['Bin'])\n",
    "    gen1_r['Valor'] = gen1_r['Bin'].apply(lambda b: bin2val(b, valores))\n",
    "    gen1_r['fitness'] = gen1_r['Valor']**2\n",
    "    gen1_r = pd.concat([df1.reset_index(drop=True), gen1_r], ignore_index=True)\n",
    "\n",
    "    # Cruza por torneo\n",
    "    parejas = parejas_tournament(df2)\n",
    "    hijos_binarios = cruza_corte(parejas, 3)\n",
    "    gen1_t = pd.DataFrame(hijos_binarios, columns=['Bin'])\n",
    "    gen1_t['Valor'] = gen1_t['Bin'].apply(lambda b: bin2val(b, valores))\n",
    "    gen1_t['fitness'] = gen1_t['Valor']**2\n",
    "    gen1_t = pd.concat([df2.reset_index(drop=True), gen1_t], ignore_index=True)\n",
    "\n",
    "\n",
    "    # Unir y seleccionar los mejores 10\n",
    "    gen1 = pd.concat([gen1_r, gen1_t], ignore_index=True)\n",
    "    gen1.sort_values(by='fitness', ascending=False, inplace=True)\n",
    "    gen1.reset_index(drop=True, inplace=True)\n",
    "    gen1 = gen1.iloc[:10]\n",
    "    \n",
    "    # Registrar estadísticas\n",
    "    df_hist = add_hist(gen1, df_hist)"
   ]
  },
  {
   "cell_type": "code",
   "execution_count": 245,
   "metadata": {},
   "outputs": [
    {
     "name": "stdout",
     "output_type": "stream",
     "text": [
      "      Bin     Valor   fitness\n",
      "0  111110  0.968254  0.937516\n",
      "1  111110  0.968254  0.937516\n",
      "2  111110  0.968254  0.937516\n",
      "3  111110  0.968254  0.937516\n",
      "4  111110  0.968254  0.937516\n",
      "5  111110  0.968254  0.937516\n",
      "6  111110  0.968254  0.937516\n",
      "7  111110  0.968254  0.937516\n",
      "8  111110  0.968254  0.937516\n",
      "9  111110  0.968254  0.937516\n"
     ]
    }
   ],
   "source": [
    "print(gen1)"
   ]
  },
  {
   "cell_type": "code",
   "execution_count": 246,
   "metadata": {},
   "outputs": [
    {
     "name": "stdout",
     "output_type": "stream",
     "text": [
      "      Bin     Valor   fitness  Avg_Fitness\n",
      "0  000011 -0.904762  0.818594     0.384631\n",
      "1  111110  0.968254  0.937516     0.640010\n",
      "2  111110  0.968254  0.937516     0.764777\n",
      "3  111110  0.968254  0.937516     0.860116\n",
      "4  111110  0.968254  0.937516     0.883900\n",
      "5  111110  0.968254  0.937516     0.931469\n",
      "6  111110  0.968254  0.937516     0.937516\n"
     ]
    }
   ],
   "source": [
    "print(df_hist)"
   ]
  },
  {
   "cell_type": "markdown",
   "metadata": {},
   "source": [
    "# Analisando Nuestro Algoritmo"
   ]
  },
  {
   "cell_type": "code",
   "execution_count": 247,
   "metadata": {},
   "outputs": [
    {
     "data": {
      "image/png": "[encoded data removed]",
      "text/plain": [
       "<Figure size 640x480 with 1 Axes>"
      ]
     },
     "metadata": {},
     "output_type": "display_data"
    }
   ],
   "source": [
    "plt.plot(df_hist['fitness'], label='Top Fitness')\n",
    "plt.plot(df_hist['Avg_Fitness'], label='Avg Fitness')\n",
    "plt.xlabel('Generación')\n",
    "plt.ylabel('Fitness')\n",
    "plt.legend()\n",
    "plt.show()"
   ]
  },
  {
   "cell_type": "code",
   "execution_count": 251,
   "metadata": {},
   "outputs": [
    {
     "data": {
      "image/png": "[encoded data removed]",
      "text/plain": [
       "<Figure size 640x480 with 1 Axes>"
      ]
     },
     "metadata": {},
     "output_type": "display_data"
    }
   ],
   "source": [
    "# Rango de x\n",
    "x = np.linspace(-1, 1, 200)\n",
    "y = x**2\n",
    "\n",
    "pts_top_fitness = df_hist.loc[0:5, ['Valor', 'fitness']].to_numpy()\n",
    "\n",
    "# Graficar la función\n",
    "plt.plot(x, y, label='$y = x^2$')\n",
    "\n",
    "# Marcar los puntos\n",
    "for px, py in pts_top_fitness:\n",
    "    plt.scatter(px, py, color='red', s=50, zorder=5)  # punto\n",
    "    plt.text(px, py + 0.02, f\"({px:.2f}, {py:.2f})\", ha='center')  # etiqueta\n",
    "\n",
    "plt.xlabel(\"x\")\n",
    "plt.ylabel(\"y\")\n",
    "plt.title(\"Gráfica de y = x^2 con puntos marcados\")\n",
    "plt.legend()\n",
    "plt.grid(True)\n",
    "plt.show()"
   ]
  }
 ],
 "metadata": {
  "colab": {
   "authorship_tag": "ABX9TyNMcIDsMX6NCfac0VhLZM9O",
   "provenance": []
  },
  "kernelspec": {
   "display_name": "Python 3",
   "name": "python3"
  },
  "language_info": {
   "codemirror_mode": {
    "name": "ipython",
    "version": 3
   },
   "file_extension": ".py",
   "mimetype": "text/x-python",
   "name": "python",
   "nbconvert_exporter": "python",
   "pygments_lexer": "ipython3",
   "version": "3.12.7"
  }
 },
 "nbformat": 4,
 "nbformat_minor": 0
}
