{
 "cells": [
  {
   "cell_type": "code",
   "execution_count": 1,
   "metadata": {
    "executionInfo": {
     "elapsed": 42,
     "status": "ok",
     "timestamp": 1755871891102,
     "user": {
      "displayName": "DANIEL EDUARDO GONZALEZ ALVARADO",
      "userId": "16497401104730667325"
     },
     "user_tz": 360
    },
    "id": "JC9Hhk2E5Lhn"
   },
   "outputs": [],
   "source": [
    "import numpy as np\n",
    "import pandas as pd\n",
    "import random\n",
    "import matplotlib.pyplot as plt"
   ]
  },
  {
   "cell_type": "code",
   "execution_count": 2,
   "metadata": {
    "colab": {
     "base_uri": "https://localhost:8080/"
    },
    "executionInfo": {
     "elapsed": 12,
     "status": "ok",
     "timestamp": 1755871061850,
     "user": {
      "displayName": "DANIEL EDUARDO GONZALEZ ALVARADO",
      "userId": "16497401104730667325"
     },
     "user_tz": 360
    },
    "id": "hiNPgzSG5PIR",
    "outputId": "2abc03d0-f36e-4608-dfed-f102812c01c8"
   },
   "outputs": [
    {
     "name": "stdout",
     "output_type": "stream",
     "text": [
      "[-1.         -0.96825397 -0.93650794 -0.9047619  -0.87301587 -0.84126984\n",
      " -0.80952381 -0.77777778 -0.74603175 -0.71428571 -0.68253968 -0.65079365\n",
      " -0.61904762 -0.58730159 -0.55555556 -0.52380952 -0.49206349 -0.46031746\n",
      " -0.42857143 -0.3968254  -0.36507937 -0.33333333 -0.3015873  -0.26984127\n",
      " -0.23809524 -0.20634921 -0.17460317 -0.14285714 -0.11111111 -0.07936508\n",
      " -0.04761905 -0.01587302  0.01587302  0.04761905  0.07936508  0.11111111\n",
      "  0.14285714  0.17460317  0.20634921  0.23809524  0.26984127  0.3015873\n",
      "  0.33333333  0.36507937  0.3968254   0.42857143  0.46031746  0.49206349\n",
      "  0.52380952  0.55555556  0.58730159  0.61904762  0.65079365  0.68253968\n",
      "  0.71428571  0.74603175  0.77777778  0.80952381  0.84126984  0.87301587\n",
      "  0.9047619   0.93650794  0.96825397  1.        ]\n",
      "[1.00000000e+00 9.37515747e-01 8.77047115e-01 8.18594104e-01\n",
      " 7.62156715e-01 7.07734946e-01 6.55328798e-01 6.04938272e-01\n",
      " 5.56563366e-01 5.10204082e-01 4.65860418e-01 4.23532376e-01\n",
      " 3.83219955e-01 3.44923154e-01 3.08641975e-01 2.74376417e-01\n",
      " 2.42126480e-01 2.11892164e-01 1.83673469e-01 1.57470396e-01\n",
      " 1.33282943e-01 1.11111111e-01 9.09549005e-02 7.28143109e-02\n",
      " 5.66893424e-02 4.25799950e-02 3.04862686e-02 2.04081633e-02\n",
      " 1.23456790e-02 6.29881582e-03 2.26757370e-03 2.51952633e-04\n",
      " 2.51952633e-04 2.26757370e-03 6.29881582e-03 1.23456790e-02\n",
      " 2.04081633e-02 3.04862686e-02 4.25799950e-02 5.66893424e-02\n",
      " 7.28143109e-02 9.09549005e-02 1.11111111e-01 1.33282943e-01\n",
      " 1.57470396e-01 1.83673469e-01 2.11892164e-01 2.42126480e-01\n",
      " 2.74376417e-01 3.08641975e-01 3.44923154e-01 3.83219955e-01\n",
      " 4.23532376e-01 4.65860418e-01 5.10204082e-01 5.56563366e-01\n",
      " 6.04938272e-01 6.55328798e-01 7.07734946e-01 7.62156715e-01\n",
      " 8.18594104e-01 8.77047115e-01 9.37515747e-01 1.00000000e+00]\n"
     ]
    }
   ],
   "source": [
    "# Dominio de -1 a 1 en 64 datos debibo a los 6 genes\n",
    "# 000 000, 000 001, ... , 111 111\n",
    "x = np.linspace(-1, 1, 64)\n",
    "y = x**2\n",
    "\n",
    "print(x)\n",
    "print(y)"
   ]
  },
  {
   "cell_type": "code",
   "execution_count": 3,
   "metadata": {
    "colab": {
     "base_uri": "https://localhost:8080/",
     "height": 435
    },
    "executionInfo": {
     "elapsed": 119,
     "status": "ok",
     "timestamp": 1755871064652,
     "user": {
      "displayName": "DANIEL EDUARDO GONZALEZ ALVARADO",
      "userId": "16497401104730667325"
     },
     "user_tz": 360
    },
    "id": "rD_MdORD9h5u",
    "outputId": "9acdb8a0-e599-4e44-90ca-5a032f5e8054"
   },
   "outputs": [
    {
     "data": {
      "image/png": "[encoded data removed]",
      "text/plain": [
       "<Figure size 640x480 with 1 Axes>"
      ]
     },
     "metadata": {},
     "output_type": "display_data"
    }
   ],
   "source": [
    "plt.plot(x, y)\n",
    "plt.axis([-1, 1, 0, 1])\n",
    "plt.grid(True)\n",
    "plt.show()"
   ]
  },
  {
   "cell_type": "markdown",
   "metadata": {
    "id": "zYnkCsEz8pco"
   },
   "source": [
    "No es necesario tener toda la poblacion generada, habra casos donde no se pueda generar todos y solo necesitamos 10 individuos para empezar la cruza, el objetivo es justamente con una poblacion pequeña alcanzar lo optimo."
   ]
  },
  {
   "cell_type": "markdown",
   "metadata": {},
   "source": [
    "# Generar Poblacion"
   ]
  },
  {
   "cell_type": "code",
   "execution_count": 41,
   "metadata": {
    "colab": {
     "base_uri": "https://localhost:8080/"
    },
    "executionInfo": {
     "elapsed": 14,
     "status": "ok",
     "timestamp": 1755871928389,
     "user": {
      "displayName": "DANIEL EDUARDO GONZALEZ ALVARADO",
      "userId": "16497401104730667325"
     },
     "user_tz": 360
    },
    "id": "uCH1N6jbHoFp",
    "outputId": "37c107ee-8ed2-46a7-f8ef-20076e4857e0"
   },
   "outputs": [
    {
     "name": "stdout",
     "output_type": "stream",
     "text": [
      "011100 -> -0.11111111111111116\n",
      "100110 -> 0.20634920634920628\n",
      "101100 -> 0.39682539682539675\n",
      "111011 -> 0.873015873015873\n",
      "001001 -> -0.7142857142857143\n",
      "010001 -> -0.46031746031746035\n",
      "101001 -> 0.3015873015873014\n",
      "001110 -> -0.5555555555555556\n",
      "011001 -> -0.2063492063492064\n",
      "010001 -> -0.46031746031746035\n"
     ]
    }
   ],
   "source": [
    "step = 64\n",
    "valores = np.linspace(-1, 1, step)  # 64 valores entre -1 y 1\n",
    "\n",
    "def bin2val(binario, valores):\n",
    "    idx = int(binario, 2)\n",
    "    return valores[idx]\n",
    "\n",
    "def generar_individuo():\n",
    "    # Índice entre 0 y 63\n",
    "    idx = random.randint(0, step-1)\n",
    "    # Decimal a Binario\n",
    "    binario = format(idx, '06b')\n",
    "    valor = bin2val(binario, valores)\n",
    "    return binario, valor\n",
    "\n",
    "# Generar padres\n",
    "padres = []\n",
    "val = []\n",
    "for _ in range(10):\n",
    "    b, v = generar_individuo()\n",
    "    padres.append(b)\n",
    "    val.append(v)\n",
    "    print(f\"{b} -> {v}\")\n"
   ]
  },
  {
   "cell_type": "markdown",
   "metadata": {},
   "source": [
    "Creamos nuestra poblacion inicial junto con su aptitud"
   ]
  },
  {
   "cell_type": "code",
   "execution_count": 42,
   "metadata": {},
   "outputs": [],
   "source": [
    "df = pd.DataFrame({\n",
    "    'Bin': padres,\n",
    "    'Valor': val\n",
    "})\n",
    "df['fitness'] = df['Valor']**2"
   ]
  },
  {
   "cell_type": "code",
   "execution_count": 43,
   "metadata": {},
   "outputs": [
    {
     "data": {
      "text/html": [
       "<div>\n",
       "<style scoped>\n",
       "    .dataframe tbody tr th:only-of-type {\n",
       "        vertical-align: middle;\n",
       "    }\n",
       "\n",
       "    .dataframe tbody tr th {\n",
       "        vertical-align: top;\n",
       "    }\n",
       "\n",
       "    .dataframe thead th {\n",
       "        text-align: right;\n",
       "    }\n",
       "</style>\n",
       "<table border=\"1\" class=\"dataframe\">\n",
       "  <thead>\n",
       "    <tr style=\"text-align: right;\">\n",
       "      <th></th>\n",
       "      <th>Bin</th>\n",
       "      <th>Valor</th>\n",
       "      <th>fitness</th>\n",
       "    </tr>\n",
       "  </thead>\n",
       "  <tbody>\n",
       "    <tr>\n",
       "      <th>0</th>\n",
       "      <td>011100</td>\n",
       "      <td>-0.111111</td>\n",
       "      <td>0.012346</td>\n",
       "    </tr>\n",
       "    <tr>\n",
       "      <th>1</th>\n",
       "      <td>100110</td>\n",
       "      <td>0.206349</td>\n",
       "      <td>0.042580</td>\n",
       "    </tr>\n",
       "    <tr>\n",
       "      <th>2</th>\n",
       "      <td>101100</td>\n",
       "      <td>0.396825</td>\n",
       "      <td>0.157470</td>\n",
       "    </tr>\n",
       "    <tr>\n",
       "      <th>3</th>\n",
       "      <td>111011</td>\n",
       "      <td>0.873016</td>\n",
       "      <td>0.762157</td>\n",
       "    </tr>\n",
       "    <tr>\n",
       "      <th>4</th>\n",
       "      <td>001001</td>\n",
       "      <td>-0.714286</td>\n",
       "      <td>0.510204</td>\n",
       "    </tr>\n",
       "    <tr>\n",
       "      <th>5</th>\n",
       "      <td>010001</td>\n",
       "      <td>-0.460317</td>\n",
       "      <td>0.211892</td>\n",
       "    </tr>\n",
       "    <tr>\n",
       "      <th>6</th>\n",
       "      <td>101001</td>\n",
       "      <td>0.301587</td>\n",
       "      <td>0.090955</td>\n",
       "    </tr>\n",
       "    <tr>\n",
       "      <th>7</th>\n",
       "      <td>001110</td>\n",
       "      <td>-0.555556</td>\n",
       "      <td>0.308642</td>\n",
       "    </tr>\n",
       "    <tr>\n",
       "      <th>8</th>\n",
       "      <td>011001</td>\n",
       "      <td>-0.206349</td>\n",
       "      <td>0.042580</td>\n",
       "    </tr>\n",
       "    <tr>\n",
       "      <th>9</th>\n",
       "      <td>010001</td>\n",
       "      <td>-0.460317</td>\n",
       "      <td>0.211892</td>\n",
       "    </tr>\n",
       "  </tbody>\n",
       "</table>\n",
       "</div>"
      ],
      "text/plain": [
       "      Bin     Valor   fitness\n",
       "0  011100 -0.111111  0.012346\n",
       "1  100110  0.206349  0.042580\n",
       "2  101100  0.396825  0.157470\n",
       "3  111011  0.873016  0.762157\n",
       "4  001001 -0.714286  0.510204\n",
       "5  010001 -0.460317  0.211892\n",
       "6  101001  0.301587  0.090955\n",
       "7  001110 -0.555556  0.308642\n",
       "8  011001 -0.206349  0.042580\n",
       "9  010001 -0.460317  0.211892"
      ]
     },
     "metadata": {},
     "output_type": "display_data"
    }
   ],
   "source": [
    "display(df)"
   ]
  },
  {
   "cell_type": "markdown",
   "metadata": {},
   "source": [
    "Ordenar segun su aptitud"
   ]
  },
  {
   "cell_type": "code",
   "execution_count": 44,
   "metadata": {},
   "outputs": [
    {
     "data": {
      "text/html": [
       "<div>\n",
       "<style scoped>\n",
       "    .dataframe tbody tr th:only-of-type {\n",
       "        vertical-align: middle;\n",
       "    }\n",
       "\n",
       "    .dataframe tbody tr th {\n",
       "        vertical-align: top;\n",
       "    }\n",
       "\n",
       "    .dataframe thead th {\n",
       "        text-align: right;\n",
       "    }\n",
       "</style>\n",
       "<table border=\"1\" class=\"dataframe\">\n",
       "  <thead>\n",
       "    <tr style=\"text-align: right;\">\n",
       "      <th></th>\n",
       "      <th>Bin</th>\n",
       "      <th>Valor</th>\n",
       "      <th>fitness</th>\n",
       "    </tr>\n",
       "  </thead>\n",
       "  <tbody>\n",
       "    <tr>\n",
       "      <th>0</th>\n",
       "      <td>111011</td>\n",
       "      <td>0.873016</td>\n",
       "      <td>0.762157</td>\n",
       "    </tr>\n",
       "    <tr>\n",
       "      <th>1</th>\n",
       "      <td>001001</td>\n",
       "      <td>-0.714286</td>\n",
       "      <td>0.510204</td>\n",
       "    </tr>\n",
       "    <tr>\n",
       "      <th>2</th>\n",
       "      <td>001110</td>\n",
       "      <td>-0.555556</td>\n",
       "      <td>0.308642</td>\n",
       "    </tr>\n",
       "    <tr>\n",
       "      <th>3</th>\n",
       "      <td>010001</td>\n",
       "      <td>-0.460317</td>\n",
       "      <td>0.211892</td>\n",
       "    </tr>\n",
       "    <tr>\n",
       "      <th>4</th>\n",
       "      <td>010001</td>\n",
       "      <td>-0.460317</td>\n",
       "      <td>0.211892</td>\n",
       "    </tr>\n",
       "    <tr>\n",
       "      <th>5</th>\n",
       "      <td>101100</td>\n",
       "      <td>0.396825</td>\n",
       "      <td>0.157470</td>\n",
       "    </tr>\n",
       "    <tr>\n",
       "      <th>6</th>\n",
       "      <td>101001</td>\n",
       "      <td>0.301587</td>\n",
       "      <td>0.090955</td>\n",
       "    </tr>\n",
       "    <tr>\n",
       "      <th>7</th>\n",
       "      <td>011001</td>\n",
       "      <td>-0.206349</td>\n",
       "      <td>0.042580</td>\n",
       "    </tr>\n",
       "    <tr>\n",
       "      <th>8</th>\n",
       "      <td>100110</td>\n",
       "      <td>0.206349</td>\n",
       "      <td>0.042580</td>\n",
       "    </tr>\n",
       "    <tr>\n",
       "      <th>9</th>\n",
       "      <td>011100</td>\n",
       "      <td>-0.111111</td>\n",
       "      <td>0.012346</td>\n",
       "    </tr>\n",
       "  </tbody>\n",
       "</table>\n",
       "</div>"
      ],
      "text/plain": [
       "      Bin     Valor   fitness\n",
       "0  111011  0.873016  0.762157\n",
       "1  001001 -0.714286  0.510204\n",
       "2  001110 -0.555556  0.308642\n",
       "3  010001 -0.460317  0.211892\n",
       "4  010001 -0.460317  0.211892\n",
       "5  101100  0.396825  0.157470\n",
       "6  101001  0.301587  0.090955\n",
       "7  011001 -0.206349  0.042580\n",
       "8  100110  0.206349  0.042580\n",
       "9  011100 -0.111111  0.012346"
      ]
     },
     "metadata": {},
     "output_type": "display_data"
    }
   ],
   "source": [
    "df.sort_values(by='fitness', ascending=False, inplace=True)\n",
    "df.reset_index(drop=True, inplace=True)\n",
    "#df.to_csv('poblacion_inicial.csv', index=False) # Guardar para replicar despues\n",
    "display(df)"
   ]
  },
  {
   "cell_type": "markdown",
   "metadata": {},
   "source": [
    "Llevaremos un registro de las generaciones para lo cual tomaremos dos valores representativos de cada generacion, siendo estos el mejor valor de aptitud asi como el promedio de la generacion.  \n",
    "Partiendo de los padres inicales esta sera nuestra Generacion 0."
   ]
  },
  {
   "cell_type": "code",
   "execution_count": 45,
   "metadata": {},
   "outputs": [],
   "source": [
    "Top_Fitness = []\n",
    "Avg_Fitness = []\n",
    "Top_Fitness.append(df['fitness'].max())\n",
    "Avg_Fitness.append(df['fitness'].mean())"
   ]
  },
  {
   "cell_type": "code",
   "execution_count": 46,
   "metadata": {},
   "outputs": [
    {
     "name": "stdout",
     "output_type": "stream",
     "text": [
      "[np.float64(0.762156714537667)]\n",
      "[np.float64(0.23507180650037793)]\n"
     ]
    }
   ],
   "source": [
    "print(Top_Fitness)\n",
    "print(Avg_Fitness)"
   ]
  },
  {
   "cell_type": "markdown",
   "metadata": {},
   "source": [
    "# Seleccion"
   ]
  },
  {
   "cell_type": "markdown",
   "metadata": {},
   "source": [
    "Con nuestros 10 padres creados procedemos a la cruza  \n",
    "Para esto haremos 5 parejas y cada una tendra 2 hijos\n"
   ]
  },
  {
   "cell_type": "markdown",
   "metadata": {},
   "source": [
    "## Metodos de selección"
   ]
  },
  {
   "cell_type": "markdown",
   "metadata": {},
   "source": [
    "Separaremos los padres en dos grupos segun su aptitud y usaremos dos metodos de selección, Rank y Torneo"
   ]
  },
  {
   "cell_type": "markdown",
   "metadata": {},
   "source": [
    "Como proponemos 5 parejas y debido a sus aptitudes haremos 2 parejas con rank (Las que tienen mejor aptitud) y 3 por torneo(Con peor aptitud esperando que mejoren)"
   ]
  },
  {
   "cell_type": "code",
   "execution_count": 47,
   "metadata": {},
   "outputs": [],
   "source": [
    "# Rank\n",
    "df1 = df.iloc[:4]\n",
    "\n",
    "# torneo\n",
    "df2 = df.iloc[4:10]"
   ]
  },
  {
   "cell_type": "code",
   "execution_count": 48,
   "metadata": {},
   "outputs": [
    {
     "data": {
      "text/html": [
       "<div>\n",
       "<style scoped>\n",
       "    .dataframe tbody tr th:only-of-type {\n",
       "        vertical-align: middle;\n",
       "    }\n",
       "\n",
       "    .dataframe tbody tr th {\n",
       "        vertical-align: top;\n",
       "    }\n",
       "\n",
       "    .dataframe thead th {\n",
       "        text-align: right;\n",
       "    }\n",
       "</style>\n",
       "<table border=\"1\" class=\"dataframe\">\n",
       "  <thead>\n",
       "    <tr style=\"text-align: right;\">\n",
       "      <th></th>\n",
       "      <th>Bin</th>\n",
       "      <th>Valor</th>\n",
       "      <th>fitness</th>\n",
       "    </tr>\n",
       "  </thead>\n",
       "  <tbody>\n",
       "    <tr>\n",
       "      <th>0</th>\n",
       "      <td>111011</td>\n",
       "      <td>0.873016</td>\n",
       "      <td>0.762157</td>\n",
       "    </tr>\n",
       "    <tr>\n",
       "      <th>1</th>\n",
       "      <td>001001</td>\n",
       "      <td>-0.714286</td>\n",
       "      <td>0.510204</td>\n",
       "    </tr>\n",
       "    <tr>\n",
       "      <th>2</th>\n",
       "      <td>001110</td>\n",
       "      <td>-0.555556</td>\n",
       "      <td>0.308642</td>\n",
       "    </tr>\n",
       "    <tr>\n",
       "      <th>3</th>\n",
       "      <td>010001</td>\n",
       "      <td>-0.460317</td>\n",
       "      <td>0.211892</td>\n",
       "    </tr>\n",
       "  </tbody>\n",
       "</table>\n",
       "</div>"
      ],
      "text/plain": [
       "      Bin     Valor   fitness\n",
       "0  111011  0.873016  0.762157\n",
       "1  001001 -0.714286  0.510204\n",
       "2  001110 -0.555556  0.308642\n",
       "3  010001 -0.460317  0.211892"
      ]
     },
     "metadata": {},
     "output_type": "display_data"
    },
    {
     "data": {
      "text/html": [
       "<div>\n",
       "<style scoped>\n",
       "    .dataframe tbody tr th:only-of-type {\n",
       "        vertical-align: middle;\n",
       "    }\n",
       "\n",
       "    .dataframe tbody tr th {\n",
       "        vertical-align: top;\n",
       "    }\n",
       "\n",
       "    .dataframe thead th {\n",
       "        text-align: right;\n",
       "    }\n",
       "</style>\n",
       "<table border=\"1\" class=\"dataframe\">\n",
       "  <thead>\n",
       "    <tr style=\"text-align: right;\">\n",
       "      <th></th>\n",
       "      <th>Bin</th>\n",
       "      <th>Valor</th>\n",
       "      <th>fitness</th>\n",
       "    </tr>\n",
       "  </thead>\n",
       "  <tbody>\n",
       "    <tr>\n",
       "      <th>4</th>\n",
       "      <td>010001</td>\n",
       "      <td>-0.460317</td>\n",
       "      <td>0.211892</td>\n",
       "    </tr>\n",
       "    <tr>\n",
       "      <th>5</th>\n",
       "      <td>101100</td>\n",
       "      <td>0.396825</td>\n",
       "      <td>0.157470</td>\n",
       "    </tr>\n",
       "    <tr>\n",
       "      <th>6</th>\n",
       "      <td>101001</td>\n",
       "      <td>0.301587</td>\n",
       "      <td>0.090955</td>\n",
       "    </tr>\n",
       "    <tr>\n",
       "      <th>7</th>\n",
       "      <td>011001</td>\n",
       "      <td>-0.206349</td>\n",
       "      <td>0.042580</td>\n",
       "    </tr>\n",
       "    <tr>\n",
       "      <th>8</th>\n",
       "      <td>100110</td>\n",
       "      <td>0.206349</td>\n",
       "      <td>0.042580</td>\n",
       "    </tr>\n",
       "    <tr>\n",
       "      <th>9</th>\n",
       "      <td>011100</td>\n",
       "      <td>-0.111111</td>\n",
       "      <td>0.012346</td>\n",
       "    </tr>\n",
       "  </tbody>\n",
       "</table>\n",
       "</div>"
      ],
      "text/plain": [
       "      Bin     Valor   fitness\n",
       "4  010001 -0.460317  0.211892\n",
       "5  101100  0.396825  0.157470\n",
       "6  101001  0.301587  0.090955\n",
       "7  011001 -0.206349  0.042580\n",
       "8  100110  0.206349  0.042580\n",
       "9  011100 -0.111111  0.012346"
      ]
     },
     "metadata": {},
     "output_type": "display_data"
    }
   ],
   "source": [
    "display(df1)\n",
    "display(df2)"
   ]
  },
  {
   "cell_type": "markdown",
   "metadata": {},
   "source": [
    "### Rank\n",
    "Formaremos parejas segun su rango de aptitud tomando asi:  \n",
    "(1 - 2), (3 - 4), (5 - 6)"
   ]
  },
  {
   "cell_type": "code",
   "execution_count": 49,
   "metadata": {},
   "outputs": [
    {
     "data": {
      "text/html": [
       "<div>\n",
       "<style scoped>\n",
       "    .dataframe tbody tr th:only-of-type {\n",
       "        vertical-align: middle;\n",
       "    }\n",
       "\n",
       "    .dataframe tbody tr th {\n",
       "        vertical-align: top;\n",
       "    }\n",
       "\n",
       "    .dataframe thead th {\n",
       "        text-align: right;\n",
       "    }\n",
       "</style>\n",
       "<table border=\"1\" class=\"dataframe\">\n",
       "  <thead>\n",
       "    <tr style=\"text-align: right;\">\n",
       "      <th></th>\n",
       "      <th>Bin</th>\n",
       "      <th>Valor</th>\n",
       "      <th>fitness</th>\n",
       "    </tr>\n",
       "  </thead>\n",
       "  <tbody>\n",
       "    <tr>\n",
       "      <th>0</th>\n",
       "      <td>111011</td>\n",
       "      <td>0.873016</td>\n",
       "      <td>0.762157</td>\n",
       "    </tr>\n",
       "    <tr>\n",
       "      <th>1</th>\n",
       "      <td>001001</td>\n",
       "      <td>-0.714286</td>\n",
       "      <td>0.510204</td>\n",
       "    </tr>\n",
       "    <tr>\n",
       "      <th>2</th>\n",
       "      <td>001110</td>\n",
       "      <td>-0.555556</td>\n",
       "      <td>0.308642</td>\n",
       "    </tr>\n",
       "    <tr>\n",
       "      <th>3</th>\n",
       "      <td>010001</td>\n",
       "      <td>-0.460317</td>\n",
       "      <td>0.211892</td>\n",
       "    </tr>\n",
       "  </tbody>\n",
       "</table>\n",
       "</div>"
      ],
      "text/plain": [
       "      Bin     Valor   fitness\n",
       "0  111011  0.873016  0.762157\n",
       "1  001001 -0.714286  0.510204\n",
       "2  001110 -0.555556  0.308642\n",
       "3  010001 -0.460317  0.211892"
      ]
     },
     "metadata": {},
     "output_type": "display_data"
    }
   ],
   "source": [
    "df_rs = df1.reset_index(drop=True) # Reiniciar índice para hacer nuestra cruza\n",
    "display(df_rs)"
   ]
  },
  {
   "cell_type": "code",
   "execution_count": 50,
   "metadata": {},
   "outputs": [],
   "source": [
    "def parejas_rank(df):\n",
    "    df_rs = df.reset_index(drop=True)\n",
    "    parejas = []\n",
    "    for i in range(0, len(df_rs)-1, 2):\n",
    "        if i+1 < len(df_rs):\n",
    "            pareja = (df_rs.iloc[i], df_rs.iloc[i+1])\n",
    "            parejas.append(pareja)\n",
    "    return parejas\n",
    "\n",
    "def cruza_corte(parejas, corte_n):\n",
    "    hijos = []\n",
    "    for p1, p2 in parejas:\n",
    "        bin1 = p1['Bin']\n",
    "        bin2 = p2['Bin']\n",
    "        hijo1_bin = bin1[:corte_n] + bin2[corte_n:]\n",
    "        hijo2_bin = bin2[:corte_n] + bin1[corte_n:]\n",
    "        hijos.append(hijo1_bin)\n",
    "        hijos.append(hijo2_bin)\n",
    "    return hijos\n"
   ]
  },
  {
   "cell_type": "code",
   "execution_count": 51,
   "metadata": {},
   "outputs": [
    {
     "name": "stdout",
     "output_type": "stream",
     "text": [
      "Pareja 1:\n",
      "Padre 1 Bin: 111011\n",
      "Padre 2 Bin: 001001\n",
      "---\n",
      "Pareja 2:\n",
      "Padre 1 Bin: 001110\n",
      "Padre 2 Bin: 010001\n",
      "---\n",
      "Hijo 1 Bin: 111001\n",
      "Hijo 2 Bin: 001011\n",
      "Hijo 3 Bin: 001001\n",
      "Hijo 4 Bin: 010110\n"
     ]
    }
   ],
   "source": [
    "parejas = parejas_rank(df1)\n",
    "hijos_binarios = cruza_corte(parejas, 3)\n",
    "\n",
    "for idx, (p1, p2) in enumerate(parejas):\n",
    "    print(f\"Pareja {idx+1}:\")\n",
    "    print(\"Padre 1 Bin:\", p1['Bin'])\n",
    "    print(\"Padre 2 Bin:\", p2['Bin'])\n",
    "    print(\"---\")\n",
    "\n",
    "for idx, hijo_bin in enumerate(hijos_binarios):\n",
    "    print(f\"Hijo {idx+1} Bin:\", hijo_bin)"
   ]
  },
  {
   "cell_type": "code",
   "execution_count": 52,
   "metadata": {},
   "outputs": [],
   "source": [
    "gen1 = pd.DataFrame(hijos_binarios, columns=['Bin'])\n",
    "gen1['Valor'] = gen1['Bin'].apply(lambda b: bin2val(b, valores))\n",
    "gen1['fitness'] = gen1['Valor']**2\n",
    "\n",
    "gen1_r = pd.concat([df_rs, gen1], ignore_index=True)"
   ]
  },
  {
   "cell_type": "code",
   "execution_count": 53,
   "metadata": {},
   "outputs": [
    {
     "data": {
      "text/html": [
       "<div>\n",
       "<style scoped>\n",
       "    .dataframe tbody tr th:only-of-type {\n",
       "        vertical-align: middle;\n",
       "    }\n",
       "\n",
       "    .dataframe tbody tr th {\n",
       "        vertical-align: top;\n",
       "    }\n",
       "\n",
       "    .dataframe thead th {\n",
       "        text-align: right;\n",
       "    }\n",
       "</style>\n",
       "<table border=\"1\" class=\"dataframe\">\n",
       "  <thead>\n",
       "    <tr style=\"text-align: right;\">\n",
       "      <th></th>\n",
       "      <th>Bin</th>\n",
       "      <th>Valor</th>\n",
       "      <th>fitness</th>\n",
       "    </tr>\n",
       "  </thead>\n",
       "  <tbody>\n",
       "    <tr>\n",
       "      <th>0</th>\n",
       "      <td>111011</td>\n",
       "      <td>0.873016</td>\n",
       "      <td>0.762157</td>\n",
       "    </tr>\n",
       "    <tr>\n",
       "      <th>4</th>\n",
       "      <td>111001</td>\n",
       "      <td>0.809524</td>\n",
       "      <td>0.655329</td>\n",
       "    </tr>\n",
       "    <tr>\n",
       "      <th>6</th>\n",
       "      <td>001001</td>\n",
       "      <td>-0.714286</td>\n",
       "      <td>0.510204</td>\n",
       "    </tr>\n",
       "    <tr>\n",
       "      <th>1</th>\n",
       "      <td>001001</td>\n",
       "      <td>-0.714286</td>\n",
       "      <td>0.510204</td>\n",
       "    </tr>\n",
       "    <tr>\n",
       "      <th>5</th>\n",
       "      <td>001011</td>\n",
       "      <td>-0.650794</td>\n",
       "      <td>0.423532</td>\n",
       "    </tr>\n",
       "    <tr>\n",
       "      <th>2</th>\n",
       "      <td>001110</td>\n",
       "      <td>-0.555556</td>\n",
       "      <td>0.308642</td>\n",
       "    </tr>\n",
       "    <tr>\n",
       "      <th>3</th>\n",
       "      <td>010001</td>\n",
       "      <td>-0.460317</td>\n",
       "      <td>0.211892</td>\n",
       "    </tr>\n",
       "    <tr>\n",
       "      <th>7</th>\n",
       "      <td>010110</td>\n",
       "      <td>-0.301587</td>\n",
       "      <td>0.090955</td>\n",
       "    </tr>\n",
       "  </tbody>\n",
       "</table>\n",
       "</div>"
      ],
      "text/plain": [
       "      Bin     Valor   fitness\n",
       "0  111011  0.873016  0.762157\n",
       "4  111001  0.809524  0.655329\n",
       "6  001001 -0.714286  0.510204\n",
       "1  001001 -0.714286  0.510204\n",
       "5  001011 -0.650794  0.423532\n",
       "2  001110 -0.555556  0.308642\n",
       "3  010001 -0.460317  0.211892\n",
       "7  010110 -0.301587  0.090955"
      ]
     },
     "metadata": {},
     "output_type": "display_data"
    }
   ],
   "source": [
    "gen1_r.sort_values(by='fitness', ascending=False, inplace=True)\n",
    "display(gen1_r)"
   ]
  },
  {
   "cell_type": "markdown",
   "metadata": {},
   "source": [
    "### Torneo\n",
    "\n",
    "En una lista de n elementos formaremos parejas la siguiente manera:  \n",
    "(1 - n), (2 - n-1), (3 - n-2) y asi sucesivamente"
   ]
  },
  {
   "cell_type": "code",
   "execution_count": 54,
   "metadata": {},
   "outputs": [
    {
     "data": {
      "text/html": [
       "<div>\n",
       "<style scoped>\n",
       "    .dataframe tbody tr th:only-of-type {\n",
       "        vertical-align: middle;\n",
       "    }\n",
       "\n",
       "    .dataframe tbody tr th {\n",
       "        vertical-align: top;\n",
       "    }\n",
       "\n",
       "    .dataframe thead th {\n",
       "        text-align: right;\n",
       "    }\n",
       "</style>\n",
       "<table border=\"1\" class=\"dataframe\">\n",
       "  <thead>\n",
       "    <tr style=\"text-align: right;\">\n",
       "      <th></th>\n",
       "      <th>Bin</th>\n",
       "      <th>Valor</th>\n",
       "      <th>fitness</th>\n",
       "    </tr>\n",
       "  </thead>\n",
       "  <tbody>\n",
       "    <tr>\n",
       "      <th>0</th>\n",
       "      <td>010001</td>\n",
       "      <td>-0.460317</td>\n",
       "      <td>0.211892</td>\n",
       "    </tr>\n",
       "    <tr>\n",
       "      <th>1</th>\n",
       "      <td>101100</td>\n",
       "      <td>0.396825</td>\n",
       "      <td>0.157470</td>\n",
       "    </tr>\n",
       "    <tr>\n",
       "      <th>2</th>\n",
       "      <td>101001</td>\n",
       "      <td>0.301587</td>\n",
       "      <td>0.090955</td>\n",
       "    </tr>\n",
       "    <tr>\n",
       "      <th>3</th>\n",
       "      <td>011001</td>\n",
       "      <td>-0.206349</td>\n",
       "      <td>0.042580</td>\n",
       "    </tr>\n",
       "    <tr>\n",
       "      <th>4</th>\n",
       "      <td>100110</td>\n",
       "      <td>0.206349</td>\n",
       "      <td>0.042580</td>\n",
       "    </tr>\n",
       "    <tr>\n",
       "      <th>5</th>\n",
       "      <td>011100</td>\n",
       "      <td>-0.111111</td>\n",
       "      <td>0.012346</td>\n",
       "    </tr>\n",
       "  </tbody>\n",
       "</table>\n",
       "</div>"
      ],
      "text/plain": [
       "      Bin     Valor   fitness\n",
       "0  010001 -0.460317  0.211892\n",
       "1  101100  0.396825  0.157470\n",
       "2  101001  0.301587  0.090955\n",
       "3  011001 -0.206349  0.042580\n",
       "4  100110  0.206349  0.042580\n",
       "5  011100 -0.111111  0.012346"
      ]
     },
     "metadata": {},
     "output_type": "display_data"
    }
   ],
   "source": [
    "df_ts = df2.reset_index(drop=True)\n",
    "display(df_ts)"
   ]
  },
  {
   "cell_type": "code",
   "execution_count": 56,
   "metadata": {},
   "outputs": [
    {
     "name": "stdout",
     "output_type": "stream",
     "text": [
      "Pareja 1:\n",
      "Padre 1 Bin: 010001\n",
      "Padre 2 Bin: 011100\n",
      "---\n",
      "Pareja 2:\n",
      "Padre 1 Bin: 101100\n",
      "Padre 2 Bin: 100110\n",
      "---\n",
      "Pareja 3:\n",
      "Padre 1 Bin: 101001\n",
      "Padre 2 Bin: 011001\n",
      "---\n",
      "Hijo 1 Bin: 010100\n",
      "Hijo 2 Bin: 011001\n",
      "Hijo 3 Bin: 101110\n",
      "Hijo 4 Bin: 100100\n",
      "Hijo 5 Bin: 101001\n",
      "Hijo 6 Bin: 011001\n"
     ]
    }
   ],
   "source": [
    "def parejas_tournament(df):\n",
    "    df_rs = df.reset_index(drop=True)\n",
    "    parejas = []\n",
    "    n = len(df_rs)\n",
    "    for i in range(n // 2):\n",
    "        pareja = (df_rs.iloc[i], df_rs.iloc[n - 1 - i])\n",
    "        parejas.append(pareja)\n",
    "    return parejas\n",
    "\n",
    "parejas = parejas_tournament(df2)\n",
    "hijos_binarios = cruza_corte(parejas, 3)\n",
    "for idx, (p1, p2) in enumerate(parejas):\n",
    "    print(f\"Pareja {idx+1}:\")\n",
    "    print(\"Padre 1 Bin:\", p1['Bin'])\n",
    "    print(\"Padre 2 Bin:\", p2['Bin'])\n",
    "    print(\"---\")\n",
    "\n",
    "for idx, hijo_bin in enumerate(hijos_binarios):\n",
    "    print(f\"Hijo {idx+1} Bin:\", hijo_bin)"
   ]
  },
  {
   "cell_type": "code",
   "execution_count": 57,
   "metadata": {},
   "outputs": [
    {
     "data": {
      "text/html": [
       "<div>\n",
       "<style scoped>\n",
       "    .dataframe tbody tr th:only-of-type {\n",
       "        vertical-align: middle;\n",
       "    }\n",
       "\n",
       "    .dataframe tbody tr th {\n",
       "        vertical-align: top;\n",
       "    }\n",
       "\n",
       "    .dataframe thead th {\n",
       "        text-align: right;\n",
       "    }\n",
       "</style>\n",
       "<table border=\"1\" class=\"dataframe\">\n",
       "  <thead>\n",
       "    <tr style=\"text-align: right;\">\n",
       "      <th></th>\n",
       "      <th>Bin</th>\n",
       "      <th>Valor</th>\n",
       "      <th>fitness</th>\n",
       "    </tr>\n",
       "  </thead>\n",
       "  <tbody>\n",
       "    <tr>\n",
       "      <th>0</th>\n",
       "      <td>010001</td>\n",
       "      <td>-0.460317</td>\n",
       "      <td>0.211892</td>\n",
       "    </tr>\n",
       "    <tr>\n",
       "      <th>1</th>\n",
       "      <td>101100</td>\n",
       "      <td>0.396825</td>\n",
       "      <td>0.157470</td>\n",
       "    </tr>\n",
       "    <tr>\n",
       "      <th>2</th>\n",
       "      <td>101001</td>\n",
       "      <td>0.301587</td>\n",
       "      <td>0.090955</td>\n",
       "    </tr>\n",
       "    <tr>\n",
       "      <th>3</th>\n",
       "      <td>011001</td>\n",
       "      <td>-0.206349</td>\n",
       "      <td>0.042580</td>\n",
       "    </tr>\n",
       "    <tr>\n",
       "      <th>4</th>\n",
       "      <td>100110</td>\n",
       "      <td>0.206349</td>\n",
       "      <td>0.042580</td>\n",
       "    </tr>\n",
       "    <tr>\n",
       "      <th>5</th>\n",
       "      <td>011100</td>\n",
       "      <td>-0.111111</td>\n",
       "      <td>0.012346</td>\n",
       "    </tr>\n",
       "    <tr>\n",
       "      <th>6</th>\n",
       "      <td>010100</td>\n",
       "      <td>-0.365079</td>\n",
       "      <td>0.133283</td>\n",
       "    </tr>\n",
       "    <tr>\n",
       "      <th>7</th>\n",
       "      <td>011001</td>\n",
       "      <td>-0.206349</td>\n",
       "      <td>0.042580</td>\n",
       "    </tr>\n",
       "    <tr>\n",
       "      <th>8</th>\n",
       "      <td>101110</td>\n",
       "      <td>0.460317</td>\n",
       "      <td>0.211892</td>\n",
       "    </tr>\n",
       "    <tr>\n",
       "      <th>9</th>\n",
       "      <td>100100</td>\n",
       "      <td>0.142857</td>\n",
       "      <td>0.020408</td>\n",
       "    </tr>\n",
       "    <tr>\n",
       "      <th>10</th>\n",
       "      <td>101001</td>\n",
       "      <td>0.301587</td>\n",
       "      <td>0.090955</td>\n",
       "    </tr>\n",
       "    <tr>\n",
       "      <th>11</th>\n",
       "      <td>011001</td>\n",
       "      <td>-0.206349</td>\n",
       "      <td>0.042580</td>\n",
       "    </tr>\n",
       "  </tbody>\n",
       "</table>\n",
       "</div>"
      ],
      "text/plain": [
       "       Bin     Valor   fitness\n",
       "0   010001 -0.460317  0.211892\n",
       "1   101100  0.396825  0.157470\n",
       "2   101001  0.301587  0.090955\n",
       "3   011001 -0.206349  0.042580\n",
       "4   100110  0.206349  0.042580\n",
       "5   011100 -0.111111  0.012346\n",
       "6   010100 -0.365079  0.133283\n",
       "7   011001 -0.206349  0.042580\n",
       "8   101110  0.460317  0.211892\n",
       "9   100100  0.142857  0.020408\n",
       "10  101001  0.301587  0.090955\n",
       "11  011001 -0.206349  0.042580"
      ]
     },
     "metadata": {},
     "output_type": "display_data"
    }
   ],
   "source": [
    "gen1_t = pd.DataFrame(hijos_binarios, columns=['Bin'])\n",
    "gen1_t['Valor'] = gen1_t['Bin'].apply(lambda b: bin2val(b, valores))\n",
    "gen1_t['fitness'] = gen1_t['Valor']**2\n",
    "\n",
    "gen1_t = pd.concat([df_ts, gen1_t], ignore_index=True)\n",
    "display(gen1_t)"
   ]
  },
  {
   "cell_type": "markdown",
   "metadata": {},
   "source": [
    "Una vez que hemos hecho nuestras dos cruzas uniremos toda nuestra poblacion y obtenemos nuestros datos de control"
   ]
  },
  {
   "cell_type": "code",
   "execution_count": 58,
   "metadata": {},
   "outputs": [
    {
     "data": {
      "text/html": [
       "<div>\n",
       "<style scoped>\n",
       "    .dataframe tbody tr th:only-of-type {\n",
       "        vertical-align: middle;\n",
       "    }\n",
       "\n",
       "    .dataframe tbody tr th {\n",
       "        vertical-align: top;\n",
       "    }\n",
       "\n",
       "    .dataframe thead th {\n",
       "        text-align: right;\n",
       "    }\n",
       "</style>\n",
       "<table border=\"1\" class=\"dataframe\">\n",
       "  <thead>\n",
       "    <tr style=\"text-align: right;\">\n",
       "      <th></th>\n",
       "      <th>Bin</th>\n",
       "      <th>Valor</th>\n",
       "      <th>fitness</th>\n",
       "    </tr>\n",
       "  </thead>\n",
       "  <tbody>\n",
       "    <tr>\n",
       "      <th>0</th>\n",
       "      <td>111011</td>\n",
       "      <td>0.873016</td>\n",
       "      <td>0.762157</td>\n",
       "    </tr>\n",
       "    <tr>\n",
       "      <th>1</th>\n",
       "      <td>111001</td>\n",
       "      <td>0.809524</td>\n",
       "      <td>0.655329</td>\n",
       "    </tr>\n",
       "    <tr>\n",
       "      <th>2</th>\n",
       "      <td>001001</td>\n",
       "      <td>-0.714286</td>\n",
       "      <td>0.510204</td>\n",
       "    </tr>\n",
       "    <tr>\n",
       "      <th>3</th>\n",
       "      <td>001001</td>\n",
       "      <td>-0.714286</td>\n",
       "      <td>0.510204</td>\n",
       "    </tr>\n",
       "    <tr>\n",
       "      <th>4</th>\n",
       "      <td>001011</td>\n",
       "      <td>-0.650794</td>\n",
       "      <td>0.423532</td>\n",
       "    </tr>\n",
       "    <tr>\n",
       "      <th>5</th>\n",
       "      <td>001110</td>\n",
       "      <td>-0.555556</td>\n",
       "      <td>0.308642</td>\n",
       "    </tr>\n",
       "    <tr>\n",
       "      <th>6</th>\n",
       "      <td>010001</td>\n",
       "      <td>-0.460317</td>\n",
       "      <td>0.211892</td>\n",
       "    </tr>\n",
       "    <tr>\n",
       "      <th>7</th>\n",
       "      <td>010001</td>\n",
       "      <td>-0.460317</td>\n",
       "      <td>0.211892</td>\n",
       "    </tr>\n",
       "    <tr>\n",
       "      <th>8</th>\n",
       "      <td>101110</td>\n",
       "      <td>0.460317</td>\n",
       "      <td>0.211892</td>\n",
       "    </tr>\n",
       "    <tr>\n",
       "      <th>9</th>\n",
       "      <td>101100</td>\n",
       "      <td>0.396825</td>\n",
       "      <td>0.157470</td>\n",
       "    </tr>\n",
       "    <tr>\n",
       "      <th>10</th>\n",
       "      <td>010100</td>\n",
       "      <td>-0.365079</td>\n",
       "      <td>0.133283</td>\n",
       "    </tr>\n",
       "    <tr>\n",
       "      <th>11</th>\n",
       "      <td>010110</td>\n",
       "      <td>-0.301587</td>\n",
       "      <td>0.090955</td>\n",
       "    </tr>\n",
       "    <tr>\n",
       "      <th>12</th>\n",
       "      <td>101001</td>\n",
       "      <td>0.301587</td>\n",
       "      <td>0.090955</td>\n",
       "    </tr>\n",
       "    <tr>\n",
       "      <th>13</th>\n",
       "      <td>101001</td>\n",
       "      <td>0.301587</td>\n",
       "      <td>0.090955</td>\n",
       "    </tr>\n",
       "    <tr>\n",
       "      <th>14</th>\n",
       "      <td>011001</td>\n",
       "      <td>-0.206349</td>\n",
       "      <td>0.042580</td>\n",
       "    </tr>\n",
       "    <tr>\n",
       "      <th>15</th>\n",
       "      <td>011001</td>\n",
       "      <td>-0.206349</td>\n",
       "      <td>0.042580</td>\n",
       "    </tr>\n",
       "    <tr>\n",
       "      <th>16</th>\n",
       "      <td>011001</td>\n",
       "      <td>-0.206349</td>\n",
       "      <td>0.042580</td>\n",
       "    </tr>\n",
       "    <tr>\n",
       "      <th>17</th>\n",
       "      <td>100110</td>\n",
       "      <td>0.206349</td>\n",
       "      <td>0.042580</td>\n",
       "    </tr>\n",
       "    <tr>\n",
       "      <th>18</th>\n",
       "      <td>100100</td>\n",
       "      <td>0.142857</td>\n",
       "      <td>0.020408</td>\n",
       "    </tr>\n",
       "    <tr>\n",
       "      <th>19</th>\n",
       "      <td>011100</td>\n",
       "      <td>-0.111111</td>\n",
       "      <td>0.012346</td>\n",
       "    </tr>\n",
       "  </tbody>\n",
       "</table>\n",
       "</div>"
      ],
      "text/plain": [
       "       Bin     Valor   fitness\n",
       "0   111011  0.873016  0.762157\n",
       "1   111001  0.809524  0.655329\n",
       "2   001001 -0.714286  0.510204\n",
       "3   001001 -0.714286  0.510204\n",
       "4   001011 -0.650794  0.423532\n",
       "5   001110 -0.555556  0.308642\n",
       "6   010001 -0.460317  0.211892\n",
       "7   010001 -0.460317  0.211892\n",
       "8   101110  0.460317  0.211892\n",
       "9   101100  0.396825  0.157470\n",
       "10  010100 -0.365079  0.133283\n",
       "11  010110 -0.301587  0.090955\n",
       "12  101001  0.301587  0.090955\n",
       "13  101001  0.301587  0.090955\n",
       "14  011001 -0.206349  0.042580\n",
       "15  011001 -0.206349  0.042580\n",
       "16  011001 -0.206349  0.042580\n",
       "17  100110  0.206349  0.042580\n",
       "18  100100  0.142857  0.020408\n",
       "19  011100 -0.111111  0.012346"
      ]
     },
     "metadata": {},
     "output_type": "display_data"
    }
   ],
   "source": [
    "gen1 = pd.concat([gen1_r, gen1_t], ignore_index=True)\n",
    "gen1.sort_values(by='fitness', ascending=False, inplace=True)\n",
    "gen1.reset_index(drop=True, inplace=True)\n",
    "display(gen1)"
   ]
  },
  {
   "cell_type": "markdown",
   "metadata": {},
   "source": [
    "De estos tomaremos solo los 10 más aptos que pasaran a la siguiente generacion."
   ]
  },
  {
   "cell_type": "code",
   "execution_count": 59,
   "metadata": {},
   "outputs": [
    {
     "name": "stdout",
     "output_type": "stream",
     "text": [
      "      Bin     Valor   fitness\n",
      "0  111011  0.873016  0.762157\n",
      "1  111001  0.809524  0.655329\n",
      "2  001001 -0.714286  0.510204\n",
      "3  001001 -0.714286  0.510204\n",
      "4  001011 -0.650794  0.423532\n",
      "5  001110 -0.555556  0.308642\n",
      "6  010001 -0.460317  0.211892\n",
      "7  010001 -0.460317  0.211892\n",
      "8  101110  0.460317  0.211892\n",
      "9  101100  0.396825  0.157470\n"
     ]
    }
   ],
   "source": [
    "gen1 = gen1.iloc[:10]\n",
    "print(gen1)"
   ]
  },
  {
   "cell_type": "code",
   "execution_count": 60,
   "metadata": {},
   "outputs": [],
   "source": [
    "Top_Fitness.append(gen1['fitness'].max())\n",
    "Avg_Fitness.append(gen1['fitness'].mean())"
   ]
  },
  {
   "cell_type": "code",
   "execution_count": 62,
   "metadata": {},
   "outputs": [
    {
     "name": "stdout",
     "output_type": "stream",
     "text": [
      "Top Fitness: [np.float64(0.762156714537667), np.float64(0.762156714537667)]\n",
      "Avg Fitness: [np.float64(0.23507180650037793), np.float64(0.39632149155958674)]\n"
     ]
    }
   ],
   "source": [
    "print(f'Top Fitness: {Top_Fitness}')\n",
    "print(f'Avg Fitness: {Avg_Fitness}')"
   ]
  },
  {
   "cell_type": "markdown",
   "metadata": {},
   "source": [
    "Esto marca el final de nuestra primera generacion ya que se hizo la cruza y nos quedamos con los 10 mayormente aptos, con lo hecho anteriormente ahora solo queda repetir el proceso hasta completar el criterio de paro."
   ]
  },
  {
   "cell_type": "code",
   "execution_count": 63,
   "metadata": {
    "id": "MRpANU28Crv7"
   },
   "outputs": [],
   "source": [
    "for i in range(5): # Repetir el proceso de selección, cruza y reemplazo\n",
    "    # Rank\n",
    "    df1 = gen1.iloc[:4]\n",
    "    # torneo\n",
    "    df2 = gen1.iloc[4:10]\n",
    "\n",
    "\n",
    "    # Cruza por rank\n",
    "    parejas = parejas_rank(df1)\n",
    "    hijos_binarios = cruza_corte(parejas, 3)\n",
    "    gen1_r = pd.DataFrame(hijos_binarios, columns=['Bin'])\n",
    "    gen1_r['Valor'] = gen1_r['Bin'].apply(lambda b: bin2val(b, valores))\n",
    "    gen1_r['fitness'] = gen1_r['Valor']**2\n",
    "    gen1_r = pd.concat([df1.reset_index(drop=True), gen1_r], ignore_index=True)\n",
    "\n",
    "    # Cruza por torneo\n",
    "    parejas = parejas_tournament(df2)\n",
    "    hijos_binarios = cruza_corte(parejas, 3)\n",
    "    gen1_t = pd.DataFrame(hijos_binarios, columns=['Bin'])\n",
    "    gen1_t['Valor'] = gen1_t['Bin'].apply(lambda b: bin2val(b, valores))\n",
    "    gen1_t['fitness'] = gen1_t['Valor']**2\n",
    "    gen1_t = pd.concat([df2.reset_index(drop=True), gen1_t], ignore_index=True)\n",
    "\n",
    "\n",
    "    # Unir y seleccionar los mejores 10\n",
    "    gen1 = pd.concat([gen1_r, gen1_t], ignore_index=True)\n",
    "    gen1.sort_values(by='fitness', ascending=False, inplace=True)\n",
    "    gen1.reset_index(drop=True, inplace=True)\n",
    "    gen1 = gen1.iloc[:10]\n",
    "    # Registrar estadísticas\n",
    "    Top_Fitness.append(gen1['fitness'].max())\n",
    "    Avg_Fitness.append(gen1['fitness'].mean())"
   ]
  },
  {
   "cell_type": "code",
   "execution_count": 65,
   "metadata": {},
   "outputs": [
    {
     "name": "stdout",
     "output_type": "stream",
     "text": [
      "      Bin     Valor   fitness\n",
      "0  111011  0.873016  0.762157\n",
      "1  111011  0.873016  0.762157\n",
      "2  111011  0.873016  0.762157\n",
      "3  111011  0.873016  0.762157\n",
      "4  111011  0.873016  0.762157\n",
      "5  111011  0.873016  0.762157\n",
      "6  111011  0.873016  0.762157\n",
      "7  111011  0.873016  0.762157\n",
      "8  111011  0.873016  0.762157\n",
      "9  111011  0.873016  0.762157\n"
     ]
    }
   ],
   "source": [
    "print(gen1)"
   ]
  },
  {
   "cell_type": "code",
   "execution_count": 64,
   "metadata": {},
   "outputs": [
    {
     "name": "stdout",
     "output_type": "stream",
     "text": [
      "Top Fitness: [np.float64(0.762156714537667), np.float64(0.762156714537667), np.float64(0.762156714537667), np.float64(0.762156714537667), np.float64(0.762156714537667), np.float64(0.762156714537667), np.float64(0.762156714537667)]\n",
      "Avg Fitness: [np.float64(0.23507180650037793), np.float64(0.39632149155958674), np.float64(0.5682539682539682), np.float64(0.6690350214159737), np.float64(0.7407911312673217), np.float64(0.7621567145376671), np.float64(0.7621567145376671)]\n"
     ]
    }
   ],
   "source": [
    "print(f'Top Fitness: {Top_Fitness}')\n",
    "print(f'Avg Fitness: {Avg_Fitness}')"
   ]
  },
  {
   "cell_type": "code",
   "execution_count": null,
   "metadata": {},
   "outputs": [
    {
     "data": {
      "image/png": "[encoded data removed]",
      "text/plain": [
       "<Figure size 640x480 with 1 Axes>"
      ]
     },
     "metadata": {},
     "output_type": "display_data"
    }
   ],
   "source": [
    "plt.plot(Top_Fitness, label='Top Fitness')\n",
    "plt.plot(Avg_Fitness, label='Avg Fitness')\n",
    "plt.xlabel('Generación')\n",
    "plt.ylabel('Fitness')\n",
    "plt.legend()\n",
    "plt.show()"
   ]
  },
  {
   "cell_type": "code",
   "execution_count": 68,
   "metadata": {},
   "outputs": [
    {
     "data": {
      "image/png": "[encoded data removed]",
      "text/plain": [
       "<Figure size 640x480 with 1 Axes>"
      ]
     },
     "metadata": {},
     "output_type": "display_data"
    }
   ],
   "source": [
    "# Rango de x\n",
    "x = np.linspace(-1, 1, 200)\n",
    "y = x**2\n",
    "\n",
    "# Lista de puntos (ejemplo: dos puntos en (0.5, 0.25) y (-0.7, 0.49))\n",
    "puntos = [(0.5, 0.5**2), (-0.7, (-0.7)**2)]\n",
    "\n",
    "# Graficar la función\n",
    "plt.plot(x, y, label='$y = x^2$')\n",
    "\n",
    "# Marcar los puntos\n",
    "for px, py in puntos:\n",
    "    plt.scatter(px, py, color='red', s=50, zorder=5)  # punto\n",
    "    plt.text(px, py + 0.02, f\"({px:.2f}, {py:.2f})\", ha='center')  # etiqueta\n",
    "\n",
    "plt.xlabel(\"x\")\n",
    "plt.ylabel(\"y\")\n",
    "plt.title(\"Gráfica de y = x^2 con puntos marcados\")\n",
    "plt.legend()\n",
    "plt.grid(True)\n",
    "plt.show()"
   ]
  }
 ],
 "metadata": {
  "colab": {
   "authorship_tag": "ABX9TyNMcIDsMX6NCfac0VhLZM9O",
   "provenance": []
  },
  "kernelspec": {
   "display_name": "Python 3",
   "name": "python3"
  },
  "language_info": {
   "codemirror_mode": {
    "name": "ipython",
    "version": 3
   },
   "file_extension": ".py",
   "mimetype": "text/x-python",
   "name": "python",
   "nbconvert_exporter": "python",
   "pygments_lexer": "ipython3",
   "version": "3.12.7"
  }
 },
 "nbformat": 4,
 "nbformat_minor": 0
}
