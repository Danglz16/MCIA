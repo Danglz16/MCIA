{
 "cells": [
  {
   "cell_type": "code",
   "execution_count": 1,
   "id": "5f2e9b5c",
   "metadata": {},
   "outputs": [],
   "source": [
    "import pandas as pd"
   ]
  },
  {
   "cell_type": "code",
   "execution_count": 2,
   "id": "073e2a26",
   "metadata": {},
   "outputs": [
    {
     "name": "stdout",
     "output_type": "stream",
     "text": [
      "link           3599\n",
      "title          3599\n",
      "description    3599\n",
      "category       3599\n",
      "dtype: int64\n"
     ]
    },
    {
     "data": {
      "application/vnd.microsoft.datawrangler.viewer.v0+json": {
       "columns": [
        {
         "name": "index",
         "rawType": "int64",
         "type": "integer"
        },
        {
         "name": "link",
         "rawType": "object",
         "type": "string"
        },
        {
         "name": "title",
         "rawType": "object",
         "type": "string"
        },
        {
         "name": "description",
         "rawType": "object",
         "type": "string"
        },
        {
         "name": "category",
         "rawType": "object",
         "type": "string"
        }
       ],
       "ref": "c4be4e1c-0376-4697-8997-56cc7f05689e",
       "rows": [
        [
         "0",
         "JLZlCZ0",
         "Ep 1| Travelling through North East India | Off To Arunachal | The Journey Begins | Pasighat",
         "Tanya Khanijow\r\n671K subscribers\r\nSUBSCRIBE\r\nThe journey to Arunachal, North East India begins with a train journey from Guwahati to Murkongselek. From here we head to Pasighat. And I and my travel companions are just getting started by exploring the tiny glimpse of Arunachal that we have so far. From markets to bridges, the adventure will only get better from here. :)\r\n\r\nNext Video: \r\nSHOW MORE",
         "travel"
        ],
        [
         "1",
         "i9E_Blai8vk",
         "Welcome to Bali | Travel Vlog | Priscilla Lee",
         "Priscilla Lee\r\n45.6K subscribers\r\nSUBSCRIBE\r\n*DISCLAIMER* Please do not ride elephants when visiting any country. At the time I didn't know (yes, I was dumb) so it is shown in the video, but I do not support the elephant riding business anymore. If I could take it back I would, but instead I want to pass on the knowledge to anyone who isn't aware. Here's some info: \r\nSHOW MORE",
         "travel"
        ],
        [
         "2",
         "r284c-q8oY",
         "My Solo Trip to ALASKA | Cruising From Vancouver to Anchorage",
         "Allison Anderson\r\n588K subscribers\r\nSUBSCRIBE\r\nI spent 11 days cruising up the coast of Alaska and it was MAGICAL.\r\n•ALASKA BLOG POST: https://allisonanderson.com/blog/crui...\r\n•Adventures on INSTAGRAM http://www.instagram.com/photoallison\r\nSHOW MORE",
         "travel"
        ],
        [
         "3",
         "Qmi-Xwq-ME",
         "Traveling to the Happiest Country in the World!!",
         "Yes Theory\r\n6.65M subscribers\r\nSUBSCRIBE\r\n*BLACK FRIDAY DROP Out Now*: http://seek-discomfort.com/yes-theory \r\nThis week only, with every purchase about $35, you'll get 2 free Seek Discomfort flags!\r\n\r\nCheck out our friends from Beautiful Destinations!! Their videos are INCREDIBLE:\r\nSHOW MORE",
         "travel"
        ],
        [
         "4",
         "_lcOX55Ef70",
         "Solo in Paro Bhutan | Tiger's Nest visit | Bhutan Travel Guide | Bhutan Series Ep 1 | Tanya Khanijow",
         "Tanya Khanijow\r\n671K subscribers\r\nSUBSCRIBE\r\nHere’s presenting the first part of the Bhutan Series Episode in Paro. I went straight to Paro as first part of my road trip in the country. The drive from Phuntsholing took about 4 hours. \r\n \r\nThe entire budget of my Bhutan trip was close to  INR 25k. You can carry cash everywhere in Indian currency in Bhutan as it is accepted. Some things about Paro below:\r\n\r\n1. The place where I stayed at in Paro is called Ama’s Village Lodge. You can book the place here - \r\nSHOW MORE",
         "travel"
        ]
       ],
       "shape": {
        "columns": 4,
        "rows": 5
       }
      },
      "text/html": [
       "<div>\n",
       "<style scoped>\n",
       "    .dataframe tbody tr th:only-of-type {\n",
       "        vertical-align: middle;\n",
       "    }\n",
       "\n",
       "    .dataframe tbody tr th {\n",
       "        vertical-align: top;\n",
       "    }\n",
       "\n",
       "    .dataframe thead th {\n",
       "        text-align: right;\n",
       "    }\n",
       "</style>\n",
       "<table border=\"1\" class=\"dataframe\">\n",
       "  <thead>\n",
       "    <tr style=\"text-align: right;\">\n",
       "      <th></th>\n",
       "      <th>link</th>\n",
       "      <th>title</th>\n",
       "      <th>description</th>\n",
       "      <th>category</th>\n",
       "    </tr>\n",
       "  </thead>\n",
       "  <tbody>\n",
       "    <tr>\n",
       "      <th>0</th>\n",
       "      <td>JLZlCZ0</td>\n",
       "      <td>Ep 1| Travelling through North East India | Of...</td>\n",
       "      <td>Tanya Khanijow\\r\\n671K subscribers\\r\\nSUBSCRIB...</td>\n",
       "      <td>travel</td>\n",
       "    </tr>\n",
       "    <tr>\n",
       "      <th>1</th>\n",
       "      <td>i9E_Blai8vk</td>\n",
       "      <td>Welcome to Bali | Travel Vlog | Priscilla Lee</td>\n",
       "      <td>Priscilla Lee\\r\\n45.6K subscribers\\r\\nSUBSCRIB...</td>\n",
       "      <td>travel</td>\n",
       "    </tr>\n",
       "    <tr>\n",
       "      <th>2</th>\n",
       "      <td>r284c-q8oY</td>\n",
       "      <td>My Solo Trip to ALASKA | Cruising From Vancouv...</td>\n",
       "      <td>Allison Anderson\\r\\n588K subscribers\\r\\nSUBSCR...</td>\n",
       "      <td>travel</td>\n",
       "    </tr>\n",
       "    <tr>\n",
       "      <th>3</th>\n",
       "      <td>Qmi-Xwq-ME</td>\n",
       "      <td>Traveling to the Happiest Country in the World!!</td>\n",
       "      <td>Yes Theory\\r\\n6.65M subscribers\\r\\nSUBSCRIBE\\r...</td>\n",
       "      <td>travel</td>\n",
       "    </tr>\n",
       "    <tr>\n",
       "      <th>4</th>\n",
       "      <td>_lcOX55Ef70</td>\n",
       "      <td>Solo in Paro Bhutan | Tiger's Nest visit | Bhu...</td>\n",
       "      <td>Tanya Khanijow\\r\\n671K subscribers\\r\\nSUBSCRIB...</td>\n",
       "      <td>travel</td>\n",
       "    </tr>\n",
       "  </tbody>\n",
       "</table>\n",
       "</div>"
      ],
      "text/plain": [
       "          link                                              title  \\\n",
       "0      JLZlCZ0  Ep 1| Travelling through North East India | Of...   \n",
       "1  i9E_Blai8vk      Welcome to Bali | Travel Vlog | Priscilla Lee   \n",
       "2   r284c-q8oY  My Solo Trip to ALASKA | Cruising From Vancouv...   \n",
       "3   Qmi-Xwq-ME   Traveling to the Happiest Country in the World!!   \n",
       "4  _lcOX55Ef70  Solo in Paro Bhutan | Tiger's Nest visit | Bhu...   \n",
       "\n",
       "                                         description category  \n",
       "0  Tanya Khanijow\\r\\n671K subscribers\\r\\nSUBSCRIB...   travel  \n",
       "1  Priscilla Lee\\r\\n45.6K subscribers\\r\\nSUBSCRIB...   travel  \n",
       "2  Allison Anderson\\r\\n588K subscribers\\r\\nSUBSCR...   travel  \n",
       "3  Yes Theory\\r\\n6.65M subscribers\\r\\nSUBSCRIBE\\r...   travel  \n",
       "4  Tanya Khanijow\\r\\n671K subscribers\\r\\nSUBSCRIB...   travel  "
      ]
     },
     "metadata": {},
     "output_type": "display_data"
    }
   ],
   "source": [
    "df = pd.read_csv('DB/youtube.csv')\n",
    "\n",
    "print(df.count())\n",
    "display(df.head())"
   ]
  },
  {
   "cell_type": "markdown",
   "id": "52820d53",
   "metadata": {},
   "source": [
    "## Analisis Exploratorio"
   ]
  },
  {
   "cell_type": "code",
   "execution_count": 3,
   "id": "a75777c5",
   "metadata": {},
   "outputs": [
    {
     "name": "stdout",
     "output_type": "stream",
     "text": [
      "<class 'pandas.core.frame.DataFrame'>\n",
      "RangeIndex: 3599 entries, 0 to 3598\n",
      "Data columns (total 4 columns):\n",
      " #   Column       Non-Null Count  Dtype \n",
      "---  ------       --------------  ----- \n",
      " 0   link         3599 non-null   object\n",
      " 1   title        3599 non-null   object\n",
      " 2   description  3599 non-null   object\n",
      " 3   category     3599 non-null   object\n",
      "dtypes: object(4)\n",
      "memory usage: 112.6+ KB\n"
     ]
    }
   ],
   "source": [
    "df.info()"
   ]
  },
  {
   "cell_type": "markdown",
   "id": "3190ae6a",
   "metadata": {},
   "source": [
    "Podemos ver que no tenemos datos nulos"
   ]
  },
  {
   "cell_type": "code",
   "execution_count": 4,
   "id": "120ba8ee",
   "metadata": {},
   "outputs": [],
   "source": [
    "df_clean = df.copy()\n",
    "df_clean.drop_duplicates(inplace=True)"
   ]
  },
  {
   "cell_type": "code",
   "execution_count": 5,
   "id": "56de3caf",
   "metadata": {},
   "outputs": [
    {
     "data": {
      "application/vnd.microsoft.datawrangler.viewer.v0+json": {
       "columns": [
        {
         "name": "index",
         "rawType": "object",
         "type": "string"
        },
        {
         "name": "0",
         "rawType": "int64",
         "type": "integer"
        }
       ],
       "ref": "176f7ef9-41b3-4034-be13-798dfd8aa5f9",
       "rows": [
        [
         "link",
         "3500"
        ],
        [
         "title",
         "3500"
        ],
        [
         "description",
         "3500"
        ],
        [
         "category",
         "3500"
        ]
       ],
       "shape": {
        "columns": 1,
        "rows": 4
       }
      },
      "text/plain": [
       "link           3500\n",
       "title          3500\n",
       "description    3500\n",
       "category       3500\n",
       "dtype: int64"
      ]
     },
     "execution_count": 5,
     "metadata": {},
     "output_type": "execute_result"
    }
   ],
   "source": [
    "df_clean.count()"
   ]
  },
  {
   "cell_type": "code",
   "execution_count": 6,
   "id": "65a2b2b9",
   "metadata": {},
   "outputs": [
    {
     "name": "stdout",
     "output_type": "stream",
     "text": [
      "Categorías únicas:\n",
      "['travel' 'food' 'art_music' 'history']\n"
     ]
    }
   ],
   "source": [
    "print(\"Categorías únicas:\")\n",
    "print(df_clean['category'].unique())"
   ]
  },
  {
   "cell_type": "code",
   "execution_count": 7,
   "id": "dd1e9463",
   "metadata": {},
   "outputs": [
    {
     "name": "stdout",
     "output_type": "stream",
     "text": [
      "travel: 1128\n",
      "food: 887\n",
      "art_music: 897\n",
      "history: 588\n"
     ]
    }
   ],
   "source": [
    "travel_count = df_clean[df_clean['category'] == 'travel'].shape[0]\n",
    "print(\"travel:\", travel_count)\n",
    "\n",
    "food_count = df_clean[df_clean['category'] == 'food'].shape[0]\n",
    "print(\"food:\", food_count)\n",
    "\n",
    "art_music_count = df_clean[df_clean['category'] == 'art_music'].shape[0]\n",
    "print(\"art_music:\", art_music_count)\n",
    "\n",
    "history_count = df_clean[df_clean['category'] == 'history'].shape[0]\n",
    "print(\"history:\", history_count)"
   ]
  },
  {
   "cell_type": "markdown",
   "id": "a35aba07",
   "metadata": {},
   "source": [
    "Como podemos ver nuestras categorias no estan balanceadas, siendo mas las de 'travel' que son casi el doble de las de 'history'"
   ]
  },
  {
   "cell_type": "markdown",
   "id": "3a5080bb",
   "metadata": {},
   "source": [
    "Longitud de caracteres por titulo y descripcion"
   ]
  },
  {
   "cell_type": "code",
   "execution_count": 11,
   "id": "24175f23",
   "metadata": {},
   "outputs": [
    {
     "name": "stdout",
     "output_type": "stream",
     "text": [
      "Titulo\n",
      "Promedio: 67.46685714285714\n",
      "Mínimo: 6\n",
      "Máximo: 101\n"
     ]
    }
   ],
   "source": [
    "title_lengths = df_clean['title'].str.len()\n",
    "print(\"Titulo\")\n",
    "print(\"Promedio:\", title_lengths.mean())\n",
    "print(\"Mínimo:\", title_lengths.min())\n",
    "print(\"Máximo:\", title_lengths.max())\n"
   ]
  },
  {
   "cell_type": "code",
   "execution_count": 12,
   "id": "b6b32752",
   "metadata": {},
   "outputs": [
    {
     "name": "stdout",
     "output_type": "stream",
     "text": [
      "Descripción\n",
      "Promedio: 428.13685714285714\n",
      "Mínimo: 23\n",
      "Máximo: 5239\n"
     ]
    }
   ],
   "source": [
    "title_lengths = df_clean['description'].str.len()\n",
    "print(\"Descripción\")\n",
    "print(\"Promedio:\", title_lengths.mean())\n",
    "print(\"Mínimo:\", title_lengths.min())\n",
    "print(\"Máximo:\", title_lengths.max())"
   ]
  },
  {
   "cell_type": "code",
   "execution_count": null,
   "id": "31852669",
   "metadata": {},
   "outputs": [],
   "source": []
  }
 ],
 "metadata": {
  "kernelspec": {
   "display_name": "Python 3",
   "language": "python",
   "name": "python3"
  },
  "language_info": {
   "codemirror_mode": {
    "name": "ipython",
    "version": 3
   },
   "file_extension": ".py",
   "mimetype": "text/x-python",
   "name": "python",
   "nbconvert_exporter": "python",
   "pygments_lexer": "ipython3",
   "version": "3.12.7"
  }
 },
 "nbformat": 4,
 "nbformat_minor": 5
}
