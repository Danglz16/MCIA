{
 "cells": [
  {
   "cell_type": "code",
   "execution_count": 1,
   "id": "5f2e9b5c",
   "metadata": {},
   "outputs": [],
   "source": [
    "import pandas as pd"
   ]
  },
  {
   "cell_type": "code",
   "execution_count": 19,
   "id": "073e2a26",
   "metadata": {},
   "outputs": [
    {
     "name": "stdout",
     "output_type": "stream",
     "text": [
      "link           3599\n",
      "title          3599\n",
      "description    3599\n",
      "category       3599\n",
      "dtype: int64\n"
     ]
    },
    {
     "data": {
      "application/vnd.microsoft.datawrangler.viewer.v0+json": {
       "columns": [
        {
         "name": "index",
         "rawType": "int64",
         "type": "integer"
        },
        {
         "name": "link",
         "rawType": "object",
         "type": "string"
        },
        {
         "name": "title",
         "rawType": "object",
         "type": "string"
        },
        {
         "name": "description",
         "rawType": "object",
         "type": "string"
        },
        {
         "name": "category",
         "rawType": "object",
         "type": "string"
        }
       ],
       "ref": "5fe0d21d-5064-4a0c-af49-a72c7b215c8e",
       "rows": [
        [
         "0",
         "JLZlCZ0",
         "Ep 1| Travelling through North East India | Off To Arunachal | The Journey Begins | Pasighat",
         "Tanya Khanijow\n671K subscribers\nSUBSCRIBE\nThe journey to Arunachal, North East India begins with a train journey from Guwahati to Murkongselek. From here we head to Pasighat. And I and my travel companions are just getting started by exploring the tiny glimpse of Arunachal that we have so far. From markets to bridges, the adventure will only get better from here. :)\n\nNext Video: \nSHOW MORE",
         "travel"
        ],
        [
         "1",
         "i9E_Blai8vk",
         "Welcome to Bali | Travel Vlog | Priscilla Lee",
         "Priscilla Lee\n45.6K subscribers\nSUBSCRIBE\n*DISCLAIMER* Please do not ride elephants when visiting any country. At the time I didn't know (yes, I was dumb) so it is shown in the video, but I do not support the elephant riding business anymore. If I could take it back I would, but instead I want to pass on the knowledge to anyone who isn't aware. Here's some info: \nSHOW MORE",
         "travel"
        ],
        [
         "2",
         "r284c-q8oY",
         "My Solo Trip to ALASKA | Cruising From Vancouver to Anchorage",
         "Allison Anderson\n588K subscribers\nSUBSCRIBE\nI spent 11 days cruising up the coast of Alaska and it was MAGICAL.\n•ALASKA BLOG POST: https://allisonanderson.com/blog/crui...\n•Adventures on INSTAGRAM http://www.instagram.com/photoallison\nSHOW MORE",
         "travel"
        ],
        [
         "3",
         "Qmi-Xwq-ME",
         "Traveling to the Happiest Country in the World!!",
         "Yes Theory\n6.65M subscribers\nSUBSCRIBE\n*BLACK FRIDAY DROP Out Now*: http://seek-discomfort.com/yes-theory \nThis week only, with every purchase about $35, you'll get 2 free Seek Discomfort flags!\n\nCheck out our friends from Beautiful Destinations!! Their videos are INCREDIBLE:\nSHOW MORE",
         "travel"
        ],
        [
         "4",
         "_lcOX55Ef70",
         "Solo in Paro Bhutan | Tiger's Nest visit | Bhutan Travel Guide | Bhutan Series Ep 1 | Tanya Khanijow",
         "Tanya Khanijow\n671K subscribers\nSUBSCRIBE\nHere’s presenting the first part of the Bhutan Series Episode in Paro. I went straight to Paro as first part of my road trip in the country. The drive from Phuntsholing took about 4 hours. \n \nThe entire budget of my Bhutan trip was close to  INR 25k. You can carry cash everywhere in Indian currency in Bhutan as it is accepted. Some things about Paro below:\n\n1. The place where I stayed at in Paro is called Ama’s Village Lodge. You can book the place here - \nSHOW MORE",
         "travel"
        ]
       ],
       "shape": {
        "columns": 4,
        "rows": 5
       }
      },
      "text/html": [
       "<div>\n",
       "<style scoped>\n",
       "    .dataframe tbody tr th:only-of-type {\n",
       "        vertical-align: middle;\n",
       "    }\n",
       "\n",
       "    .dataframe tbody tr th {\n",
       "        vertical-align: top;\n",
       "    }\n",
       "\n",
       "    .dataframe thead th {\n",
       "        text-align: right;\n",
       "    }\n",
       "</style>\n",
       "<table border=\"1\" class=\"dataframe\">\n",
       "  <thead>\n",
       "    <tr style=\"text-align: right;\">\n",
       "      <th></th>\n",
       "      <th>link</th>\n",
       "      <th>title</th>\n",
       "      <th>description</th>\n",
       "      <th>category</th>\n",
       "    </tr>\n",
       "  </thead>\n",
       "  <tbody>\n",
       "    <tr>\n",
       "      <th>0</th>\n",
       "      <td>JLZlCZ0</td>\n",
       "      <td>Ep 1| Travelling through North East India | Of...</td>\n",
       "      <td>Tanya Khanijow\\n671K subscribers\\nSUBSCRIBE\\nT...</td>\n",
       "      <td>travel</td>\n",
       "    </tr>\n",
       "    <tr>\n",
       "      <th>1</th>\n",
       "      <td>i9E_Blai8vk</td>\n",
       "      <td>Welcome to Bali | Travel Vlog | Priscilla Lee</td>\n",
       "      <td>Priscilla Lee\\n45.6K subscribers\\nSUBSCRIBE\\n*...</td>\n",
       "      <td>travel</td>\n",
       "    </tr>\n",
       "    <tr>\n",
       "      <th>2</th>\n",
       "      <td>r284c-q8oY</td>\n",
       "      <td>My Solo Trip to ALASKA | Cruising From Vancouv...</td>\n",
       "      <td>Allison Anderson\\n588K subscribers\\nSUBSCRIBE\\...</td>\n",
       "      <td>travel</td>\n",
       "    </tr>\n",
       "    <tr>\n",
       "      <th>3</th>\n",
       "      <td>Qmi-Xwq-ME</td>\n",
       "      <td>Traveling to the Happiest Country in the World!!</td>\n",
       "      <td>Yes Theory\\n6.65M subscribers\\nSUBSCRIBE\\n*BLA...</td>\n",
       "      <td>travel</td>\n",
       "    </tr>\n",
       "    <tr>\n",
       "      <th>4</th>\n",
       "      <td>_lcOX55Ef70</td>\n",
       "      <td>Solo in Paro Bhutan | Tiger's Nest visit | Bhu...</td>\n",
       "      <td>Tanya Khanijow\\n671K subscribers\\nSUBSCRIBE\\nH...</td>\n",
       "      <td>travel</td>\n",
       "    </tr>\n",
       "  </tbody>\n",
       "</table>\n",
       "</div>"
      ],
      "text/plain": [
       "          link                                              title  \\\n",
       "0      JLZlCZ0  Ep 1| Travelling through North East India | Of...   \n",
       "1  i9E_Blai8vk      Welcome to Bali | Travel Vlog | Priscilla Lee   \n",
       "2   r284c-q8oY  My Solo Trip to ALASKA | Cruising From Vancouv...   \n",
       "3   Qmi-Xwq-ME   Traveling to the Happiest Country in the World!!   \n",
       "4  _lcOX55Ef70  Solo in Paro Bhutan | Tiger's Nest visit | Bhu...   \n",
       "\n",
       "                                         description category  \n",
       "0  Tanya Khanijow\\n671K subscribers\\nSUBSCRIBE\\nT...   travel  \n",
       "1  Priscilla Lee\\n45.6K subscribers\\nSUBSCRIBE\\n*...   travel  \n",
       "2  Allison Anderson\\n588K subscribers\\nSUBSCRIBE\\...   travel  \n",
       "3  Yes Theory\\n6.65M subscribers\\nSUBSCRIBE\\n*BLA...   travel  \n",
       "4  Tanya Khanijow\\n671K subscribers\\nSUBSCRIBE\\nH...   travel  "
      ]
     },
     "metadata": {},
     "output_type": "display_data"
    }
   ],
   "source": [
    "df = pd.read_csv('DB/youtube.csv')\n",
    "\n",
    "print(df.count())\n",
    "display(df.head())"
   ]
  },
  {
   "cell_type": "markdown",
   "id": "52820d53",
   "metadata": {},
   "source": [
    "## Analisis Exploratorio"
   ]
  },
  {
   "cell_type": "code",
   "execution_count": null,
   "id": "a75777c5",
   "metadata": {},
   "outputs": [
    {
     "name": "stdout",
     "output_type": "stream",
     "text": [
      "<class 'pandas.core.frame.DataFrame'>\n",
      "RangeIndex: 3599 entries, 0 to 3598\n",
      "Data columns (total 4 columns):\n",
      " #   Column       Non-Null Count  Dtype \n",
      "---  ------       --------------  ----- \n",
      " 0   link         3599 non-null   object\n",
      " 1   title        3599 non-null   object\n",
      " 2   description  3599 non-null   object\n",
      " 3   category     3599 non-null   object\n",
      "dtypes: object(4)\n",
      "memory usage: 112.6+ KB\n"
     ]
    }
   ],
   "source": [
    "df.info()"
   ]
  },
  {
   "cell_type": "markdown",
   "id": "3190ae6a",
   "metadata": {},
   "source": [
    "Podemos ver que no tenemos datos nulos"
   ]
  },
  {
   "cell_type": "code",
   "execution_count": 29,
   "id": "120ba8ee",
   "metadata": {},
   "outputs": [],
   "source": [
    "df_clean = df.copy()\n",
    "df_clean.drop_duplicates(inplace=True)"
   ]
  },
  {
   "cell_type": "code",
   "execution_count": 30,
   "id": "56de3caf",
   "metadata": {},
   "outputs": [
    {
     "data": {
      "application/vnd.microsoft.datawrangler.viewer.v0+json": {
       "columns": [
        {
         "name": "index",
         "rawType": "object",
         "type": "string"
        },
        {
         "name": "0",
         "rawType": "int64",
         "type": "integer"
        }
       ],
       "ref": "99f5e376-a5b9-4b95-abc9-83daf2f4d0ff",
       "rows": [
        [
         "link",
         "3500"
        ],
        [
         "title",
         "3500"
        ],
        [
         "description",
         "3500"
        ],
        [
         "category",
         "3500"
        ]
       ],
       "shape": {
        "columns": 1,
        "rows": 4
       }
      },
      "text/plain": [
       "link           3500\n",
       "title          3500\n",
       "description    3500\n",
       "category       3500\n",
       "dtype: int64"
      ]
     },
     "execution_count": 30,
     "metadata": {},
     "output_type": "execute_result"
    }
   ],
   "source": [
    "df_clean.count()"
   ]
  },
  {
   "cell_type": "code",
   "execution_count": 35,
   "id": "65a2b2b9",
   "metadata": {},
   "outputs": [
    {
     "name": "stdout",
     "output_type": "stream",
     "text": [
      "Categorías únicas:\n",
      "['travel' 'food' 'art_music' 'history']\n"
     ]
    }
   ],
   "source": [
    "print(\"Categorías únicas:\")\n",
    "print(df_clean['category'].unique())"
   ]
  },
  {
   "cell_type": "code",
   "execution_count": 36,
   "id": "dd1e9463",
   "metadata": {},
   "outputs": [
    {
     "name": "stdout",
     "output_type": "stream",
     "text": [
      "travel: 1128\n",
      "food: 887\n",
      "art_music: 897\n",
      "history: 588\n"
     ]
    }
   ],
   "source": [
    "travel_count = df_clean[df_clean['category'] == 'travel'].shape[0]\n",
    "print(\"travel:\", travel_count)\n",
    "\n",
    "food_count = df_clean[df_clean['category'] == 'food'].shape[0]\n",
    "print(\"food:\", food_count)\n",
    "\n",
    "art_music_count = df_clean[df_clean['category'] == 'art_music'].shape[0]\n",
    "print(\"art_music:\", art_music_count)\n",
    "\n",
    "history_count = df_clean[df_clean['category'] == 'history'].shape[0]\n",
    "print(\"history:\", history_count)"
   ]
  },
  {
   "cell_type": "markdown",
   "id": "a35aba07",
   "metadata": {},
   "source": [
    "Como podemos ver nuestras categorias no estan balanceadas, siendo mas las de 'travel' que son casi el doble de las de 'history'"
   ]
  },
  {
   "cell_type": "markdown",
   "id": "c2b84c6d",
   "metadata": {},
   "source": []
  }
 ],
 "metadata": {
  "kernelspec": {
   "display_name": "Python 3",
   "language": "python",
   "name": "python3"
  },
  "language_info": {
   "codemirror_mode": {
    "name": "ipython",
    "version": 3
   },
   "file_extension": ".py",
   "mimetype": "text/x-python",
   "name": "python",
   "nbconvert_exporter": "python",
   "pygments_lexer": "ipython3",
   "version": "3.12.7"
  }
 },
 "nbformat": 4,
 "nbformat_minor": 5
}
