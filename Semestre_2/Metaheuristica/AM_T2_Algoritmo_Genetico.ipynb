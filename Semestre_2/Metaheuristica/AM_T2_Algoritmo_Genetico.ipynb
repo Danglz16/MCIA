{
 "cells": [
  {
   "cell_type": "code",
   "execution_count": 2,
   "metadata": {
    "executionInfo": {
     "elapsed": 42,
     "status": "ok",
     "timestamp": 1755871891102,
     "user": {
      "displayName": "DANIEL EDUARDO GONZALEZ ALVARADO",
      "userId": "16497401104730667325"
     },
     "user_tz": 360
    },
    "id": "JC9Hhk2E5Lhn"
   },
   "outputs": [],
   "source": [
    "import numpy as np\n",
    "import pandas as pd\n",
    "import random\n",
    "import matplotlib.pyplot as plt"
   ]
  },
  {
   "cell_type": "code",
   "execution_count": 3,
   "metadata": {
    "colab": {
     "base_uri": "https://localhost:8080/"
    },
    "executionInfo": {
     "elapsed": 12,
     "status": "ok",
     "timestamp": 1755871061850,
     "user": {
      "displayName": "DANIEL EDUARDO GONZALEZ ALVARADO",
      "userId": "16497401104730667325"
     },
     "user_tz": 360
    },
    "id": "hiNPgzSG5PIR",
    "outputId": "2abc03d0-f36e-4608-dfed-f102812c01c8"
   },
   "outputs": [
    {
     "name": "stdout",
     "output_type": "stream",
     "text": [
      "[-1.         -0.96825397 -0.93650794 -0.9047619  -0.87301587 -0.84126984\n",
      " -0.80952381 -0.77777778 -0.74603175 -0.71428571 -0.68253968 -0.65079365\n",
      " -0.61904762 -0.58730159 -0.55555556 -0.52380952 -0.49206349 -0.46031746\n",
      " -0.42857143 -0.3968254  -0.36507937 -0.33333333 -0.3015873  -0.26984127\n",
      " -0.23809524 -0.20634921 -0.17460317 -0.14285714 -0.11111111 -0.07936508\n",
      " -0.04761905 -0.01587302  0.01587302  0.04761905  0.07936508  0.11111111\n",
      "  0.14285714  0.17460317  0.20634921  0.23809524  0.26984127  0.3015873\n",
      "  0.33333333  0.36507937  0.3968254   0.42857143  0.46031746  0.49206349\n",
      "  0.52380952  0.55555556  0.58730159  0.61904762  0.65079365  0.68253968\n",
      "  0.71428571  0.74603175  0.77777778  0.80952381  0.84126984  0.87301587\n",
      "  0.9047619   0.93650794  0.96825397  1.        ]\n",
      "[1.00000000e+00 9.37515747e-01 8.77047115e-01 8.18594104e-01\n",
      " 7.62156715e-01 7.07734946e-01 6.55328798e-01 6.04938272e-01\n",
      " 5.56563366e-01 5.10204082e-01 4.65860418e-01 4.23532376e-01\n",
      " 3.83219955e-01 3.44923154e-01 3.08641975e-01 2.74376417e-01\n",
      " 2.42126480e-01 2.11892164e-01 1.83673469e-01 1.57470396e-01\n",
      " 1.33282943e-01 1.11111111e-01 9.09549005e-02 7.28143109e-02\n",
      " 5.66893424e-02 4.25799950e-02 3.04862686e-02 2.04081633e-02\n",
      " 1.23456790e-02 6.29881582e-03 2.26757370e-03 2.51952633e-04\n",
      " 2.51952633e-04 2.26757370e-03 6.29881582e-03 1.23456790e-02\n",
      " 2.04081633e-02 3.04862686e-02 4.25799950e-02 5.66893424e-02\n",
      " 7.28143109e-02 9.09549005e-02 1.11111111e-01 1.33282943e-01\n",
      " 1.57470396e-01 1.83673469e-01 2.11892164e-01 2.42126480e-01\n",
      " 2.74376417e-01 3.08641975e-01 3.44923154e-01 3.83219955e-01\n",
      " 4.23532376e-01 4.65860418e-01 5.10204082e-01 5.56563366e-01\n",
      " 6.04938272e-01 6.55328798e-01 7.07734946e-01 7.62156715e-01\n",
      " 8.18594104e-01 8.77047115e-01 9.37515747e-01 1.00000000e+00]\n"
     ]
    }
   ],
   "source": [
    "# Dominio de -1 a 1 en 64 datos debibo a los 6 genes\n",
    "# 000 000, 000 001, ... , 111 111\n",
    "x = np.linspace(-1, 1, 64)\n",
    "y = x**2\n",
    "\n",
    "print(x)\n",
    "print(y)"
   ]
  },
  {
   "cell_type": "code",
   "execution_count": 4,
   "metadata": {
    "colab": {
     "base_uri": "https://localhost:8080/",
     "height": 435
    },
    "executionInfo": {
     "elapsed": 119,
     "status": "ok",
     "timestamp": 1755871064652,
     "user": {
      "displayName": "DANIEL EDUARDO GONZALEZ ALVARADO",
      "userId": "16497401104730667325"
     },
     "user_tz": 360
    },
    "id": "rD_MdORD9h5u",
    "outputId": "9acdb8a0-e599-4e44-90ca-5a032f5e8054"
   },
   "outputs": [
    {
     "data": {
      "image/png": "[encoded data removed]",
      "text/plain": [
       "<Figure size 640x480 with 1 Axes>"
      ]
     },
     "metadata": {},
     "output_type": "display_data"
    }
   ],
   "source": [
    "plt.plot(x, y)\n",
    "plt.axis([-1, 1, 0, 1])\n",
    "plt.grid(True)\n",
    "plt.show()"
   ]
  },
  {
   "cell_type": "markdown",
   "metadata": {
    "id": "zYnkCsEz8pco"
   },
   "source": [
    "No es necesario tener toda la poblacion generada, habra casos donde no se pueda generar todos y solo necesitamos 10 individuos para empezar la cruza, el objetivo es justamente con una poblacion pequeña alcanzar lo optimo."
   ]
  },
  {
   "cell_type": "markdown",
   "metadata": {},
   "source": [
    "# Generar Poblacion"
   ]
  },
  {
   "cell_type": "code",
   "execution_count": 30,
   "metadata": {
    "colab": {
     "base_uri": "https://localhost:8080/"
    },
    "executionInfo": {
     "elapsed": 14,
     "status": "ok",
     "timestamp": 1755871928389,
     "user": {
      "displayName": "DANIEL EDUARDO GONZALEZ ALVARADO",
      "userId": "16497401104730667325"
     },
     "user_tz": 360
    },
    "id": "uCH1N6jbHoFp",
    "outputId": "37c107ee-8ed2-46a7-f8ef-20076e4857e0"
   },
   "outputs": [
    {
     "name": "stdout",
     "output_type": "stream",
     "text": [
      "110111 -> 0.746 - fitness = 0.557\n",
      "000111 -> -0.778 - fitness = 0.605\n",
      "000101 -> -0.841 - fitness = 0.708\n",
      "100111 -> 0.238 - fitness = 0.057\n",
      "011010 -> -0.175 - fitness = 0.030\n",
      "110110 -> 0.714 - fitness = 0.510\n",
      "000101 -> -0.841 - fitness = 0.708\n",
      "011110 -> -0.048 - fitness = 0.002\n",
      "000010 -> -0.937 - fitness = 0.877\n",
      "111100 -> 0.905 - fitness = 0.819\n"
     ]
    }
   ],
   "source": [
    "step = 64\n",
    "valores = np.linspace(-1, 1, step)  # 64 valores entre -1 y 1\n",
    "\n",
    "def bin2val(binario, valores):\n",
    "    idx = int(binario, 2)\n",
    "    return valores[idx]\n",
    "\n",
    "def generar_individuo():\n",
    "    # Índice entre 0 y 63\n",
    "    idx = random.randint(0, step-1)\n",
    "    # Decimal a Binario\n",
    "    binario = format(idx, '06b')\n",
    "    valor = bin2val(binario, valores)\n",
    "    return binario, valor\n",
    "\n",
    "# Generar padres\n",
    "padres = []\n",
    "val = []\n",
    "while len(padres) < 10:\n",
    "    b, v = generar_individuo()\n",
    "    fitness = v**2\n",
    "    if fitness < 0.9:\n",
    "        padres.append(b)\n",
    "        val.append(v)\n",
    "        print(f\"{b} -> {v:.3f} - fitness = {fitness:.3f}\")\n"
   ]
  },
  {
   "cell_type": "markdown",
   "metadata": {},
   "source": [
    "Creamos nuestra poblacion inicial junto con su aptitud"
   ]
  },
  {
   "cell_type": "code",
   "execution_count": 31,
   "metadata": {},
   "outputs": [],
   "source": [
    "df = pd.DataFrame({\n",
    "    'Bin': padres,\n",
    "    'Valor': val\n",
    "})\n",
    "df['fitness'] = df['Valor']**2"
   ]
  },
  {
   "cell_type": "code",
   "execution_count": 32,
   "metadata": {},
   "outputs": [
    {
     "data": {
      "application/vnd.microsoft.datawrangler.viewer.v0+json": {
       "columns": [
        {
         "name": "index",
         "rawType": "int64",
         "type": "integer"
        },
        {
         "name": "Bin",
         "rawType": "object",
         "type": "string"
        },
        {
         "name": "Valor",
         "rawType": "float64",
         "type": "float"
        },
        {
         "name": "fitness",
         "rawType": "float64",
         "type": "float"
        }
       ],
       "ref": "cbd7fa1f-87f3-48f5-ab11-94e86eef6730",
       "rows": [
        [
         "0",
         "110111",
         "0.746031746031746",
         "0.5565633660871756"
        ],
        [
         "1",
         "000111",
         "-0.7777777777777778",
         "0.6049382716049383"
        ],
        [
         "2",
         "000101",
         "-0.8412698412698413",
         "0.7077349458301839"
        ],
        [
         "3",
         "100111",
         "0.23809523809523814",
         "0.056689342403628135"
        ],
        [
         "4",
         "011010",
         "-0.17460317460317465",
         "0.030486268581506694"
        ],
        [
         "5",
         "110110",
         "0.7142857142857142",
         "0.510204081632653"
        ],
        [
         "6",
         "000101",
         "-0.8412698412698413",
         "0.7077349458301839"
        ],
        [
         "7",
         "011110",
         "-0.04761904761904767",
         "0.0022675736961451295"
        ],
        [
         "8",
         "000010",
         "-0.9365079365079365",
         "0.8770471151423532"
        ],
        [
         "9",
         "111100",
         "0.9047619047619047",
         "0.8185941043083899"
        ]
       ],
       "shape": {
        "columns": 3,
        "rows": 10
       }
      },
      "text/html": [
       "<div>\n",
       "<style scoped>\n",
       "    .dataframe tbody tr th:only-of-type {\n",
       "        vertical-align: middle;\n",
       "    }\n",
       "\n",
       "    .dataframe tbody tr th {\n",
       "        vertical-align: top;\n",
       "    }\n",
       "\n",
       "    .dataframe thead th {\n",
       "        text-align: right;\n",
       "    }\n",
       "</style>\n",
       "<table border=\"1\" class=\"dataframe\">\n",
       "  <thead>\n",
       "    <tr style=\"text-align: right;\">\n",
       "      <th></th>\n",
       "      <th>Bin</th>\n",
       "      <th>Valor</th>\n",
       "      <th>fitness</th>\n",
       "    </tr>\n",
       "  </thead>\n",
       "  <tbody>\n",
       "    <tr>\n",
       "      <th>0</th>\n",
       "      <td>110111</td>\n",
       "      <td>0.746032</td>\n",
       "      <td>0.556563</td>\n",
       "    </tr>\n",
       "    <tr>\n",
       "      <th>1</th>\n",
       "      <td>000111</td>\n",
       "      <td>-0.777778</td>\n",
       "      <td>0.604938</td>\n",
       "    </tr>\n",
       "    <tr>\n",
       "      <th>2</th>\n",
       "      <td>000101</td>\n",
       "      <td>-0.841270</td>\n",
       "      <td>0.707735</td>\n",
       "    </tr>\n",
       "    <tr>\n",
       "      <th>3</th>\n",
       "      <td>100111</td>\n",
       "      <td>0.238095</td>\n",
       "      <td>0.056689</td>\n",
       "    </tr>\n",
       "    <tr>\n",
       "      <th>4</th>\n",
       "      <td>011010</td>\n",
       "      <td>-0.174603</td>\n",
       "      <td>0.030486</td>\n",
       "    </tr>\n",
       "    <tr>\n",
       "      <th>5</th>\n",
       "      <td>110110</td>\n",
       "      <td>0.714286</td>\n",
       "      <td>0.510204</td>\n",
       "    </tr>\n",
       "    <tr>\n",
       "      <th>6</th>\n",
       "      <td>000101</td>\n",
       "      <td>-0.841270</td>\n",
       "      <td>0.707735</td>\n",
       "    </tr>\n",
       "    <tr>\n",
       "      <th>7</th>\n",
       "      <td>011110</td>\n",
       "      <td>-0.047619</td>\n",
       "      <td>0.002268</td>\n",
       "    </tr>\n",
       "    <tr>\n",
       "      <th>8</th>\n",
       "      <td>000010</td>\n",
       "      <td>-0.936508</td>\n",
       "      <td>0.877047</td>\n",
       "    </tr>\n",
       "    <tr>\n",
       "      <th>9</th>\n",
       "      <td>111100</td>\n",
       "      <td>0.904762</td>\n",
       "      <td>0.818594</td>\n",
       "    </tr>\n",
       "  </tbody>\n",
       "</table>\n",
       "</div>"
      ],
      "text/plain": [
       "      Bin     Valor   fitness\n",
       "0  110111  0.746032  0.556563\n",
       "1  000111 -0.777778  0.604938\n",
       "2  000101 -0.841270  0.707735\n",
       "3  100111  0.238095  0.056689\n",
       "4  011010 -0.174603  0.030486\n",
       "5  110110  0.714286  0.510204\n",
       "6  000101 -0.841270  0.707735\n",
       "7  011110 -0.047619  0.002268\n",
       "8  000010 -0.936508  0.877047\n",
       "9  111100  0.904762  0.818594"
      ]
     },
     "metadata": {},
     "output_type": "display_data"
    }
   ],
   "source": [
    "display(df)"
   ]
  },
  {
   "cell_type": "markdown",
   "metadata": {},
   "source": [
    "Ordenar segun su aptitud"
   ]
  },
  {
   "cell_type": "code",
   "execution_count": 33,
   "metadata": {},
   "outputs": [
    {
     "data": {
      "application/vnd.microsoft.datawrangler.viewer.v0+json": {
       "columns": [
        {
         "name": "index",
         "rawType": "int64",
         "type": "integer"
        },
        {
         "name": "Bin",
         "rawType": "object",
         "type": "string"
        },
        {
         "name": "Valor",
         "rawType": "float64",
         "type": "float"
        },
        {
         "name": "fitness",
         "rawType": "float64",
         "type": "float"
        }
       ],
       "ref": "65765a44-8664-4d18-b838-e48af838f970",
       "rows": [
        [
         "0",
         "000010",
         "-0.9365079365079365",
         "0.8770471151423532"
        ],
        [
         "1",
         "111100",
         "0.9047619047619047",
         "0.8185941043083899"
        ],
        [
         "2",
         "000101",
         "-0.8412698412698413",
         "0.7077349458301839"
        ],
        [
         "3",
         "000101",
         "-0.8412698412698413",
         "0.7077349458301839"
        ],
        [
         "4",
         "000111",
         "-0.7777777777777778",
         "0.6049382716049383"
        ],
        [
         "5",
         "110111",
         "0.746031746031746",
         "0.5565633660871756"
        ],
        [
         "6",
         "110110",
         "0.7142857142857142",
         "0.510204081632653"
        ],
        [
         "7",
         "100111",
         "0.23809523809523814",
         "0.056689342403628135"
        ],
        [
         "8",
         "011010",
         "-0.17460317460317465",
         "0.030486268581506694"
        ],
        [
         "9",
         "011110",
         "-0.04761904761904767",
         "0.0022675736961451295"
        ]
       ],
       "shape": {
        "columns": 3,
        "rows": 10
       }
      },
      "text/html": [
       "<div>\n",
       "<style scoped>\n",
       "    .dataframe tbody tr th:only-of-type {\n",
       "        vertical-align: middle;\n",
       "    }\n",
       "\n",
       "    .dataframe tbody tr th {\n",
       "        vertical-align: top;\n",
       "    }\n",
       "\n",
       "    .dataframe thead th {\n",
       "        text-align: right;\n",
       "    }\n",
       "</style>\n",
       "<table border=\"1\" class=\"dataframe\">\n",
       "  <thead>\n",
       "    <tr style=\"text-align: right;\">\n",
       "      <th></th>\n",
       "      <th>Bin</th>\n",
       "      <th>Valor</th>\n",
       "      <th>fitness</th>\n",
       "    </tr>\n",
       "  </thead>\n",
       "  <tbody>\n",
       "    <tr>\n",
       "      <th>0</th>\n",
       "      <td>000010</td>\n",
       "      <td>-0.936508</td>\n",
       "      <td>0.877047</td>\n",
       "    </tr>\n",
       "    <tr>\n",
       "      <th>1</th>\n",
       "      <td>111100</td>\n",
       "      <td>0.904762</td>\n",
       "      <td>0.818594</td>\n",
       "    </tr>\n",
       "    <tr>\n",
       "      <th>2</th>\n",
       "      <td>000101</td>\n",
       "      <td>-0.841270</td>\n",
       "      <td>0.707735</td>\n",
       "    </tr>\n",
       "    <tr>\n",
       "      <th>3</th>\n",
       "      <td>000101</td>\n",
       "      <td>-0.841270</td>\n",
       "      <td>0.707735</td>\n",
       "    </tr>\n",
       "    <tr>\n",
       "      <th>4</th>\n",
       "      <td>000111</td>\n",
       "      <td>-0.777778</td>\n",
       "      <td>0.604938</td>\n",
       "    </tr>\n",
       "    <tr>\n",
       "      <th>5</th>\n",
       "      <td>110111</td>\n",
       "      <td>0.746032</td>\n",
       "      <td>0.556563</td>\n",
       "    </tr>\n",
       "    <tr>\n",
       "      <th>6</th>\n",
       "      <td>110110</td>\n",
       "      <td>0.714286</td>\n",
       "      <td>0.510204</td>\n",
       "    </tr>\n",
       "    <tr>\n",
       "      <th>7</th>\n",
       "      <td>100111</td>\n",
       "      <td>0.238095</td>\n",
       "      <td>0.056689</td>\n",
       "    </tr>\n",
       "    <tr>\n",
       "      <th>8</th>\n",
       "      <td>011010</td>\n",
       "      <td>-0.174603</td>\n",
       "      <td>0.030486</td>\n",
       "    </tr>\n",
       "    <tr>\n",
       "      <th>9</th>\n",
       "      <td>011110</td>\n",
       "      <td>-0.047619</td>\n",
       "      <td>0.002268</td>\n",
       "    </tr>\n",
       "  </tbody>\n",
       "</table>\n",
       "</div>"
      ],
      "text/plain": [
       "      Bin     Valor   fitness\n",
       "0  000010 -0.936508  0.877047\n",
       "1  111100  0.904762  0.818594\n",
       "2  000101 -0.841270  0.707735\n",
       "3  000101 -0.841270  0.707735\n",
       "4  000111 -0.777778  0.604938\n",
       "5  110111  0.746032  0.556563\n",
       "6  110110  0.714286  0.510204\n",
       "7  100111  0.238095  0.056689\n",
       "8  011010 -0.174603  0.030486\n",
       "9  011110 -0.047619  0.002268"
      ]
     },
     "metadata": {},
     "output_type": "display_data"
    }
   ],
   "source": [
    "df.sort_values(by='fitness', ascending=False, inplace=True)\n",
    "df.reset_index(drop=True, inplace=True)\n",
    "#df.to_csv('poblacion_inicial.csv', index=False) # Guardar para replicar despues\n",
    "display(df)"
   ]
  },
  {
   "cell_type": "markdown",
   "metadata": {},
   "source": [
    "Llevaremos un registro de las generaciones para lo cual tomaremos dos valores representativos de cada generacion, siendo estos el mejor valor de aptitud asi como el promedio de la generacion.  \n",
    "Partiendo de los padres inicales esta sera nuestra Generacion 0."
   ]
  },
  {
   "cell_type": "code",
   "execution_count": 34,
   "metadata": {},
   "outputs": [],
   "source": [
    "df_hist = pd.DataFrame(columns=[\"Bin\",\"Valor\",\"fitness\", \"Avg_Fitness\"])\n",
    "\n",
    "def add_hist (df, df_hist):\n",
    "    nuevo_registro = df.iloc[[0]].copy()\n",
    "    nuevo_registro[\"Avg_Fitness\"] = df[\"fitness\"].mean()\n",
    "    df_hist = pd.concat([df_hist, nuevo_registro], ignore_index=True)\n",
    "    return df_hist"
   ]
  },
  {
   "cell_type": "code",
   "execution_count": 35,
   "metadata": {},
   "outputs": [
    {
     "name": "stdout",
     "output_type": "stream",
     "text": [
      "      Bin     Valor   fitness  Avg_Fitness\n",
      "0  000010 -0.936508  0.877047     0.487226\n"
     ]
    },
    {
     "name": "stderr",
     "output_type": "stream",
     "text": [
      "C:\\Users\\death\\AppData\\Local\\Temp\\ipykernel_22708\\3672471164.py:6: FutureWarning: The behavior of DataFrame concatenation with empty or all-NA entries is deprecated. In a future version, this will no longer exclude empty or all-NA columns when determining the result dtypes. To retain the old behavior, exclude the relevant entries before the concat operation.\n",
      "  df_hist = pd.concat([df_hist, nuevo_registro], ignore_index=True)\n"
     ]
    }
   ],
   "source": [
    "df_hist = add_hist(df, df_hist)\n",
    "print(df_hist)"
   ]
  },
  {
   "cell_type": "markdown",
   "metadata": {},
   "source": [
    "# Seleccion"
   ]
  },
  {
   "cell_type": "markdown",
   "metadata": {},
   "source": [
    "Con nuestros 10 padres creados procedemos a la cruza  \n",
    "Para esto haremos 5 parejas y cada una tendra 2 hijos\n"
   ]
  },
  {
   "cell_type": "markdown",
   "metadata": {},
   "source": [
    "## Metodos de selección"
   ]
  },
  {
   "cell_type": "markdown",
   "metadata": {},
   "source": [
    "Separaremos los padres en dos grupos segun su aptitud y usaremos dos metodos de selección, Rank y Torneo"
   ]
  },
  {
   "cell_type": "markdown",
   "metadata": {},
   "source": [
    "Como proponemos 5 parejas y debido a sus aptitudes haremos 2 parejas con rank (Las que tienen mejor aptitud) y 3 por torneo(Con peor aptitud esperando que mejoren)"
   ]
  },
  {
   "cell_type": "code",
   "execution_count": 36,
   "metadata": {},
   "outputs": [],
   "source": [
    "# Rank\n",
    "df1 = df.iloc[:4]\n",
    "\n",
    "# torneo\n",
    "df2 = df.iloc[4:10]"
   ]
  },
  {
   "cell_type": "code",
   "execution_count": 37,
   "metadata": {},
   "outputs": [
    {
     "data": {
      "application/vnd.microsoft.datawrangler.viewer.v0+json": {
       "columns": [
        {
         "name": "index",
         "rawType": "int64",
         "type": "integer"
        },
        {
         "name": "Bin",
         "rawType": "object",
         "type": "string"
        },
        {
         "name": "Valor",
         "rawType": "float64",
         "type": "float"
        },
        {
         "name": "fitness",
         "rawType": "float64",
         "type": "float"
        }
       ],
       "ref": "51320ba3-4eb1-4cea-96bd-5efe14b14b95",
       "rows": [
        [
         "0",
         "000010",
         "-0.9365079365079365",
         "0.8770471151423532"
        ],
        [
         "1",
         "111100",
         "0.9047619047619047",
         "0.8185941043083899"
        ],
        [
         "2",
         "000101",
         "-0.8412698412698413",
         "0.7077349458301839"
        ],
        [
         "3",
         "000101",
         "-0.8412698412698413",
         "0.7077349458301839"
        ]
       ],
       "shape": {
        "columns": 3,
        "rows": 4
       }
      },
      "text/html": [
       "<div>\n",
       "<style scoped>\n",
       "    .dataframe tbody tr th:only-of-type {\n",
       "        vertical-align: middle;\n",
       "    }\n",
       "\n",
       "    .dataframe tbody tr th {\n",
       "        vertical-align: top;\n",
       "    }\n",
       "\n",
       "    .dataframe thead th {\n",
       "        text-align: right;\n",
       "    }\n",
       "</style>\n",
       "<table border=\"1\" class=\"dataframe\">\n",
       "  <thead>\n",
       "    <tr style=\"text-align: right;\">\n",
       "      <th></th>\n",
       "      <th>Bin</th>\n",
       "      <th>Valor</th>\n",
       "      <th>fitness</th>\n",
       "    </tr>\n",
       "  </thead>\n",
       "  <tbody>\n",
       "    <tr>\n",
       "      <th>0</th>\n",
       "      <td>000010</td>\n",
       "      <td>-0.936508</td>\n",
       "      <td>0.877047</td>\n",
       "    </tr>\n",
       "    <tr>\n",
       "      <th>1</th>\n",
       "      <td>111100</td>\n",
       "      <td>0.904762</td>\n",
       "      <td>0.818594</td>\n",
       "    </tr>\n",
       "    <tr>\n",
       "      <th>2</th>\n",
       "      <td>000101</td>\n",
       "      <td>-0.841270</td>\n",
       "      <td>0.707735</td>\n",
       "    </tr>\n",
       "    <tr>\n",
       "      <th>3</th>\n",
       "      <td>000101</td>\n",
       "      <td>-0.841270</td>\n",
       "      <td>0.707735</td>\n",
       "    </tr>\n",
       "  </tbody>\n",
       "</table>\n",
       "</div>"
      ],
      "text/plain": [
       "      Bin     Valor   fitness\n",
       "0  000010 -0.936508  0.877047\n",
       "1  111100  0.904762  0.818594\n",
       "2  000101 -0.841270  0.707735\n",
       "3  000101 -0.841270  0.707735"
      ]
     },
     "metadata": {},
     "output_type": "display_data"
    },
    {
     "data": {
      "application/vnd.microsoft.datawrangler.viewer.v0+json": {
       "columns": [
        {
         "name": "index",
         "rawType": "int64",
         "type": "integer"
        },
        {
         "name": "Bin",
         "rawType": "object",
         "type": "string"
        },
        {
         "name": "Valor",
         "rawType": "float64",
         "type": "float"
        },
        {
         "name": "fitness",
         "rawType": "float64",
         "type": "float"
        }
       ],
       "ref": "0fd8a557-aef1-4be2-8770-45dd6984bef0",
       "rows": [
        [
         "4",
         "000111",
         "-0.7777777777777778",
         "0.6049382716049383"
        ],
        [
         "5",
         "110111",
         "0.746031746031746",
         "0.5565633660871756"
        ],
        [
         "6",
         "110110",
         "0.7142857142857142",
         "0.510204081632653"
        ],
        [
         "7",
         "100111",
         "0.23809523809523814",
         "0.056689342403628135"
        ],
        [
         "8",
         "011010",
         "-0.17460317460317465",
         "0.030486268581506694"
        ],
        [
         "9",
         "011110",
         "-0.04761904761904767",
         "0.0022675736961451295"
        ]
       ],
       "shape": {
        "columns": 3,
        "rows": 6
       }
      },
      "text/html": [
       "<div>\n",
       "<style scoped>\n",
       "    .dataframe tbody tr th:only-of-type {\n",
       "        vertical-align: middle;\n",
       "    }\n",
       "\n",
       "    .dataframe tbody tr th {\n",
       "        vertical-align: top;\n",
       "    }\n",
       "\n",
       "    .dataframe thead th {\n",
       "        text-align: right;\n",
       "    }\n",
       "</style>\n",
       "<table border=\"1\" class=\"dataframe\">\n",
       "  <thead>\n",
       "    <tr style=\"text-align: right;\">\n",
       "      <th></th>\n",
       "      <th>Bin</th>\n",
       "      <th>Valor</th>\n",
       "      <th>fitness</th>\n",
       "    </tr>\n",
       "  </thead>\n",
       "  <tbody>\n",
       "    <tr>\n",
       "      <th>4</th>\n",
       "      <td>000111</td>\n",
       "      <td>-0.777778</td>\n",
       "      <td>0.604938</td>\n",
       "    </tr>\n",
       "    <tr>\n",
       "      <th>5</th>\n",
       "      <td>110111</td>\n",
       "      <td>0.746032</td>\n",
       "      <td>0.556563</td>\n",
       "    </tr>\n",
       "    <tr>\n",
       "      <th>6</th>\n",
       "      <td>110110</td>\n",
       "      <td>0.714286</td>\n",
       "      <td>0.510204</td>\n",
       "    </tr>\n",
       "    <tr>\n",
       "      <th>7</th>\n",
       "      <td>100111</td>\n",
       "      <td>0.238095</td>\n",
       "      <td>0.056689</td>\n",
       "    </tr>\n",
       "    <tr>\n",
       "      <th>8</th>\n",
       "      <td>011010</td>\n",
       "      <td>-0.174603</td>\n",
       "      <td>0.030486</td>\n",
       "    </tr>\n",
       "    <tr>\n",
       "      <th>9</th>\n",
       "      <td>011110</td>\n",
       "      <td>-0.047619</td>\n",
       "      <td>0.002268</td>\n",
       "    </tr>\n",
       "  </tbody>\n",
       "</table>\n",
       "</div>"
      ],
      "text/plain": [
       "      Bin     Valor   fitness\n",
       "4  000111 -0.777778  0.604938\n",
       "5  110111  0.746032  0.556563\n",
       "6  110110  0.714286  0.510204\n",
       "7  100111  0.238095  0.056689\n",
       "8  011010 -0.174603  0.030486\n",
       "9  011110 -0.047619  0.002268"
      ]
     },
     "metadata": {},
     "output_type": "display_data"
    }
   ],
   "source": [
    "display(df1)\n",
    "display(df2)"
   ]
  },
  {
   "cell_type": "markdown",
   "metadata": {},
   "source": [
    "### Rank\n",
    "Formaremos parejas segun su rango de aptitud tomando asi:  \n",
    "(1 - 2), (3 - 4), (5 - 6)...(n-1, n)"
   ]
  },
  {
   "cell_type": "code",
   "execution_count": 38,
   "metadata": {},
   "outputs": [
    {
     "data": {
      "application/vnd.microsoft.datawrangler.viewer.v0+json": {
       "columns": [
        {
         "name": "index",
         "rawType": "int64",
         "type": "integer"
        },
        {
         "name": "Bin",
         "rawType": "object",
         "type": "string"
        },
        {
         "name": "Valor",
         "rawType": "float64",
         "type": "float"
        },
        {
         "name": "fitness",
         "rawType": "float64",
         "type": "float"
        }
       ],
       "ref": "3d492bc9-fc45-4489-a1ea-b7a49a2425b8",
       "rows": [
        [
         "0",
         "000010",
         "-0.9365079365079365",
         "0.8770471151423532"
        ],
        [
         "1",
         "111100",
         "0.9047619047619047",
         "0.8185941043083899"
        ],
        [
         "2",
         "000101",
         "-0.8412698412698413",
         "0.7077349458301839"
        ],
        [
         "3",
         "000101",
         "-0.8412698412698413",
         "0.7077349458301839"
        ]
       ],
       "shape": {
        "columns": 3,
        "rows": 4
       }
      },
      "text/html": [
       "<div>\n",
       "<style scoped>\n",
       "    .dataframe tbody tr th:only-of-type {\n",
       "        vertical-align: middle;\n",
       "    }\n",
       "\n",
       "    .dataframe tbody tr th {\n",
       "        vertical-align: top;\n",
       "    }\n",
       "\n",
       "    .dataframe thead th {\n",
       "        text-align: right;\n",
       "    }\n",
       "</style>\n",
       "<table border=\"1\" class=\"dataframe\">\n",
       "  <thead>\n",
       "    <tr style=\"text-align: right;\">\n",
       "      <th></th>\n",
       "      <th>Bin</th>\n",
       "      <th>Valor</th>\n",
       "      <th>fitness</th>\n",
       "    </tr>\n",
       "  </thead>\n",
       "  <tbody>\n",
       "    <tr>\n",
       "      <th>0</th>\n",
       "      <td>000010</td>\n",
       "      <td>-0.936508</td>\n",
       "      <td>0.877047</td>\n",
       "    </tr>\n",
       "    <tr>\n",
       "      <th>1</th>\n",
       "      <td>111100</td>\n",
       "      <td>0.904762</td>\n",
       "      <td>0.818594</td>\n",
       "    </tr>\n",
       "    <tr>\n",
       "      <th>2</th>\n",
       "      <td>000101</td>\n",
       "      <td>-0.841270</td>\n",
       "      <td>0.707735</td>\n",
       "    </tr>\n",
       "    <tr>\n",
       "      <th>3</th>\n",
       "      <td>000101</td>\n",
       "      <td>-0.841270</td>\n",
       "      <td>0.707735</td>\n",
       "    </tr>\n",
       "  </tbody>\n",
       "</table>\n",
       "</div>"
      ],
      "text/plain": [
       "      Bin     Valor   fitness\n",
       "0  000010 -0.936508  0.877047\n",
       "1  111100  0.904762  0.818594\n",
       "2  000101 -0.841270  0.707735\n",
       "3  000101 -0.841270  0.707735"
      ]
     },
     "metadata": {},
     "output_type": "display_data"
    }
   ],
   "source": [
    "df_rs = df1.reset_index(drop=True) # Reiniciar índice para hacer nuestra cruza\n",
    "display(df_rs)"
   ]
  },
  {
   "cell_type": "markdown",
   "metadata": {},
   "source": [
    "### Implementacion Cruza\n",
    "En este punto implementamos tambien nuestro metodo de cruza el cual sera por k-cortes, que en este caso usaremos K = 1"
   ]
  },
  {
   "cell_type": "code",
   "execution_count": 39,
   "metadata": {},
   "outputs": [],
   "source": [
    "def parejas_rank(df):\n",
    "    df_rs = df.reset_index(drop=True)\n",
    "    parejas = []\n",
    "    for i in range(0, len(df_rs)-1, 2):\n",
    "        if i+1 < len(df_rs):\n",
    "            pareja = (df_rs.iloc[i], df_rs.iloc[i+1])\n",
    "            parejas.append(pareja)\n",
    "    return parejas\n",
    "\n",
    "def cruza_corte(parejas, corte_n):\n",
    "    hijos = []\n",
    "    for p1, p2 in parejas:\n",
    "        bin1 = p1['Bin']\n",
    "        bin2 = p2['Bin']\n",
    "        hijo1_bin = bin1[:corte_n] + bin2[corte_n:]\n",
    "        hijo2_bin = bin2[:corte_n] + bin1[corte_n:]\n",
    "        hijos.append(hijo1_bin)\n",
    "        hijos.append(hijo2_bin)\n",
    "    return hijos\n"
   ]
  },
  {
   "cell_type": "code",
   "execution_count": 40,
   "metadata": {},
   "outputs": [
    {
     "name": "stdout",
     "output_type": "stream",
     "text": [
      "Pareja 1:\n",
      "Padre 1 Bin: 000010\n",
      "Padre 2 Bin: 111100\n",
      "---\n",
      "Pareja 2:\n",
      "Padre 1 Bin: 000101\n",
      "Padre 2 Bin: 000101\n",
      "---\n",
      "Hijo 1 Bin: 000100\n",
      "Hijo 2 Bin: 111010\n",
      "Hijo 3 Bin: 000101\n",
      "Hijo 4 Bin: 000101\n"
     ]
    }
   ],
   "source": [
    "parejas = parejas_rank(df1)\n",
    "hijos_binarios = cruza_corte(parejas, 3)\n",
    "\n",
    "for idx, (p1, p2) in enumerate(parejas):\n",
    "    print(f\"Pareja {idx+1}:\")\n",
    "    print(\"Padre 1 Bin:\", p1['Bin'])\n",
    "    print(\"Padre 2 Bin:\", p2['Bin'])\n",
    "    print(\"---\")\n",
    "\n",
    "for idx, hijo_bin in enumerate(hijos_binarios):\n",
    "    print(f\"Hijo {idx+1} Bin:\", hijo_bin)"
   ]
  },
  {
   "cell_type": "code",
   "execution_count": 41,
   "metadata": {},
   "outputs": [],
   "source": [
    "gen1 = pd.DataFrame(hijos_binarios, columns=['Bin'])\n",
    "gen1['Valor'] = gen1['Bin'].apply(lambda b: bin2val(b, valores))\n",
    "gen1['fitness'] = gen1['Valor']**2\n",
    "\n",
    "gen1_r = pd.concat([df_rs, gen1], ignore_index=True)"
   ]
  },
  {
   "cell_type": "code",
   "execution_count": 43,
   "metadata": {},
   "outputs": [
    {
     "data": {
      "application/vnd.microsoft.datawrangler.viewer.v0+json": {
       "columns": [
        {
         "name": "index",
         "rawType": "int64",
         "type": "integer"
        },
        {
         "name": "Bin",
         "rawType": "object",
         "type": "string"
        },
        {
         "name": "Valor",
         "rawType": "float64",
         "type": "float"
        },
        {
         "name": "fitness",
         "rawType": "float64",
         "type": "float"
        }
       ],
       "ref": "e4091e0e-5892-4dec-8552-91cc34f39b9d",
       "rows": [
        [
         "0",
         "000010",
         "-0.9365079365079365",
         "0.8770471151423532"
        ],
        [
         "1",
         "111100",
         "0.9047619047619047",
         "0.8185941043083899"
        ],
        [
         "2",
         "000100",
         "-0.873015873015873",
         "0.762156714537667"
        ],
        [
         "3",
         "000101",
         "-0.8412698412698413",
         "0.7077349458301839"
        ],
        [
         "4",
         "000101",
         "-0.8412698412698413",
         "0.7077349458301839"
        ],
        [
         "5",
         "000101",
         "-0.8412698412698413",
         "0.7077349458301839"
        ],
        [
         "6",
         "000101",
         "-0.8412698412698413",
         "0.7077349458301839"
        ],
        [
         "7",
         "111010",
         "0.8412698412698412",
         "0.7077349458301837"
        ]
       ],
       "shape": {
        "columns": 3,
        "rows": 8
       }
      },
      "text/html": [
       "<div>\n",
       "<style scoped>\n",
       "    .dataframe tbody tr th:only-of-type {\n",
       "        vertical-align: middle;\n",
       "    }\n",
       "\n",
       "    .dataframe tbody tr th {\n",
       "        vertical-align: top;\n",
       "    }\n",
       "\n",
       "    .dataframe thead th {\n",
       "        text-align: right;\n",
       "    }\n",
       "</style>\n",
       "<table border=\"1\" class=\"dataframe\">\n",
       "  <thead>\n",
       "    <tr style=\"text-align: right;\">\n",
       "      <th></th>\n",
       "      <th>Bin</th>\n",
       "      <th>Valor</th>\n",
       "      <th>fitness</th>\n",
       "    </tr>\n",
       "  </thead>\n",
       "  <tbody>\n",
       "    <tr>\n",
       "      <th>0</th>\n",
       "      <td>000010</td>\n",
       "      <td>-0.936508</td>\n",
       "      <td>0.877047</td>\n",
       "    </tr>\n",
       "    <tr>\n",
       "      <th>1</th>\n",
       "      <td>111100</td>\n",
       "      <td>0.904762</td>\n",
       "      <td>0.818594</td>\n",
       "    </tr>\n",
       "    <tr>\n",
       "      <th>2</th>\n",
       "      <td>000100</td>\n",
       "      <td>-0.873016</td>\n",
       "      <td>0.762157</td>\n",
       "    </tr>\n",
       "    <tr>\n",
       "      <th>3</th>\n",
       "      <td>000101</td>\n",
       "      <td>-0.841270</td>\n",
       "      <td>0.707735</td>\n",
       "    </tr>\n",
       "    <tr>\n",
       "      <th>4</th>\n",
       "      <td>000101</td>\n",
       "      <td>-0.841270</td>\n",
       "      <td>0.707735</td>\n",
       "    </tr>\n",
       "    <tr>\n",
       "      <th>5</th>\n",
       "      <td>000101</td>\n",
       "      <td>-0.841270</td>\n",
       "      <td>0.707735</td>\n",
       "    </tr>\n",
       "    <tr>\n",
       "      <th>6</th>\n",
       "      <td>000101</td>\n",
       "      <td>-0.841270</td>\n",
       "      <td>0.707735</td>\n",
       "    </tr>\n",
       "    <tr>\n",
       "      <th>7</th>\n",
       "      <td>111010</td>\n",
       "      <td>0.841270</td>\n",
       "      <td>0.707735</td>\n",
       "    </tr>\n",
       "  </tbody>\n",
       "</table>\n",
       "</div>"
      ],
      "text/plain": [
       "      Bin     Valor   fitness\n",
       "0  000010 -0.936508  0.877047\n",
       "1  111100  0.904762  0.818594\n",
       "2  000100 -0.873016  0.762157\n",
       "3  000101 -0.841270  0.707735\n",
       "4  000101 -0.841270  0.707735\n",
       "5  000101 -0.841270  0.707735\n",
       "6  000101 -0.841270  0.707735\n",
       "7  111010  0.841270  0.707735"
      ]
     },
     "metadata": {},
     "output_type": "display_data"
    }
   ],
   "source": [
    "gen1_r.sort_values(by='fitness', ascending=False, inplace=True)\n",
    "gen1_r.reset_index(drop=True, inplace=True)\n",
    "display(gen1_r)"
   ]
  },
  {
   "cell_type": "markdown",
   "metadata": {},
   "source": [
    "### Torneo\n",
    "\n",
    "En una lista de n elementos formaremos parejas la siguiente manera:  \n",
    "(1 - n), (2 - n-1), (3 - n-2) y asi sucesivamente"
   ]
  },
  {
   "cell_type": "code",
   "execution_count": 20,
   "metadata": {},
   "outputs": [
    {
     "data": {
      "application/vnd.microsoft.datawrangler.viewer.v0+json": {
       "columns": [
        {
         "name": "index",
         "rawType": "int64",
         "type": "integer"
        },
        {
         "name": "Bin",
         "rawType": "object",
         "type": "string"
        },
        {
         "name": "Valor",
         "rawType": "float64",
         "type": "float"
        },
        {
         "name": "fitness",
         "rawType": "float64",
         "type": "float"
        }
       ],
       "ref": "5d83ed3e-2569-4fd9-b8d1-fa3f27267b40",
       "rows": [
        [
         "0",
         "010010",
         "-0.4285714285714286",
         "0.18367346938775514"
        ],
        [
         "1",
         "101011",
         "0.3650793650793651",
         "0.13328294280675235"
        ],
        [
         "2",
         "101010",
         "0.33333333333333326",
         "0.11111111111111106"
        ],
        [
         "3",
         "101010",
         "0.33333333333333326",
         "0.11111111111111106"
        ],
        [
         "4",
         "011010",
         "-0.17460317460317465",
         "0.030486268581506694"
        ],
        [
         "5",
         "011100",
         "-0.11111111111111116",
         "0.01234567901234569"
        ]
       ],
       "shape": {
        "columns": 3,
        "rows": 6
       }
      },
      "text/html": [
       "<div>\n",
       "<style scoped>\n",
       "    .dataframe tbody tr th:only-of-type {\n",
       "        vertical-align: middle;\n",
       "    }\n",
       "\n",
       "    .dataframe tbody tr th {\n",
       "        vertical-align: top;\n",
       "    }\n",
       "\n",
       "    .dataframe thead th {\n",
       "        text-align: right;\n",
       "    }\n",
       "</style>\n",
       "<table border=\"1\" class=\"dataframe\">\n",
       "  <thead>\n",
       "    <tr style=\"text-align: right;\">\n",
       "      <th></th>\n",
       "      <th>Bin</th>\n",
       "      <th>Valor</th>\n",
       "      <th>fitness</th>\n",
       "    </tr>\n",
       "  </thead>\n",
       "  <tbody>\n",
       "    <tr>\n",
       "      <th>0</th>\n",
       "      <td>010010</td>\n",
       "      <td>-0.428571</td>\n",
       "      <td>0.183673</td>\n",
       "    </tr>\n",
       "    <tr>\n",
       "      <th>1</th>\n",
       "      <td>101011</td>\n",
       "      <td>0.365079</td>\n",
       "      <td>0.133283</td>\n",
       "    </tr>\n",
       "    <tr>\n",
       "      <th>2</th>\n",
       "      <td>101010</td>\n",
       "      <td>0.333333</td>\n",
       "      <td>0.111111</td>\n",
       "    </tr>\n",
       "    <tr>\n",
       "      <th>3</th>\n",
       "      <td>101010</td>\n",
       "      <td>0.333333</td>\n",
       "      <td>0.111111</td>\n",
       "    </tr>\n",
       "    <tr>\n",
       "      <th>4</th>\n",
       "      <td>011010</td>\n",
       "      <td>-0.174603</td>\n",
       "      <td>0.030486</td>\n",
       "    </tr>\n",
       "    <tr>\n",
       "      <th>5</th>\n",
       "      <td>011100</td>\n",
       "      <td>-0.111111</td>\n",
       "      <td>0.012346</td>\n",
       "    </tr>\n",
       "  </tbody>\n",
       "</table>\n",
       "</div>"
      ],
      "text/plain": [
       "      Bin     Valor   fitness\n",
       "0  010010 -0.428571  0.183673\n",
       "1  101011  0.365079  0.133283\n",
       "2  101010  0.333333  0.111111\n",
       "3  101010  0.333333  0.111111\n",
       "4  011010 -0.174603  0.030486\n",
       "5  011100 -0.111111  0.012346"
      ]
     },
     "metadata": {},
     "output_type": "display_data"
    }
   ],
   "source": [
    "df_ts = df2.reset_index(drop=True)\n",
    "display(df_ts)"
   ]
  },
  {
   "cell_type": "code",
   "execution_count": 44,
   "metadata": {},
   "outputs": [
    {
     "name": "stdout",
     "output_type": "stream",
     "text": [
      "Pareja 1:\n",
      "Padre 1 Bin: 000111\n",
      "Padre 2 Bin: 011110\n",
      "---\n",
      "Pareja 2:\n",
      "Padre 1 Bin: 110111\n",
      "Padre 2 Bin: 011010\n",
      "---\n",
      "Pareja 3:\n",
      "Padre 1 Bin: 110110\n",
      "Padre 2 Bin: 100111\n",
      "---\n",
      "Hijo 1 Bin: 000110\n",
      "Hijo 2 Bin: 011111\n",
      "Hijo 3 Bin: 110010\n",
      "Hijo 4 Bin: 011111\n",
      "Hijo 5 Bin: 110111\n",
      "Hijo 6 Bin: 100110\n"
     ]
    }
   ],
   "source": [
    "def parejas_tournament(df):\n",
    "    df_rs = df.reset_index(drop=True)\n",
    "    parejas = []\n",
    "    n = len(df_rs)\n",
    "    for i in range(n // 2):\n",
    "        pareja = (df_rs.iloc[i], df_rs.iloc[n - 1 - i])\n",
    "        parejas.append(pareja)\n",
    "    return parejas\n",
    "\n",
    "parejas = parejas_tournament(df2)\n",
    "hijos_binarios = cruza_corte(parejas, 3)\n",
    "for idx, (p1, p2) in enumerate(parejas):\n",
    "    print(f\"Pareja {idx+1}:\")\n",
    "    print(\"Padre 1 Bin:\", p1['Bin'])\n",
    "    print(\"Padre 2 Bin:\", p2['Bin'])\n",
    "    print(\"---\")\n",
    "\n",
    "for idx, hijo_bin in enumerate(hijos_binarios):\n",
    "    print(f\"Hijo {idx+1} Bin:\", hijo_bin)"
   ]
  },
  {
   "cell_type": "code",
   "execution_count": 45,
   "metadata": {},
   "outputs": [
    {
     "data": {
      "application/vnd.microsoft.datawrangler.viewer.v0+json": {
       "columns": [
        {
         "name": "index",
         "rawType": "int64",
         "type": "integer"
        },
        {
         "name": "Bin",
         "rawType": "object",
         "type": "string"
        },
        {
         "name": "Valor",
         "rawType": "float64",
         "type": "float"
        },
        {
         "name": "fitness",
         "rawType": "float64",
         "type": "float"
        }
       ],
       "ref": "215d232e-90f1-4d0a-9cd0-43c611f5cc08",
       "rows": [
        [
         "0",
         "010010",
         "-0.4285714285714286",
         "0.18367346938775514"
        ],
        [
         "1",
         "101011",
         "0.3650793650793651",
         "0.13328294280675235"
        ],
        [
         "2",
         "101010",
         "0.33333333333333326",
         "0.11111111111111106"
        ],
        [
         "3",
         "101010",
         "0.33333333333333326",
         "0.11111111111111106"
        ],
        [
         "4",
         "011010",
         "-0.17460317460317465",
         "0.030486268581506694"
        ],
        [
         "5",
         "011100",
         "-0.11111111111111116",
         "0.01234567901234569"
        ],
        [
         "6",
         "000110",
         "-0.8095238095238095",
         "0.655328798185941"
        ],
        [
         "7",
         "011111",
         "-0.015873015873015928",
         "0.0002519526329050156"
        ],
        [
         "8",
         "110010",
         "0.5873015873015872",
         "0.34492315444696386"
        ],
        [
         "9",
         "011111",
         "-0.015873015873015928",
         "0.0002519526329050156"
        ],
        [
         "10",
         "110111",
         "0.746031746031746",
         "0.5565633660871756"
        ],
        [
         "11",
         "100110",
         "0.20634920634920628",
         "0.04257999496094732"
        ]
       ],
       "shape": {
        "columns": 3,
        "rows": 12
       }
      },
      "text/html": [
       "<div>\n",
       "<style scoped>\n",
       "    .dataframe tbody tr th:only-of-type {\n",
       "        vertical-align: middle;\n",
       "    }\n",
       "\n",
       "    .dataframe tbody tr th {\n",
       "        vertical-align: top;\n",
       "    }\n",
       "\n",
       "    .dataframe thead th {\n",
       "        text-align: right;\n",
       "    }\n",
       "</style>\n",
       "<table border=\"1\" class=\"dataframe\">\n",
       "  <thead>\n",
       "    <tr style=\"text-align: right;\">\n",
       "      <th></th>\n",
       "      <th>Bin</th>\n",
       "      <th>Valor</th>\n",
       "      <th>fitness</th>\n",
       "    </tr>\n",
       "  </thead>\n",
       "  <tbody>\n",
       "    <tr>\n",
       "      <th>0</th>\n",
       "      <td>010010</td>\n",
       "      <td>-0.428571</td>\n",
       "      <td>0.183673</td>\n",
       "    </tr>\n",
       "    <tr>\n",
       "      <th>1</th>\n",
       "      <td>101011</td>\n",
       "      <td>0.365079</td>\n",
       "      <td>0.133283</td>\n",
       "    </tr>\n",
       "    <tr>\n",
       "      <th>2</th>\n",
       "      <td>101010</td>\n",
       "      <td>0.333333</td>\n",
       "      <td>0.111111</td>\n",
       "    </tr>\n",
       "    <tr>\n",
       "      <th>3</th>\n",
       "      <td>101010</td>\n",
       "      <td>0.333333</td>\n",
       "      <td>0.111111</td>\n",
       "    </tr>\n",
       "    <tr>\n",
       "      <th>4</th>\n",
       "      <td>011010</td>\n",
       "      <td>-0.174603</td>\n",
       "      <td>0.030486</td>\n",
       "    </tr>\n",
       "    <tr>\n",
       "      <th>5</th>\n",
       "      <td>011100</td>\n",
       "      <td>-0.111111</td>\n",
       "      <td>0.012346</td>\n",
       "    </tr>\n",
       "    <tr>\n",
       "      <th>6</th>\n",
       "      <td>000110</td>\n",
       "      <td>-0.809524</td>\n",
       "      <td>0.655329</td>\n",
       "    </tr>\n",
       "    <tr>\n",
       "      <th>7</th>\n",
       "      <td>011111</td>\n",
       "      <td>-0.015873</td>\n",
       "      <td>0.000252</td>\n",
       "    </tr>\n",
       "    <tr>\n",
       "      <th>8</th>\n",
       "      <td>110010</td>\n",
       "      <td>0.587302</td>\n",
       "      <td>0.344923</td>\n",
       "    </tr>\n",
       "    <tr>\n",
       "      <th>9</th>\n",
       "      <td>011111</td>\n",
       "      <td>-0.015873</td>\n",
       "      <td>0.000252</td>\n",
       "    </tr>\n",
       "    <tr>\n",
       "      <th>10</th>\n",
       "      <td>110111</td>\n",
       "      <td>0.746032</td>\n",
       "      <td>0.556563</td>\n",
       "    </tr>\n",
       "    <tr>\n",
       "      <th>11</th>\n",
       "      <td>100110</td>\n",
       "      <td>0.206349</td>\n",
       "      <td>0.042580</td>\n",
       "    </tr>\n",
       "  </tbody>\n",
       "</table>\n",
       "</div>"
      ],
      "text/plain": [
       "       Bin     Valor   fitness\n",
       "0   010010 -0.428571  0.183673\n",
       "1   101011  0.365079  0.133283\n",
       "2   101010  0.333333  0.111111\n",
       "3   101010  0.333333  0.111111\n",
       "4   011010 -0.174603  0.030486\n",
       "5   011100 -0.111111  0.012346\n",
       "6   000110 -0.809524  0.655329\n",
       "7   011111 -0.015873  0.000252\n",
       "8   110010  0.587302  0.344923\n",
       "9   011111 -0.015873  0.000252\n",
       "10  110111  0.746032  0.556563\n",
       "11  100110  0.206349  0.042580"
      ]
     },
     "metadata": {},
     "output_type": "display_data"
    }
   ],
   "source": [
    "gen1_t = pd.DataFrame(hijos_binarios, columns=['Bin'])\n",
    "gen1_t['Valor'] = gen1_t['Bin'].apply(lambda b: bin2val(b, valores))\n",
    "gen1_t['fitness'] = gen1_t['Valor']**2\n",
    "\n",
    "gen1_t = pd.concat([df_ts, gen1_t], ignore_index=True)\n",
    "display(gen1_t)"
   ]
  },
  {
   "cell_type": "markdown",
   "metadata": {},
   "source": [
    "Una vez que hemos hecho nuestras dos cruzas uniremos toda nuestra poblacion y obtenemos nuestros datos de control"
   ]
  },
  {
   "cell_type": "code",
   "execution_count": 46,
   "metadata": {},
   "outputs": [
    {
     "data": {
      "application/vnd.microsoft.datawrangler.viewer.v0+json": {
       "columns": [
        {
         "name": "index",
         "rawType": "int64",
         "type": "integer"
        },
        {
         "name": "Bin",
         "rawType": "object",
         "type": "string"
        },
        {
         "name": "Valor",
         "rawType": "float64",
         "type": "float"
        },
        {
         "name": "fitness",
         "rawType": "float64",
         "type": "float"
        }
       ],
       "ref": "ad15b90c-819c-4119-9ff0-9c9f1e6bcd12",
       "rows": [
        [
         "0",
         "000010",
         "-0.9365079365079365",
         "0.8770471151423532"
        ],
        [
         "1",
         "111100",
         "0.9047619047619047",
         "0.8185941043083899"
        ],
        [
         "2",
         "000100",
         "-0.873015873015873",
         "0.762156714537667"
        ],
        [
         "3",
         "000101",
         "-0.8412698412698413",
         "0.7077349458301839"
        ],
        [
         "4",
         "000101",
         "-0.8412698412698413",
         "0.7077349458301839"
        ],
        [
         "5",
         "000101",
         "-0.8412698412698413",
         "0.7077349458301839"
        ],
        [
         "6",
         "000101",
         "-0.8412698412698413",
         "0.7077349458301839"
        ],
        [
         "7",
         "111010",
         "0.8412698412698412",
         "0.7077349458301837"
        ],
        [
         "8",
         "000110",
         "-0.8095238095238095",
         "0.655328798185941"
        ],
        [
         "9",
         "110111",
         "0.746031746031746",
         "0.5565633660871756"
        ],
        [
         "10",
         "110010",
         "0.5873015873015872",
         "0.34492315444696386"
        ],
        [
         "11",
         "010010",
         "-0.4285714285714286",
         "0.18367346938775514"
        ],
        [
         "12",
         "101011",
         "0.3650793650793651",
         "0.13328294280675235"
        ],
        [
         "13",
         "101010",
         "0.33333333333333326",
         "0.11111111111111106"
        ],
        [
         "14",
         "101010",
         "0.33333333333333326",
         "0.11111111111111106"
        ],
        [
         "15",
         "100110",
         "0.20634920634920628",
         "0.04257999496094732"
        ],
        [
         "16",
         "011010",
         "-0.17460317460317465",
         "0.030486268581506694"
        ],
        [
         "17",
         "011100",
         "-0.11111111111111116",
         "0.01234567901234569"
        ],
        [
         "18",
         "011111",
         "-0.015873015873015928",
         "0.0002519526329050156"
        ],
        [
         "19",
         "011111",
         "-0.015873015873015928",
         "0.0002519526329050156"
        ]
       ],
       "shape": {
        "columns": 3,
        "rows": 20
       }
      },
      "text/html": [
       "<div>\n",
       "<style scoped>\n",
       "    .dataframe tbody tr th:only-of-type {\n",
       "        vertical-align: middle;\n",
       "    }\n",
       "\n",
       "    .dataframe tbody tr th {\n",
       "        vertical-align: top;\n",
       "    }\n",
       "\n",
       "    .dataframe thead th {\n",
       "        text-align: right;\n",
       "    }\n",
       "</style>\n",
       "<table border=\"1\" class=\"dataframe\">\n",
       "  <thead>\n",
       "    <tr style=\"text-align: right;\">\n",
       "      <th></th>\n",
       "      <th>Bin</th>\n",
       "      <th>Valor</th>\n",
       "      <th>fitness</th>\n",
       "    </tr>\n",
       "  </thead>\n",
       "  <tbody>\n",
       "    <tr>\n",
       "      <th>0</th>\n",
       "      <td>000010</td>\n",
       "      <td>-0.936508</td>\n",
       "      <td>0.877047</td>\n",
       "    </tr>\n",
       "    <tr>\n",
       "      <th>1</th>\n",
       "      <td>111100</td>\n",
       "      <td>0.904762</td>\n",
       "      <td>0.818594</td>\n",
       "    </tr>\n",
       "    <tr>\n",
       "      <th>2</th>\n",
       "      <td>000100</td>\n",
       "      <td>-0.873016</td>\n",
       "      <td>0.762157</td>\n",
       "    </tr>\n",
       "    <tr>\n",
       "      <th>3</th>\n",
       "      <td>000101</td>\n",
       "      <td>-0.841270</td>\n",
       "      <td>0.707735</td>\n",
       "    </tr>\n",
       "    <tr>\n",
       "      <th>4</th>\n",
       "      <td>000101</td>\n",
       "      <td>-0.841270</td>\n",
       "      <td>0.707735</td>\n",
       "    </tr>\n",
       "    <tr>\n",
       "      <th>5</th>\n",
       "      <td>000101</td>\n",
       "      <td>-0.841270</td>\n",
       "      <td>0.707735</td>\n",
       "    </tr>\n",
       "    <tr>\n",
       "      <th>6</th>\n",
       "      <td>000101</td>\n",
       "      <td>-0.841270</td>\n",
       "      <td>0.707735</td>\n",
       "    </tr>\n",
       "    <tr>\n",
       "      <th>7</th>\n",
       "      <td>111010</td>\n",
       "      <td>0.841270</td>\n",
       "      <td>0.707735</td>\n",
       "    </tr>\n",
       "    <tr>\n",
       "      <th>8</th>\n",
       "      <td>000110</td>\n",
       "      <td>-0.809524</td>\n",
       "      <td>0.655329</td>\n",
       "    </tr>\n",
       "    <tr>\n",
       "      <th>9</th>\n",
       "      <td>110111</td>\n",
       "      <td>0.746032</td>\n",
       "      <td>0.556563</td>\n",
       "    </tr>\n",
       "    <tr>\n",
       "      <th>10</th>\n",
       "      <td>110010</td>\n",
       "      <td>0.587302</td>\n",
       "      <td>0.344923</td>\n",
       "    </tr>\n",
       "    <tr>\n",
       "      <th>11</th>\n",
       "      <td>010010</td>\n",
       "      <td>-0.428571</td>\n",
       "      <td>0.183673</td>\n",
       "    </tr>\n",
       "    <tr>\n",
       "      <th>12</th>\n",
       "      <td>101011</td>\n",
       "      <td>0.365079</td>\n",
       "      <td>0.133283</td>\n",
       "    </tr>\n",
       "    <tr>\n",
       "      <th>13</th>\n",
       "      <td>101010</td>\n",
       "      <td>0.333333</td>\n",
       "      <td>0.111111</td>\n",
       "    </tr>\n",
       "    <tr>\n",
       "      <th>14</th>\n",
       "      <td>101010</td>\n",
       "      <td>0.333333</td>\n",
       "      <td>0.111111</td>\n",
       "    </tr>\n",
       "    <tr>\n",
       "      <th>15</th>\n",
       "      <td>100110</td>\n",
       "      <td>0.206349</td>\n",
       "      <td>0.042580</td>\n",
       "    </tr>\n",
       "    <tr>\n",
       "      <th>16</th>\n",
       "      <td>011010</td>\n",
       "      <td>-0.174603</td>\n",
       "      <td>0.030486</td>\n",
       "    </tr>\n",
       "    <tr>\n",
       "      <th>17</th>\n",
       "      <td>011100</td>\n",
       "      <td>-0.111111</td>\n",
       "      <td>0.012346</td>\n",
       "    </tr>\n",
       "    <tr>\n",
       "      <th>18</th>\n",
       "      <td>011111</td>\n",
       "      <td>-0.015873</td>\n",
       "      <td>0.000252</td>\n",
       "    </tr>\n",
       "    <tr>\n",
       "      <th>19</th>\n",
       "      <td>011111</td>\n",
       "      <td>-0.015873</td>\n",
       "      <td>0.000252</td>\n",
       "    </tr>\n",
       "  </tbody>\n",
       "</table>\n",
       "</div>"
      ],
      "text/plain": [
       "       Bin     Valor   fitness\n",
       "0   000010 -0.936508  0.877047\n",
       "1   111100  0.904762  0.818594\n",
       "2   000100 -0.873016  0.762157\n",
       "3   000101 -0.841270  0.707735\n",
       "4   000101 -0.841270  0.707735\n",
       "5   000101 -0.841270  0.707735\n",
       "6   000101 -0.841270  0.707735\n",
       "7   111010  0.841270  0.707735\n",
       "8   000110 -0.809524  0.655329\n",
       "9   110111  0.746032  0.556563\n",
       "10  110010  0.587302  0.344923\n",
       "11  010010 -0.428571  0.183673\n",
       "12  101011  0.365079  0.133283\n",
       "13  101010  0.333333  0.111111\n",
       "14  101010  0.333333  0.111111\n",
       "15  100110  0.206349  0.042580\n",
       "16  011010 -0.174603  0.030486\n",
       "17  011100 -0.111111  0.012346\n",
       "18  011111 -0.015873  0.000252\n",
       "19  011111 -0.015873  0.000252"
      ]
     },
     "metadata": {},
     "output_type": "display_data"
    }
   ],
   "source": [
    "gen1 = pd.concat([gen1_r, gen1_t], ignore_index=True)\n",
    "gen1.sort_values(by='fitness', ascending=False, inplace=True)\n",
    "gen1.reset_index(drop=True, inplace=True)\n",
    "display(gen1)"
   ]
  },
  {
   "cell_type": "markdown",
   "metadata": {},
   "source": [
    "De estos tomaremos solo los 10 más aptos que pasaran a la siguiente generacion."
   ]
  },
  {
   "cell_type": "code",
   "execution_count": 47,
   "metadata": {},
   "outputs": [
    {
     "name": "stdout",
     "output_type": "stream",
     "text": [
      "      Bin     Valor   fitness\n",
      "0  000010 -0.936508  0.877047\n",
      "1  111100  0.904762  0.818594\n",
      "2  000100 -0.873016  0.762157\n",
      "3  000101 -0.841270  0.707735\n",
      "4  000101 -0.841270  0.707735\n",
      "5  000101 -0.841270  0.707735\n",
      "6  000101 -0.841270  0.707735\n",
      "7  111010  0.841270  0.707735\n",
      "8  000110 -0.809524  0.655329\n",
      "9  110111  0.746032  0.556563\n"
     ]
    }
   ],
   "source": [
    "gen1 = gen1.iloc[:10]\n",
    "print(gen1)"
   ]
  },
  {
   "cell_type": "code",
   "execution_count": 48,
   "metadata": {},
   "outputs": [],
   "source": [
    "df_hist = add_hist(gen1, df_hist)"
   ]
  },
  {
   "cell_type": "markdown",
   "metadata": {},
   "source": [
    "Esto marca el final de nuestra primera generacion ya que se hizo la cruza y nos quedamos con los 10 mayormente aptos, con lo hecho anteriormente ahora solo queda repetir el proceso hasta completar el criterio de paro."
   ]
  },
  {
   "cell_type": "markdown",
   "metadata": {},
   "source": [
    "# Ciclo"
   ]
  },
  {
   "cell_type": "markdown",
   "metadata": {},
   "source": [
    "En este caso nuestro criterio de paro sera por numero de generaciones, es decir manualmente asignaremos cuantas generaciones queremos que corran antes de detenernos"
   ]
  },
  {
   "cell_type": "code",
   "execution_count": 49,
   "metadata": {
    "id": "MRpANU28Crv7"
   },
   "outputs": [
    {
     "name": "stdout",
     "output_type": "stream",
     "text": [
      "Generación: 0\n",
      "Top Result:\n",
      "       Bin     Valor   fitness\n",
      "0  000010 -0.936508  0.877047\n",
      "Avg Fit: 0.7859410430839002\n",
      "Generación: 1\n",
      "Top Result:\n",
      "       Bin     Valor   fitness\n",
      "0  000010 -0.936508  0.877047\n",
      "Avg Fit: 0.8423784328546233\n",
      "Generación: 2\n",
      "Top Result:\n",
      "       Bin     Valor   fitness\n",
      "0  000010 -0.936508  0.877047\n",
      "Avg Fit: 0.8770471151423532\n",
      "Generación: 3\n",
      "Top Result:\n",
      "       Bin     Valor   fitness\n",
      "0  000010 -0.936508  0.877047\n",
      "Avg Fit: 0.8770471151423532\n",
      "Generación: 4\n",
      "Top Result:\n",
      "       Bin     Valor   fitness\n",
      "0  000010 -0.936508  0.877047\n",
      "Avg Fit: 0.8770471151423532\n"
     ]
    }
   ],
   "source": [
    "i = 0\n",
    "for i in range(5): # Repetir el proceso de selección, cruza y reemplazo\n",
    "    # Rank\n",
    "    df1 = gen1.iloc[:4]\n",
    "    # torneo\n",
    "    df2 = gen1.iloc[4:10]\n",
    "\n",
    "\n",
    "    # Cruza por rank\n",
    "    parejas = parejas_rank(df1)\n",
    "    hijos_binarios = cruza_corte(parejas, 3)\n",
    "    gen1_r = pd.DataFrame(hijos_binarios, columns=['Bin'])\n",
    "    gen1_r['Valor'] = gen1_r['Bin'].apply(lambda b: bin2val(b, valores))\n",
    "    gen1_r['fitness'] = gen1_r['Valor']**2\n",
    "    gen1_r = pd.concat([df1.reset_index(drop=True), gen1_r], ignore_index=True)\n",
    "\n",
    "    # Cruza por torneo\n",
    "    parejas = parejas_tournament(df2)\n",
    "    hijos_binarios = cruza_corte(parejas, 3)\n",
    "    gen1_t = pd.DataFrame(hijos_binarios, columns=['Bin'])\n",
    "    gen1_t['Valor'] = gen1_t['Bin'].apply(lambda b: bin2val(b, valores))\n",
    "    gen1_t['fitness'] = gen1_t['Valor']**2\n",
    "    gen1_t = pd.concat([df2.reset_index(drop=True), gen1_t], ignore_index=True)\n",
    "\n",
    "\n",
    "    # Unir y seleccionar los mejores 10\n",
    "    gen1 = pd.concat([gen1_r, gen1_t], ignore_index=True)\n",
    "    gen1.sort_values(by='fitness', ascending=False, inplace=True)\n",
    "    gen1.reset_index(drop=True, inplace=True)\n",
    "    gen1 = gen1.iloc[:10]\n",
    "    \n",
    "    # Registrar estadísticas\n",
    "    print(\"Generación:\", i)\n",
    "    i += 1\n",
    "    flag1 = gen1.iloc[[0]].copy()\n",
    "    flag2 = gen1[\"fitness\"].mean()\n",
    "    print(\"Top Result:\\n\", flag1)\n",
    "    print(\"Avg Fit:\", flag2)\n",
    "    df_hist = add_hist(gen1, df_hist)"
   ]
  },
  {
   "cell_type": "code",
   "execution_count": 50,
   "metadata": {},
   "outputs": [
    {
     "name": "stdout",
     "output_type": "stream",
     "text": [
      "      Bin     Valor   fitness\n",
      "0  000010 -0.936508  0.877047\n",
      "1  000010 -0.936508  0.877047\n",
      "2  000010 -0.936508  0.877047\n",
      "3  000010 -0.936508  0.877047\n",
      "4  000010 -0.936508  0.877047\n",
      "5  000010 -0.936508  0.877047\n",
      "6  000010 -0.936508  0.877047\n",
      "7  000010 -0.936508  0.877047\n",
      "8  000010 -0.936508  0.877047\n",
      "9  000010 -0.936508  0.877047\n"
     ]
    }
   ],
   "source": [
    "print(gen1)"
   ]
  },
  {
   "cell_type": "code",
   "execution_count": 51,
   "metadata": {},
   "outputs": [
    {
     "name": "stdout",
     "output_type": "stream",
     "text": [
      "      Bin     Valor   fitness  Avg_Fitness\n",
      "0  000010 -0.936508  0.877047     0.487226\n",
      "1  000010 -0.936508  0.877047     0.720836\n",
      "2  000010 -0.936508  0.877047     0.785941\n",
      "3  000010 -0.936508  0.877047     0.842378\n",
      "4  000010 -0.936508  0.877047     0.877047\n",
      "5  000010 -0.936508  0.877047     0.877047\n",
      "6  000010 -0.936508  0.877047     0.877047\n"
     ]
    }
   ],
   "source": [
    "print(df_hist)"
   ]
  },
  {
   "cell_type": "markdown",
   "metadata": {},
   "source": [
    "# Analisando Nuestro Algoritmo"
   ]
  },
  {
   "cell_type": "code",
   "execution_count": 52,
   "metadata": {},
   "outputs": [
    {
     "data": {
      "image/png": "[encoded data removed]",
      "text/plain": [
       "<Figure size 640x480 with 1 Axes>"
      ]
     },
     "metadata": {},
     "output_type": "display_data"
    }
   ],
   "source": [
    "plt.plot(df_hist['fitness'], label='Top Fitness')\n",
    "plt.plot(df_hist['Avg_Fitness'], label='Avg Fitness')\n",
    "plt.xlabel('Generación')\n",
    "plt.ylabel('Fitness')\n",
    "plt.legend()\n",
    "plt.show()"
   ]
  },
  {
   "cell_type": "code",
   "execution_count": 53,
   "metadata": {},
   "outputs": [
    {
     "data": {
      "image/png": "[encoded data removed]",
      "text/plain": [
       "<Figure size 640x480 with 1 Axes>"
      ]
     },
     "metadata": {},
     "output_type": "display_data"
    }
   ],
   "source": [
    "# Rango de x\n",
    "x = np.linspace(-1, 1, 200)\n",
    "y = x**2\n",
    "\n",
    "pts_top_fitness = df_hist.loc[0:5, ['Valor', 'fitness']].to_numpy()\n",
    "\n",
    "# Graficar la función\n",
    "plt.plot(x, y, label='$y = x^2$')\n",
    "\n",
    "# Marcar los puntos\n",
    "for px, py in pts_top_fitness:\n",
    "    plt.scatter(px, py, color='red', s=50, zorder=5)  # punto\n",
    "    plt.text(px, py + 0.02, f\"({px:.2f}, {py:.2f})\", ha='center')  # etiqueta\n",
    "\n",
    "plt.xlabel(\"x\")\n",
    "plt.ylabel(\"y\")\n",
    "plt.title(\"Gráfica de y = x^2 con puntos marcados\")\n",
    "plt.legend()\n",
    "plt.grid(True)\n",
    "plt.show()"
   ]
  },
  {
   "cell_type": "markdown",
   "metadata": {},
   "source": [
    "# 2do Metodo de Cruza"
   ]
  },
  {
   "cell_type": "code",
   "execution_count": 55,
   "metadata": {},
   "outputs": [
    {
     "data": {
      "application/vnd.microsoft.datawrangler.viewer.v0+json": {
       "columns": [
        {
         "name": "index",
         "rawType": "int64",
         "type": "integer"
        },
        {
         "name": "Bin",
         "rawType": "object",
         "type": "string"
        },
        {
         "name": "Valor",
         "rawType": "float64",
         "type": "float"
        },
        {
         "name": "fitness",
         "rawType": "float64",
         "type": "float"
        }
       ],
       "ref": "7e3a326a-b177-4b1d-b0ed-535b505ce76c",
       "rows": [
        [
         "0",
         "000010",
         "-0.9365079365079365",
         "0.8770471151423532"
        ],
        [
         "1",
         "111100",
         "0.9047619047619047",
         "0.8185941043083899"
        ],
        [
         "2",
         "000101",
         "-0.8412698412698413",
         "0.7077349458301839"
        ],
        [
         "3",
         "000101",
         "-0.8412698412698413",
         "0.7077349458301839"
        ],
        [
         "4",
         "000111",
         "-0.7777777777777778",
         "0.6049382716049383"
        ],
        [
         "5",
         "110111",
         "0.746031746031746",
         "0.5565633660871756"
        ],
        [
         "6",
         "110110",
         "0.7142857142857142",
         "0.510204081632653"
        ],
        [
         "7",
         "100111",
         "0.23809523809523814",
         "0.056689342403628135"
        ],
        [
         "8",
         "011010",
         "-0.17460317460317465",
         "0.030486268581506694"
        ],
        [
         "9",
         "011110",
         "-0.04761904761904767",
         "0.0022675736961451295"
        ]
       ],
       "shape": {
        "columns": 3,
        "rows": 10
       }
      },
      "text/html": [
       "<div>\n",
       "<style scoped>\n",
       "    .dataframe tbody tr th:only-of-type {\n",
       "        vertical-align: middle;\n",
       "    }\n",
       "\n",
       "    .dataframe tbody tr th {\n",
       "        vertical-align: top;\n",
       "    }\n",
       "\n",
       "    .dataframe thead th {\n",
       "        text-align: right;\n",
       "    }\n",
       "</style>\n",
       "<table border=\"1\" class=\"dataframe\">\n",
       "  <thead>\n",
       "    <tr style=\"text-align: right;\">\n",
       "      <th></th>\n",
       "      <th>Bin</th>\n",
       "      <th>Valor</th>\n",
       "      <th>fitness</th>\n",
       "    </tr>\n",
       "  </thead>\n",
       "  <tbody>\n",
       "    <tr>\n",
       "      <th>0</th>\n",
       "      <td>000010</td>\n",
       "      <td>-0.936508</td>\n",
       "      <td>0.877047</td>\n",
       "    </tr>\n",
       "    <tr>\n",
       "      <th>1</th>\n",
       "      <td>111100</td>\n",
       "      <td>0.904762</td>\n",
       "      <td>0.818594</td>\n",
       "    </tr>\n",
       "    <tr>\n",
       "      <th>2</th>\n",
       "      <td>000101</td>\n",
       "      <td>-0.841270</td>\n",
       "      <td>0.707735</td>\n",
       "    </tr>\n",
       "    <tr>\n",
       "      <th>3</th>\n",
       "      <td>000101</td>\n",
       "      <td>-0.841270</td>\n",
       "      <td>0.707735</td>\n",
       "    </tr>\n",
       "    <tr>\n",
       "      <th>4</th>\n",
       "      <td>000111</td>\n",
       "      <td>-0.777778</td>\n",
       "      <td>0.604938</td>\n",
       "    </tr>\n",
       "    <tr>\n",
       "      <th>5</th>\n",
       "      <td>110111</td>\n",
       "      <td>0.746032</td>\n",
       "      <td>0.556563</td>\n",
       "    </tr>\n",
       "    <tr>\n",
       "      <th>6</th>\n",
       "      <td>110110</td>\n",
       "      <td>0.714286</td>\n",
       "      <td>0.510204</td>\n",
       "    </tr>\n",
       "    <tr>\n",
       "      <th>7</th>\n",
       "      <td>100111</td>\n",
       "      <td>0.238095</td>\n",
       "      <td>0.056689</td>\n",
       "    </tr>\n",
       "    <tr>\n",
       "      <th>8</th>\n",
       "      <td>011010</td>\n",
       "      <td>-0.174603</td>\n",
       "      <td>0.030486</td>\n",
       "    </tr>\n",
       "    <tr>\n",
       "      <th>9</th>\n",
       "      <td>011110</td>\n",
       "      <td>-0.047619</td>\n",
       "      <td>0.002268</td>\n",
       "    </tr>\n",
       "  </tbody>\n",
       "</table>\n",
       "</div>"
      ],
      "text/plain": [
       "      Bin     Valor   fitness\n",
       "0  000010 -0.936508  0.877047\n",
       "1  111100  0.904762  0.818594\n",
       "2  000101 -0.841270  0.707735\n",
       "3  000101 -0.841270  0.707735\n",
       "4  000111 -0.777778  0.604938\n",
       "5  110111  0.746032  0.556563\n",
       "6  110110  0.714286  0.510204\n",
       "7  100111  0.238095  0.056689\n",
       "8  011010 -0.174603  0.030486\n",
       "9  011110 -0.047619  0.002268"
      ]
     },
     "metadata": {},
     "output_type": "display_data"
    }
   ],
   "source": [
    "display(df)"
   ]
  },
  {
   "cell_type": "code",
   "execution_count": 56,
   "metadata": {},
   "outputs": [],
   "source": [
    "def cruza_k_cortes(parejas, k):\n",
    "    hijos = []\n",
    "    for p1, p2 in parejas:\n",
    "        bin1 = p1['Bin']\n",
    "        bin2 = p2['Bin']\n",
    "        L = len(bin1)\n",
    "        if len(bin2) != L:\n",
    "            raise ValueError(\"Los cromosomas deben tener la misma longitud.\")\n",
    "        if k < 1 or k >= L:\n",
    "            raise ValueError(\"k debe estar entre 1 y longitud-1.\")\n",
    "\n",
    "        # Calcular tamaño de segmentos para tener k cortes → k+1 segmentos\n",
    "        segment_size = L // (k + 1)\n",
    "\n",
    "        # Dividir en segmentos\n",
    "        segs1 = [bin1[i:i+segment_size] for i in range(0, L, segment_size)]\n",
    "        segs2 = [bin2[i:i+segment_size] for i in range(0, L, segment_size)]\n",
    "\n",
    "        # Alternar segmentos\n",
    "        hijo1 = ''.join(segs1[i] if i % 2 == 0 else segs2[i] for i in range(len(segs1)))\n",
    "        hijo2 = ''.join(segs2[i] if i % 2 == 0 else segs1[i] for i in range(len(segs2)))\n",
    "\n",
    "        hijos.append(hijo1)\n",
    "        hijos.append(hijo2)\n",
    "    return hijos\n"
   ]
  },
  {
   "cell_type": "code",
   "execution_count": 57,
   "metadata": {},
   "outputs": [
    {
     "name": "stdout",
     "output_type": "stream",
     "text": [
      "Pareja 1:\n",
      "Padre 1 Bin: 000010\n",
      "Padre 2 Bin: 000010\n",
      "---\n",
      "Pareja 2:\n",
      "Padre 1 Bin: 000010\n",
      "Padre 2 Bin: 000010\n",
      "---\n",
      "Pareja 3:\n",
      "Padre 1 Bin: 000010\n",
      "Padre 2 Bin: 000010\n",
      "---\n",
      "Hijo 1 Bin: 000010\n",
      "Hijo 2 Bin: 000010\n",
      "Hijo 3 Bin: 000010\n",
      "Hijo 4 Bin: 000010\n",
      "Hijo 5 Bin: 000010\n",
      "Hijo 6 Bin: 000010\n"
     ]
    }
   ],
   "source": [
    "parejas = parejas_tournament(df2)\n",
    "hijos_binarios = cruza_k_cortes(parejas, 2)\n",
    "for idx, (p1, p2) in enumerate(parejas):\n",
    "    print(f\"Pareja {idx+1}:\")\n",
    "    print(\"Padre 1 Bin:\", p1['Bin'])\n",
    "    print(\"Padre 2 Bin:\", p2['Bin'])\n",
    "    print(\"---\")\n",
    "\n",
    "for idx, hijo_bin in enumerate(hijos_binarios):\n",
    "    print(f\"Hijo {idx+1} Bin:\", hijo_bin)"
   ]
  },
  {
   "cell_type": "code",
   "execution_count": 58,
   "metadata": {},
   "outputs": [
    {
     "name": "stderr",
     "output_type": "stream",
     "text": [
      "C:\\Users\\death\\AppData\\Local\\Temp\\ipykernel_22708\\3672471164.py:6: FutureWarning: The behavior of DataFrame concatenation with empty or all-NA entries is deprecated. In a future version, this will no longer exclude empty or all-NA columns when determining the result dtypes. To retain the old behavior, exclude the relevant entries before the concat operation.\n",
      "  df_hist = pd.concat([df_hist, nuevo_registro], ignore_index=True)\n"
     ]
    }
   ],
   "source": [
    "df_hist2 = pd.DataFrame(columns=[\"Bin\",\"Valor\",\"fitness\", \"Avg_Fitness\"])\n",
    "df_hist2 = add_hist(df, df_hist2)"
   ]
  },
  {
   "cell_type": "markdown",
   "metadata": {},
   "source": [
    "## Ciclo"
   ]
  },
  {
   "cell_type": "code",
   "execution_count": 59,
   "metadata": {},
   "outputs": [
    {
     "name": "stdout",
     "output_type": "stream",
     "text": [
      "Generación: 0\n",
      "Top Result:\n",
      "       Bin     Valor   fitness\n",
      "0  000010 -0.936508  0.877047\n",
      "Avg Fit: 0.6960443436633913\n",
      "Generación: 1\n",
      "Top Result:\n",
      "       Bin     Valor   fitness\n",
      "0  000010 -0.936508  0.877047\n",
      "Avg Fit: 0.6960443436633913\n",
      "Generación: 2\n",
      "Top Result:\n",
      "       Bin     Valor   fitness\n",
      "0  000010 -0.936508  0.877047\n",
      "Avg Fit: 0.6960443436633913\n",
      "Generación: 3\n",
      "Top Result:\n",
      "       Bin     Valor   fitness\n",
      "0  000010 -0.936508  0.877047\n",
      "Avg Fit: 0.6960443436633913\n",
      "Generación: 4\n",
      "Top Result:\n",
      "       Bin     Valor   fitness\n",
      "0  000010 -0.936508  0.877047\n",
      "Avg Fit: 0.6960443436633913\n",
      "Generación: 5\n",
      "Top Result:\n",
      "       Bin     Valor   fitness\n",
      "0  000010 -0.936508  0.877047\n",
      "Avg Fit: 0.6960443436633913\n"
     ]
    }
   ],
   "source": [
    "i = 0\n",
    "for i in range(6): # Repetir el proceso de selección, cruza y reemplazo\n",
    "    # Rank\n",
    "    df1 = df.iloc[:4]\n",
    "    # torneo\n",
    "    df2 = df.iloc[4:10]\n",
    "\n",
    "\n",
    "    # Cruza por rank\n",
    "    parejas = parejas_rank(df1)\n",
    "    hijos_binarios = cruza_k_cortes(parejas, 2)\n",
    "    gen2_r = pd.DataFrame(hijos_binarios, columns=['Bin'])\n",
    "    gen2_r['Valor'] = gen2_r['Bin'].apply(lambda b: bin2val(b, valores))\n",
    "    gen2_r['fitness'] = gen2_r['Valor']**2\n",
    "    gen2_r = pd.concat([df1.reset_index(drop=True), gen2_r], ignore_index=True)\n",
    "\n",
    "    # Cruza por torneo\n",
    "    parejas = parejas_tournament(df2)\n",
    "    hijos_binarios = cruza_k_cortes(parejas, 2)\n",
    "    gen2_t = pd.DataFrame(hijos_binarios, columns=['Bin'])\n",
    "    gen2_t['Valor'] = gen2_t['Bin'].apply(lambda b: bin2val(b, valores))\n",
    "    gen2_t['fitness'] = gen2_t['Valor']**2\n",
    "    gen2_t = pd.concat([df2.reset_index(drop=True), gen2_t], ignore_index=True)\n",
    "\n",
    "\n",
    "    # Unir y seleccionar los mejores 10\n",
    "    gen2 = pd.concat([gen2_r, gen2_t], ignore_index=True)\n",
    "    gen2.sort_values(by='fitness', ascending=False, inplace=True)\n",
    "    gen2.reset_index(drop=True, inplace=True)\n",
    "    gen2 = gen2.iloc[:10]\n",
    "    \n",
    "    # Registrar estadísticas\n",
    "    print(\"Generación:\", i)\n",
    "    i += 1\n",
    "    flag1 = gen2.iloc[[0]].copy()\n",
    "    flag2 = gen2[\"fitness\"].mean()\n",
    "    print(\"Top Result:\\n\", flag1)\n",
    "    print(\"Avg Fit:\", flag2)\n",
    "    df_hist2 = add_hist(gen2, df_hist2)"
   ]
  },
  {
   "cell_type": "markdown",
   "metadata": {},
   "source": [
    "## Analisis"
   ]
  },
  {
   "cell_type": "code",
   "execution_count": 60,
   "metadata": {},
   "outputs": [
    {
     "name": "stdout",
     "output_type": "stream",
     "text": [
      "      Bin     Valor   fitness\n",
      "0  000010 -0.936508  0.877047\n",
      "1  111100  0.904762  0.818594\n",
      "2  111011  0.873016  0.762157\n",
      "3  000101 -0.841270  0.707735\n",
      "4  000101 -0.841270  0.707735\n",
      "5  000101 -0.841270  0.707735\n",
      "6  000101 -0.841270  0.707735\n",
      "7  000111 -0.777778  0.604938\n",
      "8  110111  0.746032  0.556563\n",
      "9  110110  0.714286  0.510204\n"
     ]
    }
   ],
   "source": [
    "print(gen2)"
   ]
  },
  {
   "cell_type": "code",
   "execution_count": 61,
   "metadata": {},
   "outputs": [
    {
     "name": "stdout",
     "output_type": "stream",
     "text": [
      "      Bin     Valor   fitness  Avg_Fitness\n",
      "0  000010 -0.936508  0.877047     0.487226\n",
      "1  000010 -0.936508  0.877047     0.696044\n",
      "2  000010 -0.936508  0.877047     0.696044\n",
      "3  000010 -0.936508  0.877047     0.696044\n",
      "4  000010 -0.936508  0.877047     0.696044\n",
      "5  000010 -0.936508  0.877047     0.696044\n",
      "6  000010 -0.936508  0.877047     0.696044\n"
     ]
    }
   ],
   "source": [
    "print(df_hist2)"
   ]
  },
  {
   "cell_type": "markdown",
   "metadata": {},
   "source": [
    "### Grafica"
   ]
  },
  {
   "cell_type": "code",
   "execution_count": 62,
   "metadata": {},
   "outputs": [
    {
     "data": {
      "image/png": "[encoded data removed]",
      "text/plain": [
       "<Figure size 640x480 with 1 Axes>"
      ]
     },
     "metadata": {},
     "output_type": "display_data"
    }
   ],
   "source": [
    "plt.plot(df_hist2['fitness'], label='Top Fitness')\n",
    "plt.plot(df_hist2['Avg_Fitness'], label='Avg Fitness')\n",
    "plt.xlabel('Generación')\n",
    "plt.ylabel('Fitness')\n",
    "plt.legend()\n",
    "plt.show()"
   ]
  },
  {
   "cell_type": "code",
   "execution_count": null,
   "metadata": {},
   "outputs": [],
   "source": []
  }
 ],
 "metadata": {
  "colab": {
   "authorship_tag": "ABX9TyNMcIDsMX6NCfac0VhLZM9O",
   "provenance": []
  },
  "kernelspec": {
   "display_name": "Python 3",
   "name": "python3"
  },
  "language_info": {
   "codemirror_mode": {
    "name": "ipython",
    "version": 3
   },
   "file_extension": ".py",
   "mimetype": "text/x-python",
   "name": "python",
   "nbconvert_exporter": "python",
   "pygments_lexer": "ipython3",
   "version": "3.12.7"
  }
 },
 "nbformat": 4,
 "nbformat_minor": 0
}
