{
 "cells": [
  {
   "cell_type": "markdown",
   "id": "83025a88",
   "metadata": {},
   "source": [
    ",# Importar Librerias"
   ]
  },
  {
   "cell_type": "code",
   "execution_count": 1,
   "id": "d186a772",
   "metadata": {},
   "outputs": [],
   "source": [
    "import numpy as np\n",
    "import pandas as pd\n",
    "import random\n",
    "import matplotlib.pyplot as plt\n",
    "import seaborn as sns\n",
    "import plotly.express as px"
   ]
  },
  {
   "cell_type": "markdown",
   "id": "238be2db",
   "metadata": {},
   "source": [
    ",# Travelling Salesman Problem (TSP)\n",
    "\n",
    "El problema del viajero es uno de los problemas más famosos en el campo de la optimizacion computacional. El enunciado clasico es:  \n",
    "\n",
    "\"Sean N ciudades de un territorio. El objetivo es encontrar una ruta que, comenzando y terminando en una ciudad en concreto pase solo una vez por cada una de las ciudades y minimice la distancia recorrida por el viajero.\"\n",
    "\n",
    "Es decir, encontrar una permutacion:\n",
    "\n",
    "$P = \\{C_0,C_1,\\dots,C_N-1\\}$ tal que $d_p = \\sum_{i=0}^{N-1} d(c_i,c_{i+1})$ sea minima."
   ]
  },
  {
   "cell_type": "markdown",
   "id": "fcee6527",
   "metadata": {},
   "source": [
    "# Ciudades"
   ]
  },
  {
   "cell_type": "code",
   "execution_count": 2,
   "id": "834ef669",
   "metadata": {},
   "outputs": [],
   "source": [
    "cities = [\n",
    "(\"Mexico City\",19.4204503765706, -99.14569125006386),     # Mexico City \n",
    "(\"Quito\",-0.22504624887149816, -78.49988938997475),       # Quito\n",
    "(\"Miami\",25.762008625108713, -80.19106117773524),         # Miami\n",
    "(\"San Salvador\",13.698816559559196, -89.19139082077601),  # San Salvador\n",
    "(\"Mendoza\",-32.890254485684615, -68.8454728365394),       # Mendoza\n",
    "(\"Guadalajara\",20.674513177689914, -103.33814458178117),  # Guadalajara\n",
    "(\"Merida\",20.969848004507575, -89.59865182312967),        # Merida\n",
    "(\"Washington D.C.\",38.90971457165538, -77.02266752763703),# Washington D.C.\n",
    "(\"Monterrey\",25.68095070483323, -100.30007435921115),     # Monterrey\n",
    "(\"Managua\",12.110415225874924, -86.22824820040704),       # Managua\n",
    "(\"Caracas\",10.475819042313416, -66.90959192246824),       # Caracas\n",
    "(\"Boston\",42.35091277211663, -71.05104866254476),         # Boston\n",
    "(\"Buenos Aires\",-34.609506741669584, -58.39281746089803), # Buenos Aires\n",
    "(\"New York\",40.71067551341166, -74.01246498137415),       # New York\n",
    "(\"Panama City\",8.942473452575438, -79.17169679439931),    # Panama City\n",
    "(\"Brasilia\",-15.664864237549638, -46.621579947655576),    # Brasilia\n",
    "(\"Montevideo\",-34.90728943056367, -56.18638267328233),    # Montevideo\n",
    "(\"Bogota\",4.708521026911784, -74.0679815641729)]          # Bogota\n",
    "\n",
    "df = pd.DataFrame(cities, columns=[\"city\", \"lat\", \"lon\"])"
   ]
  },
  {
   "cell_type": "code",
   "execution_count": null,
   "id": "1d45ee3a",
   "metadata": {},
   "outputs": [
    {
     "data": {
      "application/vnd.plotly.v1+json": {
       "config": {
        "displayModeBar": false,
        "plotlyServerURL": "https://plot.ly",
        "staticPlot": true
       },
       "data": [
        {
         "lat": {
          "bdata": "LPbIoqJrM0C4yn7DUM7Mv6IcTP8SwzlAg2u6SMtlK0D9kObb83FAwDPmRuWsrDRAbnN19Uf4NEAt+u6GcXRDQGZyD8lSrjlA/DkwWIg4KECvGbONnvMkQKz+r7XqLEVAyRQhUQROQcDmFUxq91pEQMZRYOGL4iFAgRzZFWlUL8CDI2APInRBwDJ1PImG1RJA",
          "dtype": "f8"
         },
         "lon": {
          "bdata": "nJVkAVPJWMDGYxEw/p9TwB56qVg6DFTANP9Ivz9MVsD1pRk6HDZRwHYELCmk1VnAGIK8T1BmVsB2eIBic0FTwIbLFWs0E1nAnwdXnpuOVcA97QnBNrpQwJgInGFEw1HAau2x10cyTcA51us5zIBSwHoxjRT9ylPA2oOF7o9PR8DzJC9j2xdMwKC2WM9ZhFLA",
          "dtype": "f8"
         },
         "mode": "markers",
         "text": [
          "Mexico City",
          "Quito",
          "Miami",
          "San Salvador",
          "Mendoza",
          "Guadalajara",
          "Merida",
          "Washington D.C.",
          "Monterrey",
          "Managua",
          "Caracas",
          "Boston",
          "Buenos Aires",
          "New York",
          "Panama City",
          "Brasilia",
          "Montevideo",
          "Bogota"
         ],
         "type": "scattergeo"
        }
       ],
       "layout": {
        "geo": {
         "countrycolor": "Black",
         "lataxis": {
          "range": [
           -55,
           50
          ]
         },
         "lonaxis": {
          "range": [
           -130,
           -30
          ]
         },
         "resolution": 110,
         "showcountries": true,
         "visible": false
        },
        "height": 500,
        "margin": {
         "b": 0,
         "l": 0,
         "r": 0,
         "t": 0
        },
        "template": {
         "data": {
          "bar": [
           {
            "error_x": {
             "color": "#2a3f5f"
            },
            "error_y": {
             "color": "#2a3f5f"
            },
            "marker": {
             "line": {
              "color": "#E5ECF6",
              "width": 0.5
             },
             "pattern": {
              "fillmode": "overlay",
              "size": 10,
              "solidity": 0.2
             }
            },
            "type": "bar"
           }
          ],
          "barpolar": [
           {
            "marker": {
             "line": {
              "color": "#E5ECF6",
              "width": 0.5
             },
             "pattern": {
              "fillmode": "overlay",
              "size": 10,
              "solidity": 0.2
             }
            },
            "type": "barpolar"
           }
          ],
          "carpet": [
           {
            "aaxis": {
             "endlinecolor": "#2a3f5f",
             "gridcolor": "white",
             "linecolor": "white",
             "minorgridcolor": "white",
             "startlinecolor": "#2a3f5f"
            },
            "baxis": {
             "endlinecolor": "#2a3f5f",
             "gridcolor": "white",
             "linecolor": "white",
             "minorgridcolor": "white",
             "startlinecolor": "#2a3f5f"
            },
            "type": "carpet"
           }
          ],
          "choropleth": [
           {
            "colorbar": {
             "outlinewidth": 0,
             "ticks": ""
            },
            "type": "choropleth"
           }
          ],
          "contour": [
           {
            "colorbar": {
             "outlinewidth": 0,
             "ticks": ""
            },
            "colorscale": [
             [
              0,
              "#0d0887"
             ],
             [
              0.1111111111111111,
              "#46039f"
             ],
             [
              0.2222222222222222,
              "#7201a8"
             ],
             [
              0.3333333333333333,
              "#9c179e"
             ],
             [
              0.4444444444444444,
              "#bd3786"
             ],
             [
              0.5555555555555556,
              "#d8576b"
             ],
             [
              0.6666666666666666,
              "#ed7953"
             ],
             [
              0.7777777777777778,
              "#fb9f3a"
             ],
             [
              0.8888888888888888,
              "#fdca26"
             ],
             [
              1,
              "#f0f921"
             ]
            ],
            "type": "contour"
           }
          ],
          "contourcarpet": [
           {
            "colorbar": {
             "outlinewidth": 0,
             "ticks": ""
            },
            "type": "contourcarpet"
           }
          ],
          "heatmap": [
           {
            "colorbar": {
             "outlinewidth": 0,
             "ticks": ""
            },
            "colorscale": [
             [
              0,
              "#0d0887"
             ],
             [
              0.1111111111111111,
              "#46039f"
             ],
             [
              0.2222222222222222,
              "#7201a8"
             ],
             [
              0.3333333333333333,
              "#9c179e"
             ],
             [
              0.4444444444444444,
              "#bd3786"
             ],
             [
              0.5555555555555556,
              "#d8576b"
             ],
             [
              0.6666666666666666,
              "#ed7953"
             ],
             [
              0.7777777777777778,
              "#fb9f3a"
             ],
             [
              0.8888888888888888,
              "#fdca26"
             ],
             [
              1,
              "#f0f921"
             ]
            ],
            "type": "heatmap"
           }
          ],
          "histogram": [
           {
            "marker": {
             "pattern": {
              "fillmode": "overlay",
              "size": 10,
              "solidity": 0.2
             }
            },
            "type": "histogram"
           }
          ],
          "histogram2d": [
           {
            "colorbar": {
             "outlinewidth": 0,
             "ticks": ""
            },
            "colorscale": [
             [
              0,
              "#0d0887"
             ],
             [
              0.1111111111111111,
              "#46039f"
             ],
             [
              0.2222222222222222,
              "#7201a8"
             ],
             [
              0.3333333333333333,
              "#9c179e"
             ],
             [
              0.4444444444444444,
              "#bd3786"
             ],
             [
              0.5555555555555556,
              "#d8576b"
             ],
             [
              0.6666666666666666,
              "#ed7953"
             ],
             [
              0.7777777777777778,
              "#fb9f3a"
             ],
             [
              0.8888888888888888,
              "#fdca26"
             ],
             [
              1,
              "#f0f921"
             ]
            ],
            "type": "histogram2d"
           }
          ],
          "histogram2dcontour": [
           {
            "colorbar": {
             "outlinewidth": 0,
             "ticks": ""
            },
            "colorscale": [
             [
              0,
              "#0d0887"
             ],
             [
              0.1111111111111111,
              "#46039f"
             ],
             [
              0.2222222222222222,
              "#7201a8"
             ],
             [
              0.3333333333333333,
              "#9c179e"
             ],
             [
              0.4444444444444444,
              "#bd3786"
             ],
             [
              0.5555555555555556,
              "#d8576b"
             ],
             [
              0.6666666666666666,
              "#ed7953"
             ],
             [
              0.7777777777777778,
              "#fb9f3a"
             ],
             [
              0.8888888888888888,
              "#fdca26"
             ],
             [
              1,
              "#f0f921"
             ]
            ],
            "type": "histogram2dcontour"
           }
          ],
          "mesh3d": [
           {
            "colorbar": {
             "outlinewidth": 0,
             "ticks": ""
            },
            "type": "mesh3d"
           }
          ],
          "parcoords": [
           {
            "line": {
             "colorbar": {
              "outlinewidth": 0,
              "ticks": ""
             }
            },
            "type": "parcoords"
           }
          ],
          "pie": [
           {
            "automargin": true,
            "type": "pie"
           }
          ],
          "scatter": [
           {
            "fillpattern": {
             "fillmode": "overlay",
             "size": 10,
             "solidity": 0.2
            },
            "type": "scatter"
           }
          ],
          "scatter3d": [
           {
            "line": {
             "colorbar": {
              "outlinewidth": 0,
              "ticks": ""
             }
            },
            "marker": {
             "colorbar": {
              "outlinewidth": 0,
              "ticks": ""
             }
            },
            "type": "scatter3d"
           }
          ],
          "scattercarpet": [
           {
            "marker": {
             "colorbar": {
              "outlinewidth": 0,
              "ticks": ""
             }
            },
            "type": "scattercarpet"
           }
          ],
          "scattergeo": [
           {
            "marker": {
             "colorbar": {
              "outlinewidth": 0,
              "ticks": ""
             }
            },
            "type": "scattergeo"
           }
          ],
          "scattergl": [
           {
            "marker": {
             "colorbar": {
              "outlinewidth": 0,
              "ticks": ""
             }
            },
            "type": "scattergl"
           }
          ],
          "scattermap": [
           {
            "marker": {
             "colorbar": {
              "outlinewidth": 0,
              "ticks": ""
             }
            },
            "type": "scattermap"
           }
          ],
          "scattermapbox": [
           {
            "marker": {
             "colorbar": {
              "outlinewidth": 0,
              "ticks": ""
             }
            },
            "type": "scattermapbox"
           }
          ],
          "scatterpolar": [
           {
            "marker": {
             "colorbar": {
              "outlinewidth": 0,
              "ticks": ""
             }
            },
            "type": "scatterpolar"
           }
          ],
          "scatterpolargl": [
           {
            "marker": {
             "colorbar": {
              "outlinewidth": 0,
              "ticks": ""
             }
            },
            "type": "scatterpolargl"
           }
          ],
          "scatterternary": [
           {
            "marker": {
             "colorbar": {
              "outlinewidth": 0,
              "ticks": ""
             }
            },
            "type": "scatterternary"
           }
          ],
          "surface": [
           {
            "colorbar": {
             "outlinewidth": 0,
             "ticks": ""
            },
            "colorscale": [
             [
              0,
              "#0d0887"
             ],
             [
              0.1111111111111111,
              "#46039f"
             ],
             [
              0.2222222222222222,
              "#7201a8"
             ],
             [
              0.3333333333333333,
              "#9c179e"
             ],
             [
              0.4444444444444444,
              "#bd3786"
             ],
             [
              0.5555555555555556,
              "#d8576b"
             ],
             [
              0.6666666666666666,
              "#ed7953"
             ],
             [
              0.7777777777777778,
              "#fb9f3a"
             ],
             [
              0.8888888888888888,
              "#fdca26"
             ],
             [
              1,
              "#f0f921"
             ]
            ],
            "type": "surface"
           }
          ],
          "table": [
           {
            "cells": {
             "fill": {
              "color": "#EBF0F8"
             },
             "line": {
              "color": "white"
             }
            },
            "header": {
             "fill": {
              "color": "#C8D4E3"
             },
             "line": {
              "color": "white"
             }
            },
            "type": "table"
           }
          ]
         },
         "layout": {
          "annotationdefaults": {
           "arrowcolor": "#2a3f5f",
           "arrowhead": 0,
           "arrowwidth": 1
          },
          "autotypenumbers": "strict",
          "coloraxis": {
           "colorbar": {
            "outlinewidth": 0,
            "ticks": ""
           }
          },
          "colorscale": {
           "diverging": [
            [
             0,
             "#8e0152"
            ],
            [
             0.1,
             "#c51b7d"
            ],
            [
             0.2,
             "#de77ae"
            ],
            [
             0.3,
             "#f1b6da"
            ],
            [
             0.4,
             "#fde0ef"
            ],
            [
             0.5,
             "#f7f7f7"
            ],
            [
             0.6,
             "#e6f5d0"
            ],
            [
             0.7,
             "#b8e186"
            ],
            [
             0.8,
             "#7fbc41"
            ],
            [
             0.9,
             "#4d9221"
            ],
            [
             1,
             "#276419"
            ]
           ],
           "sequential": [
            [
             0,
             "#0d0887"
            ],
            [
             0.1111111111111111,
             "#46039f"
            ],
            [
             0.2222222222222222,
             "#7201a8"
            ],
            [
             0.3333333333333333,
             "#9c179e"
            ],
            [
             0.4444444444444444,
             "#bd3786"
            ],
            [
             0.5555555555555556,
             "#d8576b"
            ],
            [
             0.6666666666666666,
             "#ed7953"
            ],
            [
             0.7777777777777778,
             "#fb9f3a"
            ],
            [
             0.8888888888888888,
             "#fdca26"
            ],
            [
             1,
             "#f0f921"
            ]
           ],
           "sequentialminus": [
            [
             0,
             "#0d0887"
            ],
            [
             0.1111111111111111,
             "#46039f"
            ],
            [
             0.2222222222222222,
             "#7201a8"
            ],
            [
             0.3333333333333333,
             "#9c179e"
            ],
            [
             0.4444444444444444,
             "#bd3786"
            ],
            [
             0.5555555555555556,
             "#d8576b"
            ],
            [
             0.6666666666666666,
             "#ed7953"
            ],
            [
             0.7777777777777778,
             "#fb9f3a"
            ],
            [
             0.8888888888888888,
             "#fdca26"
            ],
            [
             1,
             "#f0f921"
            ]
           ]
          },
          "colorway": [
           "#636efa",
           "#EF553B",
           "#00cc96",
           "#ab63fa",
           "#FFA15A",
           "#19d3f3",
           "#FF6692",
           "#B6E880",
           "#FF97FF",
           "#FECB52"
          ],
          "font": {
           "color": "#2a3f5f"
          },
          "geo": {
           "bgcolor": "white",
           "lakecolor": "white",
           "landcolor": "#E5ECF6",
           "showlakes": true,
           "showland": true,
           "subunitcolor": "white"
          },
          "hoverlabel": {
           "align": "left"
          },
          "hovermode": "closest",
          "mapbox": {
           "style": "light"
          },
          "paper_bgcolor": "white",
          "plot_bgcolor": "#E5ECF6",
          "polar": {
           "angularaxis": {
            "gridcolor": "white",
            "linecolor": "white",
            "ticks": ""
           },
           "bgcolor": "#E5ECF6",
           "radialaxis": {
            "gridcolor": "white",
            "linecolor": "white",
            "ticks": ""
           }
          },
          "scene": {
           "xaxis": {
            "backgroundcolor": "#E5ECF6",
            "gridcolor": "white",
            "gridwidth": 2,
            "linecolor": "white",
            "showbackground": true,
            "ticks": "",
            "zerolinecolor": "white"
           },
           "yaxis": {
            "backgroundcolor": "#E5ECF6",
            "gridcolor": "white",
            "gridwidth": 2,
            "linecolor": "white",
            "showbackground": true,
            "ticks": "",
            "zerolinecolor": "white"
           },
           "zaxis": {
            "backgroundcolor": "#E5ECF6",
            "gridcolor": "white",
            "gridwidth": 2,
            "linecolor": "white",
            "showbackground": true,
            "ticks": "",
            "zerolinecolor": "white"
           }
          },
          "shapedefaults": {
           "line": {
            "color": "#2a3f5f"
           }
          },
          "ternary": {
           "aaxis": {
            "gridcolor": "white",
            "linecolor": "white",
            "ticks": ""
           },
           "baxis": {
            "gridcolor": "white",
            "linecolor": "white",
            "ticks": ""
           },
           "bgcolor": "#E5ECF6",
           "caxis": {
            "gridcolor": "white",
            "linecolor": "white",
            "ticks": ""
           }
          },
          "title": {
           "x": 0.05
          },
          "xaxis": {
           "automargin": true,
           "gridcolor": "white",
           "linecolor": "white",
           "ticks": "",
           "title": {
            "standoff": 15
           },
           "zerolinecolor": "white",
           "zerolinewidth": 2
          },
          "yaxis": {
           "automargin": true,
           "gridcolor": "white",
           "linecolor": "white",
           "ticks": "",
           "title": {
            "standoff": 15
           },
           "zerolinecolor": "white",
           "zerolinewidth": 2
          }
         }
        },
        "width": 500
       }
      }
     },
     "metadata": {},
     "output_type": "display_data"
    }
   ],
   "source": [
    "import plotly.graph_objects as go\n",
    "\n",
    "fig = go.Figure(go.Scattergeo(\n",
    "    lon=df[\"lon\"],\n",
    "    lat=df[\"lat\"],\n",
    "    text=df[\"city\"],\n",
    "    mode=\"markers\"\n",
    "))\n",
    "\n",
    "fig.update_geos(\n",
    "    visible=False, resolution=110,\n",
    "    showcountries=True, countrycolor=\"Black\",\n",
    "    lonaxis=dict(range=[-130, -30]),   # limita la longitud (Oeste hasta Este)\n",
    "    lataxis=dict(range=[-55, 50])      # limita la latitud (Sur a Norte)\n",
    ")\n",
    "# Tamaño Grafica\n",
    "fig.update_layout(\n",
    "    width=500, height=500,\n",
    "    margin=dict(r=0, t=0, l=0, b=0)\n",
    ")\n",
    "# Captira de Mapa\n",
    "fig.show(config={\n",
    "    \"staticPlot\": True,       \n",
    "    \"displayModeBar\": False\n",
    "})"
   ]
  },
  {
   "cell_type": "code",
   "execution_count": 51,
   "id": "b24af722",
   "metadata": {},
   "outputs": [
    {
     "data": {
      "application/vnd.plotly.v1+json": {
       "config": {
        "displayModeBar": false,
        "plotlyServerURL": "https://plot.ly",
        "staticPlot": true
       },
       "data": [
        {
         "lat": {
          "bdata": "LPbIoqJrM0C4yn7DUM7Mv6IcTP8SwzlAg2u6SMtlK0D9kObb83FAwDPmRuWsrDRAbnN19Uf4NEAt+u6GcXRDQGZyD8lSrjlA/DkwWIg4KECvGbONnvMkQKz+r7XqLEVAyRQhUQROQcDmFUxq91pEQMZRYOGL4iFAgRzZFWlUL8CDI2APInRBwDJ1PImG1RJA",
          "dtype": "f8"
         },
         "lon": {
          "bdata": "nJVkAVPJWMDGYxEw/p9TwB56qVg6DFTANP9Ivz9MVsD1pRk6HDZRwHYELCmk1VnAGIK8T1BmVsB2eIBic0FTwIbLFWs0E1nAnwdXnpuOVcA97QnBNrpQwJgInGFEw1HAau2x10cyTcA51us5zIBSwHoxjRT9ylPA2oOF7o9PR8DzJC9j2xdMwKC2WM9ZhFLA",
          "dtype": "f8"
         },
         "mode": "markers",
         "text": [
          "Mexico City",
          "Quito",
          "Miami",
          "San Salvador",
          "Mendoza",
          "Guadalajara",
          "Merida",
          "Washington D.C.",
          "Monterrey",
          "Managua",
          "Caracas",
          "Boston",
          "Buenos Aires",
          "New York",
          "Panama City",
          "Brasilia",
          "Montevideo",
          "Bogota"
         ],
         "type": "scattergeo"
        },
        {
         "hoverinfo": "skip",
         "lat": [
          19.4204503765706,
          -0.22504624887149816,
          25.762008625108713,
          13.698816559559196,
          -32.890254485684615,
          20.674513177689914,
          20.969848004507575,
          38.90971457165538,
          25.68095070483323,
          12.110415225874924,
          10.475819042313416,
          42.35091277211663,
          -34.609506741669584,
          40.71067551341166,
          8.942473452575438,
          -15.664864237549638,
          -34.90728943056367,
          4.708521026911784,
          19.4204503765706
         ],
         "line": {
          "width": 2
         },
         "lon": [
          -99.14569125006386,
          -78.49988938997475,
          -80.19106117773524,
          -89.19139082077601,
          -68.8454728365394,
          -103.33814458178117,
          -89.59865182312967,
          -77.02266752763703,
          -100.30007435921115,
          -86.22824820040704,
          -66.90959192246824,
          -71.05104866254476,
          -58.39281746089803,
          -74.01246498137415,
          -79.17169679439931,
          -46.621579947655576,
          -56.18638267328233,
          -74.0679815641729,
          -99.14569125006386
         ],
         "mode": "lines",
         "name": "Ruta",
         "type": "scattergeo"
        },
        {
         "hoverinfo": "skip",
         "lat": [
          19.4204503765706,
          -0.22504624887149816,
          25.762008625108713,
          13.698816559559196,
          -32.890254485684615,
          20.674513177689914,
          20.969848004507575,
          38.90971457165538,
          25.68095070483323,
          12.110415225874924,
          10.475819042313416,
          42.35091277211663,
          -34.609506741669584,
          40.71067551341166,
          8.942473452575438,
          -15.664864237549638,
          -34.90728943056367,
          4.708521026911784,
          19.4204503765706
         ],
         "line": {
          "width": 2
         },
         "lon": [
          -99.14569125006386,
          -78.49988938997475,
          -80.19106117773524,
          -89.19139082077601,
          -68.8454728365394,
          -103.33814458178117,
          -89.59865182312967,
          -77.02266752763703,
          -100.30007435921115,
          -86.22824820040704,
          -66.90959192246824,
          -71.05104866254476,
          -58.39281746089803,
          -74.01246498137415,
          -79.17169679439931,
          -46.621579947655576,
          -56.18638267328233,
          -74.0679815641729,
          -99.14569125006386
         ],
         "mode": "lines",
         "name": "Ruta",
         "type": "scattergeo"
        },
        {
         "hoverinfo": "skip",
         "lat": [
          19.4204503765706,
          -0.22504624887149816,
          25.762008625108713,
          13.698816559559196,
          -32.890254485684615,
          20.674513177689914,
          20.969848004507575,
          38.90971457165538,
          25.68095070483323,
          12.110415225874924,
          10.475819042313416,
          42.35091277211663,
          -34.609506741669584,
          40.71067551341166,
          8.942473452575438,
          -15.664864237549638,
          -34.90728943056367,
          4.708521026911784,
          19.4204503765706
         ],
         "line": {
          "width": 2
         },
         "lon": [
          -99.14569125006386,
          -78.49988938997475,
          -80.19106117773524,
          -89.19139082077601,
          -68.8454728365394,
          -103.33814458178117,
          -89.59865182312967,
          -77.02266752763703,
          -100.30007435921115,
          -86.22824820040704,
          -66.90959192246824,
          -71.05104866254476,
          -58.39281746089803,
          -74.01246498137415,
          -79.17169679439931,
          -46.621579947655576,
          -56.18638267328233,
          -74.0679815641729,
          -99.14569125006386
         ],
         "mode": "lines",
         "name": "Ruta",
         "type": "scattergeo"
        },
        {
         "hoverinfo": "skip",
         "lat": [
          19.4204503765706,
          -0.22504624887149816,
          25.762008625108713,
          13.698816559559196,
          -32.890254485684615,
          20.674513177689914,
          20.969848004507575,
          38.90971457165538,
          25.68095070483323,
          12.110415225874924,
          10.475819042313416,
          42.35091277211663,
          -34.609506741669584,
          40.71067551341166,
          8.942473452575438,
          -15.664864237549638,
          -34.90728943056367,
          4.708521026911784,
          19.4204503765706
         ],
         "line": {
          "width": 2
         },
         "lon": [
          -99.14569125006386,
          -78.49988938997475,
          -80.19106117773524,
          -89.19139082077601,
          -68.8454728365394,
          -103.33814458178117,
          -89.59865182312967,
          -77.02266752763703,
          -100.30007435921115,
          -86.22824820040704,
          -66.90959192246824,
          -71.05104866254476,
          -58.39281746089803,
          -74.01246498137415,
          -79.17169679439931,
          -46.621579947655576,
          -56.18638267328233,
          -74.0679815641729,
          -99.14569125006386
         ],
         "mode": "lines",
         "name": "Ruta",
         "type": "scattergeo"
        },
        {
         "hoverinfo": "skip",
         "lat": [
          19.4204503765706,
          -0.22504624887149816,
          25.762008625108713,
          13.698816559559196,
          -32.890254485684615,
          20.674513177689914,
          20.969848004507575,
          38.90971457165538,
          25.68095070483323,
          12.110415225874924,
          10.475819042313416,
          42.35091277211663,
          -34.609506741669584,
          40.71067551341166,
          8.942473452575438,
          -15.664864237549638,
          -34.90728943056367,
          4.708521026911784,
          19.4204503765706
         ],
         "line": {
          "width": 2
         },
         "lon": [
          -99.14569125006386,
          -78.49988938997475,
          -80.19106117773524,
          -89.19139082077601,
          -68.8454728365394,
          -103.33814458178117,
          -89.59865182312967,
          -77.02266752763703,
          -100.30007435921115,
          -86.22824820040704,
          -66.90959192246824,
          -71.05104866254476,
          -58.39281746089803,
          -74.01246498137415,
          -79.17169679439931,
          -46.621579947655576,
          -56.18638267328233,
          -74.0679815641729,
          -99.14569125006386
         ],
         "mode": "lines",
         "name": "Ruta",
         "type": "scattergeo"
        },
        {
         "hoverinfo": "skip",
         "lat": [
          19.4204503765706,
          -0.22504624887149816,
          25.762008625108713,
          13.698816559559196,
          -32.890254485684615,
          20.674513177689914,
          20.969848004507575,
          38.90971457165538,
          25.68095070483323,
          12.110415225874924,
          10.475819042313416,
          42.35091277211663,
          -34.609506741669584,
          40.71067551341166,
          8.942473452575438,
          -15.664864237549638,
          -34.90728943056367,
          4.708521026911784,
          19.4204503765706
         ],
         "line": {
          "width": 2
         },
         "lon": [
          -99.14569125006386,
          -78.49988938997475,
          -80.19106117773524,
          -89.19139082077601,
          -68.8454728365394,
          -103.33814458178117,
          -89.59865182312967,
          -77.02266752763703,
          -100.30007435921115,
          -86.22824820040704,
          -66.90959192246824,
          -71.05104866254476,
          -58.39281746089803,
          -74.01246498137415,
          -79.17169679439931,
          -46.621579947655576,
          -56.18638267328233,
          -74.0679815641729,
          -99.14569125006386
         ],
         "mode": "lines",
         "name": "Ruta",
         "type": "scattergeo"
        },
        {
         "hoverinfo": "skip",
         "lat": [
          19.4204503765706,
          -0.22504624887149816,
          25.762008625108713,
          13.698816559559196,
          -32.890254485684615,
          20.674513177689914,
          20.969848004507575,
          38.90971457165538,
          25.68095070483323,
          12.110415225874924,
          10.475819042313416,
          42.35091277211663,
          -34.609506741669584,
          40.71067551341166,
          8.942473452575438,
          -15.664864237549638,
          -34.90728943056367,
          4.708521026911784,
          19.4204503765706
         ],
         "line": {
          "width": 2
         },
         "lon": [
          -99.14569125006386,
          -78.49988938997475,
          -80.19106117773524,
          -89.19139082077601,
          -68.8454728365394,
          -103.33814458178117,
          -89.59865182312967,
          -77.02266752763703,
          -100.30007435921115,
          -86.22824820040704,
          -66.90959192246824,
          -71.05104866254476,
          -58.39281746089803,
          -74.01246498137415,
          -79.17169679439931,
          -46.621579947655576,
          -56.18638267328233,
          -74.0679815641729,
          -99.14569125006386
         ],
         "mode": "lines",
         "name": "Ruta",
         "type": "scattergeo"
        },
        {
         "hoverinfo": "skip",
         "lat": [
          19.4204503765706,
          -0.22504624887149816,
          25.762008625108713,
          13.698816559559196,
          -32.890254485684615,
          20.674513177689914,
          20.969848004507575,
          38.90971457165538,
          25.68095070483323,
          12.110415225874924,
          10.475819042313416,
          42.35091277211663,
          -34.609506741669584,
          40.71067551341166,
          8.942473452575438,
          -15.664864237549638,
          -34.90728943056367,
          4.708521026911784,
          19.4204503765706
         ],
         "line": {
          "width": 2
         },
         "lon": [
          -99.14569125006386,
          -78.49988938997475,
          -80.19106117773524,
          -89.19139082077601,
          -68.8454728365394,
          -103.33814458178117,
          -89.59865182312967,
          -77.02266752763703,
          -100.30007435921115,
          -86.22824820040704,
          -66.90959192246824,
          -71.05104866254476,
          -58.39281746089803,
          -74.01246498137415,
          -79.17169679439931,
          -46.621579947655576,
          -56.18638267328233,
          -74.0679815641729,
          -99.14569125006386
         ],
         "mode": "lines",
         "name": "Ruta",
         "type": "scattergeo"
        },
        {
         "hoverinfo": "skip",
         "lat": [
          19.4204503765706,
          -0.22504624887149816,
          25.762008625108713,
          13.698816559559196,
          -32.890254485684615,
          20.674513177689914,
          20.969848004507575,
          38.90971457165538,
          25.68095070483323,
          12.110415225874924,
          10.475819042313416,
          42.35091277211663,
          -34.609506741669584,
          40.71067551341166,
          8.942473452575438,
          -15.664864237549638,
          -34.90728943056367,
          4.708521026911784,
          19.4204503765706
         ],
         "line": {
          "width": 2
         },
         "lon": [
          -99.14569125006386,
          -78.49988938997475,
          -80.19106117773524,
          -89.19139082077601,
          -68.8454728365394,
          -103.33814458178117,
          -89.59865182312967,
          -77.02266752763703,
          -100.30007435921115,
          -86.22824820040704,
          -66.90959192246824,
          -71.05104866254476,
          -58.39281746089803,
          -74.01246498137415,
          -79.17169679439931,
          -46.621579947655576,
          -56.18638267328233,
          -74.0679815641729,
          -99.14569125006386
         ],
         "mode": "lines",
         "name": "Ruta",
         "type": "scattergeo"
        },
        {
         "hoverinfo": "skip",
         "lat": [
          19.4204503765706,
          -0.22504624887149816,
          25.762008625108713,
          13.698816559559196,
          -32.890254485684615,
          20.674513177689914,
          20.969848004507575,
          38.90971457165538,
          25.68095070483323,
          12.110415225874924,
          10.475819042313416,
          42.35091277211663,
          -34.609506741669584,
          40.71067551341166,
          8.942473452575438,
          -15.664864237549638,
          -34.90728943056367,
          4.708521026911784,
          19.4204503765706
         ],
         "line": {
          "width": 2
         },
         "lon": [
          -99.14569125006386,
          -78.49988938997475,
          -80.19106117773524,
          -89.19139082077601,
          -68.8454728365394,
          -103.33814458178117,
          -89.59865182312967,
          -77.02266752763703,
          -100.30007435921115,
          -86.22824820040704,
          -66.90959192246824,
          -71.05104866254476,
          -58.39281746089803,
          -74.01246498137415,
          -79.17169679439931,
          -46.621579947655576,
          -56.18638267328233,
          -74.0679815641729,
          -99.14569125006386
         ],
         "mode": "lines",
         "name": "Ruta",
         "type": "scattergeo"
        },
        {
         "hoverinfo": "skip",
         "lat": [
          19.4204503765706,
          -0.22504624887149816,
          25.762008625108713,
          13.698816559559196,
          -32.890254485684615,
          20.674513177689914,
          20.969848004507575,
          38.90971457165538,
          25.68095070483323,
          12.110415225874924,
          10.475819042313416,
          42.35091277211663,
          -34.609506741669584,
          40.71067551341166,
          8.942473452575438,
          -15.664864237549638,
          -34.90728943056367,
          4.708521026911784,
          19.4204503765706
         ],
         "line": {
          "width": 2
         },
         "lon": [
          -99.14569125006386,
          -78.49988938997475,
          -80.19106117773524,
          -89.19139082077601,
          -68.8454728365394,
          -103.33814458178117,
          -89.59865182312967,
          -77.02266752763703,
          -100.30007435921115,
          -86.22824820040704,
          -66.90959192246824,
          -71.05104866254476,
          -58.39281746089803,
          -74.01246498137415,
          -79.17169679439931,
          -46.621579947655576,
          -56.18638267328233,
          -74.0679815641729,
          -99.14569125006386
         ],
         "mode": "lines",
         "name": "Ruta",
         "type": "scattergeo"
        },
        {
         "hoverinfo": "skip",
         "lat": [
          19.4204503765706,
          -0.22504624887149816,
          25.762008625108713,
          13.698816559559196,
          -32.890254485684615,
          20.674513177689914,
          20.969848004507575,
          38.90971457165538,
          25.68095070483323,
          12.110415225874924,
          10.475819042313416,
          42.35091277211663,
          -34.609506741669584,
          40.71067551341166,
          8.942473452575438,
          -15.664864237549638,
          -34.90728943056367,
          4.708521026911784,
          19.4204503765706
         ],
         "line": {
          "width": 2
         },
         "lon": [
          -99.14569125006386,
          -78.49988938997475,
          -80.19106117773524,
          -89.19139082077601,
          -68.8454728365394,
          -103.33814458178117,
          -89.59865182312967,
          -77.02266752763703,
          -100.30007435921115,
          -86.22824820040704,
          -66.90959192246824,
          -71.05104866254476,
          -58.39281746089803,
          -74.01246498137415,
          -79.17169679439931,
          -46.621579947655576,
          -56.18638267328233,
          -74.0679815641729,
          -99.14569125006386
         ],
         "mode": "lines",
         "name": "Ruta",
         "type": "scattergeo"
        },
        {
         "hoverinfo": "skip",
         "lat": [
          19.4204503765706,
          -0.22504624887149816,
          25.762008625108713,
          13.698816559559196,
          -32.890254485684615,
          20.674513177689914,
          20.969848004507575,
          38.90971457165538,
          25.68095070483323,
          12.110415225874924,
          10.475819042313416,
          42.35091277211663,
          -34.609506741669584,
          40.71067551341166,
          8.942473452575438,
          -15.664864237549638,
          -34.90728943056367,
          4.708521026911784,
          19.4204503765706
         ],
         "line": {
          "width": 2
         },
         "lon": [
          -99.14569125006386,
          -78.49988938997475,
          -80.19106117773524,
          -89.19139082077601,
          -68.8454728365394,
          -103.33814458178117,
          -89.59865182312967,
          -77.02266752763703,
          -100.30007435921115,
          -86.22824820040704,
          -66.90959192246824,
          -71.05104866254476,
          -58.39281746089803,
          -74.01246498137415,
          -79.17169679439931,
          -46.621579947655576,
          -56.18638267328233,
          -74.0679815641729,
          -99.14569125006386
         ],
         "mode": "lines",
         "name": "Ruta",
         "type": "scattergeo"
        }
       ],
       "layout": {
        "geo": {
         "countrycolor": "Black",
         "lataxis": {
          "range": [
           -55,
           50
          ]
         },
         "lonaxis": {
          "range": [
           -130,
           -30
          ]
         },
         "resolution": 110,
         "showcountries": true,
         "visible": false
        },
        "height": 500,
        "margin": {
         "b": 0,
         "l": 0,
         "r": 0,
         "t": 0
        },
        "template": {
         "data": {
          "bar": [
           {
            "error_x": {
             "color": "#2a3f5f"
            },
            "error_y": {
             "color": "#2a3f5f"
            },
            "marker": {
             "line": {
              "color": "#E5ECF6",
              "width": 0.5
             },
             "pattern": {
              "fillmode": "overlay",
              "size": 10,
              "solidity": 0.2
             }
            },
            "type": "bar"
           }
          ],
          "barpolar": [
           {
            "marker": {
             "line": {
              "color": "#E5ECF6",
              "width": 0.5
             },
             "pattern": {
              "fillmode": "overlay",
              "size": 10,
              "solidity": 0.2
             }
            },
            "type": "barpolar"
           }
          ],
          "carpet": [
           {
            "aaxis": {
             "endlinecolor": "#2a3f5f",
             "gridcolor": "white",
             "linecolor": "white",
             "minorgridcolor": "white",
             "startlinecolor": "#2a3f5f"
            },
            "baxis": {
             "endlinecolor": "#2a3f5f",
             "gridcolor": "white",
             "linecolor": "white",
             "minorgridcolor": "white",
             "startlinecolor": "#2a3f5f"
            },
            "type": "carpet"
           }
          ],
          "choropleth": [
           {
            "colorbar": {
             "outlinewidth": 0,
             "ticks": ""
            },
            "type": "choropleth"
           }
          ],
          "contour": [
           {
            "colorbar": {
             "outlinewidth": 0,
             "ticks": ""
            },
            "colorscale": [
             [
              0,
              "#0d0887"
             ],
             [
              0.1111111111111111,
              "#46039f"
             ],
             [
              0.2222222222222222,
              "#7201a8"
             ],
             [
              0.3333333333333333,
              "#9c179e"
             ],
             [
              0.4444444444444444,
              "#bd3786"
             ],
             [
              0.5555555555555556,
              "#d8576b"
             ],
             [
              0.6666666666666666,
              "#ed7953"
             ],
             [
              0.7777777777777778,
              "#fb9f3a"
             ],
             [
              0.8888888888888888,
              "#fdca26"
             ],
             [
              1,
              "#f0f921"
             ]
            ],
            "type": "contour"
           }
          ],
          "contourcarpet": [
           {
            "colorbar": {
             "outlinewidth": 0,
             "ticks": ""
            },
            "type": "contourcarpet"
           }
          ],
          "heatmap": [
           {
            "colorbar": {
             "outlinewidth": 0,
             "ticks": ""
            },
            "colorscale": [
             [
              0,
              "#0d0887"
             ],
             [
              0.1111111111111111,
              "#46039f"
             ],
             [
              0.2222222222222222,
              "#7201a8"
             ],
             [
              0.3333333333333333,
              "#9c179e"
             ],
             [
              0.4444444444444444,
              "#bd3786"
             ],
             [
              0.5555555555555556,
              "#d8576b"
             ],
             [
              0.6666666666666666,
              "#ed7953"
             ],
             [
              0.7777777777777778,
              "#fb9f3a"
             ],
             [
              0.8888888888888888,
              "#fdca26"
             ],
             [
              1,
              "#f0f921"
             ]
            ],
            "type": "heatmap"
           }
          ],
          "histogram": [
           {
            "marker": {
             "pattern": {
              "fillmode": "overlay",
              "size": 10,
              "solidity": 0.2
             }
            },
            "type": "histogram"
           }
          ],
          "histogram2d": [
           {
            "colorbar": {
             "outlinewidth": 0,
             "ticks": ""
            },
            "colorscale": [
             [
              0,
              "#0d0887"
             ],
             [
              0.1111111111111111,
              "#46039f"
             ],
             [
              0.2222222222222222,
              "#7201a8"
             ],
             [
              0.3333333333333333,
              "#9c179e"
             ],
             [
              0.4444444444444444,
              "#bd3786"
             ],
             [
              0.5555555555555556,
              "#d8576b"
             ],
             [
              0.6666666666666666,
              "#ed7953"
             ],
             [
              0.7777777777777778,
              "#fb9f3a"
             ],
             [
              0.8888888888888888,
              "#fdca26"
             ],
             [
              1,
              "#f0f921"
             ]
            ],
            "type": "histogram2d"
           }
          ],
          "histogram2dcontour": [
           {
            "colorbar": {
             "outlinewidth": 0,
             "ticks": ""
            },
            "colorscale": [
             [
              0,
              "#0d0887"
             ],
             [
              0.1111111111111111,
              "#46039f"
             ],
             [
              0.2222222222222222,
              "#7201a8"
             ],
             [
              0.3333333333333333,
              "#9c179e"
             ],
             [
              0.4444444444444444,
              "#bd3786"
             ],
             [
              0.5555555555555556,
              "#d8576b"
             ],
             [
              0.6666666666666666,
              "#ed7953"
             ],
             [
              0.7777777777777778,
              "#fb9f3a"
             ],
             [
              0.8888888888888888,
              "#fdca26"
             ],
             [
              1,
              "#f0f921"
             ]
            ],
            "type": "histogram2dcontour"
           }
          ],
          "mesh3d": [
           {
            "colorbar": {
             "outlinewidth": 0,
             "ticks": ""
            },
            "type": "mesh3d"
           }
          ],
          "parcoords": [
           {
            "line": {
             "colorbar": {
              "outlinewidth": 0,
              "ticks": ""
             }
            },
            "type": "parcoords"
           }
          ],
          "pie": [
           {
            "automargin": true,
            "type": "pie"
           }
          ],
          "scatter": [
           {
            "fillpattern": {
             "fillmode": "overlay",
             "size": 10,
             "solidity": 0.2
            },
            "type": "scatter"
           }
          ],
          "scatter3d": [
           {
            "line": {
             "colorbar": {
              "outlinewidth": 0,
              "ticks": ""
             }
            },
            "marker": {
             "colorbar": {
              "outlinewidth": 0,
              "ticks": ""
             }
            },
            "type": "scatter3d"
           }
          ],
          "scattercarpet": [
           {
            "marker": {
             "colorbar": {
              "outlinewidth": 0,
              "ticks": ""
             }
            },
            "type": "scattercarpet"
           }
          ],
          "scattergeo": [
           {
            "marker": {
             "colorbar": {
              "outlinewidth": 0,
              "ticks": ""
             }
            },
            "type": "scattergeo"
           }
          ],
          "scattergl": [
           {
            "marker": {
             "colorbar": {
              "outlinewidth": 0,
              "ticks": ""
             }
            },
            "type": "scattergl"
           }
          ],
          "scattermap": [
           {
            "marker": {
             "colorbar": {
              "outlinewidth": 0,
              "ticks": ""
             }
            },
            "type": "scattermap"
           }
          ],
          "scattermapbox": [
           {
            "marker": {
             "colorbar": {
              "outlinewidth": 0,
              "ticks": ""
             }
            },
            "type": "scattermapbox"
           }
          ],
          "scatterpolar": [
           {
            "marker": {
             "colorbar": {
              "outlinewidth": 0,
              "ticks": ""
             }
            },
            "type": "scatterpolar"
           }
          ],
          "scatterpolargl": [
           {
            "marker": {
             "colorbar": {
              "outlinewidth": 0,
              "ticks": ""
             }
            },
            "type": "scatterpolargl"
           }
          ],
          "scatterternary": [
           {
            "marker": {
             "colorbar": {
              "outlinewidth": 0,
              "ticks": ""
             }
            },
            "type": "scatterternary"
           }
          ],
          "surface": [
           {
            "colorbar": {
             "outlinewidth": 0,
             "ticks": ""
            },
            "colorscale": [
             [
              0,
              "#0d0887"
             ],
             [
              0.1111111111111111,
              "#46039f"
             ],
             [
              0.2222222222222222,
              "#7201a8"
             ],
             [
              0.3333333333333333,
              "#9c179e"
             ],
             [
              0.4444444444444444,
              "#bd3786"
             ],
             [
              0.5555555555555556,
              "#d8576b"
             ],
             [
              0.6666666666666666,
              "#ed7953"
             ],
             [
              0.7777777777777778,
              "#fb9f3a"
             ],
             [
              0.8888888888888888,
              "#fdca26"
             ],
             [
              1,
              "#f0f921"
             ]
            ],
            "type": "surface"
           }
          ],
          "table": [
           {
            "cells": {
             "fill": {
              "color": "#EBF0F8"
             },
             "line": {
              "color": "white"
             }
            },
            "header": {
             "fill": {
              "color": "#C8D4E3"
             },
             "line": {
              "color": "white"
             }
            },
            "type": "table"
           }
          ]
         },
         "layout": {
          "annotationdefaults": {
           "arrowcolor": "#2a3f5f",
           "arrowhead": 0,
           "arrowwidth": 1
          },
          "autotypenumbers": "strict",
          "coloraxis": {
           "colorbar": {
            "outlinewidth": 0,
            "ticks": ""
           }
          },
          "colorscale": {
           "diverging": [
            [
             0,
             "#8e0152"
            ],
            [
             0.1,
             "#c51b7d"
            ],
            [
             0.2,
             "#de77ae"
            ],
            [
             0.3,
             "#f1b6da"
            ],
            [
             0.4,
             "#fde0ef"
            ],
            [
             0.5,
             "#f7f7f7"
            ],
            [
             0.6,
             "#e6f5d0"
            ],
            [
             0.7,
             "#b8e186"
            ],
            [
             0.8,
             "#7fbc41"
            ],
            [
             0.9,
             "#4d9221"
            ],
            [
             1,
             "#276419"
            ]
           ],
           "sequential": [
            [
             0,
             "#0d0887"
            ],
            [
             0.1111111111111111,
             "#46039f"
            ],
            [
             0.2222222222222222,
             "#7201a8"
            ],
            [
             0.3333333333333333,
             "#9c179e"
            ],
            [
             0.4444444444444444,
             "#bd3786"
            ],
            [
             0.5555555555555556,
             "#d8576b"
            ],
            [
             0.6666666666666666,
             "#ed7953"
            ],
            [
             0.7777777777777778,
             "#fb9f3a"
            ],
            [
             0.8888888888888888,
             "#fdca26"
            ],
            [
             1,
             "#f0f921"
            ]
           ],
           "sequentialminus": [
            [
             0,
             "#0d0887"
            ],
            [
             0.1111111111111111,
             "#46039f"
            ],
            [
             0.2222222222222222,
             "#7201a8"
            ],
            [
             0.3333333333333333,
             "#9c179e"
            ],
            [
             0.4444444444444444,
             "#bd3786"
            ],
            [
             0.5555555555555556,
             "#d8576b"
            ],
            [
             0.6666666666666666,
             "#ed7953"
            ],
            [
             0.7777777777777778,
             "#fb9f3a"
            ],
            [
             0.8888888888888888,
             "#fdca26"
            ],
            [
             1,
             "#f0f921"
            ]
           ]
          },
          "colorway": [
           "#636efa",
           "#EF553B",
           "#00cc96",
           "#ab63fa",
           "#FFA15A",
           "#19d3f3",
           "#FF6692",
           "#B6E880",
           "#FF97FF",
           "#FECB52"
          ],
          "font": {
           "color": "#2a3f5f"
          },
          "geo": {
           "bgcolor": "white",
           "lakecolor": "white",
           "landcolor": "#E5ECF6",
           "showlakes": true,
           "showland": true,
           "subunitcolor": "white"
          },
          "hoverlabel": {
           "align": "left"
          },
          "hovermode": "closest",
          "mapbox": {
           "style": "light"
          },
          "paper_bgcolor": "white",
          "plot_bgcolor": "#E5ECF6",
          "polar": {
           "angularaxis": {
            "gridcolor": "white",
            "linecolor": "white",
            "ticks": ""
           },
           "bgcolor": "#E5ECF6",
           "radialaxis": {
            "gridcolor": "white",
            "linecolor": "white",
            "ticks": ""
           }
          },
          "scene": {
           "xaxis": {
            "backgroundcolor": "#E5ECF6",
            "gridcolor": "white",
            "gridwidth": 2,
            "linecolor": "white",
            "showbackground": true,
            "ticks": "",
            "zerolinecolor": "white"
           },
           "yaxis": {
            "backgroundcolor": "#E5ECF6",
            "gridcolor": "white",
            "gridwidth": 2,
            "linecolor": "white",
            "showbackground": true,
            "ticks": "",
            "zerolinecolor": "white"
           },
           "zaxis": {
            "backgroundcolor": "#E5ECF6",
            "gridcolor": "white",
            "gridwidth": 2,
            "linecolor": "white",
            "showbackground": true,
            "ticks": "",
            "zerolinecolor": "white"
           }
          },
          "shapedefaults": {
           "line": {
            "color": "#2a3f5f"
           }
          },
          "ternary": {
           "aaxis": {
            "gridcolor": "white",
            "linecolor": "white",
            "ticks": ""
           },
           "baxis": {
            "gridcolor": "white",
            "linecolor": "white",
            "ticks": ""
           },
           "bgcolor": "#E5ECF6",
           "caxis": {
            "gridcolor": "white",
            "linecolor": "white",
            "ticks": ""
           }
          },
          "title": {
           "x": 0.05
          },
          "xaxis": {
           "automargin": true,
           "gridcolor": "white",
           "linecolor": "white",
           "ticks": "",
           "title": {
            "standoff": 15
           },
           "zerolinecolor": "white",
           "zerolinewidth": 2
          },
          "yaxis": {
           "automargin": true,
           "gridcolor": "white",
           "linecolor": "white",
           "ticks": "",
           "title": {
            "standoff": 15
           },
           "zerolinecolor": "white",
           "zerolinewidth": 2
          }
         }
        },
        "width": 500
       }
      }
     },
     "metadata": {},
     "output_type": "display_data"
    }
   ],
   "source": [
    "# Indice de Ciudades (0,...,17)\n",
    "n=len(df) \n",
    "route = list(range(n))\n",
    "\n",
    "# Trazar Ruta\n",
    "lon_route = df.iloc[route][\"lon\"].tolist()\n",
    "lat_route = df.iloc[route][\"lat\"].tolist()\n",
    "lon_route += [lon_route[0]]\n",
    "lat_route += [lat_route[0]]\n",
    "\n",
    "fig.add_trace(go.Scattergeo(\n",
    "    lon=lon_route,\n",
    "    lat=lat_route,\n",
    "    mode=\"lines\",\n",
    "    line=dict(width=2),\n",
    "    hoverinfo=\"skip\",\n",
    "    name=\"Ruta\"\n",
    "))\n",
    "\n",
    "fig.show(config={\n",
    "    \"staticPlot\": True,       # congela el gráfico (sin pan/zoom/selección)\n",
    "    \"displayModeBar\": False\n",
    "})"
   ]
  },
  {
   "cell_type": "code",
   "execution_count": null,
   "id": "ef2735ef",
   "metadata": {},
   "outputs": [],
   "source": []
  }
 ],
 "metadata": {
  "kernelspec": {
   "display_name": "Python 3",
   "language": "python",
   "name": "python3"
  },
  "language_info": {
   "codemirror_mode": {
    "name": "ipython",
    "version": 3
   },
   "file_extension": ".py",
   "mimetype": "text/x-python",
   "name": "python",
   "nbconvert_exporter": "python",
   "pygments_lexer": "ipython3",
   "version": "3.12.7"
  }
 },
 "nbformat": 4,
 "nbformat_minor": 5
}
