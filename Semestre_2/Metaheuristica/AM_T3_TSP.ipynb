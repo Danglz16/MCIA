{
 "cells": [
  {
   "cell_type": "markdown",
   "id": "83025a88",
   "metadata": {},
   "source": [
    ",# Importar Librerias"
   ]
  },
  {
   "cell_type": "code",
   "execution_count": 2,
   "id": "d186a772",
   "metadata": {},
   "outputs": [],
   "source": [
    "import numpy as np\n",
    "import pandas as pd\n",
    "import random\n",
    "import matplotlib.pyplot as plt\n",
    "import seaborn as sns\n",
    "import plotly.express as px"
   ]
  },
  {
   "cell_type": "markdown",
   "id": "238be2db",
   "metadata": {},
   "source": [
    ",# Travelling Salesman Problem (TSP)\n",
    "\n",
    "El problema del viajero es uno de los problemas más famosos en el campo de la optimizacion computacional. El enunciado clasico es:  \n",
    "\n",
    "\"Sean N ciudades de un territorio. El objetivo es encontrar una ruta que, comenzando y terminando en una ciudad en concreto pase solo una vez por cada una de las ciudades y minimice la distancia recorrida por el viajero.\"\n",
    "\n",
    "Es decir, encontrar una permutacion:\n",
    "\n",
    "$P = \\{C_0,C_1,\\dots,C_N-1\\}$ tal que $d_p = \\sum_{i=0}^{N-1} d(c_i,c_{i+1})$ sea minima."
   ]
  },
  {
   "cell_type": "markdown",
   "id": "fcee6527",
   "metadata": {},
   "source": [
    "# Ciudades"
   ]
  },
  {
   "cell_type": "code",
   "execution_count": 55,
   "id": "834ef669",
   "metadata": {},
   "outputs": [],
   "source": [
    "cities = [\n",
    "(\"Mexico City\",0 ,19.4204503765706, -99.14569125006386),     # Mexico City \n",
    "(\"Quito\",1,-0.22504624887149816, -78.49988938997475),        # Quito\n",
    "(\"Miami\",2,25.762008625108713, -80.19106117773524),          # Miami\n",
    "(\"San Salvador\",3,13.698816559559196, -89.19139082077601),   # San Salvador\n",
    "(\"Mendoza\",4,-32.890254485684615, -68.8454728365394),        # Mendoza\n",
    "(\"Guadalajara\",5,20.674513177689914, -103.33814458178117),   # Guadalajara\n",
    "(\"Merida\",6,20.969848004507575, -89.59865182312967),         # Merida\n",
    "(\"Washington D.C.\",7,38.90971457165538, -77.02266752763703), # Washington D.C.\n",
    "(\"Monterrey\",8,25.68095070483323, -100.30007435921115),      # Monterrey\n",
    "(\"Managua\",9,12.110415225874924, -86.22824820040704),        # Managua\n",
    "(\"Caracas\",10,10.475819042313416, -66.90959192246824),       # Caracas\n",
    "(\"Boston\",11,42.35091277211663, -71.05104866254476),         # Boston\n",
    "(\"Buenos Aires\",12,-34.609506741669584, -58.39281746089803), # Buenos Aires\n",
    "(\"New York\",13,40.71067551341166, -74.01246498137415),       # New York\n",
    "(\"Panama City\",14,8.942473452575438, -79.17169679439931),    # Panama City\n",
    "(\"Brasilia\",15,-15.664864237549638, -46.621579947655576),    # Brasilia\n",
    "(\"Montevideo\",16,-34.90728943056367, -56.18638267328233),    # Montevideo\n",
    "(\"Bogota\",17,4.708521026911784, -74.0679815641729)]          # Bogota\n",
    "\n",
    "df = pd.DataFrame(cities, columns=[\"city\",\"id\" ,\"lat\", \"lon\"])"
   ]
  },
  {
   "cell_type": "code",
   "execution_count": 59,
   "id": "2432acc3",
   "metadata": {},
   "outputs": [
    {
     "name": "stdout",
     "output_type": "stream",
     "text": [
      "    id             city        lat         lon\n",
      "0   11           Boston  42.350913  -71.051049\n",
      "1   13         New York  40.710676  -74.012465\n",
      "2    7  Washington D.C.  38.909715  -77.022668\n",
      "3    2            Miami  25.762009  -80.191061\n",
      "4    8        Monterrey  25.680951 -100.300074\n",
      "5    5      Guadalajara  20.674513 -103.338145\n",
      "6    0      Mexico City  19.420450  -99.145691\n",
      "7    6           Merida  20.969848  -89.598652\n",
      "8    3     San Salvador  13.698817  -89.191391\n",
      "9    9          Managua  12.110415  -86.228248\n",
      "10  14      Panama City   8.942473  -79.171697\n",
      "11  10          Caracas  10.475819  -66.909592\n",
      "12  17           Bogota   4.708521  -74.067982\n",
      "13   1            Quito  -0.225046  -78.499889\n",
      "14  15         Brasilia -15.664864  -46.621580\n",
      "15  16       Montevideo -34.907289  -56.186383\n",
      "16  12     Buenos Aires -34.609507  -58.392817\n",
      "17   4          Mendoza -32.890254  -68.845473\n"
     ]
    }
   ],
   "source": [
    "orden = [11, 13, 7, 2, 8, 5, 0, 6, 3, 9, 14, 10, 17, 1, 15, 16, 12, 4]\n",
    "\n",
    "# Reordenar según lista\n",
    "df_ordenado = df.set_index(\"id\").loc[orden].reset_index()\n",
    "\n",
    "print(df_ordenado)\n",
    "df = df_ordenado"
   ]
  },
  {
   "cell_type": "code",
   "execution_count": null,
   "id": "1bb5f3d7",
   "metadata": {},
   "outputs": [],
   "source": [
    "def new_route():\n",
    "    \n",
    "    return"
   ]
  },
  {
   "cell_type": "code",
   "execution_count": 60,
   "id": "1d45ee3a",
   "metadata": {},
   "outputs": [
    {
     "data": {
      "application/vnd.plotly.v1+json": {
       "config": {
        "displayModeBar": false,
        "plotlyServerURL": "https://plot.ly",
        "staticPlot": true
       },
       "data": [
        {
         "lat": {
          "bdata": "rP6vteosRUDmFUxq91pEQC367oZxdENAohxM/xLDOUBmcg/JUq45QDPmRuWsrDRALPbIoqJrM0Buc3X1R/g0QINrukjLZStA/DkwWIg4KEDGUWDhi+IhQK8Zs42e8yRAMnU8iYbVEkC4yn7DUM7Mv4Ec2RVpVC/AgyNgDyJ0QcDJFCFRBE5BwP2Q5tvzcUDA",
          "dtype": "f8"
         },
         "lon": {
          "bdata": "mAicYUTDUcA51us5zIBSwHZ4gGJzQVPAHnqpWDoMVMCGyxVrNBNZwHYELCmk1VnAnJVkAVPJWMAYgrxPUGZWwDT/SL8/TFbAnwdXnpuOVcB6MY0U/cpTwD3tCcE2ulDAoLZYz1mEUsDGYxEw/p9TwNqDhe6PT0fA8yQvY9sXTMBq7bHXRzJNwPWlGTocNlHA",
          "dtype": "f8"
         },
         "mode": "markers+text",
         "text": {
          "bdata": "AAAAAAAAJkAAAAAAAAAqQAAAAAAAABxAAAAAAAAAAEAAAAAAAAAgQAAAAAAAABRAAAAAAAAAAAAAAAAAAAAYQAAAAAAAAAhAAAAAAAAAIkAAAAAAAAAsQAAAAAAAACRAAAAAAAAAMUAAAAAAAADwPwAAAAAAAC5AAAAAAAAAMEAAAAAAAAAoQAAAAAAAABBA",
          "dtype": "f8"
         },
         "textposition": "bottom center",
         "type": "scattergeo"
        }
       ],
       "layout": {
        "geo": {
         "countrycolor": "Black",
         "lataxis": {
          "range": [
           -55,
           50
          ]
         },
         "lonaxis": {
          "range": [
           -130,
           -30
          ]
         },
         "resolution": 110,
         "showcountries": true,
         "visible": false
        },
        "height": 500,
        "margin": {
         "b": 0,
         "l": 0,
         "r": 0,
         "t": 0
        },
        "template": {
         "data": {
          "bar": [
           {
            "error_x": {
             "color": "#2a3f5f"
            },
            "error_y": {
             "color": "#2a3f5f"
            },
            "marker": {
             "line": {
              "color": "#E5ECF6",
              "width": 0.5
             },
             "pattern": {
              "fillmode": "overlay",
              "size": 10,
              "solidity": 0.2
             }
            },
            "type": "bar"
           }
          ],
          "barpolar": [
           {
            "marker": {
             "line": {
              "color": "#E5ECF6",
              "width": 0.5
             },
             "pattern": {
              "fillmode": "overlay",
              "size": 10,
              "solidity": 0.2
             }
            },
            "type": "barpolar"
           }
          ],
          "carpet": [
           {
            "aaxis": {
             "endlinecolor": "#2a3f5f",
             "gridcolor": "white",
             "linecolor": "white",
             "minorgridcolor": "white",
             "startlinecolor": "#2a3f5f"
            },
            "baxis": {
             "endlinecolor": "#2a3f5f",
             "gridcolor": "white",
             "linecolor": "white",
             "minorgridcolor": "white",
             "startlinecolor": "#2a3f5f"
            },
            "type": "carpet"
           }
          ],
          "choropleth": [
           {
            "colorbar": {
             "outlinewidth": 0,
             "ticks": ""
            },
            "type": "choropleth"
           }
          ],
          "contour": [
           {
            "colorbar": {
             "outlinewidth": 0,
             "ticks": ""
            },
            "colorscale": [
             [
              0,
              "#0d0887"
             ],
             [
              0.1111111111111111,
              "#46039f"
             ],
             [
              0.2222222222222222,
              "#7201a8"
             ],
             [
              0.3333333333333333,
              "#9c179e"
             ],
             [
              0.4444444444444444,
              "#bd3786"
             ],
             [
              0.5555555555555556,
              "#d8576b"
             ],
             [
              0.6666666666666666,
              "#ed7953"
             ],
             [
              0.7777777777777778,
              "#fb9f3a"
             ],
             [
              0.8888888888888888,
              "#fdca26"
             ],
             [
              1,
              "#f0f921"
             ]
            ],
            "type": "contour"
           }
          ],
          "contourcarpet": [
           {
            "colorbar": {
             "outlinewidth": 0,
             "ticks": ""
            },
            "type": "contourcarpet"
           }
          ],
          "heatmap": [
           {
            "colorbar": {
             "outlinewidth": 0,
             "ticks": ""
            },
            "colorscale": [
             [
              0,
              "#0d0887"
             ],
             [
              0.1111111111111111,
              "#46039f"
             ],
             [
              0.2222222222222222,
              "#7201a8"
             ],
             [
              0.3333333333333333,
              "#9c179e"
             ],
             [
              0.4444444444444444,
              "#bd3786"
             ],
             [
              0.5555555555555556,
              "#d8576b"
             ],
             [
              0.6666666666666666,
              "#ed7953"
             ],
             [
              0.7777777777777778,
              "#fb9f3a"
             ],
             [
              0.8888888888888888,
              "#fdca26"
             ],
             [
              1,
              "#f0f921"
             ]
            ],
            "type": "heatmap"
           }
          ],
          "histogram": [
           {
            "marker": {
             "pattern": {
              "fillmode": "overlay",
              "size": 10,
              "solidity": 0.2
             }
            },
            "type": "histogram"
           }
          ],
          "histogram2d": [
           {
            "colorbar": {
             "outlinewidth": 0,
             "ticks": ""
            },
            "colorscale": [
             [
              0,
              "#0d0887"
             ],
             [
              0.1111111111111111,
              "#46039f"
             ],
             [
              0.2222222222222222,
              "#7201a8"
             ],
             [
              0.3333333333333333,
              "#9c179e"
             ],
             [
              0.4444444444444444,
              "#bd3786"
             ],
             [
              0.5555555555555556,
              "#d8576b"
             ],
             [
              0.6666666666666666,
              "#ed7953"
             ],
             [
              0.7777777777777778,
              "#fb9f3a"
             ],
             [
              0.8888888888888888,
              "#fdca26"
             ],
             [
              1,
              "#f0f921"
             ]
            ],
            "type": "histogram2d"
           }
          ],
          "histogram2dcontour": [
           {
            "colorbar": {
             "outlinewidth": 0,
             "ticks": ""
            },
            "colorscale": [
             [
              0,
              "#0d0887"
             ],
             [
              0.1111111111111111,
              "#46039f"
             ],
             [
              0.2222222222222222,
              "#7201a8"
             ],
             [
              0.3333333333333333,
              "#9c179e"
             ],
             [
              0.4444444444444444,
              "#bd3786"
             ],
             [
              0.5555555555555556,
              "#d8576b"
             ],
             [
              0.6666666666666666,
              "#ed7953"
             ],
             [
              0.7777777777777778,
              "#fb9f3a"
             ],
             [
              0.8888888888888888,
              "#fdca26"
             ],
             [
              1,
              "#f0f921"
             ]
            ],
            "type": "histogram2dcontour"
           }
          ],
          "mesh3d": [
           {
            "colorbar": {
             "outlinewidth": 0,
             "ticks": ""
            },
            "type": "mesh3d"
           }
          ],
          "parcoords": [
           {
            "line": {
             "colorbar": {
              "outlinewidth": 0,
              "ticks": ""
             }
            },
            "type": "parcoords"
           }
          ],
          "pie": [
           {
            "automargin": true,
            "type": "pie"
           }
          ],
          "scatter": [
           {
            "fillpattern": {
             "fillmode": "overlay",
             "size": 10,
             "solidity": 0.2
            },
            "type": "scatter"
           }
          ],
          "scatter3d": [
           {
            "line": {
             "colorbar": {
              "outlinewidth": 0,
              "ticks": ""
             }
            },
            "marker": {
             "colorbar": {
              "outlinewidth": 0,
              "ticks": ""
             }
            },
            "type": "scatter3d"
           }
          ],
          "scattercarpet": [
           {
            "marker": {
             "colorbar": {
              "outlinewidth": 0,
              "ticks": ""
             }
            },
            "type": "scattercarpet"
           }
          ],
          "scattergeo": [
           {
            "marker": {
             "colorbar": {
              "outlinewidth": 0,
              "ticks": ""
             }
            },
            "type": "scattergeo"
           }
          ],
          "scattergl": [
           {
            "marker": {
             "colorbar": {
              "outlinewidth": 0,
              "ticks": ""
             }
            },
            "type": "scattergl"
           }
          ],
          "scattermap": [
           {
            "marker": {
             "colorbar": {
              "outlinewidth": 0,
              "ticks": ""
             }
            },
            "type": "scattermap"
           }
          ],
          "scattermapbox": [
           {
            "marker": {
             "colorbar": {
              "outlinewidth": 0,
              "ticks": ""
             }
            },
            "type": "scattermapbox"
           }
          ],
          "scatterpolar": [
           {
            "marker": {
             "colorbar": {
              "outlinewidth": 0,
              "ticks": ""
             }
            },
            "type": "scatterpolar"
           }
          ],
          "scatterpolargl": [
           {
            "marker": {
             "colorbar": {
              "outlinewidth": 0,
              "ticks": ""
             }
            },
            "type": "scatterpolargl"
           }
          ],
          "scatterternary": [
           {
            "marker": {
             "colorbar": {
              "outlinewidth": 0,
              "ticks": ""
             }
            },
            "type": "scatterternary"
           }
          ],
          "surface": [
           {
            "colorbar": {
             "outlinewidth": 0,
             "ticks": ""
            },
            "colorscale": [
             [
              0,
              "#0d0887"
             ],
             [
              0.1111111111111111,
              "#46039f"
             ],
             [
              0.2222222222222222,
              "#7201a8"
             ],
             [
              0.3333333333333333,
              "#9c179e"
             ],
             [
              0.4444444444444444,
              "#bd3786"
             ],
             [
              0.5555555555555556,
              "#d8576b"
             ],
             [
              0.6666666666666666,
              "#ed7953"
             ],
             [
              0.7777777777777778,
              "#fb9f3a"
             ],
             [
              0.8888888888888888,
              "#fdca26"
             ],
             [
              1,
              "#f0f921"
             ]
            ],
            "type": "surface"
           }
          ],
          "table": [
           {
            "cells": {
             "fill": {
              "color": "#EBF0F8"
             },
             "line": {
              "color": "white"
             }
            },
            "header": {
             "fill": {
              "color": "#C8D4E3"
             },
             "line": {
              "color": "white"
             }
            },
            "type": "table"
           }
          ]
         },
         "layout": {
          "annotationdefaults": {
           "arrowcolor": "#2a3f5f",
           "arrowhead": 0,
           "arrowwidth": 1
          },
          "autotypenumbers": "strict",
          "coloraxis": {
           "colorbar": {
            "outlinewidth": 0,
            "ticks": ""
           }
          },
          "colorscale": {
           "diverging": [
            [
             0,
             "#8e0152"
            ],
            [
             0.1,
             "#c51b7d"
            ],
            [
             0.2,
             "#de77ae"
            ],
            [
             0.3,
             "#f1b6da"
            ],
            [
             0.4,
             "#fde0ef"
            ],
            [
             0.5,
             "#f7f7f7"
            ],
            [
             0.6,
             "#e6f5d0"
            ],
            [
             0.7,
             "#b8e186"
            ],
            [
             0.8,
             "#7fbc41"
            ],
            [
             0.9,
             "#4d9221"
            ],
            [
             1,
             "#276419"
            ]
           ],
           "sequential": [
            [
             0,
             "#0d0887"
            ],
            [
             0.1111111111111111,
             "#46039f"
            ],
            [
             0.2222222222222222,
             "#7201a8"
            ],
            [
             0.3333333333333333,
             "#9c179e"
            ],
            [
             0.4444444444444444,
             "#bd3786"
            ],
            [
             0.5555555555555556,
             "#d8576b"
            ],
            [
             0.6666666666666666,
             "#ed7953"
            ],
            [
             0.7777777777777778,
             "#fb9f3a"
            ],
            [
             0.8888888888888888,
             "#fdca26"
            ],
            [
             1,
             "#f0f921"
            ]
           ],
           "sequentialminus": [
            [
             0,
             "#0d0887"
            ],
            [
             0.1111111111111111,
             "#46039f"
            ],
            [
             0.2222222222222222,
             "#7201a8"
            ],
            [
             0.3333333333333333,
             "#9c179e"
            ],
            [
             0.4444444444444444,
             "#bd3786"
            ],
            [
             0.5555555555555556,
             "#d8576b"
            ],
            [
             0.6666666666666666,
             "#ed7953"
            ],
            [
             0.7777777777777778,
             "#fb9f3a"
            ],
            [
             0.8888888888888888,
             "#fdca26"
            ],
            [
             1,
             "#f0f921"
            ]
           ]
          },
          "colorway": [
           "#636efa",
           "#EF553B",
           "#00cc96",
           "#ab63fa",
           "#FFA15A",
           "#19d3f3",
           "#FF6692",
           "#B6E880",
           "#FF97FF",
           "#FECB52"
          ],
          "font": {
           "color": "#2a3f5f"
          },
          "geo": {
           "bgcolor": "white",
           "lakecolor": "white",
           "landcolor": "#E5ECF6",
           "showlakes": true,
           "showland": true,
           "subunitcolor": "white"
          },
          "hoverlabel": {
           "align": "left"
          },
          "hovermode": "closest",
          "mapbox": {
           "style": "light"
          },
          "paper_bgcolor": "white",
          "plot_bgcolor": "#E5ECF6",
          "polar": {
           "angularaxis": {
            "gridcolor": "white",
            "linecolor": "white",
            "ticks": ""
           },
           "bgcolor": "#E5ECF6",
           "radialaxis": {
            "gridcolor": "white",
            "linecolor": "white",
            "ticks": ""
           }
          },
          "scene": {
           "xaxis": {
            "backgroundcolor": "#E5ECF6",
            "gridcolor": "white",
            "gridwidth": 2,
            "linecolor": "white",
            "showbackground": true,
            "ticks": "",
            "zerolinecolor": "white"
           },
           "yaxis": {
            "backgroundcolor": "#E5ECF6",
            "gridcolor": "white",
            "gridwidth": 2,
            "linecolor": "white",
            "showbackground": true,
            "ticks": "",
            "zerolinecolor": "white"
           },
           "zaxis": {
            "backgroundcolor": "#E5ECF6",
            "gridcolor": "white",
            "gridwidth": 2,
            "linecolor": "white",
            "showbackground": true,
            "ticks": "",
            "zerolinecolor": "white"
           }
          },
          "shapedefaults": {
           "line": {
            "color": "#2a3f5f"
           }
          },
          "ternary": {
           "aaxis": {
            "gridcolor": "white",
            "linecolor": "white",
            "ticks": ""
           },
           "baxis": {
            "gridcolor": "white",
            "linecolor": "white",
            "ticks": ""
           },
           "bgcolor": "#E5ECF6",
           "caxis": {
            "gridcolor": "white",
            "linecolor": "white",
            "ticks": ""
           }
          },
          "title": {
           "x": 0.05
          },
          "xaxis": {
           "automargin": true,
           "gridcolor": "white",
           "linecolor": "white",
           "ticks": "",
           "title": {
            "standoff": 15
           },
           "zerolinecolor": "white",
           "zerolinewidth": 2
          },
          "yaxis": {
           "automargin": true,
           "gridcolor": "white",
           "linecolor": "white",
           "ticks": "",
           "title": {
            "standoff": 15
           },
           "zerolinecolor": "white",
           "zerolinewidth": 2
          }
         }
        },
        "width": 500
       }
      }
     },
     "metadata": {},
     "output_type": "display_data"
    }
   ],
   "source": [
    "import plotly.graph_objects as go\n",
    "\n",
    "fig = go.Figure(go.Scattergeo(\n",
    "    lon=df[\"lon\"],\n",
    "    lat=df[\"lat\"],\n",
    "    text=df[\"id\"],\n",
    "    mode=\"markers+text\",\n",
    "    textposition=\"bottom center\"\n",
    "\n",
    "))\n",
    "# Recortado a nuestra zona de Interes\n",
    "fig.update_geos(\n",
    "    visible=False, resolution=110,\n",
    "    showcountries=True, countrycolor=\"Black\",\n",
    "    lonaxis=dict(range=[-130, -30]),   # limita la longitud (Oeste hasta Este)\n",
    "    lataxis=dict(range=[-55, 50])      # limita la latitud (Sur a Norte)\n",
    ")\n",
    "# Tamaño Grafica\n",
    "fig.update_layout(\n",
    "    width=500, height=500,\n",
    "    margin=dict(r=0, t=0, l=0, b=0)\n",
    ")\n",
    "# Captira de Mapa\n",
    "fig.show(config={\n",
    "    \"staticPlot\": True,       \n",
    "    \"displayModeBar\": False\n",
    "})"
   ]
  },
  {
   "cell_type": "code",
   "execution_count": 61,
   "id": "b24af722",
   "metadata": {},
   "outputs": [
    {
     "data": {
      "application/vnd.plotly.v1+json": {
       "config": {
        "displayModeBar": false,
        "plotlyServerURL": "https://plot.ly",
        "staticPlot": true
       },
       "data": [
        {
         "lat": {
          "bdata": "rP6vteosRUDmFUxq91pEQC367oZxdENAohxM/xLDOUBmcg/JUq45QDPmRuWsrDRALPbIoqJrM0Buc3X1R/g0QINrukjLZStA/DkwWIg4KEDGUWDhi+IhQK8Zs42e8yRAMnU8iYbVEkC4yn7DUM7Mv4Ec2RVpVC/AgyNgDyJ0QcDJFCFRBE5BwP2Q5tvzcUDA",
          "dtype": "f8"
         },
         "lon": {
          "bdata": "mAicYUTDUcA51us5zIBSwHZ4gGJzQVPAHnqpWDoMVMCGyxVrNBNZwHYELCmk1VnAnJVkAVPJWMAYgrxPUGZWwDT/SL8/TFbAnwdXnpuOVcB6MY0U/cpTwD3tCcE2ulDAoLZYz1mEUsDGYxEw/p9TwNqDhe6PT0fA8yQvY9sXTMBq7bHXRzJNwPWlGTocNlHA",
          "dtype": "f8"
         },
         "mode": "markers+text",
         "text": {
          "bdata": "AAAAAAAAJkAAAAAAAAAqQAAAAAAAABxAAAAAAAAAAEAAAAAAAAAgQAAAAAAAABRAAAAAAAAAAAAAAAAAAAAYQAAAAAAAAAhAAAAAAAAAIkAAAAAAAAAsQAAAAAAAACRAAAAAAAAAMUAAAAAAAADwPwAAAAAAAC5AAAAAAAAAMEAAAAAAAAAoQAAAAAAAABBA",
          "dtype": "f8"
         },
         "textposition": "bottom center",
         "type": "scattergeo"
        },
        {
         "hoverinfo": "skip",
         "lat": [
          42.35091277211663,
          40.71067551341166,
          38.90971457165538,
          25.762008625108713,
          25.68095070483323,
          20.674513177689914,
          19.4204503765706,
          20.969848004507575,
          13.698816559559196,
          12.110415225874924,
          8.942473452575438,
          10.475819042313416,
          4.708521026911784,
          -0.22504624887149816,
          -15.664864237549638,
          -34.90728943056367,
          -34.609506741669584,
          -32.890254485684615,
          42.35091277211663
         ],
         "line": {
          "width": 2
         },
         "lon": [
          -71.05104866254476,
          -74.01246498137415,
          -77.02266752763703,
          -80.19106117773524,
          -100.30007435921115,
          -103.33814458178117,
          -99.14569125006386,
          -89.59865182312967,
          -89.19139082077601,
          -86.22824820040704,
          -79.17169679439931,
          -66.90959192246824,
          -74.0679815641729,
          -78.49988938997475,
          -46.621579947655576,
          -56.18638267328233,
          -58.39281746089803,
          -68.8454728365394,
          -71.05104866254476
         ],
         "mode": "lines",
         "name": "Ruta",
         "type": "scattergeo"
        }
       ],
       "layout": {
        "geo": {
         "countrycolor": "Black",
         "lataxis": {
          "range": [
           -55,
           50
          ]
         },
         "lonaxis": {
          "range": [
           -130,
           -30
          ]
         },
         "resolution": 110,
         "showcountries": true,
         "visible": false
        },
        "height": 500,
        "margin": {
         "b": 0,
         "l": 0,
         "r": 0,
         "t": 0
        },
        "template": {
         "data": {
          "bar": [
           {
            "error_x": {
             "color": "#2a3f5f"
            },
            "error_y": {
             "color": "#2a3f5f"
            },
            "marker": {
             "line": {
              "color": "#E5ECF6",
              "width": 0.5
             },
             "pattern": {
              "fillmode": "overlay",
              "size": 10,
              "solidity": 0.2
             }
            },
            "type": "bar"
           }
          ],
          "barpolar": [
           {
            "marker": {
             "line": {
              "color": "#E5ECF6",
              "width": 0.5
             },
             "pattern": {
              "fillmode": "overlay",
              "size": 10,
              "solidity": 0.2
             }
            },
            "type": "barpolar"
           }
          ],
          "carpet": [
           {
            "aaxis": {
             "endlinecolor": "#2a3f5f",
             "gridcolor": "white",
             "linecolor": "white",
             "minorgridcolor": "white",
             "startlinecolor": "#2a3f5f"
            },
            "baxis": {
             "endlinecolor": "#2a3f5f",
             "gridcolor": "white",
             "linecolor": "white",
             "minorgridcolor": "white",
             "startlinecolor": "#2a3f5f"
            },
            "type": "carpet"
           }
          ],
          "choropleth": [
           {
            "colorbar": {
             "outlinewidth": 0,
             "ticks": ""
            },
            "type": "choropleth"
           }
          ],
          "contour": [
           {
            "colorbar": {
             "outlinewidth": 0,
             "ticks": ""
            },
            "colorscale": [
             [
              0,
              "#0d0887"
             ],
             [
              0.1111111111111111,
              "#46039f"
             ],
             [
              0.2222222222222222,
              "#7201a8"
             ],
             [
              0.3333333333333333,
              "#9c179e"
             ],
             [
              0.4444444444444444,
              "#bd3786"
             ],
             [
              0.5555555555555556,
              "#d8576b"
             ],
             [
              0.6666666666666666,
              "#ed7953"
             ],
             [
              0.7777777777777778,
              "#fb9f3a"
             ],
             [
              0.8888888888888888,
              "#fdca26"
             ],
             [
              1,
              "#f0f921"
             ]
            ],
            "type": "contour"
           }
          ],
          "contourcarpet": [
           {
            "colorbar": {
             "outlinewidth": 0,
             "ticks": ""
            },
            "type": "contourcarpet"
           }
          ],
          "heatmap": [
           {
            "colorbar": {
             "outlinewidth": 0,
             "ticks": ""
            },
            "colorscale": [
             [
              0,
              "#0d0887"
             ],
             [
              0.1111111111111111,
              "#46039f"
             ],
             [
              0.2222222222222222,
              "#7201a8"
             ],
             [
              0.3333333333333333,
              "#9c179e"
             ],
             [
              0.4444444444444444,
              "#bd3786"
             ],
             [
              0.5555555555555556,
              "#d8576b"
             ],
             [
              0.6666666666666666,
              "#ed7953"
             ],
             [
              0.7777777777777778,
              "#fb9f3a"
             ],
             [
              0.8888888888888888,
              "#fdca26"
             ],
             [
              1,
              "#f0f921"
             ]
            ],
            "type": "heatmap"
           }
          ],
          "histogram": [
           {
            "marker": {
             "pattern": {
              "fillmode": "overlay",
              "size": 10,
              "solidity": 0.2
             }
            },
            "type": "histogram"
           }
          ],
          "histogram2d": [
           {
            "colorbar": {
             "outlinewidth": 0,
             "ticks": ""
            },
            "colorscale": [
             [
              0,
              "#0d0887"
             ],
             [
              0.1111111111111111,
              "#46039f"
             ],
             [
              0.2222222222222222,
              "#7201a8"
             ],
             [
              0.3333333333333333,
              "#9c179e"
             ],
             [
              0.4444444444444444,
              "#bd3786"
             ],
             [
              0.5555555555555556,
              "#d8576b"
             ],
             [
              0.6666666666666666,
              "#ed7953"
             ],
             [
              0.7777777777777778,
              "#fb9f3a"
             ],
             [
              0.8888888888888888,
              "#fdca26"
             ],
             [
              1,
              "#f0f921"
             ]
            ],
            "type": "histogram2d"
           }
          ],
          "histogram2dcontour": [
           {
            "colorbar": {
             "outlinewidth": 0,
             "ticks": ""
            },
            "colorscale": [
             [
              0,
              "#0d0887"
             ],
             [
              0.1111111111111111,
              "#46039f"
             ],
             [
              0.2222222222222222,
              "#7201a8"
             ],
             [
              0.3333333333333333,
              "#9c179e"
             ],
             [
              0.4444444444444444,
              "#bd3786"
             ],
             [
              0.5555555555555556,
              "#d8576b"
             ],
             [
              0.6666666666666666,
              "#ed7953"
             ],
             [
              0.7777777777777778,
              "#fb9f3a"
             ],
             [
              0.8888888888888888,
              "#fdca26"
             ],
             [
              1,
              "#f0f921"
             ]
            ],
            "type": "histogram2dcontour"
           }
          ],
          "mesh3d": [
           {
            "colorbar": {
             "outlinewidth": 0,
             "ticks": ""
            },
            "type": "mesh3d"
           }
          ],
          "parcoords": [
           {
            "line": {
             "colorbar": {
              "outlinewidth": 0,
              "ticks": ""
             }
            },
            "type": "parcoords"
           }
          ],
          "pie": [
           {
            "automargin": true,
            "type": "pie"
           }
          ],
          "scatter": [
           {
            "fillpattern": {
             "fillmode": "overlay",
             "size": 10,
             "solidity": 0.2
            },
            "type": "scatter"
           }
          ],
          "scatter3d": [
           {
            "line": {
             "colorbar": {
              "outlinewidth": 0,
              "ticks": ""
             }
            },
            "marker": {
             "colorbar": {
              "outlinewidth": 0,
              "ticks": ""
             }
            },
            "type": "scatter3d"
           }
          ],
          "scattercarpet": [
           {
            "marker": {
             "colorbar": {
              "outlinewidth": 0,
              "ticks": ""
             }
            },
            "type": "scattercarpet"
           }
          ],
          "scattergeo": [
           {
            "marker": {
             "colorbar": {
              "outlinewidth": 0,
              "ticks": ""
             }
            },
            "type": "scattergeo"
           }
          ],
          "scattergl": [
           {
            "marker": {
             "colorbar": {
              "outlinewidth": 0,
              "ticks": ""
             }
            },
            "type": "scattergl"
           }
          ],
          "scattermap": [
           {
            "marker": {
             "colorbar": {
              "outlinewidth": 0,
              "ticks": ""
             }
            },
            "type": "scattermap"
           }
          ],
          "scattermapbox": [
           {
            "marker": {
             "colorbar": {
              "outlinewidth": 0,
              "ticks": ""
             }
            },
            "type": "scattermapbox"
           }
          ],
          "scatterpolar": [
           {
            "marker": {
             "colorbar": {
              "outlinewidth": 0,
              "ticks": ""
             }
            },
            "type": "scatterpolar"
           }
          ],
          "scatterpolargl": [
           {
            "marker": {
             "colorbar": {
              "outlinewidth": 0,
              "ticks": ""
             }
            },
            "type": "scatterpolargl"
           }
          ],
          "scatterternary": [
           {
            "marker": {
             "colorbar": {
              "outlinewidth": 0,
              "ticks": ""
             }
            },
            "type": "scatterternary"
           }
          ],
          "surface": [
           {
            "colorbar": {
             "outlinewidth": 0,
             "ticks": ""
            },
            "colorscale": [
             [
              0,
              "#0d0887"
             ],
             [
              0.1111111111111111,
              "#46039f"
             ],
             [
              0.2222222222222222,
              "#7201a8"
             ],
             [
              0.3333333333333333,
              "#9c179e"
             ],
             [
              0.4444444444444444,
              "#bd3786"
             ],
             [
              0.5555555555555556,
              "#d8576b"
             ],
             [
              0.6666666666666666,
              "#ed7953"
             ],
             [
              0.7777777777777778,
              "#fb9f3a"
             ],
             [
              0.8888888888888888,
              "#fdca26"
             ],
             [
              1,
              "#f0f921"
             ]
            ],
            "type": "surface"
           }
          ],
          "table": [
           {
            "cells": {
             "fill": {
              "color": "#EBF0F8"
             },
             "line": {
              "color": "white"
             }
            },
            "header": {
             "fill": {
              "color": "#C8D4E3"
             },
             "line": {
              "color": "white"
             }
            },
            "type": "table"
           }
          ]
         },
         "layout": {
          "annotationdefaults": {
           "arrowcolor": "#2a3f5f",
           "arrowhead": 0,
           "arrowwidth": 1
          },
          "autotypenumbers": "strict",
          "coloraxis": {
           "colorbar": {
            "outlinewidth": 0,
            "ticks": ""
           }
          },
          "colorscale": {
           "diverging": [
            [
             0,
             "#8e0152"
            ],
            [
             0.1,
             "#c51b7d"
            ],
            [
             0.2,
             "#de77ae"
            ],
            [
             0.3,
             "#f1b6da"
            ],
            [
             0.4,
             "#fde0ef"
            ],
            [
             0.5,
             "#f7f7f7"
            ],
            [
             0.6,
             "#e6f5d0"
            ],
            [
             0.7,
             "#b8e186"
            ],
            [
             0.8,
             "#7fbc41"
            ],
            [
             0.9,
             "#4d9221"
            ],
            [
             1,
             "#276419"
            ]
           ],
           "sequential": [
            [
             0,
             "#0d0887"
            ],
            [
             0.1111111111111111,
             "#46039f"
            ],
            [
             0.2222222222222222,
             "#7201a8"
            ],
            [
             0.3333333333333333,
             "#9c179e"
            ],
            [
             0.4444444444444444,
             "#bd3786"
            ],
            [
             0.5555555555555556,
             "#d8576b"
            ],
            [
             0.6666666666666666,
             "#ed7953"
            ],
            [
             0.7777777777777778,
             "#fb9f3a"
            ],
            [
             0.8888888888888888,
             "#fdca26"
            ],
            [
             1,
             "#f0f921"
            ]
           ],
           "sequentialminus": [
            [
             0,
             "#0d0887"
            ],
            [
             0.1111111111111111,
             "#46039f"
            ],
            [
             0.2222222222222222,
             "#7201a8"
            ],
            [
             0.3333333333333333,
             "#9c179e"
            ],
            [
             0.4444444444444444,
             "#bd3786"
            ],
            [
             0.5555555555555556,
             "#d8576b"
            ],
            [
             0.6666666666666666,
             "#ed7953"
            ],
            [
             0.7777777777777778,
             "#fb9f3a"
            ],
            [
             0.8888888888888888,
             "#fdca26"
            ],
            [
             1,
             "#f0f921"
            ]
           ]
          },
          "colorway": [
           "#636efa",
           "#EF553B",
           "#00cc96",
           "#ab63fa",
           "#FFA15A",
           "#19d3f3",
           "#FF6692",
           "#B6E880",
           "#FF97FF",
           "#FECB52"
          ],
          "font": {
           "color": "#2a3f5f"
          },
          "geo": {
           "bgcolor": "white",
           "lakecolor": "white",
           "landcolor": "#E5ECF6",
           "showlakes": true,
           "showland": true,
           "subunitcolor": "white"
          },
          "hoverlabel": {
           "align": "left"
          },
          "hovermode": "closest",
          "mapbox": {
           "style": "light"
          },
          "paper_bgcolor": "white",
          "plot_bgcolor": "#E5ECF6",
          "polar": {
           "angularaxis": {
            "gridcolor": "white",
            "linecolor": "white",
            "ticks": ""
           },
           "bgcolor": "#E5ECF6",
           "radialaxis": {
            "gridcolor": "white",
            "linecolor": "white",
            "ticks": ""
           }
          },
          "scene": {
           "xaxis": {
            "backgroundcolor": "#E5ECF6",
            "gridcolor": "white",
            "gridwidth": 2,
            "linecolor": "white",
            "showbackground": true,
            "ticks": "",
            "zerolinecolor": "white"
           },
           "yaxis": {
            "backgroundcolor": "#E5ECF6",
            "gridcolor": "white",
            "gridwidth": 2,
            "linecolor": "white",
            "showbackground": true,
            "ticks": "",
            "zerolinecolor": "white"
           },
           "zaxis": {
            "backgroundcolor": "#E5ECF6",
            "gridcolor": "white",
            "gridwidth": 2,
            "linecolor": "white",
            "showbackground": true,
            "ticks": "",
            "zerolinecolor": "white"
           }
          },
          "shapedefaults": {
           "line": {
            "color": "#2a3f5f"
           }
          },
          "ternary": {
           "aaxis": {
            "gridcolor": "white",
            "linecolor": "white",
            "ticks": ""
           },
           "baxis": {
            "gridcolor": "white",
            "linecolor": "white",
            "ticks": ""
           },
           "bgcolor": "#E5ECF6",
           "caxis": {
            "gridcolor": "white",
            "linecolor": "white",
            "ticks": ""
           }
          },
          "title": {
           "x": 0.05
          },
          "xaxis": {
           "automargin": true,
           "gridcolor": "white",
           "linecolor": "white",
           "ticks": "",
           "title": {
            "standoff": 15
           },
           "zerolinecolor": "white",
           "zerolinewidth": 2
          },
          "yaxis": {
           "automargin": true,
           "gridcolor": "white",
           "linecolor": "white",
           "ticks": "",
           "title": {
            "standoff": 15
           },
           "zerolinecolor": "white",
           "zerolinewidth": 2
          }
         }
        },
        "width": 500
       }
      }
     },
     "metadata": {},
     "output_type": "display_data"
    }
   ],
   "source": [
    "# Indice de Ciudades (0,...,17)\n",
    "n=len(df) \n",
    "route = list(range(n))\n",
    "\n",
    "# Trazar Ruta\n",
    "lon_route = df.iloc[route][\"lon\"].tolist()\n",
    "lat_route = df.iloc[route][\"lat\"].tolist()\n",
    "lon_route += [lon_route[0]]\n",
    "lat_route += [lat_route[0]]\n",
    "\n",
    "fig.add_trace(go.Scattergeo(\n",
    "    lon=lon_route,\n",
    "    lat=lat_route,\n",
    "    mode=\"lines\",\n",
    "    line=dict(width=2),\n",
    "    hoverinfo=\"skip\",\n",
    "    name=\"Ruta\"\n",
    "))\n",
    "\n",
    "fig.show(config={\n",
    "    \"staticPlot\": True,       # congela el gráfico (sin pan/zoom/selección)\n",
    "    \"displayModeBar\": False\n",
    "})"
   ]
  },
  {
   "cell_type": "markdown",
   "id": "ee2159aa",
   "metadata": {},
   "source": [
    "# Generar Población\n",
    "\n",
    "Tomando en cueta que nuestra Poblacion total son las combinaciones de las 18 ciudades tenemos que:  \n",
    "El total seria $18! = 6,402,373,705,728,000$ posibles combinaciones"
   ]
  },
  {
   "cell_type": "markdown",
   "id": "37eeefdf",
   "metadata": {},
   "source": [
    "En la Imagen anterior podemos ver la ruta trazada con las ciudades en el orden en que fueron escritas por lo tanto si revisamos la ruta veremos lo siguiente:"
   ]
  },
  {
   "cell_type": "code",
   "execution_count": null,
   "id": "9f5ecc28",
   "metadata": {},
   "outputs": [
    {
     "name": "stdout",
     "output_type": "stream",
     "text": [
      "[0, 1, 2, 3, 4, 5, 6, 7, 8, 9, 10, 11, 12, 13, 14, 15, 16, 17]\n"
     ]
    }
   ],
   "source": [
    "print(route)"
   ]
  },
  {
   "cell_type": "markdown",
   "id": "eb34e7e6",
   "metadata": {},
   "source": [
    "Es importante tomar en cuenta que inicia en la posicion 0 pero termina en la 17 esto es esperado a este momento sin embargo para nuestro problema tenemos que tener en cuenta que el lugar de inicio y final debe ser la misma ciudad por lo que debemos agregar esta consideracion."
   ]
  },
  {
   "cell_type": "code",
   "execution_count": 15,
   "id": "7fd52953",
   "metadata": {},
   "outputs": [
    {
     "data": {
      "text/plain": [
       "19"
      ]
     },
     "execution_count": 15,
     "metadata": {},
     "output_type": "execute_result"
    }
   ],
   "source": [
    "len(route)"
   ]
  },
  {
   "cell_type": "code",
   "execution_count": null,
   "id": "c11e67d0",
   "metadata": {},
   "outputs": [],
   "source": [
    "def back_home (route):\n",
    "    # Comprobar que no sea mayor a 19 (0 -> 17) + 1\n",
    "    while len(route) > 18: \n",
    "        route.pop()\n",
    "\n",
    "    start = route[0]\n",
    "    route.append(start)\n",
    "    return route"
   ]
  },
  {
   "cell_type": "code",
   "execution_count": 54,
   "id": "a1b30787",
   "metadata": {},
   "outputs": [
    {
     "name": "stdout",
     "output_type": "stream",
     "text": [
      "[0, 1, 2, 3, 4, 5, 6, 7, 8, 9, 10, 11, 12, 13, 14, 15, 16, 17, 0]\n"
     ]
    }
   ],
   "source": [
    "r1 = back_home(route)\n",
    "print(r1)"
   ]
  },
  {
   "cell_type": "markdown",
   "id": "2ff48fb1",
   "metadata": {},
   "source": [
    "# Revisar\n",
    "-Distancia Haversine  \n",
    "-Vicenty"
   ]
  }
 ],
 "metadata": {
  "kernelspec": {
   "display_name": "Python 3",
   "language": "python",
   "name": "python3"
  },
  "language_info": {
   "codemirror_mode": {
    "name": "ipython",
    "version": 3
   },
   "file_extension": ".py",
   "mimetype": "text/x-python",
   "name": "python",
   "nbconvert_exporter": "python",
   "pygments_lexer": "ipython3",
   "version": "3.12.7"
  }
 },
 "nbformat": 4,
 "nbformat_minor": 5
}
