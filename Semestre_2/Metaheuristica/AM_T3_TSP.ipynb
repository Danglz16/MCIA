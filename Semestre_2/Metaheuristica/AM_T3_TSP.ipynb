{
 "cells": [
  {
   "cell_type": "markdown",
   "id": "fc02887b",
   "metadata": {},
   "source": [
    "Algoritmos Metaheuristicos  \n",
    "Tarea 3 - TSP  \n",
    "Autor: Ing. Daniel Eduardo González Alvarado  \n",
    "Profesor: Dr. Marco Aceves"
   ]
  },
  {
   "cell_type": "markdown",
   "id": "83025a88",
   "metadata": {},
   "source": [
    "# Importar Librerias"
   ]
  },
  {
   "cell_type": "code",
   "execution_count": 1,
   "id": "d186a772",
   "metadata": {},
   "outputs": [],
   "source": [
    "import numpy as np\n",
    "import pandas as pd\n",
    "import random\n",
    "import matplotlib.pyplot as plt\n",
    "import seaborn as sns\n",
    "import plotly.express as px"
   ]
  },
  {
   "cell_type": "markdown",
   "id": "238be2db",
   "metadata": {},
   "source": [
    "# Travelling Salesman Problem (TSP)\n",
    "\n",
    "El problema del viajero es uno de los problemas más famosos en el campo de la optimizacion computacional. El enunciado clasico es:  \n",
    "\n",
    "\"Sean N ciudades de un territorio. El objetivo es encontrar una ruta que, comenzando y terminando en una ciudad en concreto pase solo una vez por cada una de las ciudades y minimice la distancia recorrida por el viajero.\"\n",
    "\n",
    "Es decir, encontrar una permutacion:\n",
    "\n",
    "$P = \\{C_0,C_1,\\dots,C_N-1\\}$ tal que $d_p = \\sum_{i=0}^{N-1} d(c_i,c_{i+1})$ sea minima."
   ]
  },
  {
   "cell_type": "markdown",
   "id": "fcee6527",
   "metadata": {},
   "source": [
    "## Ciudades"
   ]
  },
  {
   "cell_type": "code",
   "execution_count": 2,
   "id": "834ef669",
   "metadata": {},
   "outputs": [],
   "source": [
    "cities = [\n",
    "(\"Mexico City\",0 ,19.4204503765706, -99.14569125006386),     # Mexico City \n",
    "(\"Quito\",1,-0.22504624887149816, -78.49988938997475),        # Quito\n",
    "(\"Miami\",2,25.762008625108713, -80.19106117773524),          # Miami\n",
    "(\"San Salvador\",3,13.698816559559196, -89.19139082077601),   # San Salvador\n",
    "(\"Mendoza\",4,-32.890254485684615, -68.8454728365394),        # Mendoza\n",
    "(\"Guadalajara\",5,20.674513177689914, -103.33814458178117),   # Guadalajara\n",
    "(\"Merida\",6,20.969848004507575, -89.59865182312967),         # Merida\n",
    "(\"Washington D.C.\",7,38.90971457165538, -77.02266752763703), # Washington D.C.\n",
    "(\"Monterrey\",8,25.68095070483323, -100.30007435921115),      # Monterrey\n",
    "(\"Managua\",9,12.110415225874924, -86.22824820040704),        # Managua\n",
    "(\"Caracas\",10,10.475819042313416, -66.90959192246824),       # Caracas\n",
    "(\"Boston\",11,42.35091277211663, -71.05104866254476),         # Boston\n",
    "(\"Buenos Aires\",12,-34.609506741669584, -58.39281746089803), # Buenos Aires\n",
    "(\"New York\",13,40.71067551341166, -74.01246498137415),       # New York\n",
    "(\"Panama City\",14,8.942473452575438, -79.17169679439931),    # Panama City\n",
    "(\"Brasilia\",15,-15.664864237549638, -46.621579947655576),    # Brasilia\n",
    "(\"Montevideo\",16,-34.90728943056367, -56.18638267328233),    # Montevideo\n",
    "(\"Bogota\",17,4.708521026911784, -74.0679815641729)]          # Bogota\n",
    "\n",
    "df = pd.DataFrame(cities, columns=[\"city\",\"id\" ,\"lat\", \"lon\"])"
   ]
  },
  {
   "cell_type": "code",
   "execution_count": 13,
   "id": "411bd6d1",
   "metadata": {},
   "outputs": [
    {
     "name": "stdout",
     "output_type": "stream",
     "text": [
      "<class 'pandas.core.frame.DataFrame'>\n",
      "RangeIndex: 18 entries, 0 to 17\n",
      "Data columns (total 4 columns):\n",
      " #   Column  Non-Null Count  Dtype  \n",
      "---  ------  --------------  -----  \n",
      " 0   id      18 non-null     int64  \n",
      " 1   city    18 non-null     object \n",
      " 2   lat     18 non-null     float64\n",
      " 3   lon     18 non-null     float64\n",
      "dtypes: float64(2), int64(1), object(1)\n",
      "memory usage: 708.0+ bytes\n"
     ]
    }
   ],
   "source": [
    "df.info()"
   ]
  },
  {
   "cell_type": "code",
   "execution_count": 6,
   "id": "2432acc3",
   "metadata": {},
   "outputs": [
    {
     "name": "stdout",
     "output_type": "stream",
     "text": [
      "    id             city        lat         lon\n",
      "0   11           Boston  42.350913  -71.051049\n",
      "1   13         New York  40.710676  -74.012465\n",
      "2    7  Washington D.C.  38.909715  -77.022668\n",
      "3    2            Miami  25.762009  -80.191061\n",
      "4    8        Monterrey  25.680951 -100.300074\n",
      "5    5      Guadalajara  20.674513 -103.338145\n",
      "6    0      Mexico City  19.420450  -99.145691\n",
      "7    6           Merida  20.969848  -89.598652\n",
      "8    3     San Salvador  13.698817  -89.191391\n",
      "9    9          Managua  12.110415  -86.228248\n",
      "10  14      Panama City   8.942473  -79.171697\n",
      "11  10          Caracas  10.475819  -66.909592\n",
      "12  17           Bogota   4.708521  -74.067982\n",
      "13   1            Quito  -0.225046  -78.499889\n",
      "14  15         Brasilia -15.664864  -46.621580\n",
      "15  16       Montevideo -34.907289  -56.186383\n",
      "16  12     Buenos Aires -34.609507  -58.392817\n",
      "17   4          Mendoza -32.890254  -68.845473\n"
     ]
    }
   ],
   "source": [
    "#############################################################################\n",
    "\n",
    "# Orden descendente geografico\n",
    "orden = [11, 13, 7, 2, 8, 5, 0, 6, 3, 9, 14, 10, 17, 1, 15, 16, 12, 4]\n",
    "\n",
    "# Reordenar según lista\n",
    "df_ordenado = df.set_index(\"id\").loc[orden].reset_index()\n",
    "\n",
    "print(df_ordenado)\n",
    "df = df_ordenado"
   ]
  },
  {
   "cell_type": "code",
   "execution_count": null,
   "id": "1bb5f3d7",
   "metadata": {},
   "outputs": [
    {
     "name": "stdout",
     "output_type": "stream",
     "text": [
      "[13, 6, 10, 9, 14, 1, 3, 15, 2, 11, 8, 17, 5, 12, 16, 0, 4, 7]\n"
     ]
    }
   ],
   "source": [
    "def new_route():\n",
    "    return random.sample(range(18), 18)\n",
    "\n",
    "# print(new_route())"
   ]
  },
  {
   "cell_type": "code",
   "execution_count": 7,
   "id": "1d45ee3a",
   "metadata": {},
   "outputs": [
    {
     "data": {
      "application/vnd.plotly.v1+json": {
       "config": {
        "displayModeBar": false,
        "plotlyServerURL": "https://plot.ly",
        "staticPlot": true
       },
       "data": [
        {
         "lat": {
          "bdata": "rP6vteosRUDmFUxq91pEQC367oZxdENAohxM/xLDOUBmcg/JUq45QDPmRuWsrDRALPbIoqJrM0Buc3X1R/g0QINrukjLZStA/DkwWIg4KEDGUWDhi+IhQK8Zs42e8yRAMnU8iYbVEkC4yn7DUM7Mv4Ec2RVpVC/AgyNgDyJ0QcDJFCFRBE5BwP2Q5tvzcUDA",
          "dtype": "f8"
         },
         "lon": {
          "bdata": "mAicYUTDUcA51us5zIBSwHZ4gGJzQVPAHnqpWDoMVMCGyxVrNBNZwHYELCmk1VnAnJVkAVPJWMAYgrxPUGZWwDT/SL8/TFbAnwdXnpuOVcB6MY0U/cpTwD3tCcE2ulDAoLZYz1mEUsDGYxEw/p9TwNqDhe6PT0fA8yQvY9sXTMBq7bHXRzJNwPWlGTocNlHA",
          "dtype": "f8"
         },
         "mode": "markers+text",
         "text": {
          "bdata": "AAAAAAAAJkAAAAAAAAAqQAAAAAAAABxAAAAAAAAAAEAAAAAAAAAgQAAAAAAAABRAAAAAAAAAAAAAAAAAAAAYQAAAAAAAAAhAAAAAAAAAIkAAAAAAAAAsQAAAAAAAACRAAAAAAAAAMUAAAAAAAADwPwAAAAAAAC5AAAAAAAAAMEAAAAAAAAAoQAAAAAAAABBA",
          "dtype": "f8"
         },
         "textposition": "bottom center",
         "type": "scattergeo"
        }
       ],
       "layout": {
        "geo": {
         "countrycolor": "Black",
         "lataxis": {
          "range": [
           -55,
           50
          ]
         },
         "lonaxis": {
          "range": [
           -130,
           -30
          ]
         },
         "resolution": 110,
         "showcountries": true,
         "visible": false
        },
        "height": 500,
        "margin": {
         "b": 0,
         "l": 0,
         "r": 0,
         "t": 0
        },
        "template": {
         "data": {
          "bar": [
           {
            "error_x": {
             "color": "#2a3f5f"
            },
            "error_y": {
             "color": "#2a3f5f"
            },
            "marker": {
             "line": {
              "color": "#E5ECF6",
              "width": 0.5
             },
             "pattern": {
              "fillmode": "overlay",
              "size": 10,
              "solidity": 0.2
             }
            },
            "type": "bar"
           }
          ],
          "barpolar": [
           {
            "marker": {
             "line": {
              "color": "#E5ECF6",
              "width": 0.5
             },
             "pattern": {
              "fillmode": "overlay",
              "size": 10,
              "solidity": 0.2
             }
            },
            "type": "barpolar"
           }
          ],
          "carpet": [
           {
            "aaxis": {
             "endlinecolor": "#2a3f5f",
             "gridcolor": "white",
             "linecolor": "white",
             "minorgridcolor": "white",
             "startlinecolor": "#2a3f5f"
            },
            "baxis": {
             "endlinecolor": "#2a3f5f",
             "gridcolor": "white",
             "linecolor": "white",
             "minorgridcolor": "white",
             "startlinecolor": "#2a3f5f"
            },
            "type": "carpet"
           }
          ],
          "choropleth": [
           {
            "colorbar": {
             "outlinewidth": 0,
             "ticks": ""
            },
            "type": "choropleth"
           }
          ],
          "contour": [
           {
            "colorbar": {
             "outlinewidth": 0,
             "ticks": ""
            },
            "colorscale": [
             [
              0,
              "#0d0887"
             ],
             [
              0.1111111111111111,
              "#46039f"
             ],
             [
              0.2222222222222222,
              "#7201a8"
             ],
             [
              0.3333333333333333,
              "#9c179e"
             ],
             [
              0.4444444444444444,
              "#bd3786"
             ],
             [
              0.5555555555555556,
              "#d8576b"
             ],
             [
              0.6666666666666666,
              "#ed7953"
             ],
             [
              0.7777777777777778,
              "#fb9f3a"
             ],
             [
              0.8888888888888888,
              "#fdca26"
             ],
             [
              1,
              "#f0f921"
             ]
            ],
            "type": "contour"
           }
          ],
          "contourcarpet": [
           {
            "colorbar": {
             "outlinewidth": 0,
             "ticks": ""
            },
            "type": "contourcarpet"
           }
          ],
          "heatmap": [
           {
            "colorbar": {
             "outlinewidth": 0,
             "ticks": ""
            },
            "colorscale": [
             [
              0,
              "#0d0887"
             ],
             [
              0.1111111111111111,
              "#46039f"
             ],
             [
              0.2222222222222222,
              "#7201a8"
             ],
             [
              0.3333333333333333,
              "#9c179e"
             ],
             [
              0.4444444444444444,
              "#bd3786"
             ],
             [
              0.5555555555555556,
              "#d8576b"
             ],
             [
              0.6666666666666666,
              "#ed7953"
             ],
             [
              0.7777777777777778,
              "#fb9f3a"
             ],
             [
              0.8888888888888888,
              "#fdca26"
             ],
             [
              1,
              "#f0f921"
             ]
            ],
            "type": "heatmap"
           }
          ],
          "histogram": [
           {
            "marker": {
             "pattern": {
              "fillmode": "overlay",
              "size": 10,
              "solidity": 0.2
             }
            },
            "type": "histogram"
           }
          ],
          "histogram2d": [
           {
            "colorbar": {
             "outlinewidth": 0,
             "ticks": ""
            },
            "colorscale": [
             [
              0,
              "#0d0887"
             ],
             [
              0.1111111111111111,
              "#46039f"
             ],
             [
              0.2222222222222222,
              "#7201a8"
             ],
             [
              0.3333333333333333,
              "#9c179e"
             ],
             [
              0.4444444444444444,
              "#bd3786"
             ],
             [
              0.5555555555555556,
              "#d8576b"
             ],
             [
              0.6666666666666666,
              "#ed7953"
             ],
             [
              0.7777777777777778,
              "#fb9f3a"
             ],
             [
              0.8888888888888888,
              "#fdca26"
             ],
             [
              1,
              "#f0f921"
             ]
            ],
            "type": "histogram2d"
           }
          ],
          "histogram2dcontour": [
           {
            "colorbar": {
             "outlinewidth": 0,
             "ticks": ""
            },
            "colorscale": [
             [
              0,
              "#0d0887"
             ],
             [
              0.1111111111111111,
              "#46039f"
             ],
             [
              0.2222222222222222,
              "#7201a8"
             ],
             [
              0.3333333333333333,
              "#9c179e"
             ],
             [
              0.4444444444444444,
              "#bd3786"
             ],
             [
              0.5555555555555556,
              "#d8576b"
             ],
             [
              0.6666666666666666,
              "#ed7953"
             ],
             [
              0.7777777777777778,
              "#fb9f3a"
             ],
             [
              0.8888888888888888,
              "#fdca26"
             ],
             [
              1,
              "#f0f921"
             ]
            ],
            "type": "histogram2dcontour"
           }
          ],
          "mesh3d": [
           {
            "colorbar": {
             "outlinewidth": 0,
             "ticks": ""
            },
            "type": "mesh3d"
           }
          ],
          "parcoords": [
           {
            "line": {
             "colorbar": {
              "outlinewidth": 0,
              "ticks": ""
             }
            },
            "type": "parcoords"
           }
          ],
          "pie": [
           {
            "automargin": true,
            "type": "pie"
           }
          ],
          "scatter": [
           {
            "fillpattern": {
             "fillmode": "overlay",
             "size": 10,
             "solidity": 0.2
            },
            "type": "scatter"
           }
          ],
          "scatter3d": [
           {
            "line": {
             "colorbar": {
              "outlinewidth": 0,
              "ticks": ""
             }
            },
            "marker": {
             "colorbar": {
              "outlinewidth": 0,
              "ticks": ""
             }
            },
            "type": "scatter3d"
           }
          ],
          "scattercarpet": [
           {
            "marker": {
             "colorbar": {
              "outlinewidth": 0,
              "ticks": ""
             }
            },
            "type": "scattercarpet"
           }
          ],
          "scattergeo": [
           {
            "marker": {
             "colorbar": {
              "outlinewidth": 0,
              "ticks": ""
             }
            },
            "type": "scattergeo"
           }
          ],
          "scattergl": [
           {
            "marker": {
             "colorbar": {
              "outlinewidth": 0,
              "ticks": ""
             }
            },
            "type": "scattergl"
           }
          ],
          "scattermap": [
           {
            "marker": {
             "colorbar": {
              "outlinewidth": 0,
              "ticks": ""
             }
            },
            "type": "scattermap"
           }
          ],
          "scattermapbox": [
           {
            "marker": {
             "colorbar": {
              "outlinewidth": 0,
              "ticks": ""
             }
            },
            "type": "scattermapbox"
           }
          ],
          "scatterpolar": [
           {
            "marker": {
             "colorbar": {
              "outlinewidth": 0,
              "ticks": ""
             }
            },
            "type": "scatterpolar"
           }
          ],
          "scatterpolargl": [
           {
            "marker": {
             "colorbar": {
              "outlinewidth": 0,
              "ticks": ""
             }
            },
            "type": "scatterpolargl"
           }
          ],
          "scatterternary": [
           {
            "marker": {
             "colorbar": {
              "outlinewidth": 0,
              "ticks": ""
             }
            },
            "type": "scatterternary"
           }
          ],
          "surface": [
           {
            "colorbar": {
             "outlinewidth": 0,
             "ticks": ""
            },
            "colorscale": [
             [
              0,
              "#0d0887"
             ],
             [
              0.1111111111111111,
              "#46039f"
             ],
             [
              0.2222222222222222,
              "#7201a8"
             ],
             [
              0.3333333333333333,
              "#9c179e"
             ],
             [
              0.4444444444444444,
              "#bd3786"
             ],
             [
              0.5555555555555556,
              "#d8576b"
             ],
             [
              0.6666666666666666,
              "#ed7953"
             ],
             [
              0.7777777777777778,
              "#fb9f3a"
             ],
             [
              0.8888888888888888,
              "#fdca26"
             ],
             [
              1,
              "#f0f921"
             ]
            ],
            "type": "surface"
           }
          ],
          "table": [
           {
            "cells": {
             "fill": {
              "color": "#EBF0F8"
             },
             "line": {
              "color": "white"
             }
            },
            "header": {
             "fill": {
              "color": "#C8D4E3"
             },
             "line": {
              "color": "white"
             }
            },
            "type": "table"
           }
          ]
         },
         "layout": {
          "annotationdefaults": {
           "arrowcolor": "#2a3f5f",
           "arrowhead": 0,
           "arrowwidth": 1
          },
          "autotypenumbers": "strict",
          "coloraxis": {
           "colorbar": {
            "outlinewidth": 0,
            "ticks": ""
           }
          },
          "colorscale": {
           "diverging": [
            [
             0,
             "#8e0152"
            ],
            [
             0.1,
             "#c51b7d"
            ],
            [
             0.2,
             "#de77ae"
            ],
            [
             0.3,
             "#f1b6da"
            ],
            [
             0.4,
             "#fde0ef"
            ],
            [
             0.5,
             "#f7f7f7"
            ],
            [
             0.6,
             "#e6f5d0"
            ],
            [
             0.7,
             "#b8e186"
            ],
            [
             0.8,
             "#7fbc41"
            ],
            [
             0.9,
             "#4d9221"
            ],
            [
             1,
             "#276419"
            ]
           ],
           "sequential": [
            [
             0,
             "#0d0887"
            ],
            [
             0.1111111111111111,
             "#46039f"
            ],
            [
             0.2222222222222222,
             "#7201a8"
            ],
            [
             0.3333333333333333,
             "#9c179e"
            ],
            [
             0.4444444444444444,
             "#bd3786"
            ],
            [
             0.5555555555555556,
             "#d8576b"
            ],
            [
             0.6666666666666666,
             "#ed7953"
            ],
            [
             0.7777777777777778,
             "#fb9f3a"
            ],
            [
             0.8888888888888888,
             "#fdca26"
            ],
            [
             1,
             "#f0f921"
            ]
           ],
           "sequentialminus": [
            [
             0,
             "#0d0887"
            ],
            [
             0.1111111111111111,
             "#46039f"
            ],
            [
             0.2222222222222222,
             "#7201a8"
            ],
            [
             0.3333333333333333,
             "#9c179e"
            ],
            [
             0.4444444444444444,
             "#bd3786"
            ],
            [
             0.5555555555555556,
             "#d8576b"
            ],
            [
             0.6666666666666666,
             "#ed7953"
            ],
            [
             0.7777777777777778,
             "#fb9f3a"
            ],
            [
             0.8888888888888888,
             "#fdca26"
            ],
            [
             1,
             "#f0f921"
            ]
           ]
          },
          "colorway": [
           "#636efa",
           "#EF553B",
           "#00cc96",
           "#ab63fa",
           "#FFA15A",
           "#19d3f3",
           "#FF6692",
           "#B6E880",
           "#FF97FF",
           "#FECB52"
          ],
          "font": {
           "color": "#2a3f5f"
          },
          "geo": {
           "bgcolor": "white",
           "lakecolor": "white",
           "landcolor": "#E5ECF6",
           "showlakes": true,
           "showland": true,
           "subunitcolor": "white"
          },
          "hoverlabel": {
           "align": "left"
          },
          "hovermode": "closest",
          "mapbox": {
           "style": "light"
          },
          "paper_bgcolor": "white",
          "plot_bgcolor": "#E5ECF6",
          "polar": {
           "angularaxis": {
            "gridcolor": "white",
            "linecolor": "white",
            "ticks": ""
           },
           "bgcolor": "#E5ECF6",
           "radialaxis": {
            "gridcolor": "white",
            "linecolor": "white",
            "ticks": ""
           }
          },
          "scene": {
           "xaxis": {
            "backgroundcolor": "#E5ECF6",
            "gridcolor": "white",
            "gridwidth": 2,
            "linecolor": "white",
            "showbackground": true,
            "ticks": "",
            "zerolinecolor": "white"
           },
           "yaxis": {
            "backgroundcolor": "#E5ECF6",
            "gridcolor": "white",
            "gridwidth": 2,
            "linecolor": "white",
            "showbackground": true,
            "ticks": "",
            "zerolinecolor": "white"
           },
           "zaxis": {
            "backgroundcolor": "#E5ECF6",
            "gridcolor": "white",
            "gridwidth": 2,
            "linecolor": "white",
            "showbackground": true,
            "ticks": "",
            "zerolinecolor": "white"
           }
          },
          "shapedefaults": {
           "line": {
            "color": "#2a3f5f"
           }
          },
          "ternary": {
           "aaxis": {
            "gridcolor": "white",
            "linecolor": "white",
            "ticks": ""
           },
           "baxis": {
            "gridcolor": "white",
            "linecolor": "white",
            "ticks": ""
           },
           "bgcolor": "#E5ECF6",
           "caxis": {
            "gridcolor": "white",
            "linecolor": "white",
            "ticks": ""
           }
          },
          "title": {
           "x": 0.05
          },
          "xaxis": {
           "automargin": true,
           "gridcolor": "white",
           "linecolor": "white",
           "ticks": "",
           "title": {
            "standoff": 15
           },
           "zerolinecolor": "white",
           "zerolinewidth": 2
          },
          "yaxis": {
           "automargin": true,
           "gridcolor": "white",
           "linecolor": "white",
           "ticks": "",
           "title": {
            "standoff": 15
           },
           "zerolinecolor": "white",
           "zerolinewidth": 2
          }
         }
        },
        "width": 500
       }
      }
     },
     "metadata": {},
     "output_type": "display_data"
    }
   ],
   "source": [
    "import plotly.graph_objects as go\n",
    "\n",
    "fig = go.Figure(go.Scattergeo(\n",
    "    lon=df[\"lon\"],\n",
    "    lat=df[\"lat\"],\n",
    "    text=df[\"id\"],\n",
    "    mode=\"markers+text\",\n",
    "    textposition=\"bottom center\"\n",
    "\n",
    "))\n",
    "# Recortado a nuestra zona de Interes\n",
    "fig.update_geos(\n",
    "    visible=False, resolution=110,\n",
    "    showcountries=True, countrycolor=\"Black\",\n",
    "    lonaxis=dict(range=[-130, -30]),   # limita la longitud (Oeste hasta Este)\n",
    "    lataxis=dict(range=[-55, 50])      # limita la latitud (Sur a Norte)\n",
    ")\n",
    "# Tamaño Grafica\n",
    "fig.update_layout(\n",
    "    width=500, height=500,\n",
    "    margin=dict(r=0, t=0, l=0, b=0)\n",
    ")\n",
    "# Captira de Mapa\n",
    "fig.show(config={\n",
    "    \"staticPlot\": True,       \n",
    "    \"displayModeBar\": False\n",
    "})"
   ]
  },
  {
   "cell_type": "code",
   "execution_count": 8,
   "id": "b24af722",
   "metadata": {},
   "outputs": [
    {
     "data": {
      "application/vnd.plotly.v1+json": {
       "config": {
        "displayModeBar": false,
        "plotlyServerURL": "https://plot.ly",
        "staticPlot": true
       },
       "data": [
        {
         "lat": {
          "bdata": "rP6vteosRUDmFUxq91pEQC367oZxdENAohxM/xLDOUBmcg/JUq45QDPmRuWsrDRALPbIoqJrM0Buc3X1R/g0QINrukjLZStA/DkwWIg4KEDGUWDhi+IhQK8Zs42e8yRAMnU8iYbVEkC4yn7DUM7Mv4Ec2RVpVC/AgyNgDyJ0QcDJFCFRBE5BwP2Q5tvzcUDA",
          "dtype": "f8"
         },
         "lon": {
          "bdata": "mAicYUTDUcA51us5zIBSwHZ4gGJzQVPAHnqpWDoMVMCGyxVrNBNZwHYELCmk1VnAnJVkAVPJWMAYgrxPUGZWwDT/SL8/TFbAnwdXnpuOVcB6MY0U/cpTwD3tCcE2ulDAoLZYz1mEUsDGYxEw/p9TwNqDhe6PT0fA8yQvY9sXTMBq7bHXRzJNwPWlGTocNlHA",
          "dtype": "f8"
         },
         "mode": "markers+text",
         "text": {
          "bdata": "AAAAAAAAJkAAAAAAAAAqQAAAAAAAABxAAAAAAAAAAEAAAAAAAAAgQAAAAAAAABRAAAAAAAAAAAAAAAAAAAAYQAAAAAAAAAhAAAAAAAAAIkAAAAAAAAAsQAAAAAAAACRAAAAAAAAAMUAAAAAAAADwPwAAAAAAAC5AAAAAAAAAMEAAAAAAAAAoQAAAAAAAABBA",
          "dtype": "f8"
         },
         "textposition": "bottom center",
         "type": "scattergeo"
        },
        {
         "hoverinfo": "skip",
         "lat": [
          42.35091277211663,
          40.71067551341166,
          38.90971457165538,
          25.762008625108713,
          25.68095070483323,
          20.674513177689914,
          19.4204503765706,
          20.969848004507575,
          13.698816559559196,
          12.110415225874924,
          8.942473452575438,
          10.475819042313416,
          4.708521026911784,
          -0.22504624887149816,
          -15.664864237549638,
          -34.90728943056367,
          -34.609506741669584,
          -32.890254485684615,
          42.35091277211663
         ],
         "line": {
          "width": 2
         },
         "lon": [
          -71.05104866254476,
          -74.01246498137415,
          -77.02266752763703,
          -80.19106117773524,
          -100.30007435921115,
          -103.33814458178117,
          -99.14569125006386,
          -89.59865182312967,
          -89.19139082077601,
          -86.22824820040704,
          -79.17169679439931,
          -66.90959192246824,
          -74.0679815641729,
          -78.49988938997475,
          -46.621579947655576,
          -56.18638267328233,
          -58.39281746089803,
          -68.8454728365394,
          -71.05104866254476
         ],
         "mode": "lines",
         "name": "Ruta",
         "type": "scattergeo"
        }
       ],
       "layout": {
        "geo": {
         "countrycolor": "Black",
         "lataxis": {
          "range": [
           -55,
           50
          ]
         },
         "lonaxis": {
          "range": [
           -130,
           -30
          ]
         },
         "resolution": 110,
         "showcountries": true,
         "visible": false
        },
        "height": 500,
        "margin": {
         "b": 0,
         "l": 0,
         "r": 0,
         "t": 0
        },
        "template": {
         "data": {
          "bar": [
           {
            "error_x": {
             "color": "#2a3f5f"
            },
            "error_y": {
             "color": "#2a3f5f"
            },
            "marker": {
             "line": {
              "color": "#E5ECF6",
              "width": 0.5
             },
             "pattern": {
              "fillmode": "overlay",
              "size": 10,
              "solidity": 0.2
             }
            },
            "type": "bar"
           }
          ],
          "barpolar": [
           {
            "marker": {
             "line": {
              "color": "#E5ECF6",
              "width": 0.5
             },
             "pattern": {
              "fillmode": "overlay",
              "size": 10,
              "solidity": 0.2
             }
            },
            "type": "barpolar"
           }
          ],
          "carpet": [
           {
            "aaxis": {
             "endlinecolor": "#2a3f5f",
             "gridcolor": "white",
             "linecolor": "white",
             "minorgridcolor": "white",
             "startlinecolor": "#2a3f5f"
            },
            "baxis": {
             "endlinecolor": "#2a3f5f",
             "gridcolor": "white",
             "linecolor": "white",
             "minorgridcolor": "white",
             "startlinecolor": "#2a3f5f"
            },
            "type": "carpet"
           }
          ],
          "choropleth": [
           {
            "colorbar": {
             "outlinewidth": 0,
             "ticks": ""
            },
            "type": "choropleth"
           }
          ],
          "contour": [
           {
            "colorbar": {
             "outlinewidth": 0,
             "ticks": ""
            },
            "colorscale": [
             [
              0,
              "#0d0887"
             ],
             [
              0.1111111111111111,
              "#46039f"
             ],
             [
              0.2222222222222222,
              "#7201a8"
             ],
             [
              0.3333333333333333,
              "#9c179e"
             ],
             [
              0.4444444444444444,
              "#bd3786"
             ],
             [
              0.5555555555555556,
              "#d8576b"
             ],
             [
              0.6666666666666666,
              "#ed7953"
             ],
             [
              0.7777777777777778,
              "#fb9f3a"
             ],
             [
              0.8888888888888888,
              "#fdca26"
             ],
             [
              1,
              "#f0f921"
             ]
            ],
            "type": "contour"
           }
          ],
          "contourcarpet": [
           {
            "colorbar": {
             "outlinewidth": 0,
             "ticks": ""
            },
            "type": "contourcarpet"
           }
          ],
          "heatmap": [
           {
            "colorbar": {
             "outlinewidth": 0,
             "ticks": ""
            },
            "colorscale": [
             [
              0,
              "#0d0887"
             ],
             [
              0.1111111111111111,
              "#46039f"
             ],
             [
              0.2222222222222222,
              "#7201a8"
             ],
             [
              0.3333333333333333,
              "#9c179e"
             ],
             [
              0.4444444444444444,
              "#bd3786"
             ],
             [
              0.5555555555555556,
              "#d8576b"
             ],
             [
              0.6666666666666666,
              "#ed7953"
             ],
             [
              0.7777777777777778,
              "#fb9f3a"
             ],
             [
              0.8888888888888888,
              "#fdca26"
             ],
             [
              1,
              "#f0f921"
             ]
            ],
            "type": "heatmap"
           }
          ],
          "histogram": [
           {
            "marker": {
             "pattern": {
              "fillmode": "overlay",
              "size": 10,
              "solidity": 0.2
             }
            },
            "type": "histogram"
           }
          ],
          "histogram2d": [
           {
            "colorbar": {
             "outlinewidth": 0,
             "ticks": ""
            },
            "colorscale": [
             [
              0,
              "#0d0887"
             ],
             [
              0.1111111111111111,
              "#46039f"
             ],
             [
              0.2222222222222222,
              "#7201a8"
             ],
             [
              0.3333333333333333,
              "#9c179e"
             ],
             [
              0.4444444444444444,
              "#bd3786"
             ],
             [
              0.5555555555555556,
              "#d8576b"
             ],
             [
              0.6666666666666666,
              "#ed7953"
             ],
             [
              0.7777777777777778,
              "#fb9f3a"
             ],
             [
              0.8888888888888888,
              "#fdca26"
             ],
             [
              1,
              "#f0f921"
             ]
            ],
            "type": "histogram2d"
           }
          ],
          "histogram2dcontour": [
           {
            "colorbar": {
             "outlinewidth": 0,
             "ticks": ""
            },
            "colorscale": [
             [
              0,
              "#0d0887"
             ],
             [
              0.1111111111111111,
              "#46039f"
             ],
             [
              0.2222222222222222,
              "#7201a8"
             ],
             [
              0.3333333333333333,
              "#9c179e"
             ],
             [
              0.4444444444444444,
              "#bd3786"
             ],
             [
              0.5555555555555556,
              "#d8576b"
             ],
             [
              0.6666666666666666,
              "#ed7953"
             ],
             [
              0.7777777777777778,
              "#fb9f3a"
             ],
             [
              0.8888888888888888,
              "#fdca26"
             ],
             [
              1,
              "#f0f921"
             ]
            ],
            "type": "histogram2dcontour"
           }
          ],
          "mesh3d": [
           {
            "colorbar": {
             "outlinewidth": 0,
             "ticks": ""
            },
            "type": "mesh3d"
           }
          ],
          "parcoords": [
           {
            "line": {
             "colorbar": {
              "outlinewidth": 0,
              "ticks": ""
             }
            },
            "type": "parcoords"
           }
          ],
          "pie": [
           {
            "automargin": true,
            "type": "pie"
           }
          ],
          "scatter": [
           {
            "fillpattern": {
             "fillmode": "overlay",
             "size": 10,
             "solidity": 0.2
            },
            "type": "scatter"
           }
          ],
          "scatter3d": [
           {
            "line": {
             "colorbar": {
              "outlinewidth": 0,
              "ticks": ""
             }
            },
            "marker": {
             "colorbar": {
              "outlinewidth": 0,
              "ticks": ""
             }
            },
            "type": "scatter3d"
           }
          ],
          "scattercarpet": [
           {
            "marker": {
             "colorbar": {
              "outlinewidth": 0,
              "ticks": ""
             }
            },
            "type": "scattercarpet"
           }
          ],
          "scattergeo": [
           {
            "marker": {
             "colorbar": {
              "outlinewidth": 0,
              "ticks": ""
             }
            },
            "type": "scattergeo"
           }
          ],
          "scattergl": [
           {
            "marker": {
             "colorbar": {
              "outlinewidth": 0,
              "ticks": ""
             }
            },
            "type": "scattergl"
           }
          ],
          "scattermap": [
           {
            "marker": {
             "colorbar": {
              "outlinewidth": 0,
              "ticks": ""
             }
            },
            "type": "scattermap"
           }
          ],
          "scattermapbox": [
           {
            "marker": {
             "colorbar": {
              "outlinewidth": 0,
              "ticks": ""
             }
            },
            "type": "scattermapbox"
           }
          ],
          "scatterpolar": [
           {
            "marker": {
             "colorbar": {
              "outlinewidth": 0,
              "ticks": ""
             }
            },
            "type": "scatterpolar"
           }
          ],
          "scatterpolargl": [
           {
            "marker": {
             "colorbar": {
              "outlinewidth": 0,
              "ticks": ""
             }
            },
            "type": "scatterpolargl"
           }
          ],
          "scatterternary": [
           {
            "marker": {
             "colorbar": {
              "outlinewidth": 0,
              "ticks": ""
             }
            },
            "type": "scatterternary"
           }
          ],
          "surface": [
           {
            "colorbar": {
             "outlinewidth": 0,
             "ticks": ""
            },
            "colorscale": [
             [
              0,
              "#0d0887"
             ],
             [
              0.1111111111111111,
              "#46039f"
             ],
             [
              0.2222222222222222,
              "#7201a8"
             ],
             [
              0.3333333333333333,
              "#9c179e"
             ],
             [
              0.4444444444444444,
              "#bd3786"
             ],
             [
              0.5555555555555556,
              "#d8576b"
             ],
             [
              0.6666666666666666,
              "#ed7953"
             ],
             [
              0.7777777777777778,
              "#fb9f3a"
             ],
             [
              0.8888888888888888,
              "#fdca26"
             ],
             [
              1,
              "#f0f921"
             ]
            ],
            "type": "surface"
           }
          ],
          "table": [
           {
            "cells": {
             "fill": {
              "color": "#EBF0F8"
             },
             "line": {
              "color": "white"
             }
            },
            "header": {
             "fill": {
              "color": "#C8D4E3"
             },
             "line": {
              "color": "white"
             }
            },
            "type": "table"
           }
          ]
         },
         "layout": {
          "annotationdefaults": {
           "arrowcolor": "#2a3f5f",
           "arrowhead": 0,
           "arrowwidth": 1
          },
          "autotypenumbers": "strict",
          "coloraxis": {
           "colorbar": {
            "outlinewidth": 0,
            "ticks": ""
           }
          },
          "colorscale": {
           "diverging": [
            [
             0,
             "#8e0152"
            ],
            [
             0.1,
             "#c51b7d"
            ],
            [
             0.2,
             "#de77ae"
            ],
            [
             0.3,
             "#f1b6da"
            ],
            [
             0.4,
             "#fde0ef"
            ],
            [
             0.5,
             "#f7f7f7"
            ],
            [
             0.6,
             "#e6f5d0"
            ],
            [
             0.7,
             "#b8e186"
            ],
            [
             0.8,
             "#7fbc41"
            ],
            [
             0.9,
             "#4d9221"
            ],
            [
             1,
             "#276419"
            ]
           ],
           "sequential": [
            [
             0,
             "#0d0887"
            ],
            [
             0.1111111111111111,
             "#46039f"
            ],
            [
             0.2222222222222222,
             "#7201a8"
            ],
            [
             0.3333333333333333,
             "#9c179e"
            ],
            [
             0.4444444444444444,
             "#bd3786"
            ],
            [
             0.5555555555555556,
             "#d8576b"
            ],
            [
             0.6666666666666666,
             "#ed7953"
            ],
            [
             0.7777777777777778,
             "#fb9f3a"
            ],
            [
             0.8888888888888888,
             "#fdca26"
            ],
            [
             1,
             "#f0f921"
            ]
           ],
           "sequentialminus": [
            [
             0,
             "#0d0887"
            ],
            [
             0.1111111111111111,
             "#46039f"
            ],
            [
             0.2222222222222222,
             "#7201a8"
            ],
            [
             0.3333333333333333,
             "#9c179e"
            ],
            [
             0.4444444444444444,
             "#bd3786"
            ],
            [
             0.5555555555555556,
             "#d8576b"
            ],
            [
             0.6666666666666666,
             "#ed7953"
            ],
            [
             0.7777777777777778,
             "#fb9f3a"
            ],
            [
             0.8888888888888888,
             "#fdca26"
            ],
            [
             1,
             "#f0f921"
            ]
           ]
          },
          "colorway": [
           "#636efa",
           "#EF553B",
           "#00cc96",
           "#ab63fa",
           "#FFA15A",
           "#19d3f3",
           "#FF6692",
           "#B6E880",
           "#FF97FF",
           "#FECB52"
          ],
          "font": {
           "color": "#2a3f5f"
          },
          "geo": {
           "bgcolor": "white",
           "lakecolor": "white",
           "landcolor": "#E5ECF6",
           "showlakes": true,
           "showland": true,
           "subunitcolor": "white"
          },
          "hoverlabel": {
           "align": "left"
          },
          "hovermode": "closest",
          "mapbox": {
           "style": "light"
          },
          "paper_bgcolor": "white",
          "plot_bgcolor": "#E5ECF6",
          "polar": {
           "angularaxis": {
            "gridcolor": "white",
            "linecolor": "white",
            "ticks": ""
           },
           "bgcolor": "#E5ECF6",
           "radialaxis": {
            "gridcolor": "white",
            "linecolor": "white",
            "ticks": ""
           }
          },
          "scene": {
           "xaxis": {
            "backgroundcolor": "#E5ECF6",
            "gridcolor": "white",
            "gridwidth": 2,
            "linecolor": "white",
            "showbackground": true,
            "ticks": "",
            "zerolinecolor": "white"
           },
           "yaxis": {
            "backgroundcolor": "#E5ECF6",
            "gridcolor": "white",
            "gridwidth": 2,
            "linecolor": "white",
            "showbackground": true,
            "ticks": "",
            "zerolinecolor": "white"
           },
           "zaxis": {
            "backgroundcolor": "#E5ECF6",
            "gridcolor": "white",
            "gridwidth": 2,
            "linecolor": "white",
            "showbackground": true,
            "ticks": "",
            "zerolinecolor": "white"
           }
          },
          "shapedefaults": {
           "line": {
            "color": "#2a3f5f"
           }
          },
          "ternary": {
           "aaxis": {
            "gridcolor": "white",
            "linecolor": "white",
            "ticks": ""
           },
           "baxis": {
            "gridcolor": "white",
            "linecolor": "white",
            "ticks": ""
           },
           "bgcolor": "#E5ECF6",
           "caxis": {
            "gridcolor": "white",
            "linecolor": "white",
            "ticks": ""
           }
          },
          "title": {
           "x": 0.05
          },
          "xaxis": {
           "automargin": true,
           "gridcolor": "white",
           "linecolor": "white",
           "ticks": "",
           "title": {
            "standoff": 15
           },
           "zerolinecolor": "white",
           "zerolinewidth": 2
          },
          "yaxis": {
           "automargin": true,
           "gridcolor": "white",
           "linecolor": "white",
           "ticks": "",
           "title": {
            "standoff": 15
           },
           "zerolinecolor": "white",
           "zerolinewidth": 2
          }
         }
        },
        "width": 500
       }
      }
     },
     "metadata": {},
     "output_type": "display_data"
    }
   ],
   "source": [
    "# Indice de Ciudades (0,...,17)\n",
    "n=len(df) \n",
    "route = list(range(n))\n",
    "\n",
    "# Trazar Ruta\n",
    "lon_route = df.iloc[route][\"lon\"].tolist()\n",
    "lat_route = df.iloc[route][\"lat\"].tolist()\n",
    "lon_route += [lon_route[0]]\n",
    "lat_route += [lat_route[0]]\n",
    "\n",
    "fig.add_trace(go.Scattergeo(\n",
    "    lon=lon_route,\n",
    "    lat=lat_route,\n",
    "    mode=\"lines\",\n",
    "    line=dict(width=2),\n",
    "    hoverinfo=\"skip\",\n",
    "    name=\"Ruta\"\n",
    "))\n",
    "\n",
    "fig.show(config={\n",
    "    \"staticPlot\": True,       # congela el gráfico (sin pan/zoom/selección)\n",
    "    \"displayModeBar\": False\n",
    "})"
   ]
  },
  {
   "cell_type": "markdown",
   "id": "ee2159aa",
   "metadata": {},
   "source": [
    "# Generar Población\n",
    "\n",
    "Tomando en cueta que nuestra Poblacion total son las combinaciones de las 18 ciudades tenemos que:  \n",
    "El total seria $18! = 6,402,373,705,728,000$ posibles combinaciones"
   ]
  },
  {
   "cell_type": "markdown",
   "id": "37eeefdf",
   "metadata": {},
   "source": [
    "En la Imagen anterior podemos ver la ruta trazada con las ciudades en el orden en que fueron escritas por lo tanto si revisamos la ruta veremos lo siguiente:"
   ]
  },
  {
   "cell_type": "code",
   "execution_count": 7,
   "id": "9f5ecc28",
   "metadata": {},
   "outputs": [
    {
     "name": "stdout",
     "output_type": "stream",
     "text": [
      "[0, 1, 2, 3, 4, 5, 6, 7, 8, 9, 10, 11, 12, 13, 14, 15, 16, 17]\n"
     ]
    }
   ],
   "source": [
    "print(route)"
   ]
  },
  {
   "cell_type": "markdown",
   "id": "eb34e7e6",
   "metadata": {},
   "source": [
    "Es importante tomar en cuenta que inicia en la posicion 0 pero termina en la 17 esto es esperado a este momento sin embargo para nuestro problema tenemos que tener en cuenta que el lugar de inicio y final debe ser la misma ciudad por lo que debemos agregar esta consideracion."
   ]
  },
  {
   "cell_type": "code",
   "execution_count": 32,
   "id": "c11e67d0",
   "metadata": {},
   "outputs": [],
   "source": [
    "def back_home (route):\n",
    "    # Comprobar que no sea mayor a 19 (0 -> 17) + 1\n",
    "    while len(route) > 18: \n",
    "        route.pop()\n",
    "\n",
    "    start = route[0]\n",
    "    route.append(start)\n",
    "    return route"
   ]
  },
  {
   "cell_type": "code",
   "execution_count": null,
   "id": "cf655950",
   "metadata": {},
   "outputs": [],
   "source": [
    "def back_home_idx(route):\n",
    "    # route_idx es lista de 18 enteros\n",
    "    if len(route) != 18:\n",
    "        raise ValueError(f\"La ruta tiene {len(route)} nodos; se esperaban 18.\")\n",
    "    return route + [route[0]]"
   ]
  },
  {
   "cell_type": "code",
   "execution_count": 37,
   "id": "9e1590d0",
   "metadata": {},
   "outputs": [
    {
     "data": {
      "text/plain": [
       "[15, 16, 2, 3, 12, 0, 11, 13, 7, 1, 4, 9, 17, 5, 8, 6, 10, 14, 15]"
      ]
     },
     "execution_count": 37,
     "metadata": {},
     "output_type": "execute_result"
    }
   ],
   "source": [
    "r1= new_route()\n",
    "r1 = back_home_idx(r1)\n",
    "r1"
   ]
  },
  {
   "cell_type": "code",
   "execution_count": 9,
   "id": "a1b30787",
   "metadata": {},
   "outputs": [
    {
     "name": "stdout",
     "output_type": "stream",
     "text": [
      "[0, 1, 2, 3, 4, 5, 6, 7, 8, 9, 10, 11, 12, 13, 14, 15, 16, 17, 0]\n"
     ]
    }
   ],
   "source": [
    "r1 = back_home(route)\n",
    "print(r1)"
   ]
  },
  {
   "cell_type": "code",
   "execution_count": 17,
   "id": "065e0b2f",
   "metadata": {},
   "outputs": [],
   "source": [
    "def haversine_matrix(lat, lon):\n",
    "    R = 6371008.8  # radio medio Tierra (m)\n",
    "    phi = np.radians(lat)[:, None]     # (N,1)\n",
    "    lam = np.radians(lon)[:, None]     # (N,1)\n",
    "    dphi = phi.T - phi                 # (1,N) - (N,1) -> (N,N)\n",
    "    dlam = lam.T - lam\n",
    "    a = np.sin(dphi/2)**2 + np.cos(phi) * np.cos(phi.T) * np.sin(dlam/2)**2\n",
    "    c = 2 * np.arctan2(np.sqrt(a), np.sqrt(1 - a))\n",
    "    return R * c  # (N,N) en metros"
   ]
  },
  {
   "cell_type": "code",
   "execution_count": 18,
   "id": "34afc4ae",
   "metadata": {},
   "outputs": [],
   "source": [
    "lat = df[\"lat\"].to_numpy(float)\n",
    "lon = df[\"lon\"].to_numpy(float)\n",
    "D = haversine_matrix(lat, lon)"
   ]
  },
  {
   "cell_type": "code",
   "execution_count": 19,
   "id": "1267a840",
   "metadata": {},
   "outputs": [
    {
     "name": "stdout",
     "output_type": "stream",
     "text": [
      "[[      0.         3136783.02517061 2067095.16289206 1236525.05296006\n",
      "  6648170.1854239   459576.23167521 1010928.49066113 3034822.61242734\n",
      "   706143.50602092 1602407.48650551 3596037.684795   3667299.52622476\n",
      "  7391650.94203159 3360687.31295295 2444577.48704656 6942713.76025051\n",
      "  7553433.9151211  3171796.60165781]\n",
      " [3136783.02517061       0.         2895331.2753105  1945200.54610748\n",
      "  3770269.21763955 3562879.67430623 2647515.56782912 4354202.70638463\n",
      "  3711443.73095196 1615255.47467142 1748878.09718127 4792674.68334735\n",
      "  4357237.28416676 4574399.08995664 1022094.87875745 3897006.2780232\n",
      "  4498418.83406324  737078.7084796 ]\n",
      " [2067095.16289206 2895331.2753105        0.         1637663.03945859\n",
      "  6631519.35690432 2428448.43733922 1097695.33327525 1491668.04124754\n",
      "  2012518.99362995 1644646.06412086 2200658.04437409 2024666.90388886\n",
      "  7095185.74816127 1757493.98258487 1873347.12279648 5866509.4743525\n",
      "  7204080.75868806 2430237.14667966]\n",
      " [1236525.05296006 1945200.54610748 1637663.03945859       0.\n",
      "  5613295.5363601  1689817.2054667   809655.7626308  3047518.41275692\n",
      "  1766474.34342925  366515.62557662 2448027.54118054 3631959.72655091\n",
      "  6279349.23446585 3346101.93393016 1213386.8634762  5706405.803525\n",
      "  6428744.62272982 1936085.83196253]\n",
      " [6648170.1854239  3770269.21763955 6631519.35690432 5613295.5363601\n",
      "        0.         6992359.99889206 6381747.89161305 8028305.88613105\n",
      "  7314459.49614165 5333317.32883923 4826465.03556228 8369476.36197317\n",
      "   984642.33305826 8201231.96564655 4778528.94977737 2944526.38870581\n",
      "  1188830.39135064 4216942.95169875]\n",
      " [ 459576.23167521 3562879.67430623 2428448.43733922 1689817.2054667\n",
      "  6992359.99889206       0.         1427923.82521075 3228432.25265189\n",
      "   637376.9553446  2056303.35775792 4052493.26802439 3855874.33069475\n",
      "  7766909.90281921 3551688.71650094 2900999.89415143 7392448.41115688\n",
      "  7934021.4286724  3625881.22916866]\n",
      " [1010928.49066113 2647515.56782912 1097695.33327525  809655.7626308\n",
      "  6381747.89161305 1427923.82521075       0.         2328556.6102553\n",
      "  1211116.17894175 1048434.25157162 2689435.686296   2940971.33384395\n",
      "  7004745.44171814 2642612.71252976 1742841.28017473 6211755.52378209\n",
      "  7144522.88501344 2466092.53880806]\n",
      " [3034822.61242734 4354202.70638463 1491668.04124754 3047518.41275692\n",
      "  8028305.88613105 3228432.25265189 2328556.6102553        0.\n",
      "  2623895.56432763 3115566.26275446 3317286.89169978  632477.84414621\n",
      "  8396834.18999667  325870.70260753 3339098.91626468 6842358.74555323\n",
      "  8483303.24707871 3814673.85829957]\n",
      " [ 706143.50602092 3711443.73095196 2012518.99362995 1766474.34342925\n",
      "  7314459.49614165  637376.9553446  1211116.17894175 2623895.56432763\n",
      "        0.         2110338.2111365  3896665.03976042 3245136.36069753\n",
      "  8027012.29869733 2943690.694487   2905757.07029425 7406833.90483322\n",
      "  8182011.63352949 3639152.51318921]\n",
      " [1602407.48650551 1615255.47467142 1644646.06412086  366515.62557662\n",
      "  5333317.32883923 2056303.35775792 1048434.25157162 3115566.26275446\n",
      "  2110338.2111365        0.         2113909.14735807 3668908.49872139\n",
      "  5967702.87825043 3396838.63404211  847954.73540036 5341339.54283778\n",
      "  6112009.84700901 1569667.54143812]\n",
      " [3596037.684795   1748878.09718127 2200658.04437409 2448027.54118054\n",
      "  4826465.03556228 4052493.26802439 2689435.686296   3317286.89169978\n",
      "  3896665.03976042 2113909.14735807       0.         3567181.95206903\n",
      "  5093062.7336621  3433650.87904727 1354611.98737499 3665858.55586733\n",
      "  5171217.32026631 1016470.46175599]\n",
      " [3667299.52622476 4792674.68334735 2024666.90388886 3631959.72655091\n",
      "  8369476.36197317 3855874.33069475 2940971.33384395  632477.84414621\n",
      "  3245136.36069753 3668908.49872139 3567181.95206903       0.\n",
      "  8654135.82438649  306613.90656383 3798722.93451501 6919273.62347379\n",
      "  8722912.6179933  4196286.27412112]\n",
      " [7391650.94203159 4357237.28416676 7095185.74816127 6279349.23446585\n",
      "   984642.33305826 7766909.90281921 7004745.44171814 8396834.18999667\n",
      "  8027012.29869733 5967702.87825043 5093062.7336621  8654135.82438649\n",
      "        0.         8526515.94567525 5313867.67894531 2412341.07006426\n",
      "   204263.27685781 4670292.77501223]\n",
      " [3360687.31295295 4574399.08995664 1757493.98258487 3346101.93393016\n",
      "  8201231.96564655 3551688.71650094 2642612.71252976  325870.70260753\n",
      "  2943690.694487   3396838.63404211 3433650.87904727  306613.90656383\n",
      "  8526515.94567525       0.         3569009.20082504 6876403.13609574\n",
      "  8603897.31500243 4003266.30037055]\n",
      " [2444577.48704656 1022094.87875745 1873347.12279648 1213386.8634762\n",
      "  4778528.94977737 2900999.89415143 1742841.28017473 3339098.91626468\n",
      "  2905757.07029425  847954.73540036 1354611.98737499 3798722.93451501\n",
      "  5313867.67894531 3569009.20082504       0.         4509570.99152253\n",
      "  5441962.98908762  734173.22667142]\n",
      " [6942713.76025051 3897006.2780232  5866509.4743525  5706405.803525\n",
      "  2944526.38870581 7392448.41115688 6211755.52378209 6842358.74555323\n",
      "  7406833.90483322 5341339.54283778 3665858.55586733 6919273.62347379\n",
      "  2412341.07006426 6876403.13609574 4509570.99152253       0.\n",
      "  2342638.49493988 3776129.47079571]\n",
      " [7553433.9151211  4498418.83406324 7204080.75868806 6428744.62272982\n",
      "  1188830.39135064 7934021.4286724  7144522.88501344 8483303.24707871\n",
      "  8182011.63352949 6112009.84700901 5171217.32026631 8722912.6179933\n",
      "   204263.27685781 8603897.31500243 5441962.98908762 2342638.49493988\n",
      "        0.         4786040.59119638]\n",
      " [3171796.60165781  737078.7084796  2430237.14667966 1936085.83196253\n",
      "  4216942.95169875 3625881.22916866 2466092.53880806 3814673.85829957\n",
      "  3639152.51318921 1569667.54143812 1016470.46175599 4196286.27412112\n",
      "  4670292.77501223 4003266.30037055  734173.22667142 3776129.47079571\n",
      "  4786040.59119638       0.        ]]\n"
     ]
    }
   ],
   "source": [
    "print(D)"
   ]
  },
  {
   "cell_type": "code",
   "execution_count": null,
   "id": "a9ed93f4",
   "metadata": {},
   "outputs": [
    {
     "ename": "KeyError",
     "evalue": "0",
     "output_type": "error",
     "traceback": [
      "\u001b[31m---------------------------------------------------------------------------\u001b[39m",
      "\u001b[31mKeyError\u001b[39m                                  Traceback (most recent call last)",
      "\u001b[36mFile \u001b[39m\u001b[32m~\\AppData\\Roaming\\Python\\Python312\\site-packages\\pandas\\core\\indexes\\base.py:3805\u001b[39m, in \u001b[36mIndex.get_loc\u001b[39m\u001b[34m(self, key)\u001b[39m\n\u001b[32m   3804\u001b[39m \u001b[38;5;28;01mtry\u001b[39;00m:\n\u001b[32m-> \u001b[39m\u001b[32m3805\u001b[39m     \u001b[38;5;28;01mreturn\u001b[39;00m \u001b[38;5;28;43mself\u001b[39;49m\u001b[43m.\u001b[49m\u001b[43m_engine\u001b[49m\u001b[43m.\u001b[49m\u001b[43mget_loc\u001b[49m\u001b[43m(\u001b[49m\u001b[43mcasted_key\u001b[49m\u001b[43m)\u001b[49m\n\u001b[32m   3806\u001b[39m \u001b[38;5;28;01mexcept\u001b[39;00m \u001b[38;5;167;01mKeyError\u001b[39;00m \u001b[38;5;28;01mas\u001b[39;00m err:\n",
      "\u001b[36mFile \u001b[39m\u001b[32mindex.pyx:167\u001b[39m, in \u001b[36mpandas._libs.index.IndexEngine.get_loc\u001b[39m\u001b[34m()\u001b[39m\n",
      "\u001b[36mFile \u001b[39m\u001b[32mindex.pyx:196\u001b[39m, in \u001b[36mpandas._libs.index.IndexEngine.get_loc\u001b[39m\u001b[34m()\u001b[39m\n",
      "\u001b[36mFile \u001b[39m\u001b[32mpandas\\\\_libs\\\\hashtable_class_helper.pxi:7081\u001b[39m, in \u001b[36mpandas._libs.hashtable.PyObjectHashTable.get_item\u001b[39m\u001b[34m()\u001b[39m\n",
      "\u001b[36mFile \u001b[39m\u001b[32mpandas\\\\_libs\\\\hashtable_class_helper.pxi:7089\u001b[39m, in \u001b[36mpandas._libs.hashtable.PyObjectHashTable.get_item\u001b[39m\u001b[34m()\u001b[39m\n",
      "\u001b[31mKeyError\u001b[39m: 0",
      "\nThe above exception was the direct cause of the following exception:\n",
      "\u001b[31mKeyError\u001b[39m                                  Traceback (most recent call last)",
      "\u001b[36mCell\u001b[39m\u001b[36m \u001b[39m\u001b[32mIn[26]\u001b[39m\u001b[32m, line 9\u001b[39m\n\u001b[32m      7\u001b[39m         \u001b[38;5;28mprint\u001b[39m(ind)\n\u001b[32m      8\u001b[39m     \u001b[38;5;28;01mreturn\u001b[39;00m generacion\n\u001b[32m----> \u001b[39m\u001b[32m9\u001b[39m gen = \u001b[43mgenerar_poblacion\u001b[49m\u001b[43m(\u001b[49m\u001b[32;43m3\u001b[39;49m\u001b[43m)\u001b[49m\n",
      "\u001b[36mCell\u001b[39m\u001b[36m \u001b[39m\u001b[32mIn[26]\u001b[39m\u001b[32m, line 5\u001b[39m, in \u001b[36mgenerar_poblacion\u001b[39m\u001b[34m(num)\u001b[39m\n\u001b[32m      3\u001b[39m \u001b[38;5;28;01mfor\u001b[39;00m _ \u001b[38;5;129;01min\u001b[39;00m \u001b[38;5;28mrange\u001b[39m(num):\n\u001b[32m      4\u001b[39m     ind = new_route()\n\u001b[32m----> \u001b[39m\u001b[32m5\u001b[39m     ind = \u001b[43mback_home\u001b[49m\u001b[43m(\u001b[49m\u001b[43mind\u001b[49m\u001b[43m)\u001b[49m\n\u001b[32m      6\u001b[39m     generacion.append(ind)\n\u001b[32m      7\u001b[39m     \u001b[38;5;28mprint\u001b[39m(ind)\n",
      "\u001b[36mCell\u001b[39m\u001b[36m \u001b[39m\u001b[32mIn[8]\u001b[39m\u001b[32m, line 6\u001b[39m, in \u001b[36mback_home\u001b[39m\u001b[34m(route)\u001b[39m\n\u001b[32m      3\u001b[39m \u001b[38;5;28;01mwhile\u001b[39;00m \u001b[38;5;28mlen\u001b[39m(route) > \u001b[32m18\u001b[39m: \n\u001b[32m      4\u001b[39m     route.pop()\n\u001b[32m----> \u001b[39m\u001b[32m6\u001b[39m start = \u001b[43mroute\u001b[49m\u001b[43m[\u001b[49m\u001b[32;43m0\u001b[39;49m\u001b[43m]\u001b[49m\n\u001b[32m      7\u001b[39m route.append(start)\n\u001b[32m      8\u001b[39m \u001b[38;5;28;01mreturn\u001b[39;00m route\n",
      "\u001b[36mFile \u001b[39m\u001b[32m~\\AppData\\Roaming\\Python\\Python312\\site-packages\\pandas\\core\\frame.py:4102\u001b[39m, in \u001b[36mDataFrame.__getitem__\u001b[39m\u001b[34m(self, key)\u001b[39m\n\u001b[32m   4100\u001b[39m \u001b[38;5;28;01mif\u001b[39;00m \u001b[38;5;28mself\u001b[39m.columns.nlevels > \u001b[32m1\u001b[39m:\n\u001b[32m   4101\u001b[39m     \u001b[38;5;28;01mreturn\u001b[39;00m \u001b[38;5;28mself\u001b[39m._getitem_multilevel(key)\n\u001b[32m-> \u001b[39m\u001b[32m4102\u001b[39m indexer = \u001b[38;5;28;43mself\u001b[39;49m\u001b[43m.\u001b[49m\u001b[43mcolumns\u001b[49m\u001b[43m.\u001b[49m\u001b[43mget_loc\u001b[49m\u001b[43m(\u001b[49m\u001b[43mkey\u001b[49m\u001b[43m)\u001b[49m\n\u001b[32m   4103\u001b[39m \u001b[38;5;28;01mif\u001b[39;00m is_integer(indexer):\n\u001b[32m   4104\u001b[39m     indexer = [indexer]\n",
      "\u001b[36mFile \u001b[39m\u001b[32m~\\AppData\\Roaming\\Python\\Python312\\site-packages\\pandas\\core\\indexes\\base.py:3812\u001b[39m, in \u001b[36mIndex.get_loc\u001b[39m\u001b[34m(self, key)\u001b[39m\n\u001b[32m   3807\u001b[39m     \u001b[38;5;28;01mif\u001b[39;00m \u001b[38;5;28misinstance\u001b[39m(casted_key, \u001b[38;5;28mslice\u001b[39m) \u001b[38;5;129;01mor\u001b[39;00m (\n\u001b[32m   3808\u001b[39m         \u001b[38;5;28misinstance\u001b[39m(casted_key, abc.Iterable)\n\u001b[32m   3809\u001b[39m         \u001b[38;5;129;01mand\u001b[39;00m \u001b[38;5;28many\u001b[39m(\u001b[38;5;28misinstance\u001b[39m(x, \u001b[38;5;28mslice\u001b[39m) \u001b[38;5;28;01mfor\u001b[39;00m x \u001b[38;5;129;01min\u001b[39;00m casted_key)\n\u001b[32m   3810\u001b[39m     ):\n\u001b[32m   3811\u001b[39m         \u001b[38;5;28;01mraise\u001b[39;00m InvalidIndexError(key)\n\u001b[32m-> \u001b[39m\u001b[32m3812\u001b[39m     \u001b[38;5;28;01mraise\u001b[39;00m \u001b[38;5;167;01mKeyError\u001b[39;00m(key) \u001b[38;5;28;01mfrom\u001b[39;00m\u001b[38;5;250m \u001b[39m\u001b[34;01merr\u001b[39;00m\n\u001b[32m   3813\u001b[39m \u001b[38;5;28;01mexcept\u001b[39;00m \u001b[38;5;167;01mTypeError\u001b[39;00m:\n\u001b[32m   3814\u001b[39m     \u001b[38;5;66;03m# If we have a listlike key, _check_indexing_error will raise\u001b[39;00m\n\u001b[32m   3815\u001b[39m     \u001b[38;5;66;03m#  InvalidIndexError. Otherwise we fall through and re-raise\u001b[39;00m\n\u001b[32m   3816\u001b[39m     \u001b[38;5;66;03m#  the TypeError.\u001b[39;00m\n\u001b[32m   3817\u001b[39m     \u001b[38;5;28mself\u001b[39m._check_indexing_error(key)\n",
      "\u001b[31mKeyError\u001b[39m: 0"
     ]
    }
   ],
   "source": [
    "def generar_poblacion(num):\n",
    "    generacion = []\n",
    "    for _ in range(num):\n",
    "        ind = new_route()\n",
    "        ind = back_home(ind)\n",
    "        generacion.append(ind)\n",
    "        print(ind)\n",
    "    return generacion\n",
    "\n",
    "gen = generar_poblacion(3)"
   ]
  },
  {
   "cell_type": "markdown",
   "id": "2ff48fb1",
   "metadata": {},
   "source": [
    "# Revisar\n",
    "-Distancia Haversine  \n",
    "-Vicenty"
   ]
  }
 ],
 "metadata": {
  "kernelspec": {
   "display_name": "Python 3",
   "language": "python",
   "name": "python3"
  },
  "language_info": {
   "codemirror_mode": {
    "name": "ipython",
    "version": 3
   },
   "file_extension": ".py",
   "mimetype": "text/x-python",
   "name": "python",
   "nbconvert_exporter": "python",
   "pygments_lexer": "ipython3",
   "version": "3.12.7"
  }
 },
 "nbformat": 4,
 "nbformat_minor": 5
}
